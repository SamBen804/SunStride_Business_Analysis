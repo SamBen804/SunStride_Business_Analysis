{
 "cells": [
  {
   "cell_type": "code",
   "execution_count": 98,
   "metadata": {},
   "outputs": [
    {
     "ename": "ImportError",
     "evalue": "cannot import name 'plot_confusion_matrix' from 'sklearn.metrics' (/Users/samuelwhitehurst/anaconda3/envs/learn-env/lib/python3.8/site-packages/sklearn/metrics/__init__.py)",
     "output_type": "error",
     "traceback": [
      "\u001b[0;31m---------------------------------------------------------------------------\u001b[0m",
      "\u001b[0;31mImportError\u001b[0m                               Traceback (most recent call last)",
      "\u001b[0;32m<ipython-input-98-abd4e6a31fbe>\u001b[0m in \u001b[0;36m<module>\u001b[0;34m\u001b[0m\n\u001b[1;32m      8\u001b[0m \u001b[0;34m\u001b[0m\u001b[0m\n\u001b[1;32m      9\u001b[0m \u001b[0;32mfrom\u001b[0m \u001b[0msklearn\u001b[0m\u001b[0;34m.\u001b[0m\u001b[0mmetrics\u001b[0m \u001b[0;32mimport\u001b[0m \u001b[0mclassification_report\u001b[0m\u001b[0;34m,\u001b[0m \u001b[0mconfusion_matrix\u001b[0m\u001b[0;34m,\u001b[0m \u001b[0maccuracy_score\u001b[0m\u001b[0;34m,\u001b[0m \u001b[0mrecall_score\u001b[0m\u001b[0;34m,\u001b[0m \u001b[0mprecision_score\u001b[0m\u001b[0;34m,\u001b[0m \u001b[0mf1_score\u001b[0m\u001b[0;34m\u001b[0m\u001b[0;34m\u001b[0m\u001b[0m\n\u001b[0;32m---> 10\u001b[0;31m \u001b[0;32mfrom\u001b[0m \u001b[0msklearn\u001b[0m\u001b[0;34m.\u001b[0m\u001b[0mmetrics\u001b[0m \u001b[0;32mimport\u001b[0m \u001b[0mplot_confusion_matrix\u001b[0m\u001b[0;34m\u001b[0m\u001b[0;34m\u001b[0m\u001b[0m\n\u001b[0m\u001b[1;32m     11\u001b[0m \u001b[0;34m\u001b[0m\u001b[0m\n\u001b[1;32m     12\u001b[0m \u001b[0;32mfrom\u001b[0m \u001b[0msklearn\u001b[0m\u001b[0;34m.\u001b[0m\u001b[0mlinear_model\u001b[0m \u001b[0;32mimport\u001b[0m \u001b[0mLogisticRegression\u001b[0m\u001b[0;34m,\u001b[0m \u001b[0mLinearRegression\u001b[0m\u001b[0;34m\u001b[0m\u001b[0;34m\u001b[0m\u001b[0m\n",
      "\u001b[0;31mImportError\u001b[0m: cannot import name 'plot_confusion_matrix' from 'sklearn.metrics' (/Users/samuelwhitehurst/anaconda3/envs/learn-env/lib/python3.8/site-packages/sklearn/metrics/__init__.py)"
     ]
    }
   ],
   "source": [
    "#Initally importing ALL potential libraries\n",
    "import pandas as pd\n",
    "import matplotlib.pyplot as plt\n",
    "%matplotlib inline\n",
    "\n",
    "from sklearn.model_selection import train_test_split, cross_val_score\n",
    "from sklearn.dummy import DummyClassifier\n",
    "\n",
    "from sklearn.metrics import classification_report, confusion_matrix, accuracy_score, recall_score, precision_score, f1_score\n",
    "from sklearn.metrics import plot_confusion_matrix\n",
    "\n",
    "from sklearn.linear_model import LogisticRegression, LinearRegression\n",
    "from sklearn.preprocessing import StandardScaler, OneHotEncoder"
   ]
  },
  {
   "cell_type": "code",
   "execution_count": 77,
   "metadata": {},
   "outputs": [],
   "source": [
    "import pandas as pd\n",
    "import numpy as np\n",
    "from sklearn.impute import SimpleImputer\n",
    "from sklearn.preprocessing import OneHotEncoder, OrdinalEncoder"
   ]
  },
  {
   "cell_type": "code",
   "execution_count": 3,
   "metadata": {},
   "outputs": [],
   "source": [
    "df = pd.read_csv('../data/student_enrolled_demographics.csv')"
   ]
  },
  {
   "cell_type": "code",
   "execution_count": 4,
   "metadata": {
    "scrolled": true
   },
   "outputs": [
    {
     "data": {
      "text/html": [
       "<div>\n",
       "<style scoped>\n",
       "    .dataframe tbody tr th:only-of-type {\n",
       "        vertical-align: middle;\n",
       "    }\n",
       "\n",
       "    .dataframe tbody tr th {\n",
       "        vertical-align: top;\n",
       "    }\n",
       "\n",
       "    .dataframe thead th {\n",
       "        text-align: right;\n",
       "    }\n",
       "</style>\n",
       "<table border=\"1\" class=\"dataframe\">\n",
       "  <thead>\n",
       "    <tr style=\"text-align: right;\">\n",
       "      <th></th>\n",
       "      <th>Unnamed: 0</th>\n",
       "      <th>Camper ID</th>\n",
       "      <th>Age</th>\n",
       "      <th>2021 &gt; Grade</th>\n",
       "      <th>Gender</th>\n",
       "      <th>School</th>\n",
       "      <th>Years at camp</th>\n",
       "      <th>Sibling count</th>\n",
       "      <th>Lead source</th>\n",
       "      <th>Primary family city</th>\n",
       "      <th>...</th>\n",
       "      <th>2021 &gt; Unenrollment date</th>\n",
       "      <th>2021 &gt; Is your child attending with a friend?</th>\n",
       "      <th>2021 ^Student Eval</th>\n",
       "      <th>2021 ^Expectations</th>\n",
       "      <th>2021 ^Trip Length</th>\n",
       "      <th>2021 ^^Interested in Another Trip?</th>\n",
       "      <th>2021 ^^^Future Trip?</th>\n",
       "      <th>2021 ^^^^Leader Rating of Student</th>\n",
       "      <th>2022 &gt; Status</th>\n",
       "      <th>2022 &gt; trip code (ex. CAL 1, CAL 1A, CAL 1B, etc.) names (all)</th>\n",
       "    </tr>\n",
       "  </thead>\n",
       "  <tbody>\n",
       "    <tr>\n",
       "      <th>0</th>\n",
       "      <td>1</td>\n",
       "      <td>9522</td>\n",
       "      <td>19</td>\n",
       "      <td>11th</td>\n",
       "      <td>Male</td>\n",
       "      <td>Memphis University School</td>\n",
       "      <td>1</td>\n",
       "      <td>0</td>\n",
       "      <td>Friend</td>\n",
       "      <td>Memphis</td>\n",
       "      <td>...</td>\n",
       "      <td>NaN</td>\n",
       "      <td>Yes</td>\n",
       "      <td>NaN</td>\n",
       "      <td>NaN</td>\n",
       "      <td>NaN</td>\n",
       "      <td>NaN</td>\n",
       "      <td>NaN</td>\n",
       "      <td>Off the Charts (Highest)</td>\n",
       "      <td>Cancelled</td>\n",
       "      <td>NaN</td>\n",
       "    </tr>\n",
       "    <tr>\n",
       "      <th>1</th>\n",
       "      <td>2</td>\n",
       "      <td>9542</td>\n",
       "      <td>15</td>\n",
       "      <td>8th</td>\n",
       "      <td>Male</td>\n",
       "      <td>Charlotte Country Day School</td>\n",
       "      <td>2</td>\n",
       "      <td>1</td>\n",
       "      <td>Friend</td>\n",
       "      <td>Charlotte</td>\n",
       "      <td>...</td>\n",
       "      <td>NaN</td>\n",
       "      <td>Yes</td>\n",
       "      <td>5</td>\n",
       "      <td>Met expectations</td>\n",
       "      <td>Too Short</td>\n",
       "      <td>Yes</td>\n",
       "      <td>NaN</td>\n",
       "      <td>3</td>\n",
       "      <td>Enrolled</td>\n",
       "      <td>DOL 1B</td>\n",
       "    </tr>\n",
       "    <tr>\n",
       "      <th>2</th>\n",
       "      <td>3</td>\n",
       "      <td>3606</td>\n",
       "      <td>17</td>\n",
       "      <td>10th</td>\n",
       "      <td>Female</td>\n",
       "      <td>Collegiate School</td>\n",
       "      <td>2</td>\n",
       "      <td>0</td>\n",
       "      <td>Friend</td>\n",
       "      <td>Richmond</td>\n",
       "      <td>...</td>\n",
       "      <td>NaN</td>\n",
       "      <td>Yes</td>\n",
       "      <td>5</td>\n",
       "      <td>Exceeded expectations</td>\n",
       "      <td>Just Right</td>\n",
       "      <td>Yes</td>\n",
       "      <td>HWI, THA, FIJ</td>\n",
       "      <td>4</td>\n",
       "      <td>Alumni</td>\n",
       "      <td>NaN</td>\n",
       "    </tr>\n",
       "    <tr>\n",
       "      <th>3</th>\n",
       "      <td>4</td>\n",
       "      <td>5791</td>\n",
       "      <td>19</td>\n",
       "      <td>12th</td>\n",
       "      <td>Male</td>\n",
       "      <td>Charlotte Latin School</td>\n",
       "      <td>2</td>\n",
       "      <td>0</td>\n",
       "      <td>Word of Mouth</td>\n",
       "      <td>Charlotte</td>\n",
       "      <td>...</td>\n",
       "      <td>NaN</td>\n",
       "      <td>No</td>\n",
       "      <td>5</td>\n",
       "      <td>Met expectations</td>\n",
       "      <td>Just Right</td>\n",
       "      <td>No</td>\n",
       "      <td>NaN</td>\n",
       "      <td>5</td>\n",
       "      <td>Alumni</td>\n",
       "      <td>NaN</td>\n",
       "    </tr>\n",
       "    <tr>\n",
       "      <th>4</th>\n",
       "      <td>5</td>\n",
       "      <td>6847</td>\n",
       "      <td>18</td>\n",
       "      <td>11th</td>\n",
       "      <td>Female</td>\n",
       "      <td>Academy of Richmond County</td>\n",
       "      <td>1</td>\n",
       "      <td>1</td>\n",
       "      <td>Friend</td>\n",
       "      <td>Augusta</td>\n",
       "      <td>...</td>\n",
       "      <td>NaN</td>\n",
       "      <td>Yes</td>\n",
       "      <td>5</td>\n",
       "      <td>Met expectations</td>\n",
       "      <td>Just Right</td>\n",
       "      <td>Not Sure</td>\n",
       "      <td>THA, KEZ</td>\n",
       "      <td>Off the Charts (Highest)</td>\n",
       "      <td>Alumni</td>\n",
       "      <td>NaN</td>\n",
       "    </tr>\n",
       "    <tr>\n",
       "      <th>...</th>\n",
       "      <td>...</td>\n",
       "      <td>...</td>\n",
       "      <td>...</td>\n",
       "      <td>...</td>\n",
       "      <td>...</td>\n",
       "      <td>...</td>\n",
       "      <td>...</td>\n",
       "      <td>...</td>\n",
       "      <td>...</td>\n",
       "      <td>...</td>\n",
       "      <td>...</td>\n",
       "      <td>...</td>\n",
       "      <td>...</td>\n",
       "      <td>...</td>\n",
       "      <td>...</td>\n",
       "      <td>...</td>\n",
       "      <td>...</td>\n",
       "      <td>...</td>\n",
       "      <td>...</td>\n",
       "      <td>...</td>\n",
       "      <td>...</td>\n",
       "    </tr>\n",
       "    <tr>\n",
       "      <th>1727</th>\n",
       "      <td>1728</td>\n",
       "      <td>8481</td>\n",
       "      <td>15</td>\n",
       "      <td>8th</td>\n",
       "      <td>Female</td>\n",
       "      <td>Battle Ground Academy</td>\n",
       "      <td>3</td>\n",
       "      <td>0</td>\n",
       "      <td>Friend</td>\n",
       "      <td>Franklin</td>\n",
       "      <td>...</td>\n",
       "      <td>11-03-2021</td>\n",
       "      <td>No</td>\n",
       "      <td>5</td>\n",
       "      <td>Exceeded expectations</td>\n",
       "      <td>Just Right</td>\n",
       "      <td>Yes</td>\n",
       "      <td>FIJ</td>\n",
       "      <td>Off the Charts (Highest)</td>\n",
       "      <td>Enrolled</td>\n",
       "      <td>BCR 2A</td>\n",
       "    </tr>\n",
       "    <tr>\n",
       "      <th>1728</th>\n",
       "      <td>1729</td>\n",
       "      <td>6484</td>\n",
       "      <td>18</td>\n",
       "      <td>10th</td>\n",
       "      <td>Female</td>\n",
       "      <td>Providence Day School</td>\n",
       "      <td>2</td>\n",
       "      <td>0</td>\n",
       "      <td>Friend</td>\n",
       "      <td>Charlotte</td>\n",
       "      <td>...</td>\n",
       "      <td>NaN</td>\n",
       "      <td>No</td>\n",
       "      <td>5</td>\n",
       "      <td>Exceeded expectations</td>\n",
       "      <td>Just Right</td>\n",
       "      <td>Yes</td>\n",
       "      <td>KIL</td>\n",
       "      <td>3</td>\n",
       "      <td>Waitlist Only</td>\n",
       "      <td>NaN</td>\n",
       "    </tr>\n",
       "    <tr>\n",
       "      <th>1729</th>\n",
       "      <td>1730</td>\n",
       "      <td>8723</td>\n",
       "      <td>16</td>\n",
       "      <td>8th</td>\n",
       "      <td>Female</td>\n",
       "      <td>Charlotte Country Day School</td>\n",
       "      <td>2</td>\n",
       "      <td>0</td>\n",
       "      <td>Friend</td>\n",
       "      <td>Charlotte</td>\n",
       "      <td>...</td>\n",
       "      <td>NaN</td>\n",
       "      <td>Yes</td>\n",
       "      <td>5</td>\n",
       "      <td>Met expectations</td>\n",
       "      <td>Just Right</td>\n",
       "      <td>Not Sure</td>\n",
       "      <td>NaN</td>\n",
       "      <td>5</td>\n",
       "      <td>Enrolled</td>\n",
       "      <td>CRO 2B</td>\n",
       "    </tr>\n",
       "    <tr>\n",
       "      <th>1730</th>\n",
       "      <td>1731</td>\n",
       "      <td>9403</td>\n",
       "      <td>18</td>\n",
       "      <td>10th</td>\n",
       "      <td>Female</td>\n",
       "      <td>Marin Academy</td>\n",
       "      <td>1</td>\n",
       "      <td>0</td>\n",
       "      <td>Friend</td>\n",
       "      <td>Belvedere Tiburon</td>\n",
       "      <td>...</td>\n",
       "      <td>NaN</td>\n",
       "      <td>No</td>\n",
       "      <td>5</td>\n",
       "      <td>Met expectations</td>\n",
       "      <td>Just Right</td>\n",
       "      <td>Not Sure</td>\n",
       "      <td>KEZ</td>\n",
       "      <td>4</td>\n",
       "      <td>Alumni</td>\n",
       "      <td>NaN</td>\n",
       "    </tr>\n",
       "    <tr>\n",
       "      <th>1731</th>\n",
       "      <td>1732</td>\n",
       "      <td>9506</td>\n",
       "      <td>17</td>\n",
       "      <td>10th</td>\n",
       "      <td>Female</td>\n",
       "      <td>Kent Denver</td>\n",
       "      <td>1</td>\n",
       "      <td>0</td>\n",
       "      <td>Friend</td>\n",
       "      <td>Denver</td>\n",
       "      <td>...</td>\n",
       "      <td>NaN</td>\n",
       "      <td>Yes</td>\n",
       "      <td>5</td>\n",
       "      <td>Met expectations</td>\n",
       "      <td>Just Right</td>\n",
       "      <td>Not Sure</td>\n",
       "      <td>NaN</td>\n",
       "      <td>5</td>\n",
       "      <td>Alumni</td>\n",
       "      <td>NaN</td>\n",
       "    </tr>\n",
       "  </tbody>\n",
       "</table>\n",
       "<p>1732 rows × 30 columns</p>\n",
       "</div>"
      ],
      "text/plain": [
       "      Unnamed: 0  Camper ID  Age 2021 > Grade  Gender  \\\n",
       "0              1       9522   19         11th    Male   \n",
       "1              2       9542   15          8th    Male   \n",
       "2              3       3606   17         10th  Female   \n",
       "3              4       5791   19         12th    Male   \n",
       "4              5       6847   18         11th  Female   \n",
       "...          ...        ...  ...          ...     ...   \n",
       "1727        1728       8481   15          8th  Female   \n",
       "1728        1729       6484   18         10th  Female   \n",
       "1729        1730       8723   16          8th  Female   \n",
       "1730        1731       9403   18         10th  Female   \n",
       "1731        1732       9506   17         10th  Female   \n",
       "\n",
       "                            School  Years at camp  Sibling count  \\\n",
       "0        Memphis University School              1              0   \n",
       "1     Charlotte Country Day School              2              1   \n",
       "2                Collegiate School              2              0   \n",
       "3           Charlotte Latin School              2              0   \n",
       "4       Academy of Richmond County              1              1   \n",
       "...                            ...            ...            ...   \n",
       "1727         Battle Ground Academy              3              0   \n",
       "1728         Providence Day School              2              0   \n",
       "1729  Charlotte Country Day School              2              0   \n",
       "1730                 Marin Academy              1              0   \n",
       "1731                   Kent Denver              1              0   \n",
       "\n",
       "        Lead source Primary family city  ... 2021 > Unenrollment date  \\\n",
       "0            Friend             Memphis  ...                      NaN   \n",
       "1            Friend           Charlotte  ...                      NaN   \n",
       "2            Friend            Richmond  ...                      NaN   \n",
       "3     Word of Mouth           Charlotte  ...                      NaN   \n",
       "4            Friend             Augusta  ...                      NaN   \n",
       "...             ...                 ...  ...                      ...   \n",
       "1727         Friend            Franklin  ...               11-03-2021   \n",
       "1728         Friend           Charlotte  ...                      NaN   \n",
       "1729         Friend           Charlotte  ...                      NaN   \n",
       "1730         Friend   Belvedere Tiburon  ...                      NaN   \n",
       "1731         Friend              Denver  ...                      NaN   \n",
       "\n",
       "     2021 > Is your child attending with a friend? 2021 ^Student Eval  \\\n",
       "0                                              Yes                NaN   \n",
       "1                                              Yes                  5   \n",
       "2                                              Yes                  5   \n",
       "3                                               No                  5   \n",
       "4                                              Yes                  5   \n",
       "...                                            ...                ...   \n",
       "1727                                            No                  5   \n",
       "1728                                            No                  5   \n",
       "1729                                           Yes                  5   \n",
       "1730                                            No                  5   \n",
       "1731                                           Yes                  5   \n",
       "\n",
       "         2021 ^Expectations 2021 ^Trip Length  \\\n",
       "0                       NaN               NaN   \n",
       "1          Met expectations         Too Short   \n",
       "2     Exceeded expectations        Just Right   \n",
       "3          Met expectations        Just Right   \n",
       "4          Met expectations        Just Right   \n",
       "...                     ...               ...   \n",
       "1727  Exceeded expectations        Just Right   \n",
       "1728  Exceeded expectations        Just Right   \n",
       "1729       Met expectations        Just Right   \n",
       "1730       Met expectations        Just Right   \n",
       "1731       Met expectations        Just Right   \n",
       "\n",
       "     2021 ^^Interested in Another Trip?  2021 ^^^Future Trip?  \\\n",
       "0                                   NaN                   NaN   \n",
       "1                                   Yes                   NaN   \n",
       "2                                   Yes         HWI, THA, FIJ   \n",
       "3                                    No                   NaN   \n",
       "4                              Not Sure              THA, KEZ   \n",
       "...                                 ...                   ...   \n",
       "1727                                Yes                   FIJ   \n",
       "1728                                Yes                   KIL   \n",
       "1729                           Not Sure                   NaN   \n",
       "1730                           Not Sure                   KEZ   \n",
       "1731                           Not Sure                   NaN   \n",
       "\n",
       "     2021 ^^^^Leader Rating of Student  2022 > Status  \\\n",
       "0             Off the Charts (Highest)      Cancelled   \n",
       "1                                    3       Enrolled   \n",
       "2                                    4         Alumni   \n",
       "3                                    5         Alumni   \n",
       "4             Off the Charts (Highest)         Alumni   \n",
       "...                                ...            ...   \n",
       "1727          Off the Charts (Highest)       Enrolled   \n",
       "1728                                 3  Waitlist Only   \n",
       "1729                                 5       Enrolled   \n",
       "1730                                 4         Alumni   \n",
       "1731                                 5         Alumni   \n",
       "\n",
       "     2022 > trip code (ex. CAL 1, CAL 1A, CAL 1B, etc.) names (all)  \n",
       "0                                                   NaN              \n",
       "1                                                DOL 1B              \n",
       "2                                                   NaN              \n",
       "3                                                   NaN              \n",
       "4                                                   NaN              \n",
       "...                                                 ...              \n",
       "1727                                             BCR 2A              \n",
       "1728                                                NaN              \n",
       "1729                                             CRO 2B              \n",
       "1730                                                NaN              \n",
       "1731                                                NaN              \n",
       "\n",
       "[1732 rows x 30 columns]"
      ]
     },
     "execution_count": 4,
     "metadata": {},
     "output_type": "execute_result"
    }
   ],
   "source": [
    "df"
   ]
  },
  {
   "cell_type": "code",
   "execution_count": 5,
   "metadata": {
    "scrolled": true
   },
   "outputs": [
    {
     "name": "stdout",
     "output_type": "stream",
     "text": [
      "<class 'pandas.core.frame.DataFrame'>\n",
      "RangeIndex: 1732 entries, 0 to 1731\n",
      "Data columns (total 30 columns):\n",
      " #   Column                                                          Non-Null Count  Dtype  \n",
      "---  ------                                                          --------------  -----  \n",
      " 0   Unnamed: 0                                                      1732 non-null   int64  \n",
      " 1   Camper ID                                                       1732 non-null   int64  \n",
      " 2   Age                                                             1732 non-null   int64  \n",
      " 3   2021 > Grade                                                    1732 non-null   object \n",
      " 4   Gender                                                          1732 non-null   object \n",
      " 5   School                                                          1732 non-null   object \n",
      " 6   Years at camp                                                   1732 non-null   int64  \n",
      " 7   Sibling count                                                   1732 non-null   int64  \n",
      " 8   Lead source                                                     1729 non-null   object \n",
      " 9   Primary family city                                             1732 non-null   object \n",
      " 10  Primary family state                                            1730 non-null   object \n",
      " 11  Primary family country                                          209 non-null    object \n",
      " 12  Primary family zip                                              1732 non-null   object \n",
      " 13  Do you have a copy of this year’s catalog?                      64 non-null     object \n",
      " 14  2021 > trip code (ex. CAL 1, CAL 1A, CAL 1B, etc.) names (all)  1731 non-null   object \n",
      " 15  2021 > trip + section names (all)                               1731 non-null   object \n",
      " 16  2021 > Enrolled sibling count                                   429 non-null    float64\n",
      " 17  2021 > Status                                                   1732 non-null   object \n",
      " 18  2021 > First enrollment request date                            1732 non-null   object \n",
      " 19  2021 > First enrollment date                                    1732 non-null   object \n",
      " 20  2021 > Unenrollment date                                        227 non-null    object \n",
      " 21  2021 > Is your child attending with a friend?                   1732 non-null   object \n",
      " 22  2021 ^Student Eval                                              1622 non-null   object \n",
      " 23  2021 ^Expectations                                              1617 non-null   object \n",
      " 24  2021 ^Trip Length                                               1616 non-null   object \n",
      " 25  2021 ^^Interested in Another Trip?                              1584 non-null   object \n",
      " 26  2021 ^^^Future Trip?                                            1132 non-null   object \n",
      " 27  2021 ^^^^Leader Rating of Student                               1703 non-null   object \n",
      " 28  2022 > Status                                                   1732 non-null   object \n",
      " 29  2022 > trip code (ex. CAL 1, CAL 1A, CAL 1B, etc.) names (all)  833 non-null    object \n",
      "dtypes: float64(1), int64(5), object(24)\n",
      "memory usage: 406.1+ KB\n"
     ]
    }
   ],
   "source": [
    "df.info()"
   ]
  },
  {
   "cell_type": "code",
   "execution_count": 6,
   "metadata": {},
   "outputs": [],
   "source": [
    "df.drop('Unnamed: 0', axis=1, inplace=True)"
   ]
  },
  {
   "cell_type": "code",
   "execution_count": 7,
   "metadata": {
    "scrolled": true
   },
   "outputs": [
    {
     "data": {
      "text/plain": [
       "Camper ID                                                            0\n",
       "Age                                                                  0\n",
       "2021 > Grade                                                         0\n",
       "Gender                                                               0\n",
       "School                                                               0\n",
       "Years at camp                                                        0\n",
       "Sibling count                                                        0\n",
       "Lead source                                                          3\n",
       "Primary family city                                                  0\n",
       "Primary family state                                                 2\n",
       "Primary family country                                            1523\n",
       "Primary family zip                                                   0\n",
       "Do you have a copy of this year’s catalog?                        1668\n",
       "2021 > trip code (ex. CAL 1, CAL 1A, CAL 1B, etc.) names (all)       1\n",
       "2021 > trip + section names (all)                                    1\n",
       "2021 > Enrolled sibling count                                     1303\n",
       "2021 > Status                                                        0\n",
       "2021 > First enrollment request date                                 0\n",
       "2021 > First enrollment date                                         0\n",
       "2021 > Unenrollment date                                          1505\n",
       "2021 > Is your child attending with a friend?                        0\n",
       "2021 ^Student Eval                                                 110\n",
       "2021 ^Expectations                                                 115\n",
       "2021 ^Trip Length                                                  116\n",
       "2021 ^^Interested in Another Trip?                                 148\n",
       "2021 ^^^Future Trip?                                               600\n",
       "2021 ^^^^Leader Rating of Student                                   29\n",
       "2022 > Status                                                        0\n",
       "2022 > trip code (ex. CAL 1, CAL 1A, CAL 1B, etc.) names (all)     899\n",
       "dtype: int64"
      ]
     },
     "execution_count": 7,
     "metadata": {},
     "output_type": "execute_result"
    }
   ],
   "source": [
    "df.isna().sum()"
   ]
  },
  {
   "cell_type": "markdown",
   "metadata": {},
   "source": [
    "#### Notes on ALL Columns:\n",
    "- Camper ID: Unique student identifier (eliminates the names of all students), allows us to align camper information across multiple enrollment years.\n",
    "- Age: student's current age - NOT the age when they were enrolled, this will need to be engineered to be accurate (subtract a year or two or this will be dropped as this information is captured in the \"Current grade\" column.\n",
    "- Current grade: student's grade the year being analyzed - could this become a numeric column?\n",
    "- Gender: [OneHotEncode] binary column with values that actually represent the student's sex\n",
    "- School: [likely to DROP later?] this column contains the name of the student's school, this information is relatively granular and may not be very impactful as a feature.\n",
    "- Years at camp: if the value is 1, then this is the student's first year traveling with Moondance, and so on up to 6 meaning this is the student's 6th summer!\n",
    "- Sibling count: [DROP] This count represents the reported number of siblings a student has, whether the sib. is affiliated with Moondance or not. This count does not represent the same information as the '2021 > Enrolled sibling count' and it is likely going to be dropped. \n",
    "- Lead source:[Fill Nulls] Contains information about how a student was introduced to Moondance with various options such as 'Friend' or 'Website'. Fill the 3 nulls with 'No Source'.\n",
    "- Primary family city: Details the city where the student/family lives. MAY be able to use this later for project goal #3, or would have to be OneHotEncoded out for continued analysis in the first stage of the project.\n",
    "- Primary family country: [Fill Nulls] Details the student's country where they currently reside. Impute all the nulls to be 'United States'. This will not be helpful for stage 1 analysis, but may be used later in stages 2 or 3.\n",
    "- Primary family state: [MANUAL CLEAN] Details the students home state. One of the students is from Atlanta, meaning they are likely from Georgia, the other is an international student who doesn't have a state. Maybe make an \"INTL\" state option. ULTIMATELY - these were dropped, however this may need to change later!\n",
    "- Primary family zip: To be used for project goal #3\n",
    "- Do you have a copy of this year’s catalog?: [DROP] Initally suspected this column would show how well distributed the marketing materials (specifically the catalog) are spread/whether or not there appears to be a correlation between enrollment and catalog possession. There are too many null values for this to be a useful feature.\n",
    "- trip code & - trip + section name (all): [DROP - 'test' student, as null] Details the trip code and section the student was assigned/attened. There appears to be a 'test' student included in the data. Both of these columns contain the same information (the name of the trip), so 1 will need to be dropped if this information is to be used. \n",
    "- Enrolled sibling count [Fill nulls with zeros]: Details if a student has a family member also traveling with Moondance this summer. \n",
    "- 2021 > Status: [DROP] ALL should be 'Enrolled'\n",
    "- Unenrollment date: [CLEAN] If the student changed trips there will be a value in this column. Can be mapped to be a boolean value rather than the date.\n",
    "- 2021 > First enrollment request date: contains the first date the student attempted to enroll. This does not indicate whther or not the student was actually placed on a trip this day. IT MAY BE INTERESTING to engineer a feature that measures the number of days between first enrollment request/attempt and actual enrollment day to see if there's a correlation between the length of time it took for the child to get on a trip and their likelihood to try and come back                                 \n",
    "- 2021 > Is your child attending with a friend?: [CLEAN] A Yes/No question that details whether or not a child will be travelling with a peer. To be cast as boolean values!                   \n",
    "- ^Student Eval: [CLEAN - the \"Off the Charts\" distinction should be a '6'] This column details the rating the students gave their trip 1 - 6 (\"Off the Charts\"). 110 values appear to be missing. May need to impute these by filling in the average OR 'Missing Info'.\n",
    "- ^Expectations: This feature contains values such as 'Met expectations', 'Exceeded expectations' and 'Did not meet expectations'. May be treated as an ordinal value to be encoded? Could cast these values as numbers also, for ease of working (1, 2, 3)\n",
    "- ^Trip Length: Similar to the '^Expectations' feature, this column contains values 'Too Short', 'Just Right', 'Too Long'. May be treated as an ordinal value to be encoded? Could cast these values as numbers also, for ease of working (1, 2, 3)\n",
    "- ^^Interested in Another Trip?: Options = 'Yes', 'Not Sure', 'No'\n",
    "- ^^^Future Trip? Details the trip options that the student may be interested in for future summers!\n",
    "- ^^^^Leader Rating of Student: [CLEAN - the \"Off the Charts\" distinction should be a '6'] Details the score the leader team provided regarding the student's behavior on the trip/their overall ability to meet trip expectations.\n",
    "- 2022 > Status: This column is the 'target' as it details whether or not a student enrolled the following summer, which would indicate a positive (1) or negative (0) result.\n",
    "- 2022 > trip code: This column details the actual trip the student enrolled in for the following season. Could be an interesting exploration to see if they ACTUALLY went on one of the trips that they listed that they may be interested in attending. Is a stretch, but could be used later in goals #2 or #3, so it will remain in the dataset even if it is initally dropped for goal #1."
   ]
  },
  {
   "cell_type": "markdown",
   "metadata": {},
   "source": [
    "#### Column by Column Description/Actions"
   ]
  },
  {
   "cell_type": "markdown",
   "metadata": {},
   "source": [
    ">#### Camper ID: \n",
    "> - Unique student identifier (eliminates the names of all students), allows us to align camper information across multiple enrollment years.\n"
   ]
  },
  {
   "cell_type": "code",
   "execution_count": 8,
   "metadata": {},
   "outputs": [],
   "source": [
    "df.drop('Camper ID', axis=1, inplace=True)"
   ]
  },
  {
   "cell_type": "markdown",
   "metadata": {},
   "source": [
    ">#### Age: \n",
    "> - Student's current age - NOT the age when they were enrolled, this will need to be engineered to be accurate (subtract a year or two or this will be dropped as this information is captured in the \"Current grade\" column."
   ]
  },
  {
   "cell_type": "code",
   "execution_count": 9,
   "metadata": {},
   "outputs": [
    {
     "data": {
      "text/plain": [
       "17    431\n",
       "16    394\n",
       "18    307\n",
       "15    283\n",
       "19    123\n",
       "14    117\n",
       "13     55\n",
       "20     20\n",
       "3       1\n",
       "2       1\n",
       "Name: Age, dtype: int64"
      ]
     },
     "execution_count": 9,
     "metadata": {},
     "output_type": "execute_result"
    }
   ],
   "source": [
    "# No student should be over 18, clearly this is the current age of the student and NOT the age they were when they \n",
    "## travelled with the company. Drop this.\n",
    "df['Age'].value_counts()"
   ]
  },
  {
   "cell_type": "code",
   "execution_count": 10,
   "metadata": {},
   "outputs": [],
   "source": [
    "df.drop('Age', axis=1, inplace=True)"
   ]
  },
  {
   "cell_type": "markdown",
   "metadata": {},
   "source": [
    ">#### 2021 > Grade: \n",
    "> - Student's grade the year being analyzed - could this become a numeric column by splitting off the grade value?"
   ]
  },
  {
   "cell_type": "code",
   "execution_count": 11,
   "metadata": {},
   "outputs": [
    {
     "data": {
      "text/plain": [
       "9th     424\n",
       "10th    421\n",
       "8th     324\n",
       "11th    270\n",
       "7th     154\n",
       "12th     78\n",
       "6th      61\n",
       "Name: 2021 > Grade, dtype: int64"
      ]
     },
     "execution_count": 11,
     "metadata": {},
     "output_type": "execute_result"
    }
   ],
   "source": [
    "df['2021 > Grade'].value_counts()"
   ]
  },
  {
   "cell_type": "markdown",
   "metadata": {},
   "source": [
    ">#### Gender: \n",
    "> - [OneHotEncode] binary column with values that actually represent the student's sex\n",
    "> - appears to be about 57% females to 43% males enrolled this year. \n"
   ]
  },
  {
   "cell_type": "code",
   "execution_count": 12,
   "metadata": {},
   "outputs": [
    {
     "data": {
      "text/plain": [
       "Female    984\n",
       "Male      748\n",
       "Name: Gender, dtype: int64"
      ]
     },
     "execution_count": 12,
     "metadata": {},
     "output_type": "execute_result"
    }
   ],
   "source": [
    "df['Gender'].value_counts()"
   ]
  },
  {
   "cell_type": "code",
   "execution_count": 13,
   "metadata": {},
   "outputs": [
    {
     "data": {
      "text/plain": [
       "Female    0.568129\n",
       "Male      0.431871\n",
       "Name: Gender, dtype: float64"
      ]
     },
     "execution_count": 13,
     "metadata": {},
     "output_type": "execute_result"
    }
   ],
   "source": [
    "df['Gender'].value_counts(normalize=True)"
   ]
  },
  {
   "cell_type": "markdown",
   "metadata": {},
   "source": [
    ">#### School: \n",
    "> - This column contains the name of the student's school, this information is relatively granular and may not be very impactful as a feature.\n",
    "> - With 551 values, this feature would not likely offer significant insight if added to a model\n",
    "> - This column will be dropped."
   ]
  },
  {
   "cell_type": "code",
   "execution_count": 14,
   "metadata": {},
   "outputs": [
    {
     "data": {
      "text/plain": [
       "551"
      ]
     },
     "execution_count": 14,
     "metadata": {},
     "output_type": "execute_result"
    }
   ],
   "source": [
    "df['School'].nunique()"
   ]
  },
  {
   "cell_type": "markdown",
   "metadata": {},
   "source": [
    ">#### Years at camp: \n",
    "> - If the value is 1, then this is the student's first year traveling with teh company, and so on up to 6 meaning this is the student's 6th summer!\n",
    "> - This is a numeric column, and will be treated as such for initial analysis."
   ]
  },
  {
   "cell_type": "code",
   "execution_count": 15,
   "metadata": {
    "scrolled": false
   },
   "outputs": [
    {
     "data": {
      "text/plain": [
       "2    597\n",
       "1    494\n",
       "3    445\n",
       "4    165\n",
       "5     25\n",
       "6      6\n",
       "Name: Years at camp, dtype: int64"
      ]
     },
     "execution_count": 15,
     "metadata": {},
     "output_type": "execute_result"
    }
   ],
   "source": [
    "df['Years at camp'].value_counts()"
   ]
  },
  {
   "cell_type": "markdown",
   "metadata": {},
   "source": [
    ">#### Sibling count: \n",
    "> - This count represents the reported number of siblings a student has, whether the sib. is affiliated with Moondance or not. \n",
    "> - This count does not represent the same information as the '2021 > Enrolled sibling count' and it is likely going to be dropped. \n",
    "> - Drop this column.\n"
   ]
  },
  {
   "cell_type": "code",
   "execution_count": 16,
   "metadata": {},
   "outputs": [],
   "source": [
    "df.drop('Sibling count', axis=1, inplace=True)"
   ]
  },
  {
   "cell_type": "markdown",
   "metadata": {},
   "source": [
    ">#### Lead source:\n",
    "> - Contains information about how a student was introduced to Moondance with various options such as 'Friend' or 'Website'. \n",
    "> - Fill the 3 nulls with 'No Source'.\n"
   ]
  },
  {
   "cell_type": "code",
   "execution_count": 17,
   "metadata": {
    "scrolled": false
   },
   "outputs": [
    {
     "data": {
      "text/plain": [
       "Friend                                 1134\n",
       "Family                                  180\n",
       "Word of Mouth                           150\n",
       "I'm a Moondance Alumni                  116\n",
       "I'm a sibling of a Moondance Alumni      49\n",
       "Web Search                               31\n",
       "Social Media                             19\n",
       "Competitor                               10\n",
       "Advertisement                            10\n",
       "Catalog                                   9\n",
       "Home Presentation                         9\n",
       "Website                                   3\n",
       "School Auction                            3\n",
       "Camp Advisory Service                     2\n",
       "Google Ad                                 2\n",
       "Teacher                                   1\n",
       "Summer Opportunities Fair                 1\n",
       "Name: Lead source, dtype: int64"
      ]
     },
     "execution_count": 17,
     "metadata": {},
     "output_type": "execute_result"
    }
   ],
   "source": [
    "# OneHotEncode this out?\n",
    "df['Lead source'].value_counts()"
   ]
  },
  {
   "cell_type": "code",
   "execution_count": 18,
   "metadata": {
    "scrolled": true
   },
   "outputs": [
    {
     "data": {
      "text/html": [
       "<div>\n",
       "<style scoped>\n",
       "    .dataframe tbody tr th:only-of-type {\n",
       "        vertical-align: middle;\n",
       "    }\n",
       "\n",
       "    .dataframe tbody tr th {\n",
       "        vertical-align: top;\n",
       "    }\n",
       "\n",
       "    .dataframe thead th {\n",
       "        text-align: right;\n",
       "    }\n",
       "</style>\n",
       "<table border=\"1\" class=\"dataframe\">\n",
       "  <thead>\n",
       "    <tr style=\"text-align: right;\">\n",
       "      <th></th>\n",
       "      <th>2021 &gt; Grade</th>\n",
       "      <th>Gender</th>\n",
       "      <th>School</th>\n",
       "      <th>Years at camp</th>\n",
       "      <th>Lead source</th>\n",
       "      <th>Primary family city</th>\n",
       "      <th>Primary family state</th>\n",
       "      <th>Primary family country</th>\n",
       "      <th>Primary family zip</th>\n",
       "      <th>Do you have a copy of this year’s catalog?</th>\n",
       "      <th>...</th>\n",
       "      <th>2021 &gt; Unenrollment date</th>\n",
       "      <th>2021 &gt; Is your child attending with a friend?</th>\n",
       "      <th>2021 ^Student Eval</th>\n",
       "      <th>2021 ^Expectations</th>\n",
       "      <th>2021 ^Trip Length</th>\n",
       "      <th>2021 ^^Interested in Another Trip?</th>\n",
       "      <th>2021 ^^^Future Trip?</th>\n",
       "      <th>2021 ^^^^Leader Rating of Student</th>\n",
       "      <th>2022 &gt; Status</th>\n",
       "      <th>2022 &gt; trip code (ex. CAL 1, CAL 1A, CAL 1B, etc.) names (all)</th>\n",
       "    </tr>\n",
       "  </thead>\n",
       "  <tbody>\n",
       "    <tr>\n",
       "      <th>222</th>\n",
       "      <td>9th</td>\n",
       "      <td>Male</td>\n",
       "      <td>St. Davids School</td>\n",
       "      <td>1</td>\n",
       "      <td>NaN</td>\n",
       "      <td>Raleigh</td>\n",
       "      <td>NC</td>\n",
       "      <td>NaN</td>\n",
       "      <td>27607</td>\n",
       "      <td>NaN</td>\n",
       "      <td>...</td>\n",
       "      <td>NaN</td>\n",
       "      <td>Yes</td>\n",
       "      <td>5</td>\n",
       "      <td>Met expectations</td>\n",
       "      <td>Just Right</td>\n",
       "      <td>Yes</td>\n",
       "      <td>ICE</td>\n",
       "      <td>NaN</td>\n",
       "      <td>Alumni</td>\n",
       "      <td>NaN</td>\n",
       "    </tr>\n",
       "    <tr>\n",
       "      <th>485</th>\n",
       "      <td>9th</td>\n",
       "      <td>Male</td>\n",
       "      <td>Berkeley Preparatory School</td>\n",
       "      <td>2</td>\n",
       "      <td>NaN</td>\n",
       "      <td>Tampa</td>\n",
       "      <td>FL</td>\n",
       "      <td>NaN</td>\n",
       "      <td>33629</td>\n",
       "      <td>NaN</td>\n",
       "      <td>...</td>\n",
       "      <td>NaN</td>\n",
       "      <td>No</td>\n",
       "      <td>5</td>\n",
       "      <td>Met expectations</td>\n",
       "      <td>Just Right</td>\n",
       "      <td>Yes</td>\n",
       "      <td>FIJ</td>\n",
       "      <td>4</td>\n",
       "      <td>Enrolled</td>\n",
       "      <td>CHA 2B</td>\n",
       "    </tr>\n",
       "    <tr>\n",
       "      <th>1502</th>\n",
       "      <td>8th</td>\n",
       "      <td>Male</td>\n",
       "      <td>Virginia Episcopal School (VES)</td>\n",
       "      <td>3</td>\n",
       "      <td>NaN</td>\n",
       "      <td>Greensboro</td>\n",
       "      <td>NC</td>\n",
       "      <td>NaN</td>\n",
       "      <td>27408</td>\n",
       "      <td>NaN</td>\n",
       "      <td>...</td>\n",
       "      <td>NaN</td>\n",
       "      <td>Yes</td>\n",
       "      <td>5</td>\n",
       "      <td>Exceeded expectations</td>\n",
       "      <td>Just Right</td>\n",
       "      <td>Yes</td>\n",
       "      <td>FIJ</td>\n",
       "      <td>Off the Charts (Highest)</td>\n",
       "      <td>Alumni</td>\n",
       "      <td>NaN</td>\n",
       "    </tr>\n",
       "  </tbody>\n",
       "</table>\n",
       "<p>3 rows × 26 columns</p>\n",
       "</div>"
      ],
      "text/plain": [
       "     2021 > Grade Gender                           School  Years at camp  \\\n",
       "222           9th   Male                St. Davids School              1   \n",
       "485           9th   Male      Berkeley Preparatory School              2   \n",
       "1502          8th   Male  Virginia Episcopal School (VES)              3   \n",
       "\n",
       "     Lead source Primary family city Primary family state  \\\n",
       "222          NaN             Raleigh                   NC   \n",
       "485          NaN               Tampa                   FL   \n",
       "1502         NaN          Greensboro                   NC   \n",
       "\n",
       "     Primary family country Primary family zip  \\\n",
       "222                     NaN              27607   \n",
       "485                     NaN              33629   \n",
       "1502                    NaN              27408   \n",
       "\n",
       "     Do you have a copy of this year’s catalog?  ... 2021 > Unenrollment date  \\\n",
       "222                                         NaN  ...                      NaN   \n",
       "485                                         NaN  ...                      NaN   \n",
       "1502                                        NaN  ...                      NaN   \n",
       "\n",
       "     2021 > Is your child attending with a friend?  2021 ^Student Eval  \\\n",
       "222                                            Yes                   5   \n",
       "485                                             No                   5   \n",
       "1502                                           Yes                   5   \n",
       "\n",
       "         2021 ^Expectations 2021 ^Trip Length  \\\n",
       "222        Met expectations        Just Right   \n",
       "485        Met expectations        Just Right   \n",
       "1502  Exceeded expectations        Just Right   \n",
       "\n",
       "     2021 ^^Interested in Another Trip? 2021 ^^^Future Trip?  \\\n",
       "222                                 Yes                  ICE   \n",
       "485                                 Yes                  FIJ   \n",
       "1502                                Yes                  FIJ   \n",
       "\n",
       "     2021 ^^^^Leader Rating of Student 2022 > Status  \\\n",
       "222                                NaN        Alumni   \n",
       "485                                  4      Enrolled   \n",
       "1502          Off the Charts (Highest)        Alumni   \n",
       "\n",
       "     2022 > trip code (ex. CAL 1, CAL 1A, CAL 1B, etc.) names (all)  \n",
       "222                                                 NaN              \n",
       "485                                              CHA 2B              \n",
       "1502                                                NaN              \n",
       "\n",
       "[3 rows x 26 columns]"
      ]
     },
     "execution_count": 18,
     "metadata": {},
     "output_type": "execute_result"
    }
   ],
   "source": [
    "# Taking a look at the records with nulls:\n",
    "df.loc[df['Lead source'].isnull() == True]"
   ]
  },
  {
   "cell_type": "code",
   "execution_count": 19,
   "metadata": {},
   "outputs": [],
   "source": [
    "# Filling null values:\n",
    "df['Lead source'] = df['Lead source'].fillna(\"No Source\")"
   ]
  },
  {
   "cell_type": "code",
   "execution_count": 20,
   "metadata": {
    "scrolled": true
   },
   "outputs": [
    {
     "data": {
      "text/plain": [
       "Friend                                 1134\n",
       "Family                                  180\n",
       "Word of Mouth                           150\n",
       "I'm a Moondance Alumni                  116\n",
       "I'm a sibling of a Moondance Alumni      49\n",
       "Web Search                               31\n",
       "Social Media                             19\n",
       "Competitor                               10\n",
       "Advertisement                            10\n",
       "Catalog                                   9\n",
       "Home Presentation                         9\n",
       "No Source                                 3\n",
       "Website                                   3\n",
       "School Auction                            3\n",
       "Camp Advisory Service                     2\n",
       "Google Ad                                 2\n",
       "Teacher                                   1\n",
       "Summer Opportunities Fair                 1\n",
       "Name: Lead source, dtype: int64"
      ]
     },
     "execution_count": 20,
     "metadata": {},
     "output_type": "execute_result"
    }
   ],
   "source": [
    "# Checking that the 3 null values were appropriately filled:\n",
    "df['Lead source'].value_counts()"
   ]
  },
  {
   "cell_type": "markdown",
   "metadata": {},
   "source": [
    ">#### Primary family city: \n",
    "> - Details the city where the student/family lives. \n",
    "> - May be able to use this later for project goal #3, or would have to be OneHotEncoded out for continued analysis in the first stage of the project.\n",
    "> - With 308 values, this is will be a difficult feature to gain significant insight from in modeling."
   ]
  },
  {
   "cell_type": "code",
   "execution_count": 21,
   "metadata": {},
   "outputs": [
    {
     "data": {
      "text/plain": [
       "308"
      ]
     },
     "execution_count": 21,
     "metadata": {},
     "output_type": "execute_result"
    }
   ],
   "source": [
    "df['Primary family city'].nunique()"
   ]
  },
  {
   "cell_type": "markdown",
   "metadata": {},
   "source": [
    ">#### Primary family country: \n",
    "> - Details the student's country where they currently reside. \n",
    "> - Fill all the nulls with 'United States', as this is the most frequent AND accurate value to replace here. \n",
    "> - This will not be helpful for stage 1 analysis, but may be used later in stages 2 or 3.\n",
    "> - Likely to drop this column, as so many students are from the US. "
   ]
  },
  {
   "cell_type": "code",
   "execution_count": 22,
   "metadata": {},
   "outputs": [
    {
     "data": {
      "text/plain": [
       "United States               202\n",
       "United Kingdom                3\n",
       "Canada                        2\n",
       "Northern Mariana Islands      1\n",
       "INTL                          1\n",
       "Name: Primary family country, dtype: int64"
      ]
     },
     "execution_count": 22,
     "metadata": {},
     "output_type": "execute_result"
    }
   ],
   "source": [
    "df['Primary family country'].value_counts()"
   ]
  },
  {
   "cell_type": "code",
   "execution_count": 23,
   "metadata": {},
   "outputs": [],
   "source": [
    "# Filling nulls:\n",
    "df['Primary family country'] = df['Primary family country'].fillna('United States')"
   ]
  },
  {
   "cell_type": "code",
   "execution_count": 24,
   "metadata": {
    "scrolled": true
   },
   "outputs": [
    {
     "data": {
      "text/plain": [
       "United States               1725\n",
       "United Kingdom                 3\n",
       "Canada                         2\n",
       "Northern Mariana Islands       1\n",
       "INTL                           1\n",
       "Name: Primary family country, dtype: int64"
      ]
     },
     "execution_count": 24,
     "metadata": {},
     "output_type": "execute_result"
    }
   ],
   "source": [
    "# Checking the nulls were properly filled:\n",
    "df['Primary family country'].value_counts()"
   ]
  },
  {
   "cell_type": "markdown",
   "metadata": {},
   "source": [
    ">#### Primary family state: \n",
    "> - [MANUAL CLEAN] Details the students home state. \n",
    "> - One of the students with a null value in this column is from Atlanta, meaning they are likely from Georgia, the other is an international student who doesn't have a state. \n",
    "> - Maybe make an \"INTL\" state option. \n",
    "> - ULTIMATELY - these were dropped, however this may need to change later!"
   ]
  },
  {
   "cell_type": "code",
   "execution_count": 25,
   "metadata": {},
   "outputs": [
    {
     "data": {
      "text/html": [
       "<div>\n",
       "<style scoped>\n",
       "    .dataframe tbody tr th:only-of-type {\n",
       "        vertical-align: middle;\n",
       "    }\n",
       "\n",
       "    .dataframe tbody tr th {\n",
       "        vertical-align: top;\n",
       "    }\n",
       "\n",
       "    .dataframe thead th {\n",
       "        text-align: right;\n",
       "    }\n",
       "</style>\n",
       "<table border=\"1\" class=\"dataframe\">\n",
       "  <thead>\n",
       "    <tr style=\"text-align: right;\">\n",
       "      <th></th>\n",
       "      <th>Primary family zip</th>\n",
       "      <th>Primary family city</th>\n",
       "      <th>Primary family country</th>\n",
       "    </tr>\n",
       "  </thead>\n",
       "  <tbody>\n",
       "    <tr>\n",
       "      <th>483</th>\n",
       "      <td>30342</td>\n",
       "      <td>Atlanta</td>\n",
       "      <td>United States</td>\n",
       "    </tr>\n",
       "    <tr>\n",
       "      <th>998</th>\n",
       "      <td>238309</td>\n",
       "      <td>Singapore</td>\n",
       "      <td>INTL</td>\n",
       "    </tr>\n",
       "  </tbody>\n",
       "</table>\n",
       "</div>"
      ],
      "text/plain": [
       "    Primary family zip Primary family city Primary family country\n",
       "483              30342             Atlanta          United States\n",
       "998             238309           Singapore                   INTL"
      ]
     },
     "execution_count": 25,
     "metadata": {},
     "output_type": "execute_result"
    }
   ],
   "source": [
    "# Add Georgia? And leave the student from Singapore as an INTL student\n",
    "df.loc[df['Primary family state'].isnull() == True, \n",
    "       ['Primary family zip', 'Primary family city', 'Primary family country']]"
   ]
  },
  {
   "cell_type": "markdown",
   "metadata": {},
   "source": [
    ">#### Primary family zip: \n",
    "> - To be used for project goal #3\n",
    "> - Too many unique values to gain insight from in initial modeling.\n",
    "> - To be dropped before initial modeling begins."
   ]
  },
  {
   "cell_type": "code",
   "execution_count": 26,
   "metadata": {},
   "outputs": [
    {
     "data": {
      "text/plain": [
       "478"
      ]
     },
     "execution_count": 26,
     "metadata": {},
     "output_type": "execute_result"
    }
   ],
   "source": [
    "df['Primary family zip'].nunique()"
   ]
  },
  {
   "cell_type": "markdown",
   "metadata": {},
   "source": [
    ">#### Do you have a copy of this year’s catalog?: \n",
    "> - Initally suspected this column would show how well distributed the marketing materials (specifically the catalog) are spread/whether or not there appears to be a correlation between enrollment and catalog possession. \n",
    "> - There are too many null values for this to be a useful feature, and no way to know how to properly fill in the nulls.\n",
    "> - This can be dropped altogether."
   ]
  },
  {
   "cell_type": "code",
   "execution_count": 27,
   "metadata": {},
   "outputs": [
    {
     "data": {
      "text/plain": [
       "No     38\n",
       "Yes    26\n",
       "Name: Do you have a copy of this year’s catalog?, dtype: int64"
      ]
     },
     "execution_count": 27,
     "metadata": {},
     "output_type": "execute_result"
    }
   ],
   "source": [
    "# With the majority of this question being left blank anyhow, it's not helpful to include this feature.\n",
    "df['Do you have a copy of this year’s catalog?'].value_counts()"
   ]
  },
  {
   "cell_type": "code",
   "execution_count": 28,
   "metadata": {
    "scrolled": true
   },
   "outputs": [
    {
     "data": {
      "text/plain": [
       "15      I'm a Moondance Alumni\n",
       "17      I'm a Moondance Alumni\n",
       "22      I'm a Moondance Alumni\n",
       "66      I'm a Moondance Alumni\n",
       "71                      Friend\n",
       "                 ...          \n",
       "1602    I'm a Moondance Alumni\n",
       "1609    I'm a Moondance Alumni\n",
       "1626    I'm a Moondance Alumni\n",
       "1653    I'm a Moondance Alumni\n",
       "1654    I'm a Moondance Alumni\n",
       "Name: Lead source, Length: 64, dtype: object"
      ]
     },
     "execution_count": 28,
     "metadata": {},
     "output_type": "execute_result"
    }
   ],
   "source": [
    "# Analyzing the 'Lead source' column to attempt to gain more insight about this column, to no avail.\n",
    "df.loc[df['Do you have a copy of this year’s catalog?'].isnull() == False, 'Lead source']"
   ]
  },
  {
   "cell_type": "code",
   "execution_count": 29,
   "metadata": {},
   "outputs": [],
   "source": [
    "df.drop('Do you have a copy of this year’s catalog?', axis=1, inplace=True)"
   ]
  },
  {
   "cell_type": "markdown",
   "metadata": {},
   "source": [
    ">#### trip code & - trip + section name (all): \n",
    "> - Details the trip code and section the student was assigned/attened. For instance the California 1 trip is coded as CAL 1 in the trip code column.\n",
    "> - There appears to be a 'test' student included in the data. \n",
    "> - Both of these columns contain the same information (the name of the trip), so 1 will need to be dropped if this information is to be used. "
   ]
  },
  {
   "cell_type": "code",
   "execution_count": 30,
   "metadata": {},
   "outputs": [
    {
     "data": {
      "text/html": [
       "<div>\n",
       "<style scoped>\n",
       "    .dataframe tbody tr th:only-of-type {\n",
       "        vertical-align: middle;\n",
       "    }\n",
       "\n",
       "    .dataframe tbody tr th {\n",
       "        vertical-align: top;\n",
       "    }\n",
       "\n",
       "    .dataframe thead th {\n",
       "        text-align: right;\n",
       "    }\n",
       "</style>\n",
       "<table border=\"1\" class=\"dataframe\">\n",
       "  <thead>\n",
       "    <tr style=\"text-align: right;\">\n",
       "      <th></th>\n",
       "      <th>2021 &gt; Grade</th>\n",
       "      <th>Gender</th>\n",
       "      <th>School</th>\n",
       "      <th>Years at camp</th>\n",
       "      <th>Lead source</th>\n",
       "      <th>Primary family city</th>\n",
       "      <th>Primary family state</th>\n",
       "      <th>Primary family country</th>\n",
       "      <th>Primary family zip</th>\n",
       "      <th>2021 &gt; trip code (ex. CAL 1, CAL 1A, CAL 1B, etc.) names (all)</th>\n",
       "      <th>...</th>\n",
       "      <th>2021 &gt; Unenrollment date</th>\n",
       "      <th>2021 &gt; Is your child attending with a friend?</th>\n",
       "      <th>2021 ^Student Eval</th>\n",
       "      <th>2021 ^Expectations</th>\n",
       "      <th>2021 ^Trip Length</th>\n",
       "      <th>2021 ^^Interested in Another Trip?</th>\n",
       "      <th>2021 ^^^Future Trip?</th>\n",
       "      <th>2021 ^^^^Leader Rating of Student</th>\n",
       "      <th>2022 &gt; Status</th>\n",
       "      <th>2022 &gt; trip code (ex. CAL 1, CAL 1A, CAL 1B, etc.) names (all)</th>\n",
       "    </tr>\n",
       "  </thead>\n",
       "  <tbody>\n",
       "    <tr>\n",
       "      <th>1525</th>\n",
       "      <td>9th</td>\n",
       "      <td>Male</td>\n",
       "      <td>test</td>\n",
       "      <td>4</td>\n",
       "      <td>Catalog</td>\n",
       "      <td>Athens</td>\n",
       "      <td>GA</td>\n",
       "      <td>United States</td>\n",
       "      <td>30606-4133</td>\n",
       "      <td>NaN</td>\n",
       "      <td>...</td>\n",
       "      <td>01-27-2022, 03-02-2022, 05-08-2022</td>\n",
       "      <td>Yes</td>\n",
       "      <td>NaN</td>\n",
       "      <td>NaN</td>\n",
       "      <td>NaN</td>\n",
       "      <td>NaN</td>\n",
       "      <td>NaN</td>\n",
       "      <td>NaN</td>\n",
       "      <td>Enrolled</td>\n",
       "      <td>NaN</td>\n",
       "    </tr>\n",
       "  </tbody>\n",
       "</table>\n",
       "<p>1 rows × 25 columns</p>\n",
       "</div>"
      ],
      "text/plain": [
       "     2021 > Grade Gender School  Years at camp Lead source  \\\n",
       "1525          9th   Male   test              4     Catalog   \n",
       "\n",
       "     Primary family city Primary family state Primary family country  \\\n",
       "1525              Athens                   GA          United States   \n",
       "\n",
       "     Primary family zip  \\\n",
       "1525         30606-4133   \n",
       "\n",
       "     2021 > trip code (ex. CAL 1, CAL 1A, CAL 1B, etc.) names (all)  ...  \\\n",
       "1525                                                NaN              ...   \n",
       "\n",
       "                2021 > Unenrollment date  \\\n",
       "1525  01-27-2022, 03-02-2022, 05-08-2022   \n",
       "\n",
       "      2021 > Is your child attending with a friend? 2021 ^Student Eval  \\\n",
       "1525                                            Yes                NaN   \n",
       "\n",
       "     2021 ^Expectations 2021 ^Trip Length 2021 ^^Interested in Another Trip?  \\\n",
       "1525                NaN               NaN                                NaN   \n",
       "\n",
       "     2021 ^^^Future Trip? 2021 ^^^^Leader Rating of Student 2022 > Status  \\\n",
       "1525                  NaN                               NaN      Enrolled   \n",
       "\n",
       "     2022 > trip code (ex. CAL 1, CAL 1A, CAL 1B, etc.) names (all)  \n",
       "1525                                                NaN              \n",
       "\n",
       "[1 rows x 25 columns]"
      ]
     },
     "execution_count": 30,
     "metadata": {},
     "output_type": "execute_result"
    }
   ],
   "source": [
    "# This appears to be a 'test' student and will need to be dropped.\n",
    "df.loc[df['2021 > trip code (ex. CAL 1, CAL 1A, CAL 1B, etc.) names (all)'].isnull() == True]"
   ]
  },
  {
   "cell_type": "code",
   "execution_count": 31,
   "metadata": {},
   "outputs": [],
   "source": [
    "# Pulling the index value from the test student\n",
    "test_drop = df.loc[df['2021 > trip code (ex. CAL 1, CAL 1A, CAL 1B, etc.) names (all)'].isnull() == True].index"
   ]
  },
  {
   "cell_type": "code",
   "execution_count": 32,
   "metadata": {},
   "outputs": [],
   "source": [
    "# Dropping the test student via index\n",
    "df.drop(test_drop, inplace=True)"
   ]
  },
  {
   "cell_type": "code",
   "execution_count": 33,
   "metadata": {
    "scrolled": true
   },
   "outputs": [
    {
     "data": {
      "text/plain": [
       "2021 > Grade                                                         0\n",
       "Gender                                                               0\n",
       "School                                                               0\n",
       "Years at camp                                                        0\n",
       "Lead source                                                          0\n",
       "Primary family city                                                  0\n",
       "Primary family state                                                 2\n",
       "Primary family country                                               0\n",
       "Primary family zip                                                   0\n",
       "2021 > trip code (ex. CAL 1, CAL 1A, CAL 1B, etc.) names (all)       0\n",
       "2021 > trip + section names (all)                                    0\n",
       "2021 > Enrolled sibling count                                     1302\n",
       "2021 > Status                                                        0\n",
       "2021 > First enrollment request date                                 0\n",
       "2021 > First enrollment date                                         0\n",
       "2021 > Unenrollment date                                          1505\n",
       "2021 > Is your child attending with a friend?                        0\n",
       "2021 ^Student Eval                                                 109\n",
       "2021 ^Expectations                                                 114\n",
       "2021 ^Trip Length                                                  115\n",
       "2021 ^^Interested in Another Trip?                                 147\n",
       "2021 ^^^Future Trip?                                               599\n",
       "2021 ^^^^Leader Rating of Student                                   28\n",
       "2022 > Status                                                        0\n",
       "2022 > trip code (ex. CAL 1, CAL 1A, CAL 1B, etc.) names (all)     898\n",
       "dtype: int64"
      ]
     },
     "execution_count": 33,
     "metadata": {},
     "output_type": "execute_result"
    }
   ],
   "source": [
    "# Checking that the test student was properly dropped\n",
    "df.isna().sum()"
   ]
  },
  {
   "cell_type": "code",
   "execution_count": 34,
   "metadata": {},
   "outputs": [],
   "source": [
    "df.drop('2021 > trip code (ex. CAL 1, CAL 1A, CAL 1B, etc.) names (all)', axis=1, inplace=True)"
   ]
  },
  {
   "cell_type": "markdown",
   "metadata": {},
   "source": [
    ">#### Enrolled sibling count:\n",
    "> - Details if a student has a family member also traveling with Moondance this summer.\n",
    "> - Fill nulls with zeros!\n",
    "> - Treat this column as a numeric variable."
   ]
  },
  {
   "cell_type": "code",
   "execution_count": 35,
   "metadata": {},
   "outputs": [
    {
     "data": {
      "text/plain": [
       "1.0    384\n",
       "2.0     45\n",
       "Name: 2021 > Enrolled sibling count, dtype: int64"
      ]
     },
     "execution_count": 35,
     "metadata": {},
     "output_type": "execute_result"
    }
   ],
   "source": [
    "df['2021 > Enrolled sibling count'].value_counts()"
   ]
  },
  {
   "cell_type": "code",
   "execution_count": 36,
   "metadata": {},
   "outputs": [],
   "source": [
    "# Filling nulls with zero to indicate that no sibling was enrolled that season.\n",
    "df['2021 > Enrolled sibling count'] = df['2021 > Enrolled sibling count'].fillna(0)"
   ]
  },
  {
   "cell_type": "code",
   "execution_count": 37,
   "metadata": {
    "scrolled": true
   },
   "outputs": [
    {
     "data": {
      "text/plain": [
       "0.0    1302\n",
       "1.0     384\n",
       "2.0      45\n",
       "Name: 2021 > Enrolled sibling count, dtype: int64"
      ]
     },
     "execution_count": 37,
     "metadata": {},
     "output_type": "execute_result"
    }
   ],
   "source": [
    "# Checking that all nulls were filled:\n",
    "df['2021 > Enrolled sibling count'].value_counts()"
   ]
  },
  {
   "cell_type": "code",
   "execution_count": 38,
   "metadata": {},
   "outputs": [
    {
     "data": {
      "text/plain": [
       "0.0    0.752166\n",
       "1.0    0.221837\n",
       "2.0    0.025997\n",
       "Name: 2021 > Enrolled sibling count, dtype: float64"
      ]
     },
     "execution_count": 38,
     "metadata": {},
     "output_type": "execute_result"
    }
   ],
   "source": [
    "# Analyzing the percentage of students travelling with or without siblings:\n",
    "df['2021 > Enrolled sibling count'].value_counts(normalize=True)"
   ]
  },
  {
   "cell_type": "markdown",
   "metadata": {},
   "source": [
    ">#### 2021 > Status: \n",
    "> - Dropping this column as it appears ALL students are listed as \"Enrolled\""
   ]
  },
  {
   "cell_type": "code",
   "execution_count": 39,
   "metadata": {},
   "outputs": [
    {
     "data": {
      "text/plain": [
       "Enrolled    1731\n",
       "Name: 2021 > Status, dtype: int64"
      ]
     },
     "execution_count": 39,
     "metadata": {},
     "output_type": "execute_result"
    }
   ],
   "source": [
    "df['2021 > Status'].value_counts()"
   ]
  },
  {
   "cell_type": "code",
   "execution_count": 40,
   "metadata": {},
   "outputs": [],
   "source": [
    "# Dropping the column from the dataframe\n",
    "df.drop('2021 > Status', axis=1, inplace=True)"
   ]
  },
  {
   "cell_type": "markdown",
   "metadata": {},
   "source": [
    ">#### 2021 > First enrollment request date: \n",
    "> - Contains the first date the student attempted to enroll. This does not indicate whther or not the student was actually placed on a trip this day. \n",
    "> - IT MAY BE INTERESTING to engineer a feature that measures the number of days between first enrollment request/attempt and actual enrollment day to see if there's a correlation between the length of time it took for the child to get on a trip and their likelihood to try and come back                                 \n",
    "> - For initial modeling, this column will be dropped."
   ]
  },
  {
   "cell_type": "code",
   "execution_count": 41,
   "metadata": {},
   "outputs": [],
   "source": [
    "df.drop('2021 > First enrollment request date', axis=1, inplace=True)"
   ]
  },
  {
   "cell_type": "markdown",
   "metadata": {},
   "source": [
    ">#### 2021 > First enrollment date:\n",
    "> - See comments above, for the potential engineering of an additional column that could detail how long it took for a child to be enrolled after their first attempt to sign up for a trip."
   ]
  },
  {
   "cell_type": "code",
   "execution_count": 42,
   "metadata": {},
   "outputs": [],
   "source": [
    "df.drop('2021 > First enrollment date', axis=1, inplace=True)"
   ]
  },
  {
   "cell_type": "markdown",
   "metadata": {},
   "source": [
    ">#### Unenrollment date --> Changed Trip: \n",
    "> - If the student changed trips there will be a date value in this column denoting when that child changed trips. \n",
    "> - Can be mapped to be a boolean value rather than the date.\n",
    "> - Will create a new column called \"Changed Trip\" to indicate if a student changed trips (1) or not (0)."
   ]
  },
  {
   "cell_type": "code",
   "execution_count": 43,
   "metadata": {
    "scrolled": true
   },
   "outputs": [
    {
     "data": {
      "text/html": [
       "<div>\n",
       "<style scoped>\n",
       "    .dataframe tbody tr th:only-of-type {\n",
       "        vertical-align: middle;\n",
       "    }\n",
       "\n",
       "    .dataframe tbody tr th {\n",
       "        vertical-align: top;\n",
       "    }\n",
       "\n",
       "    .dataframe thead th {\n",
       "        text-align: right;\n",
       "    }\n",
       "</style>\n",
       "<table border=\"1\" class=\"dataframe\">\n",
       "  <thead>\n",
       "    <tr style=\"text-align: right;\">\n",
       "      <th></th>\n",
       "      <th>2021 &gt; Grade</th>\n",
       "      <th>Gender</th>\n",
       "      <th>School</th>\n",
       "      <th>Years at camp</th>\n",
       "      <th>Lead source</th>\n",
       "      <th>Primary family city</th>\n",
       "      <th>Primary family state</th>\n",
       "      <th>Primary family country</th>\n",
       "      <th>Primary family zip</th>\n",
       "      <th>2021 &gt; trip + section names (all)</th>\n",
       "      <th>...</th>\n",
       "      <th>2021 &gt; Unenrollment date</th>\n",
       "      <th>2021 &gt; Is your child attending with a friend?</th>\n",
       "      <th>2021 ^Student Eval</th>\n",
       "      <th>2021 ^Expectations</th>\n",
       "      <th>2021 ^Trip Length</th>\n",
       "      <th>2021 ^^Interested in Another Trip?</th>\n",
       "      <th>2021 ^^^Future Trip?</th>\n",
       "      <th>2021 ^^^^Leader Rating of Student</th>\n",
       "      <th>2022 &gt; Status</th>\n",
       "      <th>2022 &gt; trip code (ex. CAL 1, CAL 1A, CAL 1B, etc.) names (all)</th>\n",
       "    </tr>\n",
       "  </thead>\n",
       "  <tbody>\n",
       "    <tr>\n",
       "      <th>6</th>\n",
       "      <td>11th</td>\n",
       "      <td>Female</td>\n",
       "      <td>North Atlanta High School</td>\n",
       "      <td>1</td>\n",
       "      <td>Friend</td>\n",
       "      <td>Atlanta</td>\n",
       "      <td>GA</td>\n",
       "      <td>United States</td>\n",
       "      <td>30305</td>\n",
       "      <td>Kilimanjaro 3</td>\n",
       "      <td>...</td>\n",
       "      <td>05-11-2022</td>\n",
       "      <td>No</td>\n",
       "      <td>5</td>\n",
       "      <td>Exceeded expectations</td>\n",
       "      <td>Just Right</td>\n",
       "      <td>Not Sure</td>\n",
       "      <td>THA; CHA; KEZ; MYS</td>\n",
       "      <td>5</td>\n",
       "      <td>Alumni</td>\n",
       "      <td>NaN</td>\n",
       "    </tr>\n",
       "    <tr>\n",
       "      <th>14</th>\n",
       "      <td>8th</td>\n",
       "      <td>Female</td>\n",
       "      <td>Park City High School</td>\n",
       "      <td>3</td>\n",
       "      <td>Word of Mouth</td>\n",
       "      <td>Park City</td>\n",
       "      <td>UT</td>\n",
       "      <td>United States</td>\n",
       "      <td>84060</td>\n",
       "      <td>Iceland 3</td>\n",
       "      <td>...</td>\n",
       "      <td>11-08-2021</td>\n",
       "      <td>No</td>\n",
       "      <td>5</td>\n",
       "      <td>Met expectations</td>\n",
       "      <td>Just Right</td>\n",
       "      <td>Yes</td>\n",
       "      <td>SAF, FIJ</td>\n",
       "      <td>5</td>\n",
       "      <td>Enrolled</td>\n",
       "      <td>SAF 2B</td>\n",
       "    </tr>\n",
       "    <tr>\n",
       "      <th>19</th>\n",
       "      <td>9th</td>\n",
       "      <td>Male</td>\n",
       "      <td>Summit High School</td>\n",
       "      <td>1</td>\n",
       "      <td>Friend</td>\n",
       "      <td>Bend</td>\n",
       "      <td>OR</td>\n",
       "      <td>United States</td>\n",
       "      <td>97702</td>\n",
       "      <td>FIJ 3</td>\n",
       "      <td>...</td>\n",
       "      <td>05-03-2022, 07-11-2022</td>\n",
       "      <td>No</td>\n",
       "      <td>Off the Charts (Highest)</td>\n",
       "      <td>Exceeded expectations</td>\n",
       "      <td>Just Right</td>\n",
       "      <td>Yes</td>\n",
       "      <td>NaN</td>\n",
       "      <td>5</td>\n",
       "      <td>Alumni</td>\n",
       "      <td>NaN</td>\n",
       "    </tr>\n",
       "    <tr>\n",
       "      <th>29</th>\n",
       "      <td>11th</td>\n",
       "      <td>Male</td>\n",
       "      <td>St Andrews Episcopal</td>\n",
       "      <td>3</td>\n",
       "      <td>Friend</td>\n",
       "      <td>Austin</td>\n",
       "      <td>TX</td>\n",
       "      <td>United States</td>\n",
       "      <td>78735-1470</td>\n",
       "      <td>Kenya + Zanzibar 1</td>\n",
       "      <td>...</td>\n",
       "      <td>10-12-2021</td>\n",
       "      <td>No</td>\n",
       "      <td>5</td>\n",
       "      <td>Met expectations</td>\n",
       "      <td>Just Right</td>\n",
       "      <td>Yes</td>\n",
       "      <td>KIL, THA, MYS</td>\n",
       "      <td>5</td>\n",
       "      <td>Alumni</td>\n",
       "      <td>NaN</td>\n",
       "    </tr>\n",
       "    <tr>\n",
       "      <th>31</th>\n",
       "      <td>12th</td>\n",
       "      <td>Female</td>\n",
       "      <td>Academy of Richmond County</td>\n",
       "      <td>4</td>\n",
       "      <td>Friend</td>\n",
       "      <td>Augusta</td>\n",
       "      <td>GA</td>\n",
       "      <td>United States</td>\n",
       "      <td>30909</td>\n",
       "      <td>Mystery Trip 1</td>\n",
       "      <td>...</td>\n",
       "      <td>08-31-2021</td>\n",
       "      <td>No</td>\n",
       "      <td>Off the Charts (Highest)</td>\n",
       "      <td>Exceeded expectations</td>\n",
       "      <td>Just Right</td>\n",
       "      <td>No</td>\n",
       "      <td>NaN</td>\n",
       "      <td>Off the Charts (Highest)</td>\n",
       "      <td>Alumni</td>\n",
       "      <td>NaN</td>\n",
       "    </tr>\n",
       "    <tr>\n",
       "      <th>...</th>\n",
       "      <td>...</td>\n",
       "      <td>...</td>\n",
       "      <td>...</td>\n",
       "      <td>...</td>\n",
       "      <td>...</td>\n",
       "      <td>...</td>\n",
       "      <td>...</td>\n",
       "      <td>...</td>\n",
       "      <td>...</td>\n",
       "      <td>...</td>\n",
       "      <td>...</td>\n",
       "      <td>...</td>\n",
       "      <td>...</td>\n",
       "      <td>...</td>\n",
       "      <td>...</td>\n",
       "      <td>...</td>\n",
       "      <td>...</td>\n",
       "      <td>...</td>\n",
       "      <td>...</td>\n",
       "      <td>...</td>\n",
       "      <td>...</td>\n",
       "    </tr>\n",
       "    <tr>\n",
       "      <th>1703</th>\n",
       "      <td>8th</td>\n",
       "      <td>Female</td>\n",
       "      <td>Athens Academy</td>\n",
       "      <td>3</td>\n",
       "      <td>Word of Mouth</td>\n",
       "      <td>Athens</td>\n",
       "      <td>GA</td>\n",
       "      <td>United States</td>\n",
       "      <td>30606</td>\n",
       "      <td>Iceland 1</td>\n",
       "      <td>...</td>\n",
       "      <td>01-20-2022</td>\n",
       "      <td>No</td>\n",
       "      <td>5</td>\n",
       "      <td>Exceeded expectations</td>\n",
       "      <td>Just Right</td>\n",
       "      <td>Yes</td>\n",
       "      <td>SERVICE</td>\n",
       "      <td>Off the Charts (Highest)</td>\n",
       "      <td>Enrolled</td>\n",
       "      <td>SPM 1B</td>\n",
       "    </tr>\n",
       "    <tr>\n",
       "      <th>1710</th>\n",
       "      <td>9th</td>\n",
       "      <td>Male</td>\n",
       "      <td>Charlottesville Day School</td>\n",
       "      <td>2</td>\n",
       "      <td>Friend</td>\n",
       "      <td>Charlottesville</td>\n",
       "      <td>VA</td>\n",
       "      <td>United States</td>\n",
       "      <td>22903</td>\n",
       "      <td>FIJ 3</td>\n",
       "      <td>...</td>\n",
       "      <td>03-11-2022</td>\n",
       "      <td>Yes</td>\n",
       "      <td>Off the Charts (Highest)</td>\n",
       "      <td>Met expectations</td>\n",
       "      <td>Just Right</td>\n",
       "      <td>Not Sure</td>\n",
       "      <td>HWI</td>\n",
       "      <td>5</td>\n",
       "      <td>Alumni</td>\n",
       "      <td>NaN</td>\n",
       "    </tr>\n",
       "    <tr>\n",
       "      <th>1719</th>\n",
       "      <td>10th</td>\n",
       "      <td>Female</td>\n",
       "      <td>The Westminster Schools</td>\n",
       "      <td>2</td>\n",
       "      <td>Friend</td>\n",
       "      <td>Atlanta</td>\n",
       "      <td>GA</td>\n",
       "      <td>United States</td>\n",
       "      <td>30305</td>\n",
       "      <td>Northern Lights 1</td>\n",
       "      <td>...</td>\n",
       "      <td>11-16-2021</td>\n",
       "      <td>No</td>\n",
       "      <td>5</td>\n",
       "      <td>Exceeded expectations</td>\n",
       "      <td>Just Right</td>\n",
       "      <td>Not Sure</td>\n",
       "      <td>NOR</td>\n",
       "      <td>5</td>\n",
       "      <td>Enrolled</td>\n",
       "      <td>CHA 4B</td>\n",
       "    </tr>\n",
       "    <tr>\n",
       "      <th>1721</th>\n",
       "      <td>9th</td>\n",
       "      <td>Female</td>\n",
       "      <td>RJ Reynolds High School</td>\n",
       "      <td>2</td>\n",
       "      <td>Friend</td>\n",
       "      <td>Winston-Salem</td>\n",
       "      <td>NC</td>\n",
       "      <td>United States</td>\n",
       "      <td>27106</td>\n",
       "      <td>Spain + Morocco 1</td>\n",
       "      <td>...</td>\n",
       "      <td>11-19-2021</td>\n",
       "      <td>Yes</td>\n",
       "      <td>Off the Charts (Highest)</td>\n",
       "      <td>Exceeded expectations</td>\n",
       "      <td>Just Right</td>\n",
       "      <td>Yes</td>\n",
       "      <td>THA, FIJ, CHA</td>\n",
       "      <td>4</td>\n",
       "      <td>Enrolled</td>\n",
       "      <td>KEZ 1B</td>\n",
       "    </tr>\n",
       "    <tr>\n",
       "      <th>1727</th>\n",
       "      <td>8th</td>\n",
       "      <td>Female</td>\n",
       "      <td>Battle Ground Academy</td>\n",
       "      <td>3</td>\n",
       "      <td>Friend</td>\n",
       "      <td>Franklin</td>\n",
       "      <td>TN</td>\n",
       "      <td>United States</td>\n",
       "      <td>37064</td>\n",
       "      <td>British Columbia 2</td>\n",
       "      <td>...</td>\n",
       "      <td>11-03-2021</td>\n",
       "      <td>No</td>\n",
       "      <td>5</td>\n",
       "      <td>Exceeded expectations</td>\n",
       "      <td>Just Right</td>\n",
       "      <td>Yes</td>\n",
       "      <td>FIJ</td>\n",
       "      <td>Off the Charts (Highest)</td>\n",
       "      <td>Enrolled</td>\n",
       "      <td>BCR 2A</td>\n",
       "    </tr>\n",
       "  </tbody>\n",
       "</table>\n",
       "<p>226 rows × 21 columns</p>\n",
       "</div>"
      ],
      "text/plain": [
       "     2021 > Grade  Gender                      School  Years at camp  \\\n",
       "6            11th  Female   North Atlanta High School              1   \n",
       "14            8th  Female       Park City High School              3   \n",
       "19            9th    Male          Summit High School              1   \n",
       "29           11th    Male        St Andrews Episcopal              3   \n",
       "31           12th  Female  Academy of Richmond County              4   \n",
       "...           ...     ...                         ...            ...   \n",
       "1703          8th  Female              Athens Academy              3   \n",
       "1710          9th    Male  Charlottesville Day School              2   \n",
       "1719         10th  Female     The Westminster Schools              2   \n",
       "1721          9th  Female     RJ Reynolds High School              2   \n",
       "1727          8th  Female       Battle Ground Academy              3   \n",
       "\n",
       "        Lead source Primary family city Primary family state  \\\n",
       "6            Friend             Atlanta                   GA   \n",
       "14    Word of Mouth           Park City                   UT   \n",
       "19           Friend                Bend                   OR   \n",
       "29           Friend              Austin                   TX   \n",
       "31           Friend             Augusta                   GA   \n",
       "...             ...                 ...                  ...   \n",
       "1703  Word of Mouth              Athens                   GA   \n",
       "1710         Friend     Charlottesville                   VA   \n",
       "1719         Friend             Atlanta                   GA   \n",
       "1721         Friend       Winston-Salem                   NC   \n",
       "1727         Friend            Franklin                   TN   \n",
       "\n",
       "     Primary family country Primary family zip  \\\n",
       "6             United States              30305   \n",
       "14            United States              84060   \n",
       "19            United States              97702   \n",
       "29            United States         78735-1470   \n",
       "31            United States              30909   \n",
       "...                     ...                ...   \n",
       "1703          United States              30606   \n",
       "1710          United States              22903   \n",
       "1719          United States              30305   \n",
       "1721          United States              27106   \n",
       "1727          United States              37064   \n",
       "\n",
       "     2021 > trip + section names (all)  ...  2021 > Unenrollment date  \\\n",
       "6                        Kilimanjaro 3  ...                05-11-2022   \n",
       "14                           Iceland 3  ...                11-08-2021   \n",
       "19                               FIJ 3  ...    05-03-2022, 07-11-2022   \n",
       "29                  Kenya + Zanzibar 1  ...                10-12-2021   \n",
       "31                      Mystery Trip 1  ...                08-31-2021   \n",
       "...                                ...  ...                       ...   \n",
       "1703                         Iceland 1  ...                01-20-2022   \n",
       "1710                             FIJ 3  ...                03-11-2022   \n",
       "1719                 Northern Lights 1  ...                11-16-2021   \n",
       "1721                 Spain + Morocco 1  ...                11-19-2021   \n",
       "1727                British Columbia 2  ...                11-03-2021   \n",
       "\n",
       "     2021 > Is your child attending with a friend?        2021 ^Student Eval  \\\n",
       "6                                               No                         5   \n",
       "14                                              No                         5   \n",
       "19                                              No  Off the Charts (Highest)   \n",
       "29                                              No                         5   \n",
       "31                                              No  Off the Charts (Highest)   \n",
       "...                                            ...                       ...   \n",
       "1703                                            No                         5   \n",
       "1710                                           Yes  Off the Charts (Highest)   \n",
       "1719                                            No                         5   \n",
       "1721                                           Yes  Off the Charts (Highest)   \n",
       "1727                                            No                         5   \n",
       "\n",
       "         2021 ^Expectations 2021 ^Trip Length  \\\n",
       "6     Exceeded expectations        Just Right   \n",
       "14         Met expectations        Just Right   \n",
       "19    Exceeded expectations        Just Right   \n",
       "29         Met expectations        Just Right   \n",
       "31    Exceeded expectations        Just Right   \n",
       "...                     ...               ...   \n",
       "1703  Exceeded expectations        Just Right   \n",
       "1710       Met expectations        Just Right   \n",
       "1719  Exceeded expectations        Just Right   \n",
       "1721  Exceeded expectations        Just Right   \n",
       "1727  Exceeded expectations        Just Right   \n",
       "\n",
       "     2021 ^^Interested in Another Trip? 2021 ^^^Future Trip?  \\\n",
       "6                              Not Sure   THA; CHA; KEZ; MYS   \n",
       "14                                  Yes             SAF, FIJ   \n",
       "19                                  Yes                  NaN   \n",
       "29                                  Yes        KIL, THA, MYS   \n",
       "31                                   No                  NaN   \n",
       "...                                 ...                  ...   \n",
       "1703                                Yes              SERVICE   \n",
       "1710                           Not Sure                  HWI   \n",
       "1719                           Not Sure                  NOR   \n",
       "1721                                Yes        THA, FIJ, CHA   \n",
       "1727                                Yes                  FIJ   \n",
       "\n",
       "     2021 ^^^^Leader Rating of Student 2022 > Status  \\\n",
       "6                                    5        Alumni   \n",
       "14                                   5      Enrolled   \n",
       "19                                   5        Alumni   \n",
       "29                                   5        Alumni   \n",
       "31            Off the Charts (Highest)        Alumni   \n",
       "...                                ...           ...   \n",
       "1703          Off the Charts (Highest)      Enrolled   \n",
       "1710                                 5        Alumni   \n",
       "1719                                 5      Enrolled   \n",
       "1721                                 4      Enrolled   \n",
       "1727          Off the Charts (Highest)      Enrolled   \n",
       "\n",
       "     2022 > trip code (ex. CAL 1, CAL 1A, CAL 1B, etc.) names (all)  \n",
       "6                                                   NaN              \n",
       "14                                               SAF 2B              \n",
       "19                                                  NaN              \n",
       "29                                                  NaN              \n",
       "31                                                  NaN              \n",
       "...                                                 ...              \n",
       "1703                                             SPM 1B              \n",
       "1710                                                NaN              \n",
       "1719                                             CHA 4B              \n",
       "1721                                             KEZ 1B              \n",
       "1727                                             BCR 2A              \n",
       "\n",
       "[226 rows x 21 columns]"
      ]
     },
     "execution_count": 43,
     "metadata": {},
     "output_type": "execute_result"
    }
   ],
   "source": [
    "# Checking the records for students that have dates in the column. Some even have multiple dates, but all this means \n",
    "## is the student was switched from one trip to another on the date listed.\n",
    "df.loc[df['2021 > Unenrollment date'].isnull() == False]"
   ]
  },
  {
   "cell_type": "code",
   "execution_count": 44,
   "metadata": {},
   "outputs": [],
   "source": [
    "# Filling nulls with \"No Change\"\n",
    "df['2021 > Unenrollment date'] = df['2021 > Unenrollment date'].fillna('No Change')"
   ]
  },
  {
   "cell_type": "code",
   "execution_count": 45,
   "metadata": {},
   "outputs": [],
   "source": [
    "# Creating a new column with boolean variables to hold the original columns value:\n",
    "df['Changed Trip'] = df['2021 > Unenrollment date'].map(lambda x: 0 if x == 'No Change' else 1)"
   ]
  },
  {
   "cell_type": "code",
   "execution_count": 46,
   "metadata": {
    "scrolled": true
   },
   "outputs": [
    {
     "data": {
      "text/plain": [
       "0    0.86944\n",
       "1    0.13056\n",
       "Name: Changed Trip, dtype: float64"
      ]
     },
     "execution_count": 46,
     "metadata": {},
     "output_type": "execute_result"
    }
   ],
   "source": [
    "# Analyzing the percent of students that changed trips\n",
    "df['Changed Trip'].value_counts(normalize=True)"
   ]
  },
  {
   "cell_type": "code",
   "execution_count": 47,
   "metadata": {},
   "outputs": [],
   "source": [
    "df.drop('2021 > Unenrollment date', axis=1, inplace=True)"
   ]
  },
  {
   "cell_type": "markdown",
   "metadata": {},
   "source": [
    ">#### 2021 > Is your child attending with a friend?: \n",
    "> - A Yes/No question that details whether or not a child will be travelling with a peer. \n",
    "> - To be OneHotEncoded later.                  "
   ]
  },
  {
   "cell_type": "code",
   "execution_count": 48,
   "metadata": {
    "scrolled": false
   },
   "outputs": [
    {
     "data": {
      "text/plain": [
       "No     1049\n",
       "Yes     682\n",
       "Name: 2021 > Is your child attending with a friend?, dtype: int64"
      ]
     },
     "execution_count": 48,
     "metadata": {},
     "output_type": "execute_result"
    }
   ],
   "source": [
    "df['2021 > Is your child attending with a friend?'].value_counts()"
   ]
  },
  {
   "cell_type": "markdown",
   "metadata": {},
   "source": [
    ">#### ^Student Eval --> 'rating': \n",
    "> - This column details the rating the students gave their trip 1 - 6 (\"Off the Charts\"). \n",
    "> - 110 values appear to be missing. May need to impute these by filling in the most_frequent value OR 'Missing Info'.\n",
    "> - The \"Off the Charts\" distinction should be a '6' as this is the highest rating possible.\n",
    "> - Creating a new column called 'rating' to store this data with 6 replacing \"Off the Charts\"\n",
    "> - This column will be treated as a numeric variable, thus needing to be cast as an integer AFTER imputing the missing values."
   ]
  },
  {
   "cell_type": "code",
   "execution_count": 49,
   "metadata": {},
   "outputs": [],
   "source": [
    "# Creating the new column\n",
    "df['rating'] = df['2021 ^Student Eval'].map(lambda x: 6 if x == 'Off the Charts (Highest)' else x)"
   ]
  },
  {
   "cell_type": "code",
   "execution_count": 50,
   "metadata": {},
   "outputs": [],
   "source": [
    "df.drop('2021 ^Student Eval', axis=1, inplace=True)"
   ]
  },
  {
   "cell_type": "markdown",
   "metadata": {},
   "source": [
    ">#### ^Expectations: \n",
    "> - This feature contains values such as 'Met expectations', 'Exceeded expectations' and 'Did not meet expectations'.\n",
    "> - May be treated as an ordinal value to be encoded?\n",
    "> - There are null values in this column that will be addressed by imputation later with the \"most_frequent\" strategy."
   ]
  },
  {
   "cell_type": "code",
   "execution_count": 51,
   "metadata": {
    "scrolled": false
   },
   "outputs": [
    {
     "data": {
      "text/plain": [
       "Met expectations             917\n",
       "Exceeded expectations        670\n",
       "Did not meet expectations     30\n",
       "Name: 2021 ^Expectations, dtype: int64"
      ]
     },
     "execution_count": 51,
     "metadata": {},
     "output_type": "execute_result"
    }
   ],
   "source": [
    "# Viewing the values in this column, it is clear that there is a distinct, directional/ordinal difference in \n",
    "## values between each of the three answers\n",
    "df['2021 ^Expectations'].value_counts()"
   ]
  },
  {
   "cell_type": "code",
   "execution_count": 52,
   "metadata": {},
   "outputs": [
    {
     "data": {
      "text/plain": [
       "Met expectations             0.567100\n",
       "Exceeded expectations        0.414348\n",
       "Did not meet expectations    0.018553\n",
       "Name: 2021 ^Expectations, dtype: float64"
      ]
     },
     "execution_count": 52,
     "metadata": {},
     "output_type": "execute_result"
    }
   ],
   "source": [
    "df['2021 ^Expectations'].value_counts(normalize=True)"
   ]
  },
  {
   "cell_type": "markdown",
   "metadata": {},
   "source": [
    ">#### ^Trip Length: \n",
    "> - Similar to the '^Expectations' feature, this column contains values 'Too Short', 'Just Right', 'Too Long'. \n",
    "> - May be treated as an ordinal value to be encoded?\n",
    "> - There are null values in this column that will be addressed by imputation later with the \"most_frequent\" strategy."
   ]
  },
  {
   "cell_type": "code",
   "execution_count": 53,
   "metadata": {},
   "outputs": [
    {
     "data": {
      "text/plain": [
       "Just Right    1315\n",
       "Too Short      224\n",
       "Too Long        77\n",
       "Name: 2021 ^Trip Length, dtype: int64"
      ]
     },
     "execution_count": 53,
     "metadata": {},
     "output_type": "execute_result"
    }
   ],
   "source": [
    "# Viewing the values in this column, it is clear that there is a distinct, directional/ordinal difference in \n",
    "## values between each of the three answers\n",
    "df['2021 ^Trip Length'].value_counts()"
   ]
  },
  {
   "cell_type": "code",
   "execution_count": 54,
   "metadata": {},
   "outputs": [
    {
     "data": {
      "text/plain": [
       "Just Right    0.813738\n",
       "Too Short     0.138614\n",
       "Too Long      0.047649\n",
       "Name: 2021 ^Trip Length, dtype: float64"
      ]
     },
     "execution_count": 54,
     "metadata": {},
     "output_type": "execute_result"
    }
   ],
   "source": [
    "df['2021 ^Trip Length'].value_counts(normalize=True)"
   ]
  },
  {
   "cell_type": "markdown",
   "metadata": {},
   "source": [
    ">#### ^^Interested in Another Trip?: \n",
    "> - This column contains the options 'Yes', 'Not Sure', 'No'\n",
    "> - Potentially able to ordinally encode this column, however, I am more curious to see the distinct differences between the answers to each question as OneHotEncoded features."
   ]
  },
  {
   "cell_type": "code",
   "execution_count": 55,
   "metadata": {
    "scrolled": true
   },
   "outputs": [
    {
     "data": {
      "text/plain": [
       "Yes         1036\n",
       "Not Sure     448\n",
       "No           100\n",
       "Name: 2021 ^^Interested in Another Trip?, dtype: int64"
      ]
     },
     "execution_count": 55,
     "metadata": {},
     "output_type": "execute_result"
    }
   ],
   "source": [
    "df['2021 ^^Interested in Another Trip?'].value_counts()"
   ]
  },
  {
   "cell_type": "markdown",
   "metadata": {},
   "source": [
    ">#### ^^^Future Trip?:\n",
    "> - Details the trip options that the student may be interested in for future summers!\n",
    "> - Not useful for this initial analysis and will be dropped before modeling."
   ]
  },
  {
   "cell_type": "code",
   "execution_count": 56,
   "metadata": {},
   "outputs": [],
   "source": [
    "df.drop('2021 ^^^Future Trip?', axis=1, inplace=True)"
   ]
  },
  {
   "cell_type": "markdown",
   "metadata": {},
   "source": [
    ">#### ^^^^Leader Rating of Student:\n",
    "> - Similar to the '^Student Eval' column, this column details the score the leader team provided regarding the student's behavior on the trip/their overall ability to meet trip expectations.\n",
    "> - The \"Off the Charts\" distinction should be a '6'\n",
    "> - The column will then be treated as a numeric value:"
   ]
  },
  {
   "cell_type": "code",
   "execution_count": 57,
   "metadata": {},
   "outputs": [],
   "source": [
    "# Replacing the \"Off the Charts\" rating with a 6:\n",
    "df['2021 ^^^^Leader Rating of Student'] = df['2021 ^^^^Leader Rating of Student'].map(lambda x: 6 if x == 'Off the Charts (Highest)' else x)"
   ]
  },
  {
   "cell_type": "markdown",
   "metadata": {},
   "source": [
    ">#### 2022 > Status:\n",
    "> - This column is the 'target' as it details whether or not a student enrolled the following summer, which would indicate a positive (1) or negative (0) result.\n",
    "> - I will make a new column called 'target' to hold this value."
   ]
  },
  {
   "cell_type": "code",
   "execution_count": 58,
   "metadata": {},
   "outputs": [
    {
     "data": {
      "text/plain": [
       "Enrolled                     833\n",
       "Alumni                       766\n",
       "Cancelled                     93\n",
       "Waitlist Only                 21\n",
       "Dismissed                     15\n",
       "Sent Home - Mental Health      2\n",
       "Withdrawn                      1\n",
       "Name: 2022 > Status, dtype: int64"
      ]
     },
     "execution_count": 58,
     "metadata": {},
     "output_type": "execute_result"
    }
   ],
   "source": [
    "# Enrolled is the only value that concerns our analysis, all other values will be grouped as zeros in the new column.\n",
    "df['2022 > Status'].value_counts()"
   ]
  },
  {
   "cell_type": "code",
   "execution_count": 59,
   "metadata": {},
   "outputs": [],
   "source": [
    "df['target'] = np.where(df['2022 > Status'] == 'Enrolled', 1, 0)"
   ]
  },
  {
   "cell_type": "code",
   "execution_count": 60,
   "metadata": {},
   "outputs": [
    {
     "data": {
      "text/plain": [
       "0    898\n",
       "1    833\n",
       "Name: target, dtype: int64"
      ]
     },
     "execution_count": 60,
     "metadata": {},
     "output_type": "execute_result"
    }
   ],
   "source": [
    "df['target'].value_counts()"
   ]
  },
  {
   "cell_type": "code",
   "execution_count": 61,
   "metadata": {},
   "outputs": [],
   "source": [
    "df.drop('2022 > Status', axis=1, inplace=True)"
   ]
  },
  {
   "cell_type": "markdown",
   "metadata": {},
   "source": [
    ">#### 2022 > trip code: \n",
    "> - This column details the actual trip the student enrolled in for the following season. Could be an interesting exploration to see if they ACTUALLY went on one of the trips that they listed that they may be interested in attending. Is a stretch, but could be used later in goals #2 or #3, so it will remain in the dataset even if it is initally dropped for goal #1."
   ]
  },
  {
   "cell_type": "code",
   "execution_count": 62,
   "metadata": {},
   "outputs": [],
   "source": [
    "df.drop('2022 > trip code (ex. CAL 1, CAL 1A, CAL 1B, etc.) names (all)', axis=1, inplace=True)"
   ]
  },
  {
   "cell_type": "markdown",
   "metadata": {},
   "source": [
    "## Aggregated Preprocessing"
   ]
  },
  {
   "cell_type": "code",
   "execution_count": 63,
   "metadata": {
    "scrolled": false
   },
   "outputs": [
    {
     "data": {
      "text/plain": [
       "2021 > Grade                                       0\n",
       "Gender                                             0\n",
       "School                                             0\n",
       "Years at camp                                      0\n",
       "Lead source                                        0\n",
       "Primary family city                                0\n",
       "Primary family state                               2\n",
       "Primary family country                             0\n",
       "Primary family zip                                 0\n",
       "2021 > trip + section names (all)                  0\n",
       "2021 > Enrolled sibling count                      0\n",
       "2021 > Is your child attending with a friend?      0\n",
       "2021 ^Expectations                               114\n",
       "2021 ^Trip Length                                115\n",
       "2021 ^^Interested in Another Trip?               147\n",
       "2021 ^^^^Leader Rating of Student                 28\n",
       "Changed Trip                                       0\n",
       "rating                                           109\n",
       "target                                             0\n",
       "dtype: int64"
      ]
     },
     "execution_count": 63,
     "metadata": {},
     "output_type": "execute_result"
    }
   ],
   "source": [
    "df.isna().sum()"
   ]
  },
  {
   "cell_type": "markdown",
   "metadata": {},
   "source": [
    "#### Imputing Null Values"
   ]
  },
  {
   "cell_type": "code",
   "execution_count": 64,
   "metadata": {},
   "outputs": [],
   "source": [
    "imputer = SimpleImputer(strategy=\"most_frequent\")"
   ]
  },
  {
   "cell_type": "code",
   "execution_count": 65,
   "metadata": {},
   "outputs": [
    {
     "data": {
      "text/html": [
       "<div>\n",
       "<style scoped>\n",
       "    .dataframe tbody tr th:only-of-type {\n",
       "        vertical-align: middle;\n",
       "    }\n",
       "\n",
       "    .dataframe tbody tr th {\n",
       "        vertical-align: top;\n",
       "    }\n",
       "\n",
       "    .dataframe thead th {\n",
       "        text-align: right;\n",
       "    }\n",
       "</style>\n",
       "<table border=\"1\" class=\"dataframe\">\n",
       "  <thead>\n",
       "    <tr style=\"text-align: right;\">\n",
       "      <th></th>\n",
       "      <th>2021 ^Expectations</th>\n",
       "      <th>2021 ^Trip Length</th>\n",
       "      <th>2021 ^^Interested in Another Trip?</th>\n",
       "      <th>2021 ^^^^Leader Rating of Student</th>\n",
       "      <th>rating</th>\n",
       "    </tr>\n",
       "  </thead>\n",
       "  <tbody>\n",
       "    <tr>\n",
       "      <th>0</th>\n",
       "      <td>NaN</td>\n",
       "      <td>NaN</td>\n",
       "      <td>NaN</td>\n",
       "      <td>6</td>\n",
       "      <td>NaN</td>\n",
       "    </tr>\n",
       "    <tr>\n",
       "      <th>1</th>\n",
       "      <td>Met expectations</td>\n",
       "      <td>Too Short</td>\n",
       "      <td>Yes</td>\n",
       "      <td>3</td>\n",
       "      <td>5</td>\n",
       "    </tr>\n",
       "    <tr>\n",
       "      <th>2</th>\n",
       "      <td>Exceeded expectations</td>\n",
       "      <td>Just Right</td>\n",
       "      <td>Yes</td>\n",
       "      <td>4</td>\n",
       "      <td>5</td>\n",
       "    </tr>\n",
       "    <tr>\n",
       "      <th>3</th>\n",
       "      <td>Met expectations</td>\n",
       "      <td>Just Right</td>\n",
       "      <td>No</td>\n",
       "      <td>5</td>\n",
       "      <td>5</td>\n",
       "    </tr>\n",
       "    <tr>\n",
       "      <th>4</th>\n",
       "      <td>Met expectations</td>\n",
       "      <td>Just Right</td>\n",
       "      <td>Not Sure</td>\n",
       "      <td>6</td>\n",
       "      <td>5</td>\n",
       "    </tr>\n",
       "    <tr>\n",
       "      <th>...</th>\n",
       "      <td>...</td>\n",
       "      <td>...</td>\n",
       "      <td>...</td>\n",
       "      <td>...</td>\n",
       "      <td>...</td>\n",
       "    </tr>\n",
       "    <tr>\n",
       "      <th>1727</th>\n",
       "      <td>Exceeded expectations</td>\n",
       "      <td>Just Right</td>\n",
       "      <td>Yes</td>\n",
       "      <td>6</td>\n",
       "      <td>5</td>\n",
       "    </tr>\n",
       "    <tr>\n",
       "      <th>1728</th>\n",
       "      <td>Exceeded expectations</td>\n",
       "      <td>Just Right</td>\n",
       "      <td>Yes</td>\n",
       "      <td>3</td>\n",
       "      <td>5</td>\n",
       "    </tr>\n",
       "    <tr>\n",
       "      <th>1729</th>\n",
       "      <td>Met expectations</td>\n",
       "      <td>Just Right</td>\n",
       "      <td>Not Sure</td>\n",
       "      <td>5</td>\n",
       "      <td>5</td>\n",
       "    </tr>\n",
       "    <tr>\n",
       "      <th>1730</th>\n",
       "      <td>Met expectations</td>\n",
       "      <td>Just Right</td>\n",
       "      <td>Not Sure</td>\n",
       "      <td>4</td>\n",
       "      <td>5</td>\n",
       "    </tr>\n",
       "    <tr>\n",
       "      <th>1731</th>\n",
       "      <td>Met expectations</td>\n",
       "      <td>Just Right</td>\n",
       "      <td>Not Sure</td>\n",
       "      <td>5</td>\n",
       "      <td>5</td>\n",
       "    </tr>\n",
       "  </tbody>\n",
       "</table>\n",
       "<p>1731 rows × 5 columns</p>\n",
       "</div>"
      ],
      "text/plain": [
       "         2021 ^Expectations 2021 ^Trip Length  \\\n",
       "0                       NaN               NaN   \n",
       "1          Met expectations         Too Short   \n",
       "2     Exceeded expectations        Just Right   \n",
       "3          Met expectations        Just Right   \n",
       "4          Met expectations        Just Right   \n",
       "...                     ...               ...   \n",
       "1727  Exceeded expectations        Just Right   \n",
       "1728  Exceeded expectations        Just Right   \n",
       "1729       Met expectations        Just Right   \n",
       "1730       Met expectations        Just Right   \n",
       "1731       Met expectations        Just Right   \n",
       "\n",
       "     2021 ^^Interested in Another Trip? 2021 ^^^^Leader Rating of Student  \\\n",
       "0                                   NaN                                 6   \n",
       "1                                   Yes                                 3   \n",
       "2                                   Yes                                 4   \n",
       "3                                    No                                 5   \n",
       "4                              Not Sure                                 6   \n",
       "...                                 ...                               ...   \n",
       "1727                                Yes                                 6   \n",
       "1728                                Yes                                 3   \n",
       "1729                           Not Sure                                 5   \n",
       "1730                           Not Sure                                 4   \n",
       "1731                           Not Sure                                 5   \n",
       "\n",
       "     rating  \n",
       "0       NaN  \n",
       "1         5  \n",
       "2         5  \n",
       "3         5  \n",
       "4         5  \n",
       "...     ...  \n",
       "1727      5  \n",
       "1728      5  \n",
       "1729      5  \n",
       "1730      5  \n",
       "1731      5  \n",
       "\n",
       "[1731 rows x 5 columns]"
      ]
     },
     "execution_count": 65,
     "metadata": {},
     "output_type": "execute_result"
    }
   ],
   "source": [
    "to_be_imputed = ['2021 ^Expectations', '2021 ^Trip Length', '2021 ^^Interested in Another Trip?', \n",
    "                 '2021 ^^^^Leader Rating of Student', 'rating']\n",
    "\n",
    "df_imputable = df[to_be_imputed]\n",
    "df_imputable"
   ]
  },
  {
   "cell_type": "code",
   "execution_count": 66,
   "metadata": {},
   "outputs": [],
   "source": [
    "df[to_be_imputed] = imputer.fit_transform(df[to_be_imputed])"
   ]
  },
  {
   "cell_type": "code",
   "execution_count": 67,
   "metadata": {
    "scrolled": false
   },
   "outputs": [
    {
     "data": {
      "text/plain": [
       "2021 > Grade                                     0\n",
       "Gender                                           0\n",
       "School                                           0\n",
       "Years at camp                                    0\n",
       "Lead source                                      0\n",
       "Primary family city                              0\n",
       "Primary family state                             2\n",
       "Primary family country                           0\n",
       "Primary family zip                               0\n",
       "2021 > trip + section names (all)                0\n",
       "2021 > Enrolled sibling count                    0\n",
       "2021 > Is your child attending with a friend?    0\n",
       "2021 ^Expectations                               0\n",
       "2021 ^Trip Length                                0\n",
       "2021 ^^Interested in Another Trip?               0\n",
       "2021 ^^^^Leader Rating of Student                0\n",
       "Changed Trip                                     0\n",
       "rating                                           0\n",
       "target                                           0\n",
       "dtype: int64"
      ]
     },
     "execution_count": 67,
     "metadata": {},
     "output_type": "execute_result"
    }
   ],
   "source": [
    "df.isna().sum()"
   ]
  },
  {
   "cell_type": "code",
   "execution_count": 68,
   "metadata": {},
   "outputs": [],
   "source": [
    "#Dropping the null values from the Primary family state column for NOW! May go back and manually add these values later.\n",
    "df.dropna(inplace=True)"
   ]
  },
  {
   "cell_type": "code",
   "execution_count": 69,
   "metadata": {},
   "outputs": [
    {
     "data": {
      "text/plain": [
       "2021 > Grade                                     0\n",
       "Gender                                           0\n",
       "School                                           0\n",
       "Years at camp                                    0\n",
       "Lead source                                      0\n",
       "Primary family city                              0\n",
       "Primary family state                             0\n",
       "Primary family country                           0\n",
       "Primary family zip                               0\n",
       "2021 > trip + section names (all)                0\n",
       "2021 > Enrolled sibling count                    0\n",
       "2021 > Is your child attending with a friend?    0\n",
       "2021 ^Expectations                               0\n",
       "2021 ^Trip Length                                0\n",
       "2021 ^^Interested in Another Trip?               0\n",
       "2021 ^^^^Leader Rating of Student                0\n",
       "Changed Trip                                     0\n",
       "rating                                           0\n",
       "target                                           0\n",
       "dtype: int64"
      ]
     },
     "execution_count": 69,
     "metadata": {},
     "output_type": "execute_result"
    }
   ],
   "source": [
    "df.isna().sum()"
   ]
  },
  {
   "cell_type": "code",
   "execution_count": 73,
   "metadata": {},
   "outputs": [],
   "source": [
    "# Casting the 'rating' column and the Leader rating of student column as integers to be treated numerically later:\n",
    "df['rating'] = df['rating'].astype(int)\n",
    "df['2021 ^^^^Leader Rating of Student'] = df['2021 ^^^^Leader Rating of Student'].astype(int)"
   ]
  },
  {
   "cell_type": "code",
   "execution_count": 74,
   "metadata": {},
   "outputs": [
    {
     "name": "stdout",
     "output_type": "stream",
     "text": [
      "<class 'pandas.core.frame.DataFrame'>\n",
      "Int64Index: 1729 entries, 0 to 1731\n",
      "Data columns (total 19 columns):\n",
      " #   Column                                         Non-Null Count  Dtype  \n",
      "---  ------                                         --------------  -----  \n",
      " 0   2021 > Grade                                   1729 non-null   object \n",
      " 1   Gender                                         1729 non-null   object \n",
      " 2   School                                         1729 non-null   object \n",
      " 3   Years at camp                                  1729 non-null   int64  \n",
      " 4   Lead source                                    1729 non-null   object \n",
      " 5   Primary family city                            1729 non-null   object \n",
      " 6   Primary family state                           1729 non-null   object \n",
      " 7   Primary family country                         1729 non-null   object \n",
      " 8   Primary family zip                             1729 non-null   object \n",
      " 9   2021 > trip + section names (all)              1729 non-null   object \n",
      " 10  2021 > Enrolled sibling count                  1729 non-null   float64\n",
      " 11  2021 > Is your child attending with a friend?  1729 non-null   object \n",
      " 12  2021 ^Expectations                             1729 non-null   object \n",
      " 13  2021 ^Trip Length                              1729 non-null   object \n",
      " 14  2021 ^^Interested in Another Trip?             1729 non-null   object \n",
      " 15  2021 ^^^^Leader Rating of Student              1729 non-null   int64  \n",
      " 16  Changed Trip                                   1729 non-null   int64  \n",
      " 17  rating                                         1729 non-null   int64  \n",
      " 18  target                                         1729 non-null   int64  \n",
      "dtypes: float64(1), int64(5), object(13)\n",
      "memory usage: 270.2+ KB\n"
     ]
    }
   ],
   "source": [
    "df.info()"
   ]
  },
  {
   "cell_type": "markdown",
   "metadata": {},
   "source": [
    "### ALL Columns Defined After Initial Preprocessing:\n",
    "#### Target:\n",
    "- 'target'\n",
    "\n",
    "#### Numeric columns:\n",
    "- Years at camp\n",
    "- 2021 > Enrolled sibling count\n",
    "- 2021 ^^^^Leader Rating of Student\n",
    "- rating \n",
    "\n",
    "#### OneHotEncoded (Consistently):\n",
    "**These columns will be OneHotEncoded for all models that include categorical features, there are additional Optional features listed below which will be tested, but may not ultimately be used.**\n",
    "- 2021 > Grade\n",
    "- Gender\n",
    "- Lead source\n",
    "- 2021 > trip + section names (all)  \n",
    "- 2021 > Is your child attending with a friend?\n",
    "- 2021 > Trip Length\n",
    "- 2021 ^^Interested in Another Trip?\n",
    "- Changed Trip\n",
    "\n",
    "#### OrdinalEncoded:\n",
    "- 2021 ^Expectations [Exceeded expectations, Met expecations, Did not meet expectations]\n",
    "\n",
    "#### Optional OneHotEncoded:\n",
    "- School\n",
    "- Primary family city\n",
    "- Primary family state\n",
    "- Primary family country\n",
    "- Primary family zip"
   ]
  },
  {
   "cell_type": "code",
   "execution_count": 75,
   "metadata": {},
   "outputs": [],
   "source": [
    "ordinal = ['2021 ^Expectations']"
   ]
  },
  {
   "cell_type": "code",
   "execution_count": 76,
   "metadata": {},
   "outputs": [],
   "source": [
    "#df_final_ohe = df_final.drop(df[ordinal], axis=1, inplace=True)\n",
    "df_ord = df[ordinal]"
   ]
  },
  {
   "cell_type": "code",
   "execution_count": 78,
   "metadata": {},
   "outputs": [],
   "source": [
    "ordinal = OrdinalEncoder(categories=[['Did not meet expectations', 'Met expectations', 'Exceeded expectations']])"
   ]
  },
  {
   "cell_type": "code",
   "execution_count": 80,
   "metadata": {},
   "outputs": [
    {
     "data": {
      "text/html": [
       "<style>#sk-container-id-1 {color: black;}#sk-container-id-1 pre{padding: 0;}#sk-container-id-1 div.sk-toggleable {background-color: white;}#sk-container-id-1 label.sk-toggleable__label {cursor: pointer;display: block;width: 100%;margin-bottom: 0;padding: 0.3em;box-sizing: border-box;text-align: center;}#sk-container-id-1 label.sk-toggleable__label-arrow:before {content: \"▸\";float: left;margin-right: 0.25em;color: #696969;}#sk-container-id-1 label.sk-toggleable__label-arrow:hover:before {color: black;}#sk-container-id-1 div.sk-estimator:hover label.sk-toggleable__label-arrow:before {color: black;}#sk-container-id-1 div.sk-toggleable__content {max-height: 0;max-width: 0;overflow: hidden;text-align: left;background-color: #f0f8ff;}#sk-container-id-1 div.sk-toggleable__content pre {margin: 0.2em;color: black;border-radius: 0.25em;background-color: #f0f8ff;}#sk-container-id-1 input.sk-toggleable__control:checked~div.sk-toggleable__content {max-height: 200px;max-width: 100%;overflow: auto;}#sk-container-id-1 input.sk-toggleable__control:checked~label.sk-toggleable__label-arrow:before {content: \"▾\";}#sk-container-id-1 div.sk-estimator input.sk-toggleable__control:checked~label.sk-toggleable__label {background-color: #d4ebff;}#sk-container-id-1 div.sk-label input.sk-toggleable__control:checked~label.sk-toggleable__label {background-color: #d4ebff;}#sk-container-id-1 input.sk-hidden--visually {border: 0;clip: rect(1px 1px 1px 1px);clip: rect(1px, 1px, 1px, 1px);height: 1px;margin: -1px;overflow: hidden;padding: 0;position: absolute;width: 1px;}#sk-container-id-1 div.sk-estimator {font-family: monospace;background-color: #f0f8ff;border: 1px dotted black;border-radius: 0.25em;box-sizing: border-box;margin-bottom: 0.5em;}#sk-container-id-1 div.sk-estimator:hover {background-color: #d4ebff;}#sk-container-id-1 div.sk-parallel-item::after {content: \"\";width: 100%;border-bottom: 1px solid gray;flex-grow: 1;}#sk-container-id-1 div.sk-label:hover label.sk-toggleable__label {background-color: #d4ebff;}#sk-container-id-1 div.sk-serial::before {content: \"\";position: absolute;border-left: 1px solid gray;box-sizing: border-box;top: 0;bottom: 0;left: 50%;z-index: 0;}#sk-container-id-1 div.sk-serial {display: flex;flex-direction: column;align-items: center;background-color: white;padding-right: 0.2em;padding-left: 0.2em;position: relative;}#sk-container-id-1 div.sk-item {position: relative;z-index: 1;}#sk-container-id-1 div.sk-parallel {display: flex;align-items: stretch;justify-content: center;background-color: white;position: relative;}#sk-container-id-1 div.sk-item::before, #sk-container-id-1 div.sk-parallel-item::before {content: \"\";position: absolute;border-left: 1px solid gray;box-sizing: border-box;top: 0;bottom: 0;left: 50%;z-index: -1;}#sk-container-id-1 div.sk-parallel-item {display: flex;flex-direction: column;z-index: 1;position: relative;background-color: white;}#sk-container-id-1 div.sk-parallel-item:first-child::after {align-self: flex-end;width: 50%;}#sk-container-id-1 div.sk-parallel-item:last-child::after {align-self: flex-start;width: 50%;}#sk-container-id-1 div.sk-parallel-item:only-child::after {width: 0;}#sk-container-id-1 div.sk-dashed-wrapped {border: 1px dashed gray;margin: 0 0.4em 0.5em 0.4em;box-sizing: border-box;padding-bottom: 0.4em;background-color: white;}#sk-container-id-1 div.sk-label label {font-family: monospace;font-weight: bold;display: inline-block;line-height: 1.2em;}#sk-container-id-1 div.sk-label-container {text-align: center;}#sk-container-id-1 div.sk-container {/* jupyter's `normalize.less` sets `[hidden] { display: none; }` but bootstrap.min.css set `[hidden] { display: none !important; }` so we also need the `!important` here to be able to override the default hidden behavior on the sphinx rendered scikit-learn.org. See: https://github.com/scikit-learn/scikit-learn/issues/21755 */display: inline-block !important;position: relative;}#sk-container-id-1 div.sk-text-repr-fallback {display: none;}</style><div id=\"sk-container-id-1\" class=\"sk-top-container\"><div class=\"sk-text-repr-fallback\"><pre>OrdinalEncoder(categories=[[&#x27;Did not meet expectations&#x27;, &#x27;Met expectations&#x27;,\n",
       "                            &#x27;Exceeded expectations&#x27;]])</pre><b>In a Jupyter environment, please rerun this cell to show the HTML representation or trust the notebook. <br />On GitHub, the HTML representation is unable to render, please try loading this page with nbviewer.org.</b></div><div class=\"sk-container\" hidden><div class=\"sk-item\"><div class=\"sk-estimator sk-toggleable\"><input class=\"sk-toggleable__control sk-hidden--visually\" id=\"sk-estimator-id-1\" type=\"checkbox\" checked><label for=\"sk-estimator-id-1\" class=\"sk-toggleable__label sk-toggleable__label-arrow\">OrdinalEncoder</label><div class=\"sk-toggleable__content\"><pre>OrdinalEncoder(categories=[[&#x27;Did not meet expectations&#x27;, &#x27;Met expectations&#x27;,\n",
       "                            &#x27;Exceeded expectations&#x27;]])</pre></div></div></div></div></div>"
      ],
      "text/plain": [
       "OrdinalEncoder(categories=[['Did not meet expectations', 'Met expectations',\n",
       "                            'Exceeded expectations']])"
      ]
     },
     "execution_count": 80,
     "metadata": {},
     "output_type": "execute_result"
    }
   ],
   "source": [
    "ordinal.fit(df_ord)"
   ]
  },
  {
   "cell_type": "code",
   "execution_count": 81,
   "metadata": {},
   "outputs": [
    {
     "data": {
      "text/plain": [
       "[array(['Did not meet expectations', 'Met expectations',\n",
       "        'Exceeded expectations'], dtype=object)]"
      ]
     },
     "execution_count": 81,
     "metadata": {},
     "output_type": "execute_result"
    }
   ],
   "source": [
    "ordinal.categories_"
   ]
  },
  {
   "cell_type": "code",
   "execution_count": 83,
   "metadata": {},
   "outputs": [
    {
     "data": {
      "text/plain": [
       "array([[1.],\n",
       "       [1.],\n",
       "       [2.],\n",
       "       ...,\n",
       "       [1.],\n",
       "       [1.],\n",
       "       [1.]])"
      ]
     },
     "execution_count": 83,
     "metadata": {},
     "output_type": "execute_result"
    }
   ],
   "source": [
    "ordinal.transform(df_ord)"
   ]
  },
  {
   "cell_type": "markdown",
   "metadata": {},
   "source": [
    "### Correlation between the Target and numeric columns:"
   ]
  },
  {
   "cell_type": "code",
   "execution_count": 84,
   "metadata": {},
   "outputs": [
    {
     "data": {
      "text/plain": [
       "target                               1.000000\n",
       "Years at camp                        0.611823\n",
       "2021 ^^^^Leader Rating of Student    0.141345\n",
       "rating                               0.124976\n",
       "2021 > Enrolled sibling count        0.055239\n",
       "Changed Trip                         0.025015\n",
       "Name: target, dtype: float64"
      ]
     },
     "execution_count": 84,
     "metadata": {},
     "output_type": "execute_result"
    }
   ],
   "source": [
    "df_corrs = df.corr()['target'].map(abs).sort_values(ascending=False)\n",
    "df_corrs"
   ]
  },
  {
   "cell_type": "code",
   "execution_count": 85,
   "metadata": {},
   "outputs": [],
   "source": [
    "optional = ['School', 'Primary family city', 'Primary family state', 'Primary family country', 'Primary family zip']\n",
    "df_modeling = df.drop(optional, axis=1)"
   ]
  },
  {
   "cell_type": "code",
   "execution_count": 86,
   "metadata": {},
   "outputs": [
    {
     "data": {
      "text/html": [
       "<div>\n",
       "<style scoped>\n",
       "    .dataframe tbody tr th:only-of-type {\n",
       "        vertical-align: middle;\n",
       "    }\n",
       "\n",
       "    .dataframe tbody tr th {\n",
       "        vertical-align: top;\n",
       "    }\n",
       "\n",
       "    .dataframe thead th {\n",
       "        text-align: right;\n",
       "    }\n",
       "</style>\n",
       "<table border=\"1\" class=\"dataframe\">\n",
       "  <thead>\n",
       "    <tr style=\"text-align: right;\">\n",
       "      <th></th>\n",
       "      <th>Years at camp</th>\n",
       "      <th>2021 ^^^^Leader Rating of Student</th>\n",
       "      <th>rating</th>\n",
       "      <th>2021 &gt; Enrolled sibling count</th>\n",
       "      <th>Changed Trip</th>\n",
       "    </tr>\n",
       "  </thead>\n",
       "  <tbody>\n",
       "    <tr>\n",
       "      <th>0</th>\n",
       "      <td>1</td>\n",
       "      <td>6</td>\n",
       "      <td>5</td>\n",
       "      <td>0.0</td>\n",
       "      <td>0</td>\n",
       "    </tr>\n",
       "    <tr>\n",
       "      <th>1</th>\n",
       "      <td>2</td>\n",
       "      <td>3</td>\n",
       "      <td>5</td>\n",
       "      <td>0.0</td>\n",
       "      <td>0</td>\n",
       "    </tr>\n",
       "    <tr>\n",
       "      <th>2</th>\n",
       "      <td>2</td>\n",
       "      <td>4</td>\n",
       "      <td>5</td>\n",
       "      <td>0.0</td>\n",
       "      <td>0</td>\n",
       "    </tr>\n",
       "    <tr>\n",
       "      <th>3</th>\n",
       "      <td>2</td>\n",
       "      <td>5</td>\n",
       "      <td>5</td>\n",
       "      <td>0.0</td>\n",
       "      <td>0</td>\n",
       "    </tr>\n",
       "    <tr>\n",
       "      <th>4</th>\n",
       "      <td>1</td>\n",
       "      <td>6</td>\n",
       "      <td>5</td>\n",
       "      <td>0.0</td>\n",
       "      <td>0</td>\n",
       "    </tr>\n",
       "    <tr>\n",
       "      <th>...</th>\n",
       "      <td>...</td>\n",
       "      <td>...</td>\n",
       "      <td>...</td>\n",
       "      <td>...</td>\n",
       "      <td>...</td>\n",
       "    </tr>\n",
       "    <tr>\n",
       "      <th>1727</th>\n",
       "      <td>3</td>\n",
       "      <td>6</td>\n",
       "      <td>5</td>\n",
       "      <td>0.0</td>\n",
       "      <td>1</td>\n",
       "    </tr>\n",
       "    <tr>\n",
       "      <th>1728</th>\n",
       "      <td>2</td>\n",
       "      <td>3</td>\n",
       "      <td>5</td>\n",
       "      <td>0.0</td>\n",
       "      <td>0</td>\n",
       "    </tr>\n",
       "    <tr>\n",
       "      <th>1729</th>\n",
       "      <td>2</td>\n",
       "      <td>5</td>\n",
       "      <td>5</td>\n",
       "      <td>0.0</td>\n",
       "      <td>0</td>\n",
       "    </tr>\n",
       "    <tr>\n",
       "      <th>1730</th>\n",
       "      <td>1</td>\n",
       "      <td>4</td>\n",
       "      <td>5</td>\n",
       "      <td>0.0</td>\n",
       "      <td>0</td>\n",
       "    </tr>\n",
       "    <tr>\n",
       "      <th>1731</th>\n",
       "      <td>1</td>\n",
       "      <td>5</td>\n",
       "      <td>5</td>\n",
       "      <td>0.0</td>\n",
       "      <td>0</td>\n",
       "    </tr>\n",
       "  </tbody>\n",
       "</table>\n",
       "<p>1729 rows × 5 columns</p>\n",
       "</div>"
      ],
      "text/plain": [
       "      Years at camp  2021 ^^^^Leader Rating of Student  rating  \\\n",
       "0                 1                                  6       5   \n",
       "1                 2                                  3       5   \n",
       "2                 2                                  4       5   \n",
       "3                 2                                  5       5   \n",
       "4                 1                                  6       5   \n",
       "...             ...                                ...     ...   \n",
       "1727              3                                  6       5   \n",
       "1728              2                                  3       5   \n",
       "1729              2                                  5       5   \n",
       "1730              1                                  4       5   \n",
       "1731              1                                  5       5   \n",
       "\n",
       "      2021 > Enrolled sibling count  Changed Trip  \n",
       "0                               0.0             0  \n",
       "1                               0.0             0  \n",
       "2                               0.0             0  \n",
       "3                               0.0             0  \n",
       "4                               0.0             0  \n",
       "...                             ...           ...  \n",
       "1727                            0.0             1  \n",
       "1728                            0.0             0  \n",
       "1729                            0.0             0  \n",
       "1730                            0.0             0  \n",
       "1731                            0.0             0  \n",
       "\n",
       "[1729 rows x 5 columns]"
      ]
     },
     "execution_count": 86,
     "metadata": {},
     "output_type": "execute_result"
    }
   ],
   "source": [
    "# Splitting categorical and numeric columns:\n",
    "numeric = ['Years at camp', '2021 ^^^^Leader Rating of Student', 'rating', \n",
    "           '2021 > Enrolled sibling count', 'Changed Trip']\n",
    "df_num = df[numeric]\n",
    "df_num"
   ]
  },
  {
   "cell_type": "code",
   "execution_count": 87,
   "metadata": {},
   "outputs": [],
   "source": [
    "#First train-test-split:\n",
    "X = df_num\n",
    "y= df['target']\n",
    "X_train, X_test, y_train, y_test = train_test_split(X, y, random_state=42)"
   ]
  },
  {
   "cell_type": "code",
   "execution_count": 88,
   "metadata": {},
   "outputs": [
    {
     "data": {
      "text/plain": [
       "0    0.516204\n",
       "1    0.483796\n",
       "Name: target, dtype: float64"
      ]
     },
     "execution_count": 88,
     "metadata": {},
     "output_type": "execute_result"
    }
   ],
   "source": [
    "y_train.value_counts(normalize=True)"
   ]
  },
  {
   "cell_type": "code",
   "execution_count": 89,
   "metadata": {},
   "outputs": [],
   "source": [
    "# Dummy Classifier to fit the first model:\n",
    "model1 = DummyClassifier(strategy='constant', constant=1)"
   ]
  },
  {
   "cell_type": "code",
   "execution_count": 90,
   "metadata": {},
   "outputs": [
    {
     "data": {
      "text/html": [
       "<style>#sk-container-id-2 {color: black;}#sk-container-id-2 pre{padding: 0;}#sk-container-id-2 div.sk-toggleable {background-color: white;}#sk-container-id-2 label.sk-toggleable__label {cursor: pointer;display: block;width: 100%;margin-bottom: 0;padding: 0.3em;box-sizing: border-box;text-align: center;}#sk-container-id-2 label.sk-toggleable__label-arrow:before {content: \"▸\";float: left;margin-right: 0.25em;color: #696969;}#sk-container-id-2 label.sk-toggleable__label-arrow:hover:before {color: black;}#sk-container-id-2 div.sk-estimator:hover label.sk-toggleable__label-arrow:before {color: black;}#sk-container-id-2 div.sk-toggleable__content {max-height: 0;max-width: 0;overflow: hidden;text-align: left;background-color: #f0f8ff;}#sk-container-id-2 div.sk-toggleable__content pre {margin: 0.2em;color: black;border-radius: 0.25em;background-color: #f0f8ff;}#sk-container-id-2 input.sk-toggleable__control:checked~div.sk-toggleable__content {max-height: 200px;max-width: 100%;overflow: auto;}#sk-container-id-2 input.sk-toggleable__control:checked~label.sk-toggleable__label-arrow:before {content: \"▾\";}#sk-container-id-2 div.sk-estimator input.sk-toggleable__control:checked~label.sk-toggleable__label {background-color: #d4ebff;}#sk-container-id-2 div.sk-label input.sk-toggleable__control:checked~label.sk-toggleable__label {background-color: #d4ebff;}#sk-container-id-2 input.sk-hidden--visually {border: 0;clip: rect(1px 1px 1px 1px);clip: rect(1px, 1px, 1px, 1px);height: 1px;margin: -1px;overflow: hidden;padding: 0;position: absolute;width: 1px;}#sk-container-id-2 div.sk-estimator {font-family: monospace;background-color: #f0f8ff;border: 1px dotted black;border-radius: 0.25em;box-sizing: border-box;margin-bottom: 0.5em;}#sk-container-id-2 div.sk-estimator:hover {background-color: #d4ebff;}#sk-container-id-2 div.sk-parallel-item::after {content: \"\";width: 100%;border-bottom: 1px solid gray;flex-grow: 1;}#sk-container-id-2 div.sk-label:hover label.sk-toggleable__label {background-color: #d4ebff;}#sk-container-id-2 div.sk-serial::before {content: \"\";position: absolute;border-left: 1px solid gray;box-sizing: border-box;top: 0;bottom: 0;left: 50%;z-index: 0;}#sk-container-id-2 div.sk-serial {display: flex;flex-direction: column;align-items: center;background-color: white;padding-right: 0.2em;padding-left: 0.2em;position: relative;}#sk-container-id-2 div.sk-item {position: relative;z-index: 1;}#sk-container-id-2 div.sk-parallel {display: flex;align-items: stretch;justify-content: center;background-color: white;position: relative;}#sk-container-id-2 div.sk-item::before, #sk-container-id-2 div.sk-parallel-item::before {content: \"\";position: absolute;border-left: 1px solid gray;box-sizing: border-box;top: 0;bottom: 0;left: 50%;z-index: -1;}#sk-container-id-2 div.sk-parallel-item {display: flex;flex-direction: column;z-index: 1;position: relative;background-color: white;}#sk-container-id-2 div.sk-parallel-item:first-child::after {align-self: flex-end;width: 50%;}#sk-container-id-2 div.sk-parallel-item:last-child::after {align-self: flex-start;width: 50%;}#sk-container-id-2 div.sk-parallel-item:only-child::after {width: 0;}#sk-container-id-2 div.sk-dashed-wrapped {border: 1px dashed gray;margin: 0 0.4em 0.5em 0.4em;box-sizing: border-box;padding-bottom: 0.4em;background-color: white;}#sk-container-id-2 div.sk-label label {font-family: monospace;font-weight: bold;display: inline-block;line-height: 1.2em;}#sk-container-id-2 div.sk-label-container {text-align: center;}#sk-container-id-2 div.sk-container {/* jupyter's `normalize.less` sets `[hidden] { display: none; }` but bootstrap.min.css set `[hidden] { display: none !important; }` so we also need the `!important` here to be able to override the default hidden behavior on the sphinx rendered scikit-learn.org. See: https://github.com/scikit-learn/scikit-learn/issues/21755 */display: inline-block !important;position: relative;}#sk-container-id-2 div.sk-text-repr-fallback {display: none;}</style><div id=\"sk-container-id-2\" class=\"sk-top-container\"><div class=\"sk-text-repr-fallback\"><pre>DummyClassifier(constant=1, strategy=&#x27;constant&#x27;)</pre><b>In a Jupyter environment, please rerun this cell to show the HTML representation or trust the notebook. <br />On GitHub, the HTML representation is unable to render, please try loading this page with nbviewer.org.</b></div><div class=\"sk-container\" hidden><div class=\"sk-item\"><div class=\"sk-estimator sk-toggleable\"><input class=\"sk-toggleable__control sk-hidden--visually\" id=\"sk-estimator-id-2\" type=\"checkbox\" checked><label for=\"sk-estimator-id-2\" class=\"sk-toggleable__label sk-toggleable__label-arrow\">DummyClassifier</label><div class=\"sk-toggleable__content\"><pre>DummyClassifier(constant=1, strategy=&#x27;constant&#x27;)</pre></div></div></div></div></div>"
      ],
      "text/plain": [
       "DummyClassifier(constant=1, strategy='constant')"
      ]
     },
     "execution_count": 90,
     "metadata": {},
     "output_type": "execute_result"
    }
   ],
   "source": [
    "model1.fit(X_train, y_train)"
   ]
  },
  {
   "cell_type": "code",
   "execution_count": 91,
   "metadata": {},
   "outputs": [
    {
     "data": {
      "text/plain": [
       "array([1, 1, 1, ..., 1, 1, 1])"
      ]
     },
     "execution_count": 91,
     "metadata": {},
     "output_type": "execute_result"
    }
   ],
   "source": [
    "model1.predict(X_train)"
   ]
  },
  {
   "cell_type": "code",
   "execution_count": 92,
   "metadata": {},
   "outputs": [
    {
     "data": {
      "text/plain": [
       "0.4837962962962963"
      ]
     },
     "execution_count": 92,
     "metadata": {},
     "output_type": "execute_result"
    }
   ],
   "source": [
    "model1.score(X_train, y_train)"
   ]
  },
  {
   "cell_type": "code",
   "execution_count": 93,
   "metadata": {},
   "outputs": [
    {
     "data": {
      "text/plain": [
       "array([0.48461538, 0.48648649, 0.48262548, 0.48262548, 0.48262548])"
      ]
     },
     "execution_count": 93,
     "metadata": {},
     "output_type": "execute_result"
    }
   ],
   "source": [
    "cross_val_score(model1, X_train, y_train, cv=5)"
   ]
  },
  {
   "cell_type": "code",
   "execution_count": 95,
   "metadata": {},
   "outputs": [
    {
     "data": {
      "text/plain": [
       "0.4837956637956638"
      ]
     },
     "execution_count": 95,
     "metadata": {},
     "output_type": "execute_result"
    }
   ],
   "source": [
    "avg_cv = cross_val_score(model1, X_train, y_train, cv=5).mean()\n",
    "avg_cv"
   ]
  },
  {
   "cell_type": "code",
   "execution_count": 96,
   "metadata": {},
   "outputs": [
    {
     "data": {
      "text/plain": [
       "1.0"
      ]
     },
     "execution_count": 96,
     "metadata": {},
     "output_type": "execute_result"
    }
   ],
   "source": [
    "recall_score(y_train, model1.predict(X_train))"
   ]
  },
  {
   "cell_type": "code",
   "execution_count": 103,
   "metadata": {},
   "outputs": [
    {
     "data": {
      "text/plain": [
       "array([[  0, 669],\n",
       "       [  0, 627]])"
      ]
     },
     "execution_count": 103,
     "metadata": {},
     "output_type": "execute_result"
    }
   ],
   "source": [
    "confusion_matrix(y_train, model1.predict(X_train))"
   ]
  },
  {
   "cell_type": "markdown",
   "metadata": {},
   "source": [
    "## To be done AFTER THE Train-Test-Split!"
   ]
  },
  {
   "cell_type": "markdown",
   "metadata": {},
   "source": [
    "OneHotEncoder"
   ]
  },
  {
   "cell_type": "code",
   "execution_count": null,
   "metadata": {},
   "outputs": [],
   "source": [
    "ohe = OneHotEncoder()"
   ]
  },
  {
   "cell_type": "code",
   "execution_count": null,
   "metadata": {},
   "outputs": [],
   "source": [
    "no_ohe = ['2021 ^Expectations', 'Primary family city', 'Primary family state', \n",
    "          'Primary family country', 'Primary family zip', 'School', 'target']\n",
    "df_final_ohe = df_final.drop(no_ohe, axis=1)"
   ]
  },
  {
   "cell_type": "code",
   "execution_count": null,
   "metadata": {},
   "outputs": [],
   "source": [
    "df_final_ohe.info()"
   ]
  },
  {
   "cell_type": "code",
   "execution_count": null,
   "metadata": {},
   "outputs": [],
   "source": [
    "df_final_ohe['2021 ^^^^Leader Rating of Student'] = df_final_ohe['2021 ^^^^Leader Rating of Student'].astype(int)"
   ]
  },
  {
   "cell_type": "code",
   "execution_count": null,
   "metadata": {},
   "outputs": [],
   "source": [
    "encodables = df_final_ohe[['2021 > Grade', 'Gender', 'Years at camp', 'Lead source', \n",
    "                           '2021 > trip + section names (all)', '2021 > Enrolled sibling count', \n",
    "                           '2021 > Is your child attending with a friend?', '2021 ^Trip Length', \n",
    "                           '2021 ^^Interested in Another Trip?', 'Changed Trip']]\n",
    "\n",
    "ohe.fit(encodables)"
   ]
  },
  {
   "cell_type": "code",
   "execution_count": null,
   "metadata": {},
   "outputs": [],
   "source": [
    "df_final_ohe.info()"
   ]
  },
  {
   "cell_type": "code",
   "execution_count": null,
   "metadata": {
    "scrolled": true
   },
   "outputs": [],
   "source": [
    "ohe.categories_"
   ]
  },
  {
   "cell_type": "code",
   "execution_count": null,
   "metadata": {},
   "outputs": [],
   "source": [
    "encoded = ohe.transform(encodables)"
   ]
  },
  {
   "cell_type": "code",
   "execution_count": null,
   "metadata": {},
   "outputs": [],
   "source": [
    "encoded.todense()"
   ]
  },
  {
   "cell_type": "code",
   "execution_count": null,
   "metadata": {},
   "outputs": [],
   "source": [
    "columns = ohe.get_feature_names_out()"
   ]
  },
  {
   "cell_type": "code",
   "execution_count": null,
   "metadata": {},
   "outputs": [],
   "source": [
    "df_encoded = pd.DataFrame(encoded.todense(), columns=columns)"
   ]
  },
  {
   "cell_type": "code",
   "execution_count": null,
   "metadata": {},
   "outputs": [],
   "source": [
    "df_encoded"
   ]
  },
  {
   "cell_type": "code",
   "execution_count": null,
   "metadata": {},
   "outputs": [],
   "source": [
    "df_final['Primary family zip'].nunique()"
   ]
  },
  {
   "cell_type": "code",
   "execution_count": null,
   "metadata": {},
   "outputs": [],
   "source": [
    "df_final['School'].nunique()"
   ]
  },
  {
   "cell_type": "code",
   "execution_count": null,
   "metadata": {
    "scrolled": true
   },
   "outputs": [],
   "source": [
    "df_final['Primary family city'].nunique()"
   ]
  },
  {
   "cell_type": "code",
   "execution_count": null,
   "metadata": {},
   "outputs": [],
   "source": []
  }
 ],
 "metadata": {
  "kernelspec": {
   "display_name": "Python (learn-env)",
   "language": "python",
   "name": "learn-env"
  },
  "language_info": {
   "codemirror_mode": {
    "name": "ipython",
    "version": 3
   },
   "file_extension": ".py",
   "mimetype": "text/x-python",
   "name": "python",
   "nbconvert_exporter": "python",
   "pygments_lexer": "ipython3",
   "version": "3.8.5"
  }
 },
 "nbformat": 4,
 "nbformat_minor": 4
}
