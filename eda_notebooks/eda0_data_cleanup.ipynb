{
 "cells": [
  {
   "cell_type": "code",
   "execution_count": 1,
   "metadata": {},
   "outputs": [],
   "source": [
    "#Initally importing ALL potential libraries\n",
    "import pandas as pd\n",
    "import matplotlib.pyplot as plt\n",
    "%matplotlib inline\n",
    "\n",
    "from sklearn.model_selection import train_test_split, cross_val_score\n",
    "from sklearn.dummy import DummyClassifier\n",
    "\n",
    "from sklearn.metrics import classification_report, confusion_matrix, accuracy_score, recall_score, precision_score\n",
    "from sklearn.metrics import f1_score #plot_confusion_matrix\n",
    "\n",
    "from sklearn.linear_model import LogisticRegression, LinearRegression\n",
    "from sklearn.preprocessing import StandardScaler, OneHotEncoder"
   ]
  },
  {
   "cell_type": "code",
   "execution_count": 2,
   "metadata": {},
   "outputs": [],
   "source": [
    "import pandas as pd\n",
    "import numpy as np\n",
    "from sklearn.impute import SimpleImputer\n",
    "from sklearn.preprocessing import OneHotEncoder, OrdinalEncoder"
   ]
  },
  {
   "cell_type": "code",
   "execution_count": 3,
   "metadata": {},
   "outputs": [],
   "source": [
    "df = pd.read_csv('../data/student_enrolled_demographics.csv')"
   ]
  },
  {
   "cell_type": "code",
   "execution_count": 4,
   "metadata": {
    "scrolled": true
   },
   "outputs": [
    {
     "data": {
      "text/html": [
       "<div>\n",
       "<style scoped>\n",
       "    .dataframe tbody tr th:only-of-type {\n",
       "        vertical-align: middle;\n",
       "    }\n",
       "\n",
       "    .dataframe tbody tr th {\n",
       "        vertical-align: top;\n",
       "    }\n",
       "\n",
       "    .dataframe thead th {\n",
       "        text-align: right;\n",
       "    }\n",
       "</style>\n",
       "<table border=\"1\" class=\"dataframe\">\n",
       "  <thead>\n",
       "    <tr style=\"text-align: right;\">\n",
       "      <th></th>\n",
       "      <th>Unnamed: 0</th>\n",
       "      <th>Camper ID</th>\n",
       "      <th>Age</th>\n",
       "      <th>2021 &gt; Grade</th>\n",
       "      <th>Gender</th>\n",
       "      <th>School</th>\n",
       "      <th>Years at camp</th>\n",
       "      <th>Sibling count</th>\n",
       "      <th>Lead source</th>\n",
       "      <th>Primary family city</th>\n",
       "      <th>...</th>\n",
       "      <th>2021 &gt; Unenrollment date</th>\n",
       "      <th>2021 &gt; Is your child attending with a friend?</th>\n",
       "      <th>2021 ^Student Eval</th>\n",
       "      <th>2021 ^Expectations</th>\n",
       "      <th>2021 ^Trip Length</th>\n",
       "      <th>2021 ^^Interested in Another Trip?</th>\n",
       "      <th>2021 ^^^Future Trip?</th>\n",
       "      <th>2021 ^^^^Leader Rating of Student</th>\n",
       "      <th>2022 &gt; Status</th>\n",
       "      <th>2022 &gt; trip code (ex. CAL 1, CAL 1A, CAL 1B, etc.) names (all)</th>\n",
       "    </tr>\n",
       "  </thead>\n",
       "  <tbody>\n",
       "    <tr>\n",
       "      <th>0</th>\n",
       "      <td>1</td>\n",
       "      <td>9522</td>\n",
       "      <td>19</td>\n",
       "      <td>11th</td>\n",
       "      <td>Male</td>\n",
       "      <td>Memphis University School</td>\n",
       "      <td>1</td>\n",
       "      <td>0</td>\n",
       "      <td>Friend</td>\n",
       "      <td>Memphis</td>\n",
       "      <td>...</td>\n",
       "      <td>NaN</td>\n",
       "      <td>Yes</td>\n",
       "      <td>NaN</td>\n",
       "      <td>NaN</td>\n",
       "      <td>NaN</td>\n",
       "      <td>NaN</td>\n",
       "      <td>NaN</td>\n",
       "      <td>Off the Charts (Highest)</td>\n",
       "      <td>Cancelled</td>\n",
       "      <td>NaN</td>\n",
       "    </tr>\n",
       "    <tr>\n",
       "      <th>1</th>\n",
       "      <td>2</td>\n",
       "      <td>9542</td>\n",
       "      <td>15</td>\n",
       "      <td>8th</td>\n",
       "      <td>Male</td>\n",
       "      <td>Charlotte Country Day School</td>\n",
       "      <td>2</td>\n",
       "      <td>1</td>\n",
       "      <td>Friend</td>\n",
       "      <td>Charlotte</td>\n",
       "      <td>...</td>\n",
       "      <td>NaN</td>\n",
       "      <td>Yes</td>\n",
       "      <td>5</td>\n",
       "      <td>Met expectations</td>\n",
       "      <td>Too Short</td>\n",
       "      <td>Yes</td>\n",
       "      <td>NaN</td>\n",
       "      <td>3</td>\n",
       "      <td>Enrolled</td>\n",
       "      <td>DOL 1B</td>\n",
       "    </tr>\n",
       "    <tr>\n",
       "      <th>2</th>\n",
       "      <td>3</td>\n",
       "      <td>3606</td>\n",
       "      <td>17</td>\n",
       "      <td>10th</td>\n",
       "      <td>Female</td>\n",
       "      <td>Collegiate School</td>\n",
       "      <td>2</td>\n",
       "      <td>0</td>\n",
       "      <td>Friend</td>\n",
       "      <td>Richmond</td>\n",
       "      <td>...</td>\n",
       "      <td>NaN</td>\n",
       "      <td>Yes</td>\n",
       "      <td>5</td>\n",
       "      <td>Exceeded expectations</td>\n",
       "      <td>Just Right</td>\n",
       "      <td>Yes</td>\n",
       "      <td>HWI, THA, FIJ</td>\n",
       "      <td>4</td>\n",
       "      <td>Alumni</td>\n",
       "      <td>NaN</td>\n",
       "    </tr>\n",
       "    <tr>\n",
       "      <th>3</th>\n",
       "      <td>4</td>\n",
       "      <td>5791</td>\n",
       "      <td>19</td>\n",
       "      <td>12th</td>\n",
       "      <td>Male</td>\n",
       "      <td>Charlotte Latin School</td>\n",
       "      <td>2</td>\n",
       "      <td>0</td>\n",
       "      <td>Word of Mouth</td>\n",
       "      <td>Charlotte</td>\n",
       "      <td>...</td>\n",
       "      <td>NaN</td>\n",
       "      <td>No</td>\n",
       "      <td>5</td>\n",
       "      <td>Met expectations</td>\n",
       "      <td>Just Right</td>\n",
       "      <td>No</td>\n",
       "      <td>NaN</td>\n",
       "      <td>5</td>\n",
       "      <td>Alumni</td>\n",
       "      <td>NaN</td>\n",
       "    </tr>\n",
       "    <tr>\n",
       "      <th>4</th>\n",
       "      <td>5</td>\n",
       "      <td>6847</td>\n",
       "      <td>18</td>\n",
       "      <td>11th</td>\n",
       "      <td>Female</td>\n",
       "      <td>Academy of Richmond County</td>\n",
       "      <td>1</td>\n",
       "      <td>1</td>\n",
       "      <td>Friend</td>\n",
       "      <td>Augusta</td>\n",
       "      <td>...</td>\n",
       "      <td>NaN</td>\n",
       "      <td>Yes</td>\n",
       "      <td>5</td>\n",
       "      <td>Met expectations</td>\n",
       "      <td>Just Right</td>\n",
       "      <td>Not Sure</td>\n",
       "      <td>THA, KEZ</td>\n",
       "      <td>Off the Charts (Highest)</td>\n",
       "      <td>Alumni</td>\n",
       "      <td>NaN</td>\n",
       "    </tr>\n",
       "    <tr>\n",
       "      <th>...</th>\n",
       "      <td>...</td>\n",
       "      <td>...</td>\n",
       "      <td>...</td>\n",
       "      <td>...</td>\n",
       "      <td>...</td>\n",
       "      <td>...</td>\n",
       "      <td>...</td>\n",
       "      <td>...</td>\n",
       "      <td>...</td>\n",
       "      <td>...</td>\n",
       "      <td>...</td>\n",
       "      <td>...</td>\n",
       "      <td>...</td>\n",
       "      <td>...</td>\n",
       "      <td>...</td>\n",
       "      <td>...</td>\n",
       "      <td>...</td>\n",
       "      <td>...</td>\n",
       "      <td>...</td>\n",
       "      <td>...</td>\n",
       "      <td>...</td>\n",
       "    </tr>\n",
       "    <tr>\n",
       "      <th>1727</th>\n",
       "      <td>1728</td>\n",
       "      <td>8481</td>\n",
       "      <td>15</td>\n",
       "      <td>8th</td>\n",
       "      <td>Female</td>\n",
       "      <td>Battle Ground Academy</td>\n",
       "      <td>3</td>\n",
       "      <td>0</td>\n",
       "      <td>Friend</td>\n",
       "      <td>Franklin</td>\n",
       "      <td>...</td>\n",
       "      <td>11-03-2021</td>\n",
       "      <td>No</td>\n",
       "      <td>5</td>\n",
       "      <td>Exceeded expectations</td>\n",
       "      <td>Just Right</td>\n",
       "      <td>Yes</td>\n",
       "      <td>FIJ</td>\n",
       "      <td>Off the Charts (Highest)</td>\n",
       "      <td>Enrolled</td>\n",
       "      <td>BCR 2A</td>\n",
       "    </tr>\n",
       "    <tr>\n",
       "      <th>1728</th>\n",
       "      <td>1729</td>\n",
       "      <td>6484</td>\n",
       "      <td>18</td>\n",
       "      <td>10th</td>\n",
       "      <td>Female</td>\n",
       "      <td>Providence Day School</td>\n",
       "      <td>2</td>\n",
       "      <td>0</td>\n",
       "      <td>Friend</td>\n",
       "      <td>Charlotte</td>\n",
       "      <td>...</td>\n",
       "      <td>NaN</td>\n",
       "      <td>No</td>\n",
       "      <td>5</td>\n",
       "      <td>Exceeded expectations</td>\n",
       "      <td>Just Right</td>\n",
       "      <td>Yes</td>\n",
       "      <td>KIL</td>\n",
       "      <td>3</td>\n",
       "      <td>Waitlist Only</td>\n",
       "      <td>NaN</td>\n",
       "    </tr>\n",
       "    <tr>\n",
       "      <th>1729</th>\n",
       "      <td>1730</td>\n",
       "      <td>8723</td>\n",
       "      <td>16</td>\n",
       "      <td>8th</td>\n",
       "      <td>Female</td>\n",
       "      <td>Charlotte Country Day School</td>\n",
       "      <td>2</td>\n",
       "      <td>0</td>\n",
       "      <td>Friend</td>\n",
       "      <td>Charlotte</td>\n",
       "      <td>...</td>\n",
       "      <td>NaN</td>\n",
       "      <td>Yes</td>\n",
       "      <td>5</td>\n",
       "      <td>Met expectations</td>\n",
       "      <td>Just Right</td>\n",
       "      <td>Not Sure</td>\n",
       "      <td>NaN</td>\n",
       "      <td>5</td>\n",
       "      <td>Enrolled</td>\n",
       "      <td>CRO 2B</td>\n",
       "    </tr>\n",
       "    <tr>\n",
       "      <th>1730</th>\n",
       "      <td>1731</td>\n",
       "      <td>9403</td>\n",
       "      <td>18</td>\n",
       "      <td>10th</td>\n",
       "      <td>Female</td>\n",
       "      <td>Marin Academy</td>\n",
       "      <td>1</td>\n",
       "      <td>0</td>\n",
       "      <td>Friend</td>\n",
       "      <td>Belvedere Tiburon</td>\n",
       "      <td>...</td>\n",
       "      <td>NaN</td>\n",
       "      <td>No</td>\n",
       "      <td>5</td>\n",
       "      <td>Met expectations</td>\n",
       "      <td>Just Right</td>\n",
       "      <td>Not Sure</td>\n",
       "      <td>KEZ</td>\n",
       "      <td>4</td>\n",
       "      <td>Alumni</td>\n",
       "      <td>NaN</td>\n",
       "    </tr>\n",
       "    <tr>\n",
       "      <th>1731</th>\n",
       "      <td>1732</td>\n",
       "      <td>9506</td>\n",
       "      <td>17</td>\n",
       "      <td>10th</td>\n",
       "      <td>Female</td>\n",
       "      <td>Kent Denver</td>\n",
       "      <td>1</td>\n",
       "      <td>0</td>\n",
       "      <td>Friend</td>\n",
       "      <td>Denver</td>\n",
       "      <td>...</td>\n",
       "      <td>NaN</td>\n",
       "      <td>Yes</td>\n",
       "      <td>5</td>\n",
       "      <td>Met expectations</td>\n",
       "      <td>Just Right</td>\n",
       "      <td>Not Sure</td>\n",
       "      <td>NaN</td>\n",
       "      <td>5</td>\n",
       "      <td>Alumni</td>\n",
       "      <td>NaN</td>\n",
       "    </tr>\n",
       "  </tbody>\n",
       "</table>\n",
       "<p>1732 rows × 30 columns</p>\n",
       "</div>"
      ],
      "text/plain": [
       "      Unnamed: 0  Camper ID  Age 2021 > Grade  Gender  \\\n",
       "0              1       9522   19         11th    Male   \n",
       "1              2       9542   15          8th    Male   \n",
       "2              3       3606   17         10th  Female   \n",
       "3              4       5791   19         12th    Male   \n",
       "4              5       6847   18         11th  Female   \n",
       "...          ...        ...  ...          ...     ...   \n",
       "1727        1728       8481   15          8th  Female   \n",
       "1728        1729       6484   18         10th  Female   \n",
       "1729        1730       8723   16          8th  Female   \n",
       "1730        1731       9403   18         10th  Female   \n",
       "1731        1732       9506   17         10th  Female   \n",
       "\n",
       "                            School  Years at camp  Sibling count  \\\n",
       "0        Memphis University School              1              0   \n",
       "1     Charlotte Country Day School              2              1   \n",
       "2                Collegiate School              2              0   \n",
       "3           Charlotte Latin School              2              0   \n",
       "4       Academy of Richmond County              1              1   \n",
       "...                            ...            ...            ...   \n",
       "1727         Battle Ground Academy              3              0   \n",
       "1728         Providence Day School              2              0   \n",
       "1729  Charlotte Country Day School              2              0   \n",
       "1730                 Marin Academy              1              0   \n",
       "1731                   Kent Denver              1              0   \n",
       "\n",
       "        Lead source Primary family city  ... 2021 > Unenrollment date  \\\n",
       "0            Friend             Memphis  ...                      NaN   \n",
       "1            Friend           Charlotte  ...                      NaN   \n",
       "2            Friend            Richmond  ...                      NaN   \n",
       "3     Word of Mouth           Charlotte  ...                      NaN   \n",
       "4            Friend             Augusta  ...                      NaN   \n",
       "...             ...                 ...  ...                      ...   \n",
       "1727         Friend            Franklin  ...               11-03-2021   \n",
       "1728         Friend           Charlotte  ...                      NaN   \n",
       "1729         Friend           Charlotte  ...                      NaN   \n",
       "1730         Friend   Belvedere Tiburon  ...                      NaN   \n",
       "1731         Friend              Denver  ...                      NaN   \n",
       "\n",
       "     2021 > Is your child attending with a friend? 2021 ^Student Eval  \\\n",
       "0                                              Yes                NaN   \n",
       "1                                              Yes                  5   \n",
       "2                                              Yes                  5   \n",
       "3                                               No                  5   \n",
       "4                                              Yes                  5   \n",
       "...                                            ...                ...   \n",
       "1727                                            No                  5   \n",
       "1728                                            No                  5   \n",
       "1729                                           Yes                  5   \n",
       "1730                                            No                  5   \n",
       "1731                                           Yes                  5   \n",
       "\n",
       "         2021 ^Expectations 2021 ^Trip Length  \\\n",
       "0                       NaN               NaN   \n",
       "1          Met expectations         Too Short   \n",
       "2     Exceeded expectations        Just Right   \n",
       "3          Met expectations        Just Right   \n",
       "4          Met expectations        Just Right   \n",
       "...                     ...               ...   \n",
       "1727  Exceeded expectations        Just Right   \n",
       "1728  Exceeded expectations        Just Right   \n",
       "1729       Met expectations        Just Right   \n",
       "1730       Met expectations        Just Right   \n",
       "1731       Met expectations        Just Right   \n",
       "\n",
       "     2021 ^^Interested in Another Trip?  2021 ^^^Future Trip?  \\\n",
       "0                                   NaN                   NaN   \n",
       "1                                   Yes                   NaN   \n",
       "2                                   Yes         HWI, THA, FIJ   \n",
       "3                                    No                   NaN   \n",
       "4                              Not Sure              THA, KEZ   \n",
       "...                                 ...                   ...   \n",
       "1727                                Yes                   FIJ   \n",
       "1728                                Yes                   KIL   \n",
       "1729                           Not Sure                   NaN   \n",
       "1730                           Not Sure                   KEZ   \n",
       "1731                           Not Sure                   NaN   \n",
       "\n",
       "     2021 ^^^^Leader Rating of Student  2022 > Status  \\\n",
       "0             Off the Charts (Highest)      Cancelled   \n",
       "1                                    3       Enrolled   \n",
       "2                                    4         Alumni   \n",
       "3                                    5         Alumni   \n",
       "4             Off the Charts (Highest)         Alumni   \n",
       "...                                ...            ...   \n",
       "1727          Off the Charts (Highest)       Enrolled   \n",
       "1728                                 3  Waitlist Only   \n",
       "1729                                 5       Enrolled   \n",
       "1730                                 4         Alumni   \n",
       "1731                                 5         Alumni   \n",
       "\n",
       "     2022 > trip code (ex. CAL 1, CAL 1A, CAL 1B, etc.) names (all)  \n",
       "0                                                   NaN              \n",
       "1                                                DOL 1B              \n",
       "2                                                   NaN              \n",
       "3                                                   NaN              \n",
       "4                                                   NaN              \n",
       "...                                                 ...              \n",
       "1727                                             BCR 2A              \n",
       "1728                                                NaN              \n",
       "1729                                             CRO 2B              \n",
       "1730                                                NaN              \n",
       "1731                                                NaN              \n",
       "\n",
       "[1732 rows x 30 columns]"
      ]
     },
     "execution_count": 4,
     "metadata": {},
     "output_type": "execute_result"
    }
   ],
   "source": [
    "df"
   ]
  },
  {
   "cell_type": "code",
   "execution_count": 5,
   "metadata": {
    "scrolled": true
   },
   "outputs": [
    {
     "name": "stdout",
     "output_type": "stream",
     "text": [
      "<class 'pandas.core.frame.DataFrame'>\n",
      "RangeIndex: 1732 entries, 0 to 1731\n",
      "Data columns (total 30 columns):\n",
      " #   Column                                                          Non-Null Count  Dtype  \n",
      "---  ------                                                          --------------  -----  \n",
      " 0   Unnamed: 0                                                      1732 non-null   int64  \n",
      " 1   Camper ID                                                       1732 non-null   int64  \n",
      " 2   Age                                                             1732 non-null   int64  \n",
      " 3   2021 > Grade                                                    1732 non-null   object \n",
      " 4   Gender                                                          1732 non-null   object \n",
      " 5   School                                                          1732 non-null   object \n",
      " 6   Years at camp                                                   1732 non-null   int64  \n",
      " 7   Sibling count                                                   1732 non-null   int64  \n",
      " 8   Lead source                                                     1729 non-null   object \n",
      " 9   Primary family city                                             1732 non-null   object \n",
      " 10  Primary family state                                            1730 non-null   object \n",
      " 11  Primary family country                                          209 non-null    object \n",
      " 12  Primary family zip                                              1732 non-null   object \n",
      " 13  Do you have a copy of this year’s catalog?                      64 non-null     object \n",
      " 14  2021 > trip code (ex. CAL 1, CAL 1A, CAL 1B, etc.) names (all)  1731 non-null   object \n",
      " 15  2021 > trip + section names (all)                               1731 non-null   object \n",
      " 16  2021 > Enrolled sibling count                                   429 non-null    float64\n",
      " 17  2021 > Status                                                   1732 non-null   object \n",
      " 18  2021 > First enrollment request date                            1732 non-null   object \n",
      " 19  2021 > First enrollment date                                    1732 non-null   object \n",
      " 20  2021 > Unenrollment date                                        227 non-null    object \n",
      " 21  2021 > Is your child attending with a friend?                   1732 non-null   object \n",
      " 22  2021 ^Student Eval                                              1622 non-null   object \n",
      " 23  2021 ^Expectations                                              1617 non-null   object \n",
      " 24  2021 ^Trip Length                                               1616 non-null   object \n",
      " 25  2021 ^^Interested in Another Trip?                              1584 non-null   object \n",
      " 26  2021 ^^^Future Trip?                                            1132 non-null   object \n",
      " 27  2021 ^^^^Leader Rating of Student                               1703 non-null   object \n",
      " 28  2022 > Status                                                   1732 non-null   object \n",
      " 29  2022 > trip code (ex. CAL 1, CAL 1A, CAL 1B, etc.) names (all)  833 non-null    object \n",
      "dtypes: float64(1), int64(5), object(24)\n",
      "memory usage: 406.1+ KB\n"
     ]
    }
   ],
   "source": [
    "df.info()"
   ]
  },
  {
   "cell_type": "code",
   "execution_count": 6,
   "metadata": {},
   "outputs": [],
   "source": [
    "df.drop('Unnamed: 0', axis=1, inplace=True)"
   ]
  },
  {
   "cell_type": "code",
   "execution_count": 7,
   "metadata": {
    "scrolled": true
   },
   "outputs": [
    {
     "data": {
      "text/plain": [
       "Camper ID                                                            0\n",
       "Age                                                                  0\n",
       "2021 > Grade                                                         0\n",
       "Gender                                                               0\n",
       "School                                                               0\n",
       "Years at camp                                                        0\n",
       "Sibling count                                                        0\n",
       "Lead source                                                          3\n",
       "Primary family city                                                  0\n",
       "Primary family state                                                 2\n",
       "Primary family country                                            1523\n",
       "Primary family zip                                                   0\n",
       "Do you have a copy of this year’s catalog?                        1668\n",
       "2021 > trip code (ex. CAL 1, CAL 1A, CAL 1B, etc.) names (all)       1\n",
       "2021 > trip + section names (all)                                    1\n",
       "2021 > Enrolled sibling count                                     1303\n",
       "2021 > Status                                                        0\n",
       "2021 > First enrollment request date                                 0\n",
       "2021 > First enrollment date                                         0\n",
       "2021 > Unenrollment date                                          1505\n",
       "2021 > Is your child attending with a friend?                        0\n",
       "2021 ^Student Eval                                                 110\n",
       "2021 ^Expectations                                                 115\n",
       "2021 ^Trip Length                                                  116\n",
       "2021 ^^Interested in Another Trip?                                 148\n",
       "2021 ^^^Future Trip?                                               600\n",
       "2021 ^^^^Leader Rating of Student                                   29\n",
       "2022 > Status                                                        0\n",
       "2022 > trip code (ex. CAL 1, CAL 1A, CAL 1B, etc.) names (all)     899\n",
       "dtype: int64"
      ]
     },
     "execution_count": 7,
     "metadata": {},
     "output_type": "execute_result"
    }
   ],
   "source": [
    "df.isna().sum()"
   ]
  },
  {
   "cell_type": "markdown",
   "metadata": {},
   "source": [
    "#### Notes on ALL Columns:\n",
    "- Camper ID: Unique student identifier (eliminates the names of all students), allows us to align camper information across multiple enrollment years.\n",
    "- Age: student's current age - NOT the age when they were enrolled, this will need to be engineered to be accurate (subtract a year or two or this will be dropped as this information is captured in the \"Current grade\" column.\n",
    "- Current grade: student's grade the year being analyzed - could this become a numeric column?\n",
    "- Gender: [OneHotEncode] binary column with values that actually represent the student's sex\n",
    "- School: [likely to DROP later?] this column contains the name of the student's school, this information is relatively granular and may not be very impactful as a feature.\n",
    "- Years at camp: if the value is 1, then this is the student's first year traveling with Moondance, and so on up to 6 meaning this is the student's 6th summer!\n",
    "- Sibling count: [DROP] This count represents the reported number of siblings a student has, whether the sib. is affiliated with Moondance or not. This count does not represent the same information as the '2021 > Enrolled sibling count' and it is likely going to be dropped. \n",
    "- Lead source:[Fill Nulls] Contains information about how a student was introduced to Moondance with various options such as 'Friend' or 'Website'. Fill the 3 nulls with 'No Source'.\n",
    "- Primary family city: Details the city where the student/family lives. MAY be able to use this later for project goal #3, or would have to be OneHotEncoded out for continued analysis in the first stage of the project.\n",
    "- Primary family country: [Fill Nulls] Details the student's country where they currently reside. Impute all the nulls to be 'United States'. This will not be helpful for stage 1 analysis, but may be used later in stages 2 or 3.\n",
    "- Primary family state: [MANUAL CLEAN] Details the students home state. One of the students is from Atlanta, meaning they are likely from Georgia, the other is an international student who doesn't have a state. Maybe make an \"INTL\" state option. ULTIMATELY - these were dropped, however this may need to change later!\n",
    "- Primary family zip: To be used for project goal #3\n",
    "- Do you have a copy of this year’s catalog?: [DROP] Initally suspected this column would show how well distributed the marketing materials (specifically the catalog) are spread/whether or not there appears to be a correlation between enrollment and catalog possession. There are too many null values for this to be a useful feature.\n",
    "- trip code & - trip + section name (all): [DROP - 'test' student, as null] Details the trip code and section the student was assigned/attened. There appears to be a 'test' student included in the data. Both of these columns contain the same information (the name of the trip), so 1 will need to be dropped if this information is to be used. \n",
    "- Enrolled sibling count [Fill nulls with zeros]: Details if a student has a family member also traveling with Moondance this summer. \n",
    "- 2021 > Status: [DROP] ALL should be 'Enrolled'\n",
    "- Unenrollment date: [CLEAN] If the student changed trips there will be a value in this column. Can be mapped to be a boolean value rather than the date.\n",
    "- 2021 > First enrollment request date: contains the first date the student attempted to enroll. This does not indicate whther or not the student was actually placed on a trip this day. IT MAY BE INTERESTING to engineer a feature that measures the number of days between first enrollment request/attempt and actual enrollment day to see if there's a correlation between the length of time it took for the child to get on a trip and their likelihood to try and come back                                 \n",
    "- 2021 > Is your child attending with a friend?: [CLEAN] A Yes/No question that details whether or not a child will be travelling with a peer. To be cast as boolean values!                   \n",
    "- ^Student Eval: [CLEAN - the \"Off the Charts\" distinction should be a '6'] This column details the rating the students gave their trip 1 - 6 (\"Off the Charts\"). 110 values appear to be missing. May need to impute these by filling in the average OR 'Missing Info'.\n",
    "- ^Expectations: This feature contains values such as 'Met expectations', 'Exceeded expectations' and 'Did not meet expectations'. May be treated as an ordinal value to be encoded? Could cast these values as numbers also, for ease of working (1, 2, 3)\n",
    "- ^Trip Length: Similar to the '^Expectations' feature, this column contains values 'Too Short', 'Just Right', 'Too Long'. May be treated as an ordinal value to be encoded? Could cast these values as numbers also, for ease of working (1, 2, 3)\n",
    "- ^^Interested in Another Trip?: Options = 'Yes', 'Not Sure', 'No'\n",
    "- ^^^Future Trip? Details the trip options that the student may be interested in for future summers!\n",
    "- ^^^^Leader Rating of Student: [CLEAN - the \"Off the Charts\" distinction should be a '6'] Details the score the leader team provided regarding the student's behavior on the trip/their overall ability to meet trip expectations.\n",
    "- 2022 > Status: This column is the 'target' as it details whether or not a student enrolled the following summer, which would indicate a positive (1) or negative (0) result.\n",
    "- 2022 > trip code: This column details the actual trip the student enrolled in for the following season. Could be an interesting exploration to see if they ACTUALLY went on one of the trips that they listed that they may be interested in attending. Is a stretch, but could be used later in goals #2 or #3, so it will remain in the dataset even if it is initally dropped for goal #1."
   ]
  },
  {
   "cell_type": "markdown",
   "metadata": {},
   "source": [
    "#### Column by Column Description/Actions"
   ]
  },
  {
   "cell_type": "markdown",
   "metadata": {},
   "source": [
    ">#### Camper ID: \n",
    "> - Unique student identifier (eliminates the names of all students), allows us to align camper information across multiple enrollment years.\n"
   ]
  },
  {
   "cell_type": "code",
   "execution_count": 8,
   "metadata": {},
   "outputs": [],
   "source": [
    "df.drop('Camper ID', axis=1, inplace=True)"
   ]
  },
  {
   "cell_type": "markdown",
   "metadata": {},
   "source": [
    ">#### Age: \n",
    "> - Student's current age - NOT the age when they were enrolled, this will need to be engineered to be accurate (subtract a year or two or this will be dropped as this information is captured in the \"Current grade\" column."
   ]
  },
  {
   "cell_type": "code",
   "execution_count": 9,
   "metadata": {},
   "outputs": [
    {
     "data": {
      "text/plain": [
       "17    431\n",
       "16    394\n",
       "18    307\n",
       "15    283\n",
       "19    123\n",
       "14    117\n",
       "13     55\n",
       "20     20\n",
       "3       1\n",
       "2       1\n",
       "Name: Age, dtype: int64"
      ]
     },
     "execution_count": 9,
     "metadata": {},
     "output_type": "execute_result"
    }
   ],
   "source": [
    "# No student should be over 18, clearly this is the current age of the student and NOT the age they were when they \n",
    "## travelled with the company. Drop this.\n",
    "df['Age'].value_counts()"
   ]
  },
  {
   "cell_type": "code",
   "execution_count": 10,
   "metadata": {},
   "outputs": [],
   "source": [
    "df.drop('Age', axis=1, inplace=True)"
   ]
  },
  {
   "cell_type": "markdown",
   "metadata": {},
   "source": [
    ">#### 2021 > Grade: \n",
    "> - Student's grade the year being analyzed - could this become a numeric column by splitting off the grade value?"
   ]
  },
  {
   "cell_type": "code",
   "execution_count": 11,
   "metadata": {},
   "outputs": [
    {
     "data": {
      "text/plain": [
       "9th     424\n",
       "10th    421\n",
       "8th     324\n",
       "11th    270\n",
       "7th     154\n",
       "12th     78\n",
       "6th      61\n",
       "Name: 2021 > Grade, dtype: int64"
      ]
     },
     "execution_count": 11,
     "metadata": {},
     "output_type": "execute_result"
    }
   ],
   "source": [
    "df['2021 > Grade'].value_counts()"
   ]
  },
  {
   "cell_type": "markdown",
   "metadata": {},
   "source": [
    ">#### Gender: \n",
    "> - [OneHotEncode] binary column with values that actually represent the student's sex\n",
    "> - appears to be about 57% females to 43% males enrolled this year. \n"
   ]
  },
  {
   "cell_type": "code",
   "execution_count": 12,
   "metadata": {},
   "outputs": [
    {
     "data": {
      "text/plain": [
       "Female    984\n",
       "Male      748\n",
       "Name: Gender, dtype: int64"
      ]
     },
     "execution_count": 12,
     "metadata": {},
     "output_type": "execute_result"
    }
   ],
   "source": [
    "df['Gender'].value_counts()"
   ]
  },
  {
   "cell_type": "code",
   "execution_count": 13,
   "metadata": {},
   "outputs": [
    {
     "data": {
      "text/plain": [
       "Female    0.568129\n",
       "Male      0.431871\n",
       "Name: Gender, dtype: float64"
      ]
     },
     "execution_count": 13,
     "metadata": {},
     "output_type": "execute_result"
    }
   ],
   "source": [
    "df['Gender'].value_counts(normalize=True)"
   ]
  },
  {
   "cell_type": "markdown",
   "metadata": {},
   "source": [
    ">#### School: \n",
    "> - This column contains the name of the student's school, this information is relatively granular and may not be very impactful as a feature.\n",
    "> - With 551 values, this feature would not likely offer significant insight if added to a model\n",
    "> - This column will be dropped."
   ]
  },
  {
   "cell_type": "code",
   "execution_count": 14,
   "metadata": {},
   "outputs": [
    {
     "data": {
      "text/plain": [
       "551"
      ]
     },
     "execution_count": 14,
     "metadata": {},
     "output_type": "execute_result"
    }
   ],
   "source": [
    "df['School'].nunique()"
   ]
  },
  {
   "cell_type": "markdown",
   "metadata": {},
   "source": [
    ">#### Years at camp: \n",
    "> - If the value is 1, then this is the student's first year traveling with teh company, and so on up to 6 meaning this is the student's 6th summer!\n",
    "> - This is a numeric column, and will be treated as such for initial analysis."
   ]
  },
  {
   "cell_type": "code",
   "execution_count": 15,
   "metadata": {
    "scrolled": false
   },
   "outputs": [
    {
     "data": {
      "text/plain": [
       "2    597\n",
       "1    494\n",
       "3    445\n",
       "4    165\n",
       "5     25\n",
       "6      6\n",
       "Name: Years at camp, dtype: int64"
      ]
     },
     "execution_count": 15,
     "metadata": {},
     "output_type": "execute_result"
    }
   ],
   "source": [
    "df['Years at camp'].value_counts()"
   ]
  },
  {
   "cell_type": "markdown",
   "metadata": {},
   "source": [
    ">#### Sibling count: \n",
    "> - This count represents the reported number of siblings a student has, whether the sib. is affiliated with Moondance or not. \n",
    "> - This count does not represent the same information as the '2021 > Enrolled sibling count' and it is likely going to be dropped. \n",
    "> - Drop this column.\n"
   ]
  },
  {
   "cell_type": "code",
   "execution_count": 16,
   "metadata": {},
   "outputs": [],
   "source": [
    "df.drop('Sibling count', axis=1, inplace=True)"
   ]
  },
  {
   "cell_type": "markdown",
   "metadata": {},
   "source": [
    ">#### Lead source:\n",
    "> - Contains information about how a student was introduced to Moondance with various options such as 'Friend' or 'Website'. \n",
    "> - Fill the 3 nulls with 'No Source'.\n"
   ]
  },
  {
   "cell_type": "code",
   "execution_count": 17,
   "metadata": {
    "scrolled": false
   },
   "outputs": [
    {
     "data": {
      "text/plain": [
       "Friend                                 1134\n",
       "Family                                  180\n",
       "Word of Mouth                           150\n",
       "I'm a Moondance Alumni                  116\n",
       "I'm a sibling of a Moondance Alumni      49\n",
       "Web Search                               31\n",
       "Social Media                             19\n",
       "Competitor                               10\n",
       "Advertisement                            10\n",
       "Catalog                                   9\n",
       "Home Presentation                         9\n",
       "School Auction                            3\n",
       "Website                                   3\n",
       "Google Ad                                 2\n",
       "Camp Advisory Service                     2\n",
       "Summer Opportunities Fair                 1\n",
       "Teacher                                   1\n",
       "Name: Lead source, dtype: int64"
      ]
     },
     "execution_count": 17,
     "metadata": {},
     "output_type": "execute_result"
    }
   ],
   "source": [
    "# OneHotEncode this out?\n",
    "df['Lead source'].value_counts()"
   ]
  },
  {
   "cell_type": "code",
   "execution_count": 18,
   "metadata": {
    "scrolled": true
   },
   "outputs": [
    {
     "data": {
      "text/html": [
       "<div>\n",
       "<style scoped>\n",
       "    .dataframe tbody tr th:only-of-type {\n",
       "        vertical-align: middle;\n",
       "    }\n",
       "\n",
       "    .dataframe tbody tr th {\n",
       "        vertical-align: top;\n",
       "    }\n",
       "\n",
       "    .dataframe thead th {\n",
       "        text-align: right;\n",
       "    }\n",
       "</style>\n",
       "<table border=\"1\" class=\"dataframe\">\n",
       "  <thead>\n",
       "    <tr style=\"text-align: right;\">\n",
       "      <th></th>\n",
       "      <th>2021 &gt; Grade</th>\n",
       "      <th>Gender</th>\n",
       "      <th>School</th>\n",
       "      <th>Years at camp</th>\n",
       "      <th>Lead source</th>\n",
       "      <th>Primary family city</th>\n",
       "      <th>Primary family state</th>\n",
       "      <th>Primary family country</th>\n",
       "      <th>Primary family zip</th>\n",
       "      <th>Do you have a copy of this year’s catalog?</th>\n",
       "      <th>...</th>\n",
       "      <th>2021 &gt; Unenrollment date</th>\n",
       "      <th>2021 &gt; Is your child attending with a friend?</th>\n",
       "      <th>2021 ^Student Eval</th>\n",
       "      <th>2021 ^Expectations</th>\n",
       "      <th>2021 ^Trip Length</th>\n",
       "      <th>2021 ^^Interested in Another Trip?</th>\n",
       "      <th>2021 ^^^Future Trip?</th>\n",
       "      <th>2021 ^^^^Leader Rating of Student</th>\n",
       "      <th>2022 &gt; Status</th>\n",
       "      <th>2022 &gt; trip code (ex. CAL 1, CAL 1A, CAL 1B, etc.) names (all)</th>\n",
       "    </tr>\n",
       "  </thead>\n",
       "  <tbody>\n",
       "    <tr>\n",
       "      <th>222</th>\n",
       "      <td>9th</td>\n",
       "      <td>Male</td>\n",
       "      <td>St. Davids School</td>\n",
       "      <td>1</td>\n",
       "      <td>NaN</td>\n",
       "      <td>Raleigh</td>\n",
       "      <td>NC</td>\n",
       "      <td>NaN</td>\n",
       "      <td>27607</td>\n",
       "      <td>NaN</td>\n",
       "      <td>...</td>\n",
       "      <td>NaN</td>\n",
       "      <td>Yes</td>\n",
       "      <td>5</td>\n",
       "      <td>Met expectations</td>\n",
       "      <td>Just Right</td>\n",
       "      <td>Yes</td>\n",
       "      <td>ICE</td>\n",
       "      <td>NaN</td>\n",
       "      <td>Alumni</td>\n",
       "      <td>NaN</td>\n",
       "    </tr>\n",
       "    <tr>\n",
       "      <th>485</th>\n",
       "      <td>9th</td>\n",
       "      <td>Male</td>\n",
       "      <td>Berkeley Preparatory School</td>\n",
       "      <td>2</td>\n",
       "      <td>NaN</td>\n",
       "      <td>Tampa</td>\n",
       "      <td>FL</td>\n",
       "      <td>NaN</td>\n",
       "      <td>33629</td>\n",
       "      <td>NaN</td>\n",
       "      <td>...</td>\n",
       "      <td>NaN</td>\n",
       "      <td>No</td>\n",
       "      <td>5</td>\n",
       "      <td>Met expectations</td>\n",
       "      <td>Just Right</td>\n",
       "      <td>Yes</td>\n",
       "      <td>FIJ</td>\n",
       "      <td>4</td>\n",
       "      <td>Enrolled</td>\n",
       "      <td>CHA 2B</td>\n",
       "    </tr>\n",
       "    <tr>\n",
       "      <th>1502</th>\n",
       "      <td>8th</td>\n",
       "      <td>Male</td>\n",
       "      <td>Virginia Episcopal School (VES)</td>\n",
       "      <td>3</td>\n",
       "      <td>NaN</td>\n",
       "      <td>Greensboro</td>\n",
       "      <td>NC</td>\n",
       "      <td>NaN</td>\n",
       "      <td>27408</td>\n",
       "      <td>NaN</td>\n",
       "      <td>...</td>\n",
       "      <td>NaN</td>\n",
       "      <td>Yes</td>\n",
       "      <td>5</td>\n",
       "      <td>Exceeded expectations</td>\n",
       "      <td>Just Right</td>\n",
       "      <td>Yes</td>\n",
       "      <td>FIJ</td>\n",
       "      <td>Off the Charts (Highest)</td>\n",
       "      <td>Alumni</td>\n",
       "      <td>NaN</td>\n",
       "    </tr>\n",
       "  </tbody>\n",
       "</table>\n",
       "<p>3 rows × 26 columns</p>\n",
       "</div>"
      ],
      "text/plain": [
       "     2021 > Grade Gender                           School  Years at camp  \\\n",
       "222           9th   Male                St. Davids School              1   \n",
       "485           9th   Male      Berkeley Preparatory School              2   \n",
       "1502          8th   Male  Virginia Episcopal School (VES)              3   \n",
       "\n",
       "     Lead source Primary family city Primary family state  \\\n",
       "222          NaN             Raleigh                   NC   \n",
       "485          NaN               Tampa                   FL   \n",
       "1502         NaN          Greensboro                   NC   \n",
       "\n",
       "     Primary family country Primary family zip  \\\n",
       "222                     NaN              27607   \n",
       "485                     NaN              33629   \n",
       "1502                    NaN              27408   \n",
       "\n",
       "     Do you have a copy of this year’s catalog?  ... 2021 > Unenrollment date  \\\n",
       "222                                         NaN  ...                      NaN   \n",
       "485                                         NaN  ...                      NaN   \n",
       "1502                                        NaN  ...                      NaN   \n",
       "\n",
       "     2021 > Is your child attending with a friend?  2021 ^Student Eval  \\\n",
       "222                                            Yes                   5   \n",
       "485                                             No                   5   \n",
       "1502                                           Yes                   5   \n",
       "\n",
       "         2021 ^Expectations 2021 ^Trip Length  \\\n",
       "222        Met expectations        Just Right   \n",
       "485        Met expectations        Just Right   \n",
       "1502  Exceeded expectations        Just Right   \n",
       "\n",
       "     2021 ^^Interested in Another Trip? 2021 ^^^Future Trip?  \\\n",
       "222                                 Yes                  ICE   \n",
       "485                                 Yes                  FIJ   \n",
       "1502                                Yes                  FIJ   \n",
       "\n",
       "     2021 ^^^^Leader Rating of Student 2022 > Status  \\\n",
       "222                                NaN        Alumni   \n",
       "485                                  4      Enrolled   \n",
       "1502          Off the Charts (Highest)        Alumni   \n",
       "\n",
       "     2022 > trip code (ex. CAL 1, CAL 1A, CAL 1B, etc.) names (all)  \n",
       "222                                                 NaN              \n",
       "485                                              CHA 2B              \n",
       "1502                                                NaN              \n",
       "\n",
       "[3 rows x 26 columns]"
      ]
     },
     "execution_count": 18,
     "metadata": {},
     "output_type": "execute_result"
    }
   ],
   "source": [
    "# Taking a look at the records with nulls:\n",
    "df.loc[df['Lead source'].isnull() == True]"
   ]
  },
  {
   "cell_type": "code",
   "execution_count": 19,
   "metadata": {},
   "outputs": [],
   "source": [
    "# Filling null values:\n",
    "df['Lead source'] = df['Lead source'].fillna(\"No Source\")"
   ]
  },
  {
   "cell_type": "code",
   "execution_count": 20,
   "metadata": {
    "scrolled": true
   },
   "outputs": [
    {
     "data": {
      "text/plain": [
       "Friend                                 1134\n",
       "Family                                  180\n",
       "Word of Mouth                           150\n",
       "I'm a Moondance Alumni                  116\n",
       "I'm a sibling of a Moondance Alumni      49\n",
       "Web Search                               31\n",
       "Social Media                             19\n",
       "Competitor                               10\n",
       "Advertisement                            10\n",
       "Catalog                                   9\n",
       "Home Presentation                         9\n",
       "School Auction                            3\n",
       "No Source                                 3\n",
       "Website                                   3\n",
       "Google Ad                                 2\n",
       "Camp Advisory Service                     2\n",
       "Summer Opportunities Fair                 1\n",
       "Teacher                                   1\n",
       "Name: Lead source, dtype: int64"
      ]
     },
     "execution_count": 20,
     "metadata": {},
     "output_type": "execute_result"
    }
   ],
   "source": [
    "# Checking that the 3 null values were appropriately filled:\n",
    "df['Lead source'].value_counts()"
   ]
  },
  {
   "cell_type": "markdown",
   "metadata": {},
   "source": [
    ">#### Primary family city: \n",
    "> - Details the city where the student/family lives. \n",
    "> - May be able to use this later for project goal #3, or would have to be OneHotEncoded out for continued analysis in the first stage of the project.\n",
    "> - With 308 values, this is will be a difficult feature to gain significant insight from in modeling."
   ]
  },
  {
   "cell_type": "code",
   "execution_count": 21,
   "metadata": {},
   "outputs": [
    {
     "data": {
      "text/plain": [
       "308"
      ]
     },
     "execution_count": 21,
     "metadata": {},
     "output_type": "execute_result"
    }
   ],
   "source": [
    "df['Primary family city'].nunique()"
   ]
  },
  {
   "cell_type": "markdown",
   "metadata": {},
   "source": [
    ">#### Primary family country: \n",
    "> - Details the student's country where they currently reside. \n",
    "> - Fill all the nulls with 'United States', as this is the most frequent AND accurate value to replace here. \n",
    "> - This will not be helpful for stage 1 analysis, but may be used later in stages 2 or 3.\n",
    "> - Likely to drop this column, as so many students are from the US. "
   ]
  },
  {
   "cell_type": "code",
   "execution_count": 22,
   "metadata": {},
   "outputs": [
    {
     "data": {
      "text/plain": [
       "United States               202\n",
       "United Kingdom                3\n",
       "Canada                        2\n",
       "Northern Mariana Islands      1\n",
       "INTL                          1\n",
       "Name: Primary family country, dtype: int64"
      ]
     },
     "execution_count": 22,
     "metadata": {},
     "output_type": "execute_result"
    }
   ],
   "source": [
    "df['Primary family country'].value_counts()"
   ]
  },
  {
   "cell_type": "code",
   "execution_count": 23,
   "metadata": {},
   "outputs": [],
   "source": [
    "# Filling nulls:\n",
    "df['Primary family country'] = df['Primary family country'].fillna('United States')"
   ]
  },
  {
   "cell_type": "code",
   "execution_count": 24,
   "metadata": {
    "scrolled": true
   },
   "outputs": [
    {
     "data": {
      "text/plain": [
       "United States               1725\n",
       "United Kingdom                 3\n",
       "Canada                         2\n",
       "Northern Mariana Islands       1\n",
       "INTL                           1\n",
       "Name: Primary family country, dtype: int64"
      ]
     },
     "execution_count": 24,
     "metadata": {},
     "output_type": "execute_result"
    }
   ],
   "source": [
    "# Checking the nulls were properly filled:\n",
    "df['Primary family country'].value_counts()"
   ]
  },
  {
   "cell_type": "markdown",
   "metadata": {},
   "source": [
    ">#### Primary family state: \n",
    "> - [MANUAL CLEAN] Details the students home state. \n",
    "> - One of the students with a null value in this column is from Atlanta, meaning they are likely from Georgia, the other is an international student who doesn't have a state. \n",
    "> - Maybe make an \"INTL\" state option. \n",
    "> - ULTIMATELY - these were dropped, however this may need to change later!"
   ]
  },
  {
   "cell_type": "code",
   "execution_count": 25,
   "metadata": {},
   "outputs": [
    {
     "data": {
      "text/html": [
       "<div>\n",
       "<style scoped>\n",
       "    .dataframe tbody tr th:only-of-type {\n",
       "        vertical-align: middle;\n",
       "    }\n",
       "\n",
       "    .dataframe tbody tr th {\n",
       "        vertical-align: top;\n",
       "    }\n",
       "\n",
       "    .dataframe thead th {\n",
       "        text-align: right;\n",
       "    }\n",
       "</style>\n",
       "<table border=\"1\" class=\"dataframe\">\n",
       "  <thead>\n",
       "    <tr style=\"text-align: right;\">\n",
       "      <th></th>\n",
       "      <th>Primary family zip</th>\n",
       "      <th>Primary family city</th>\n",
       "      <th>Primary family country</th>\n",
       "    </tr>\n",
       "  </thead>\n",
       "  <tbody>\n",
       "    <tr>\n",
       "      <th>483</th>\n",
       "      <td>30342</td>\n",
       "      <td>Atlanta</td>\n",
       "      <td>United States</td>\n",
       "    </tr>\n",
       "    <tr>\n",
       "      <th>998</th>\n",
       "      <td>238309</td>\n",
       "      <td>Singapore</td>\n",
       "      <td>INTL</td>\n",
       "    </tr>\n",
       "  </tbody>\n",
       "</table>\n",
       "</div>"
      ],
      "text/plain": [
       "    Primary family zip Primary family city Primary family country\n",
       "483              30342             Atlanta          United States\n",
       "998             238309           Singapore                   INTL"
      ]
     },
     "execution_count": 25,
     "metadata": {},
     "output_type": "execute_result"
    }
   ],
   "source": [
    "# Add Georgia? And leave the student from Singapore as an INTL student\n",
    "df.loc[df['Primary family state'].isnull() == True, \n",
    "       ['Primary family zip', 'Primary family city', 'Primary family country']]"
   ]
  },
  {
   "cell_type": "markdown",
   "metadata": {},
   "source": [
    ">#### Primary family zip: \n",
    "> - To be used for project goal #3\n",
    "> - Too many unique values to gain insight from in initial modeling.\n",
    "> - To be dropped before initial modeling begins."
   ]
  },
  {
   "cell_type": "code",
   "execution_count": 26,
   "metadata": {},
   "outputs": [
    {
     "data": {
      "text/plain": [
       "478"
      ]
     },
     "execution_count": 26,
     "metadata": {},
     "output_type": "execute_result"
    }
   ],
   "source": [
    "df['Primary family zip'].nunique()"
   ]
  },
  {
   "cell_type": "markdown",
   "metadata": {},
   "source": [
    ">#### Do you have a copy of this year’s catalog?: \n",
    "> - Initally suspected this column would show how well distributed the marketing materials (specifically the catalog) are spread/whether or not there appears to be a correlation between enrollment and catalog possession. \n",
    "> - There are too many null values for this to be a useful feature, and no way to know how to properly fill in the nulls.\n",
    "> - This can be dropped altogether."
   ]
  },
  {
   "cell_type": "code",
   "execution_count": 27,
   "metadata": {},
   "outputs": [
    {
     "data": {
      "text/plain": [
       "No     38\n",
       "Yes    26\n",
       "Name: Do you have a copy of this year’s catalog?, dtype: int64"
      ]
     },
     "execution_count": 27,
     "metadata": {},
     "output_type": "execute_result"
    }
   ],
   "source": [
    "# With the majority of this question being left blank anyhow, it's not helpful to include this feature.\n",
    "df['Do you have a copy of this year’s catalog?'].value_counts()"
   ]
  },
  {
   "cell_type": "code",
   "execution_count": 28,
   "metadata": {
    "scrolled": true
   },
   "outputs": [
    {
     "data": {
      "text/plain": [
       "15      I'm a Moondance Alumni\n",
       "17      I'm a Moondance Alumni\n",
       "22      I'm a Moondance Alumni\n",
       "66      I'm a Moondance Alumni\n",
       "71                      Friend\n",
       "                 ...          \n",
       "1602    I'm a Moondance Alumni\n",
       "1609    I'm a Moondance Alumni\n",
       "1626    I'm a Moondance Alumni\n",
       "1653    I'm a Moondance Alumni\n",
       "1654    I'm a Moondance Alumni\n",
       "Name: Lead source, Length: 64, dtype: object"
      ]
     },
     "execution_count": 28,
     "metadata": {},
     "output_type": "execute_result"
    }
   ],
   "source": [
    "# Analyzing the 'Lead source' column to attempt to gain more insight about this column, to no avail.\n",
    "df.loc[df['Do you have a copy of this year’s catalog?'].isnull() == False, 'Lead source']"
   ]
  },
  {
   "cell_type": "code",
   "execution_count": 29,
   "metadata": {},
   "outputs": [],
   "source": [
    "df.drop('Do you have a copy of this year’s catalog?', axis=1, inplace=True)"
   ]
  },
  {
   "cell_type": "markdown",
   "metadata": {},
   "source": [
    ">#### trip code & - trip + section name (all): \n",
    "> - Details the trip code and section the student was assigned/attened. For instance the California 1 trip is coded as CAL 1 in the trip code column.\n",
    "> - There appears to be a 'test' student included in the data. \n",
    "> - Both of these columns contain the same information (the name of the trip), so 1 will need to be dropped if this information is to be used. "
   ]
  },
  {
   "cell_type": "code",
   "execution_count": 30,
   "metadata": {},
   "outputs": [
    {
     "data": {
      "text/html": [
       "<div>\n",
       "<style scoped>\n",
       "    .dataframe tbody tr th:only-of-type {\n",
       "        vertical-align: middle;\n",
       "    }\n",
       "\n",
       "    .dataframe tbody tr th {\n",
       "        vertical-align: top;\n",
       "    }\n",
       "\n",
       "    .dataframe thead th {\n",
       "        text-align: right;\n",
       "    }\n",
       "</style>\n",
       "<table border=\"1\" class=\"dataframe\">\n",
       "  <thead>\n",
       "    <tr style=\"text-align: right;\">\n",
       "      <th></th>\n",
       "      <th>2021 &gt; Grade</th>\n",
       "      <th>Gender</th>\n",
       "      <th>School</th>\n",
       "      <th>Years at camp</th>\n",
       "      <th>Lead source</th>\n",
       "      <th>Primary family city</th>\n",
       "      <th>Primary family state</th>\n",
       "      <th>Primary family country</th>\n",
       "      <th>Primary family zip</th>\n",
       "      <th>2021 &gt; trip code (ex. CAL 1, CAL 1A, CAL 1B, etc.) names (all)</th>\n",
       "      <th>...</th>\n",
       "      <th>2021 &gt; Unenrollment date</th>\n",
       "      <th>2021 &gt; Is your child attending with a friend?</th>\n",
       "      <th>2021 ^Student Eval</th>\n",
       "      <th>2021 ^Expectations</th>\n",
       "      <th>2021 ^Trip Length</th>\n",
       "      <th>2021 ^^Interested in Another Trip?</th>\n",
       "      <th>2021 ^^^Future Trip?</th>\n",
       "      <th>2021 ^^^^Leader Rating of Student</th>\n",
       "      <th>2022 &gt; Status</th>\n",
       "      <th>2022 &gt; trip code (ex. CAL 1, CAL 1A, CAL 1B, etc.) names (all)</th>\n",
       "    </tr>\n",
       "  </thead>\n",
       "  <tbody>\n",
       "    <tr>\n",
       "      <th>1525</th>\n",
       "      <td>9th</td>\n",
       "      <td>Male</td>\n",
       "      <td>test</td>\n",
       "      <td>4</td>\n",
       "      <td>Catalog</td>\n",
       "      <td>Athens</td>\n",
       "      <td>GA</td>\n",
       "      <td>United States</td>\n",
       "      <td>30606-4133</td>\n",
       "      <td>NaN</td>\n",
       "      <td>...</td>\n",
       "      <td>01-27-2022, 03-02-2022, 05-08-2022</td>\n",
       "      <td>Yes</td>\n",
       "      <td>NaN</td>\n",
       "      <td>NaN</td>\n",
       "      <td>NaN</td>\n",
       "      <td>NaN</td>\n",
       "      <td>NaN</td>\n",
       "      <td>NaN</td>\n",
       "      <td>Enrolled</td>\n",
       "      <td>NaN</td>\n",
       "    </tr>\n",
       "  </tbody>\n",
       "</table>\n",
       "<p>1 rows × 25 columns</p>\n",
       "</div>"
      ],
      "text/plain": [
       "     2021 > Grade Gender School  Years at camp Lead source  \\\n",
       "1525          9th   Male   test              4     Catalog   \n",
       "\n",
       "     Primary family city Primary family state Primary family country  \\\n",
       "1525              Athens                   GA          United States   \n",
       "\n",
       "     Primary family zip  \\\n",
       "1525         30606-4133   \n",
       "\n",
       "     2021 > trip code (ex. CAL 1, CAL 1A, CAL 1B, etc.) names (all)  ...  \\\n",
       "1525                                                NaN              ...   \n",
       "\n",
       "                2021 > Unenrollment date  \\\n",
       "1525  01-27-2022, 03-02-2022, 05-08-2022   \n",
       "\n",
       "      2021 > Is your child attending with a friend? 2021 ^Student Eval  \\\n",
       "1525                                            Yes                NaN   \n",
       "\n",
       "     2021 ^Expectations 2021 ^Trip Length 2021 ^^Interested in Another Trip?  \\\n",
       "1525                NaN               NaN                                NaN   \n",
       "\n",
       "     2021 ^^^Future Trip? 2021 ^^^^Leader Rating of Student 2022 > Status  \\\n",
       "1525                  NaN                               NaN      Enrolled   \n",
       "\n",
       "     2022 > trip code (ex. CAL 1, CAL 1A, CAL 1B, etc.) names (all)  \n",
       "1525                                                NaN              \n",
       "\n",
       "[1 rows x 25 columns]"
      ]
     },
     "execution_count": 30,
     "metadata": {},
     "output_type": "execute_result"
    }
   ],
   "source": [
    "# This appears to be a 'test' student and will need to be dropped.\n",
    "df.loc[df['2021 > trip code (ex. CAL 1, CAL 1A, CAL 1B, etc.) names (all)'].isnull() == True]"
   ]
  },
  {
   "cell_type": "code",
   "execution_count": 31,
   "metadata": {},
   "outputs": [],
   "source": [
    "# Pulling the index value from the test student\n",
    "test_drop = df.loc[df['2021 > trip code (ex. CAL 1, CAL 1A, CAL 1B, etc.) names (all)'].isnull() == True].index"
   ]
  },
  {
   "cell_type": "code",
   "execution_count": 32,
   "metadata": {},
   "outputs": [],
   "source": [
    "# Dropping the test student via index\n",
    "df.drop(test_drop, inplace=True)"
   ]
  },
  {
   "cell_type": "code",
   "execution_count": 33,
   "metadata": {
    "scrolled": true
   },
   "outputs": [
    {
     "data": {
      "text/plain": [
       "2021 > Grade                                                         0\n",
       "Gender                                                               0\n",
       "School                                                               0\n",
       "Years at camp                                                        0\n",
       "Lead source                                                          0\n",
       "Primary family city                                                  0\n",
       "Primary family state                                                 2\n",
       "Primary family country                                               0\n",
       "Primary family zip                                                   0\n",
       "2021 > trip code (ex. CAL 1, CAL 1A, CAL 1B, etc.) names (all)       0\n",
       "2021 > trip + section names (all)                                    0\n",
       "2021 > Enrolled sibling count                                     1302\n",
       "2021 > Status                                                        0\n",
       "2021 > First enrollment request date                                 0\n",
       "2021 > First enrollment date                                         0\n",
       "2021 > Unenrollment date                                          1505\n",
       "2021 > Is your child attending with a friend?                        0\n",
       "2021 ^Student Eval                                                 109\n",
       "2021 ^Expectations                                                 114\n",
       "2021 ^Trip Length                                                  115\n",
       "2021 ^^Interested in Another Trip?                                 147\n",
       "2021 ^^^Future Trip?                                               599\n",
       "2021 ^^^^Leader Rating of Student                                   28\n",
       "2022 > Status                                                        0\n",
       "2022 > trip code (ex. CAL 1, CAL 1A, CAL 1B, etc.) names (all)     898\n",
       "dtype: int64"
      ]
     },
     "execution_count": 33,
     "metadata": {},
     "output_type": "execute_result"
    }
   ],
   "source": [
    "# Checking that the test student was properly dropped\n",
    "df.isna().sum()"
   ]
  },
  {
   "cell_type": "code",
   "execution_count": 34,
   "metadata": {},
   "outputs": [],
   "source": [
    "df.drop('2021 > trip code (ex. CAL 1, CAL 1A, CAL 1B, etc.) names (all)', axis=1, inplace=True)"
   ]
  },
  {
   "cell_type": "markdown",
   "metadata": {},
   "source": [
    ">#### Enrolled sibling count:\n",
    "> - Details if a student has a family member also traveling with Moondance this summer.\n",
    "> - Fill nulls with zeros!\n",
    "> - Treat this column as a numeric variable."
   ]
  },
  {
   "cell_type": "code",
   "execution_count": 35,
   "metadata": {},
   "outputs": [
    {
     "data": {
      "text/plain": [
       "1.0    384\n",
       "2.0     45\n",
       "Name: 2021 > Enrolled sibling count, dtype: int64"
      ]
     },
     "execution_count": 35,
     "metadata": {},
     "output_type": "execute_result"
    }
   ],
   "source": [
    "df['2021 > Enrolled sibling count'].value_counts()"
   ]
  },
  {
   "cell_type": "code",
   "execution_count": 36,
   "metadata": {},
   "outputs": [],
   "source": [
    "# Filling nulls with zero to indicate that no sibling was enrolled that season.\n",
    "df['2021 > Enrolled sibling count'] = df['2021 > Enrolled sibling count'].fillna(0)"
   ]
  },
  {
   "cell_type": "code",
   "execution_count": 37,
   "metadata": {
    "scrolled": true
   },
   "outputs": [
    {
     "data": {
      "text/plain": [
       "0.0    1302\n",
       "1.0     384\n",
       "2.0      45\n",
       "Name: 2021 > Enrolled sibling count, dtype: int64"
      ]
     },
     "execution_count": 37,
     "metadata": {},
     "output_type": "execute_result"
    }
   ],
   "source": [
    "# Checking that all nulls were filled:\n",
    "df['2021 > Enrolled sibling count'].value_counts()"
   ]
  },
  {
   "cell_type": "code",
   "execution_count": 38,
   "metadata": {},
   "outputs": [
    {
     "data": {
      "text/plain": [
       "0.0    0.752166\n",
       "1.0    0.221837\n",
       "2.0    0.025997\n",
       "Name: 2021 > Enrolled sibling count, dtype: float64"
      ]
     },
     "execution_count": 38,
     "metadata": {},
     "output_type": "execute_result"
    }
   ],
   "source": [
    "# Analyzing the percentage of students travelling with or without siblings:\n",
    "df['2021 > Enrolled sibling count'].value_counts(normalize=True)"
   ]
  },
  {
   "cell_type": "markdown",
   "metadata": {},
   "source": [
    ">#### 2021 > Status: \n",
    "> - Dropping this column as it appears ALL students are listed as \"Enrolled\""
   ]
  },
  {
   "cell_type": "code",
   "execution_count": 39,
   "metadata": {},
   "outputs": [
    {
     "data": {
      "text/plain": [
       "Enrolled    1731\n",
       "Name: 2021 > Status, dtype: int64"
      ]
     },
     "execution_count": 39,
     "metadata": {},
     "output_type": "execute_result"
    }
   ],
   "source": [
    "df['2021 > Status'].value_counts()"
   ]
  },
  {
   "cell_type": "code",
   "execution_count": 40,
   "metadata": {},
   "outputs": [],
   "source": [
    "# Dropping the column from the dataframe\n",
    "df.drop('2021 > Status', axis=1, inplace=True)"
   ]
  },
  {
   "cell_type": "markdown",
   "metadata": {},
   "source": [
    ">#### 2021 > First enrollment request date: \n",
    "> - Contains the first date the student attempted to enroll. This does not indicate whther or not the student was actually placed on a trip this day. \n",
    "> - IT MAY BE INTERESTING to engineer a feature that measures the number of days between first enrollment request/attempt and actual enrollment day to see if there's a correlation between the length of time it took for the child to get on a trip and their likelihood to try and come back                                 \n",
    "> - For initial modeling, this column will be dropped."
   ]
  },
  {
   "cell_type": "code",
   "execution_count": 41,
   "metadata": {},
   "outputs": [],
   "source": [
    "df.drop('2021 > First enrollment request date', axis=1, inplace=True)"
   ]
  },
  {
   "cell_type": "markdown",
   "metadata": {},
   "source": [
    ">#### 2021 > First enrollment date:\n",
    "> - See comments above, for the potential engineering of an additional column that could detail how long it took for a child to be enrolled after their first attempt to sign up for a trip."
   ]
  },
  {
   "cell_type": "code",
   "execution_count": 42,
   "metadata": {},
   "outputs": [],
   "source": [
    "df.drop('2021 > First enrollment date', axis=1, inplace=True)"
   ]
  },
  {
   "cell_type": "markdown",
   "metadata": {},
   "source": [
    ">#### Unenrollment date --> Changed Trip: \n",
    "> - If the student changed trips there will be a date value in this column denoting when that child changed trips. \n",
    "> - Can be mapped to be a boolean value rather than the date.\n",
    "> - Will create a new column called \"Changed Trip\" to indicate if a student changed trips (1) or not (0)."
   ]
  },
  {
   "cell_type": "code",
   "execution_count": 43,
   "metadata": {
    "scrolled": true
   },
   "outputs": [
    {
     "data": {
      "text/html": [
       "<div>\n",
       "<style scoped>\n",
       "    .dataframe tbody tr th:only-of-type {\n",
       "        vertical-align: middle;\n",
       "    }\n",
       "\n",
       "    .dataframe tbody tr th {\n",
       "        vertical-align: top;\n",
       "    }\n",
       "\n",
       "    .dataframe thead th {\n",
       "        text-align: right;\n",
       "    }\n",
       "</style>\n",
       "<table border=\"1\" class=\"dataframe\">\n",
       "  <thead>\n",
       "    <tr style=\"text-align: right;\">\n",
       "      <th></th>\n",
       "      <th>2021 &gt; Grade</th>\n",
       "      <th>Gender</th>\n",
       "      <th>School</th>\n",
       "      <th>Years at camp</th>\n",
       "      <th>Lead source</th>\n",
       "      <th>Primary family city</th>\n",
       "      <th>Primary family state</th>\n",
       "      <th>Primary family country</th>\n",
       "      <th>Primary family zip</th>\n",
       "      <th>2021 &gt; trip + section names (all)</th>\n",
       "      <th>...</th>\n",
       "      <th>2021 &gt; Unenrollment date</th>\n",
       "      <th>2021 &gt; Is your child attending with a friend?</th>\n",
       "      <th>2021 ^Student Eval</th>\n",
       "      <th>2021 ^Expectations</th>\n",
       "      <th>2021 ^Trip Length</th>\n",
       "      <th>2021 ^^Interested in Another Trip?</th>\n",
       "      <th>2021 ^^^Future Trip?</th>\n",
       "      <th>2021 ^^^^Leader Rating of Student</th>\n",
       "      <th>2022 &gt; Status</th>\n",
       "      <th>2022 &gt; trip code (ex. CAL 1, CAL 1A, CAL 1B, etc.) names (all)</th>\n",
       "    </tr>\n",
       "  </thead>\n",
       "  <tbody>\n",
       "    <tr>\n",
       "      <th>6</th>\n",
       "      <td>11th</td>\n",
       "      <td>Female</td>\n",
       "      <td>North Atlanta High School</td>\n",
       "      <td>1</td>\n",
       "      <td>Friend</td>\n",
       "      <td>Atlanta</td>\n",
       "      <td>GA</td>\n",
       "      <td>United States</td>\n",
       "      <td>30305</td>\n",
       "      <td>Kilimanjaro 3</td>\n",
       "      <td>...</td>\n",
       "      <td>05-11-2022</td>\n",
       "      <td>No</td>\n",
       "      <td>5</td>\n",
       "      <td>Exceeded expectations</td>\n",
       "      <td>Just Right</td>\n",
       "      <td>Not Sure</td>\n",
       "      <td>THA; CHA; KEZ; MYS</td>\n",
       "      <td>5</td>\n",
       "      <td>Alumni</td>\n",
       "      <td>NaN</td>\n",
       "    </tr>\n",
       "    <tr>\n",
       "      <th>14</th>\n",
       "      <td>8th</td>\n",
       "      <td>Female</td>\n",
       "      <td>Park City High School</td>\n",
       "      <td>3</td>\n",
       "      <td>Word of Mouth</td>\n",
       "      <td>Park City</td>\n",
       "      <td>UT</td>\n",
       "      <td>United States</td>\n",
       "      <td>84060</td>\n",
       "      <td>Iceland 3</td>\n",
       "      <td>...</td>\n",
       "      <td>11-08-2021</td>\n",
       "      <td>No</td>\n",
       "      <td>5</td>\n",
       "      <td>Met expectations</td>\n",
       "      <td>Just Right</td>\n",
       "      <td>Yes</td>\n",
       "      <td>SAF, FIJ</td>\n",
       "      <td>5</td>\n",
       "      <td>Enrolled</td>\n",
       "      <td>SAF 2B</td>\n",
       "    </tr>\n",
       "    <tr>\n",
       "      <th>19</th>\n",
       "      <td>9th</td>\n",
       "      <td>Male</td>\n",
       "      <td>Summit High School</td>\n",
       "      <td>1</td>\n",
       "      <td>Friend</td>\n",
       "      <td>Bend</td>\n",
       "      <td>OR</td>\n",
       "      <td>United States</td>\n",
       "      <td>97702</td>\n",
       "      <td>FIJ 3</td>\n",
       "      <td>...</td>\n",
       "      <td>05-03-2022, 07-11-2022</td>\n",
       "      <td>No</td>\n",
       "      <td>Off the Charts (Highest)</td>\n",
       "      <td>Exceeded expectations</td>\n",
       "      <td>Just Right</td>\n",
       "      <td>Yes</td>\n",
       "      <td>NaN</td>\n",
       "      <td>5</td>\n",
       "      <td>Alumni</td>\n",
       "      <td>NaN</td>\n",
       "    </tr>\n",
       "    <tr>\n",
       "      <th>29</th>\n",
       "      <td>11th</td>\n",
       "      <td>Male</td>\n",
       "      <td>St Andrews Episcopal</td>\n",
       "      <td>3</td>\n",
       "      <td>Friend</td>\n",
       "      <td>Austin</td>\n",
       "      <td>TX</td>\n",
       "      <td>United States</td>\n",
       "      <td>78735-1470</td>\n",
       "      <td>Kenya + Zanzibar 1</td>\n",
       "      <td>...</td>\n",
       "      <td>10-12-2021</td>\n",
       "      <td>No</td>\n",
       "      <td>5</td>\n",
       "      <td>Met expectations</td>\n",
       "      <td>Just Right</td>\n",
       "      <td>Yes</td>\n",
       "      <td>KIL, THA, MYS</td>\n",
       "      <td>5</td>\n",
       "      <td>Alumni</td>\n",
       "      <td>NaN</td>\n",
       "    </tr>\n",
       "    <tr>\n",
       "      <th>31</th>\n",
       "      <td>12th</td>\n",
       "      <td>Female</td>\n",
       "      <td>Academy of Richmond County</td>\n",
       "      <td>4</td>\n",
       "      <td>Friend</td>\n",
       "      <td>Augusta</td>\n",
       "      <td>GA</td>\n",
       "      <td>United States</td>\n",
       "      <td>30909</td>\n",
       "      <td>Mystery Trip 1</td>\n",
       "      <td>...</td>\n",
       "      <td>08-31-2021</td>\n",
       "      <td>No</td>\n",
       "      <td>Off the Charts (Highest)</td>\n",
       "      <td>Exceeded expectations</td>\n",
       "      <td>Just Right</td>\n",
       "      <td>No</td>\n",
       "      <td>NaN</td>\n",
       "      <td>Off the Charts (Highest)</td>\n",
       "      <td>Alumni</td>\n",
       "      <td>NaN</td>\n",
       "    </tr>\n",
       "    <tr>\n",
       "      <th>...</th>\n",
       "      <td>...</td>\n",
       "      <td>...</td>\n",
       "      <td>...</td>\n",
       "      <td>...</td>\n",
       "      <td>...</td>\n",
       "      <td>...</td>\n",
       "      <td>...</td>\n",
       "      <td>...</td>\n",
       "      <td>...</td>\n",
       "      <td>...</td>\n",
       "      <td>...</td>\n",
       "      <td>...</td>\n",
       "      <td>...</td>\n",
       "      <td>...</td>\n",
       "      <td>...</td>\n",
       "      <td>...</td>\n",
       "      <td>...</td>\n",
       "      <td>...</td>\n",
       "      <td>...</td>\n",
       "      <td>...</td>\n",
       "      <td>...</td>\n",
       "    </tr>\n",
       "    <tr>\n",
       "      <th>1703</th>\n",
       "      <td>8th</td>\n",
       "      <td>Female</td>\n",
       "      <td>Athens Academy</td>\n",
       "      <td>3</td>\n",
       "      <td>Word of Mouth</td>\n",
       "      <td>Athens</td>\n",
       "      <td>GA</td>\n",
       "      <td>United States</td>\n",
       "      <td>30606</td>\n",
       "      <td>Iceland 1</td>\n",
       "      <td>...</td>\n",
       "      <td>01-20-2022</td>\n",
       "      <td>No</td>\n",
       "      <td>5</td>\n",
       "      <td>Exceeded expectations</td>\n",
       "      <td>Just Right</td>\n",
       "      <td>Yes</td>\n",
       "      <td>SERVICE</td>\n",
       "      <td>Off the Charts (Highest)</td>\n",
       "      <td>Enrolled</td>\n",
       "      <td>SPM 1B</td>\n",
       "    </tr>\n",
       "    <tr>\n",
       "      <th>1710</th>\n",
       "      <td>9th</td>\n",
       "      <td>Male</td>\n",
       "      <td>Charlottesville Day School</td>\n",
       "      <td>2</td>\n",
       "      <td>Friend</td>\n",
       "      <td>Charlottesville</td>\n",
       "      <td>VA</td>\n",
       "      <td>United States</td>\n",
       "      <td>22903</td>\n",
       "      <td>FIJ 3</td>\n",
       "      <td>...</td>\n",
       "      <td>03-11-2022</td>\n",
       "      <td>Yes</td>\n",
       "      <td>Off the Charts (Highest)</td>\n",
       "      <td>Met expectations</td>\n",
       "      <td>Just Right</td>\n",
       "      <td>Not Sure</td>\n",
       "      <td>HWI</td>\n",
       "      <td>5</td>\n",
       "      <td>Alumni</td>\n",
       "      <td>NaN</td>\n",
       "    </tr>\n",
       "    <tr>\n",
       "      <th>1719</th>\n",
       "      <td>10th</td>\n",
       "      <td>Female</td>\n",
       "      <td>The Westminster Schools</td>\n",
       "      <td>2</td>\n",
       "      <td>Friend</td>\n",
       "      <td>Atlanta</td>\n",
       "      <td>GA</td>\n",
       "      <td>United States</td>\n",
       "      <td>30305</td>\n",
       "      <td>Northern Lights 1</td>\n",
       "      <td>...</td>\n",
       "      <td>11-16-2021</td>\n",
       "      <td>No</td>\n",
       "      <td>5</td>\n",
       "      <td>Exceeded expectations</td>\n",
       "      <td>Just Right</td>\n",
       "      <td>Not Sure</td>\n",
       "      <td>NOR</td>\n",
       "      <td>5</td>\n",
       "      <td>Enrolled</td>\n",
       "      <td>CHA 4B</td>\n",
       "    </tr>\n",
       "    <tr>\n",
       "      <th>1721</th>\n",
       "      <td>9th</td>\n",
       "      <td>Female</td>\n",
       "      <td>RJ Reynolds High School</td>\n",
       "      <td>2</td>\n",
       "      <td>Friend</td>\n",
       "      <td>Winston-Salem</td>\n",
       "      <td>NC</td>\n",
       "      <td>United States</td>\n",
       "      <td>27106</td>\n",
       "      <td>Spain + Morocco 1</td>\n",
       "      <td>...</td>\n",
       "      <td>11-19-2021</td>\n",
       "      <td>Yes</td>\n",
       "      <td>Off the Charts (Highest)</td>\n",
       "      <td>Exceeded expectations</td>\n",
       "      <td>Just Right</td>\n",
       "      <td>Yes</td>\n",
       "      <td>THA, FIJ, CHA</td>\n",
       "      <td>4</td>\n",
       "      <td>Enrolled</td>\n",
       "      <td>KEZ 1B</td>\n",
       "    </tr>\n",
       "    <tr>\n",
       "      <th>1727</th>\n",
       "      <td>8th</td>\n",
       "      <td>Female</td>\n",
       "      <td>Battle Ground Academy</td>\n",
       "      <td>3</td>\n",
       "      <td>Friend</td>\n",
       "      <td>Franklin</td>\n",
       "      <td>TN</td>\n",
       "      <td>United States</td>\n",
       "      <td>37064</td>\n",
       "      <td>British Columbia 2</td>\n",
       "      <td>...</td>\n",
       "      <td>11-03-2021</td>\n",
       "      <td>No</td>\n",
       "      <td>5</td>\n",
       "      <td>Exceeded expectations</td>\n",
       "      <td>Just Right</td>\n",
       "      <td>Yes</td>\n",
       "      <td>FIJ</td>\n",
       "      <td>Off the Charts (Highest)</td>\n",
       "      <td>Enrolled</td>\n",
       "      <td>BCR 2A</td>\n",
       "    </tr>\n",
       "  </tbody>\n",
       "</table>\n",
       "<p>226 rows × 21 columns</p>\n",
       "</div>"
      ],
      "text/plain": [
       "     2021 > Grade  Gender                      School  Years at camp  \\\n",
       "6            11th  Female   North Atlanta High School              1   \n",
       "14            8th  Female       Park City High School              3   \n",
       "19            9th    Male          Summit High School              1   \n",
       "29           11th    Male        St Andrews Episcopal              3   \n",
       "31           12th  Female  Academy of Richmond County              4   \n",
       "...           ...     ...                         ...            ...   \n",
       "1703          8th  Female              Athens Academy              3   \n",
       "1710          9th    Male  Charlottesville Day School              2   \n",
       "1719         10th  Female     The Westminster Schools              2   \n",
       "1721          9th  Female     RJ Reynolds High School              2   \n",
       "1727          8th  Female       Battle Ground Academy              3   \n",
       "\n",
       "        Lead source Primary family city Primary family state  \\\n",
       "6            Friend             Atlanta                   GA   \n",
       "14    Word of Mouth           Park City                   UT   \n",
       "19           Friend                Bend                   OR   \n",
       "29           Friend              Austin                   TX   \n",
       "31           Friend             Augusta                   GA   \n",
       "...             ...                 ...                  ...   \n",
       "1703  Word of Mouth              Athens                   GA   \n",
       "1710         Friend     Charlottesville                   VA   \n",
       "1719         Friend             Atlanta                   GA   \n",
       "1721         Friend       Winston-Salem                   NC   \n",
       "1727         Friend            Franklin                   TN   \n",
       "\n",
       "     Primary family country Primary family zip  \\\n",
       "6             United States              30305   \n",
       "14            United States              84060   \n",
       "19            United States              97702   \n",
       "29            United States         78735-1470   \n",
       "31            United States              30909   \n",
       "...                     ...                ...   \n",
       "1703          United States              30606   \n",
       "1710          United States              22903   \n",
       "1719          United States              30305   \n",
       "1721          United States              27106   \n",
       "1727          United States              37064   \n",
       "\n",
       "     2021 > trip + section names (all)  ...  2021 > Unenrollment date  \\\n",
       "6                        Kilimanjaro 3  ...                05-11-2022   \n",
       "14                           Iceland 3  ...                11-08-2021   \n",
       "19                               FIJ 3  ...    05-03-2022, 07-11-2022   \n",
       "29                  Kenya + Zanzibar 1  ...                10-12-2021   \n",
       "31                      Mystery Trip 1  ...                08-31-2021   \n",
       "...                                ...  ...                       ...   \n",
       "1703                         Iceland 1  ...                01-20-2022   \n",
       "1710                             FIJ 3  ...                03-11-2022   \n",
       "1719                 Northern Lights 1  ...                11-16-2021   \n",
       "1721                 Spain + Morocco 1  ...                11-19-2021   \n",
       "1727                British Columbia 2  ...                11-03-2021   \n",
       "\n",
       "     2021 > Is your child attending with a friend?        2021 ^Student Eval  \\\n",
       "6                                               No                         5   \n",
       "14                                              No                         5   \n",
       "19                                              No  Off the Charts (Highest)   \n",
       "29                                              No                         5   \n",
       "31                                              No  Off the Charts (Highest)   \n",
       "...                                            ...                       ...   \n",
       "1703                                            No                         5   \n",
       "1710                                           Yes  Off the Charts (Highest)   \n",
       "1719                                            No                         5   \n",
       "1721                                           Yes  Off the Charts (Highest)   \n",
       "1727                                            No                         5   \n",
       "\n",
       "         2021 ^Expectations 2021 ^Trip Length  \\\n",
       "6     Exceeded expectations        Just Right   \n",
       "14         Met expectations        Just Right   \n",
       "19    Exceeded expectations        Just Right   \n",
       "29         Met expectations        Just Right   \n",
       "31    Exceeded expectations        Just Right   \n",
       "...                     ...               ...   \n",
       "1703  Exceeded expectations        Just Right   \n",
       "1710       Met expectations        Just Right   \n",
       "1719  Exceeded expectations        Just Right   \n",
       "1721  Exceeded expectations        Just Right   \n",
       "1727  Exceeded expectations        Just Right   \n",
       "\n",
       "     2021 ^^Interested in Another Trip? 2021 ^^^Future Trip?  \\\n",
       "6                              Not Sure   THA; CHA; KEZ; MYS   \n",
       "14                                  Yes             SAF, FIJ   \n",
       "19                                  Yes                  NaN   \n",
       "29                                  Yes        KIL, THA, MYS   \n",
       "31                                   No                  NaN   \n",
       "...                                 ...                  ...   \n",
       "1703                                Yes              SERVICE   \n",
       "1710                           Not Sure                  HWI   \n",
       "1719                           Not Sure                  NOR   \n",
       "1721                                Yes        THA, FIJ, CHA   \n",
       "1727                                Yes                  FIJ   \n",
       "\n",
       "     2021 ^^^^Leader Rating of Student 2022 > Status  \\\n",
       "6                                    5        Alumni   \n",
       "14                                   5      Enrolled   \n",
       "19                                   5        Alumni   \n",
       "29                                   5        Alumni   \n",
       "31            Off the Charts (Highest)        Alumni   \n",
       "...                                ...           ...   \n",
       "1703          Off the Charts (Highest)      Enrolled   \n",
       "1710                                 5        Alumni   \n",
       "1719                                 5      Enrolled   \n",
       "1721                                 4      Enrolled   \n",
       "1727          Off the Charts (Highest)      Enrolled   \n",
       "\n",
       "     2022 > trip code (ex. CAL 1, CAL 1A, CAL 1B, etc.) names (all)  \n",
       "6                                                   NaN              \n",
       "14                                               SAF 2B              \n",
       "19                                                  NaN              \n",
       "29                                                  NaN              \n",
       "31                                                  NaN              \n",
       "...                                                 ...              \n",
       "1703                                             SPM 1B              \n",
       "1710                                                NaN              \n",
       "1719                                             CHA 4B              \n",
       "1721                                             KEZ 1B              \n",
       "1727                                             BCR 2A              \n",
       "\n",
       "[226 rows x 21 columns]"
      ]
     },
     "execution_count": 43,
     "metadata": {},
     "output_type": "execute_result"
    }
   ],
   "source": [
    "# Checking the records for students that have dates in the column. Some even have multiple dates, but all this means \n",
    "## is the student was switched from one trip to another on the date listed.\n",
    "df.loc[df['2021 > Unenrollment date'].isnull() == False]"
   ]
  },
  {
   "cell_type": "code",
   "execution_count": 44,
   "metadata": {},
   "outputs": [],
   "source": [
    "# Filling nulls with \"No Change\"\n",
    "df['2021 > Unenrollment date'] = df['2021 > Unenrollment date'].fillna('No Change')"
   ]
  },
  {
   "cell_type": "code",
   "execution_count": 45,
   "metadata": {},
   "outputs": [],
   "source": [
    "# Creating a new column with boolean variables to hold the original columns value:\n",
    "df['Changed Trip'] = df['2021 > Unenrollment date'].map(lambda x: 0 if x == 'No Change' else 1)"
   ]
  },
  {
   "cell_type": "code",
   "execution_count": 46,
   "metadata": {
    "scrolled": true
   },
   "outputs": [
    {
     "data": {
      "text/plain": [
       "0    0.86944\n",
       "1    0.13056\n",
       "Name: Changed Trip, dtype: float64"
      ]
     },
     "execution_count": 46,
     "metadata": {},
     "output_type": "execute_result"
    }
   ],
   "source": [
    "# Analyzing the percent of students that changed trips\n",
    "df['Changed Trip'].value_counts(normalize=True)"
   ]
  },
  {
   "cell_type": "code",
   "execution_count": 47,
   "metadata": {},
   "outputs": [],
   "source": [
    "df.drop('2021 > Unenrollment date', axis=1, inplace=True)"
   ]
  },
  {
   "cell_type": "markdown",
   "metadata": {},
   "source": [
    ">#### 2021 > Is your child attending with a friend?: \n",
    "> - A Yes/No question that details whether or not a child will be travelling with a peer. \n",
    "> - To be OneHotEncoded later.                  "
   ]
  },
  {
   "cell_type": "code",
   "execution_count": 48,
   "metadata": {
    "scrolled": false
   },
   "outputs": [
    {
     "data": {
      "text/plain": [
       "No     1049\n",
       "Yes     682\n",
       "Name: 2021 > Is your child attending with a friend?, dtype: int64"
      ]
     },
     "execution_count": 48,
     "metadata": {},
     "output_type": "execute_result"
    }
   ],
   "source": [
    "df['2021 > Is your child attending with a friend?'].value_counts()"
   ]
  },
  {
   "cell_type": "markdown",
   "metadata": {},
   "source": [
    ">#### ^Student Eval --> 'rating': \n",
    "> - This column details the rating the students gave their trip 1 - 6 (\"Off the Charts\"). \n",
    "> - 110 values appear to be missing. May need to impute these by filling in the most_frequent value OR 'Missing Info'.\n",
    "> - The \"Off the Charts\" distinction should be a '6' as this is the highest rating possible.\n",
    "> - Creating a new column called 'rating' to store this data with 6 replacing \"Off the Charts\"\n",
    "> - This column will be treated as a numeric variable, thus needing to be cast as an integer AFTER imputing the missing values."
   ]
  },
  {
   "cell_type": "code",
   "execution_count": 49,
   "metadata": {},
   "outputs": [],
   "source": [
    "# Creating the new column\n",
    "df['rating'] = df['2021 ^Student Eval'].map(lambda x: 6 if x == 'Off the Charts (Highest)' else x)"
   ]
  },
  {
   "cell_type": "code",
   "execution_count": 50,
   "metadata": {},
   "outputs": [],
   "source": [
    "df.drop('2021 ^Student Eval', axis=1, inplace=True)"
   ]
  },
  {
   "cell_type": "markdown",
   "metadata": {},
   "source": [
    ">#### ^Expectations: \n",
    "> - This feature contains values such as 'Met expectations', 'Exceeded expectations' and 'Did not meet expectations'.\n",
    "> - May be treated as an ordinal value to be encoded?\n",
    "> - There are null values in this column that will be addressed by imputation later with the \"most_frequent\" strategy."
   ]
  },
  {
   "cell_type": "code",
   "execution_count": 51,
   "metadata": {
    "scrolled": false
   },
   "outputs": [
    {
     "data": {
      "text/plain": [
       "Met expectations             917\n",
       "Exceeded expectations        670\n",
       "Did not meet expectations     30\n",
       "Name: 2021 ^Expectations, dtype: int64"
      ]
     },
     "execution_count": 51,
     "metadata": {},
     "output_type": "execute_result"
    }
   ],
   "source": [
    "# Viewing the values in this column, it is clear that there is a distinct, directional/ordinal difference in \n",
    "## values between each of the three answers\n",
    "df['2021 ^Expectations'].value_counts()"
   ]
  },
  {
   "cell_type": "code",
   "execution_count": 52,
   "metadata": {},
   "outputs": [
    {
     "data": {
      "text/plain": [
       "Met expectations             0.567100\n",
       "Exceeded expectations        0.414348\n",
       "Did not meet expectations    0.018553\n",
       "Name: 2021 ^Expectations, dtype: float64"
      ]
     },
     "execution_count": 52,
     "metadata": {},
     "output_type": "execute_result"
    }
   ],
   "source": [
    "df['2021 ^Expectations'].value_counts(normalize=True)"
   ]
  },
  {
   "cell_type": "markdown",
   "metadata": {},
   "source": [
    ">#### ^Trip Length: \n",
    "> - Similar to the '^Expectations' feature, this column contains values 'Too Short', 'Just Right', 'Too Long'. \n",
    "> - May be treated as an ordinal value to be encoded?\n",
    "> - There are null values in this column that will be addressed by imputation later with the \"most_frequent\" strategy."
   ]
  },
  {
   "cell_type": "code",
   "execution_count": 53,
   "metadata": {},
   "outputs": [
    {
     "data": {
      "text/plain": [
       "Just Right    1315\n",
       "Too Short      224\n",
       "Too Long        77\n",
       "Name: 2021 ^Trip Length, dtype: int64"
      ]
     },
     "execution_count": 53,
     "metadata": {},
     "output_type": "execute_result"
    }
   ],
   "source": [
    "# Viewing the values in this column, it is clear that there is a distinct, directional/ordinal difference in \n",
    "## values between each of the three answers\n",
    "df['2021 ^Trip Length'].value_counts()"
   ]
  },
  {
   "cell_type": "code",
   "execution_count": 54,
   "metadata": {},
   "outputs": [
    {
     "data": {
      "text/plain": [
       "Just Right    0.813738\n",
       "Too Short     0.138614\n",
       "Too Long      0.047649\n",
       "Name: 2021 ^Trip Length, dtype: float64"
      ]
     },
     "execution_count": 54,
     "metadata": {},
     "output_type": "execute_result"
    }
   ],
   "source": [
    "df['2021 ^Trip Length'].value_counts(normalize=True)"
   ]
  },
  {
   "cell_type": "markdown",
   "metadata": {},
   "source": [
    ">#### ^^Interested in Another Trip?: \n",
    "> - This column contains the options 'Yes', 'Not Sure', 'No'\n",
    "> - Potentially able to ordinally encode this column, however, I am more curious to see the distinct differences between the answers to each question as OneHotEncoded features."
   ]
  },
  {
   "cell_type": "code",
   "execution_count": 55,
   "metadata": {
    "scrolled": true
   },
   "outputs": [
    {
     "data": {
      "text/plain": [
       "Yes         1036\n",
       "Not Sure     448\n",
       "No           100\n",
       "Name: 2021 ^^Interested in Another Trip?, dtype: int64"
      ]
     },
     "execution_count": 55,
     "metadata": {},
     "output_type": "execute_result"
    }
   ],
   "source": [
    "df['2021 ^^Interested in Another Trip?'].value_counts()"
   ]
  },
  {
   "cell_type": "markdown",
   "metadata": {},
   "source": [
    ">#### ^^^Future Trip?:\n",
    "> - Details the trip options that the student may be interested in for future summers!\n",
    "> - Not useful for this initial analysis and will be dropped before modeling."
   ]
  },
  {
   "cell_type": "code",
   "execution_count": 56,
   "metadata": {},
   "outputs": [],
   "source": [
    "df.drop('2021 ^^^Future Trip?', axis=1, inplace=True)"
   ]
  },
  {
   "cell_type": "markdown",
   "metadata": {},
   "source": [
    ">#### ^^^^Leader Rating of Student:\n",
    "> - Similar to the '^Student Eval' column, this column details the score the leader team provided regarding the student's behavior on the trip/their overall ability to meet trip expectations.\n",
    "> - The \"Off the Charts\" distinction should be a '6'\n",
    "> - The column will then be treated as a numeric value:"
   ]
  },
  {
   "cell_type": "code",
   "execution_count": 57,
   "metadata": {},
   "outputs": [],
   "source": [
    "# Replacing the \"Off the Charts\" rating with a 6:\n",
    "df['2021 ^^^^Leader Rating of Student'] = df['2021 ^^^^Leader Rating of Student'].map(lambda x: 6 if x == 'Off the Charts (Highest)' else x)"
   ]
  },
  {
   "cell_type": "markdown",
   "metadata": {},
   "source": [
    ">#### 2022 > Status:\n",
    "> - This column is the 'target' as it details whether or not a student enrolled the following summer, which would indicate a positive (1) or negative (0) result.\n",
    "> - I will make a new column called 'target' to hold this value."
   ]
  },
  {
   "cell_type": "code",
   "execution_count": 58,
   "metadata": {},
   "outputs": [
    {
     "data": {
      "text/plain": [
       "Enrolled                     833\n",
       "Alumni                       766\n",
       "Cancelled                     93\n",
       "Waitlist Only                 21\n",
       "Dismissed                     15\n",
       "Sent Home - Mental Health      2\n",
       "Withdrawn                      1\n",
       "Name: 2022 > Status, dtype: int64"
      ]
     },
     "execution_count": 58,
     "metadata": {},
     "output_type": "execute_result"
    }
   ],
   "source": [
    "# Enrolled is the only value that concerns our analysis, all other values will be grouped as zeros in the new column.\n",
    "df['2022 > Status'].value_counts()"
   ]
  },
  {
   "cell_type": "code",
   "execution_count": 59,
   "metadata": {},
   "outputs": [],
   "source": [
    "df['target'] = np.where(df['2022 > Status'] == 'Enrolled', 1, 0)"
   ]
  },
  {
   "cell_type": "code",
   "execution_count": 60,
   "metadata": {},
   "outputs": [
    {
     "data": {
      "text/plain": [
       "0    898\n",
       "1    833\n",
       "Name: target, dtype: int64"
      ]
     },
     "execution_count": 60,
     "metadata": {},
     "output_type": "execute_result"
    }
   ],
   "source": [
    "df['target'].value_counts()"
   ]
  },
  {
   "cell_type": "code",
   "execution_count": 61,
   "metadata": {},
   "outputs": [],
   "source": [
    "df.drop('2022 > Status', axis=1, inplace=True)"
   ]
  },
  {
   "cell_type": "markdown",
   "metadata": {},
   "source": [
    ">#### 2022 > trip code: \n",
    "> - This column details the actual trip the student enrolled in for the following season. Could be an interesting exploration to see if they ACTUALLY went on one of the trips that they listed that they may be interested in attending. Is a stretch, but could be used later in goals #2 or #3, so it will remain in the dataset even if it is initally dropped for goal #1."
   ]
  },
  {
   "cell_type": "code",
   "execution_count": 62,
   "metadata": {},
   "outputs": [],
   "source": [
    "df.drop('2022 > trip code (ex. CAL 1, CAL 1A, CAL 1B, etc.) names (all)', axis=1, inplace=True)"
   ]
  },
  {
   "cell_type": "markdown",
   "metadata": {},
   "source": [
    "## Aggregated Preprocessing"
   ]
  },
  {
   "cell_type": "code",
   "execution_count": 63,
   "metadata": {
    "scrolled": false
   },
   "outputs": [
    {
     "data": {
      "text/plain": [
       "2021 > Grade                                       0\n",
       "Gender                                             0\n",
       "School                                             0\n",
       "Years at camp                                      0\n",
       "Lead source                                        0\n",
       "Primary family city                                0\n",
       "Primary family state                               2\n",
       "Primary family country                             0\n",
       "Primary family zip                                 0\n",
       "2021 > trip + section names (all)                  0\n",
       "2021 > Enrolled sibling count                      0\n",
       "2021 > Is your child attending with a friend?      0\n",
       "2021 ^Expectations                               114\n",
       "2021 ^Trip Length                                115\n",
       "2021 ^^Interested in Another Trip?               147\n",
       "2021 ^^^^Leader Rating of Student                 28\n",
       "Changed Trip                                       0\n",
       "rating                                           109\n",
       "target                                             0\n",
       "dtype: int64"
      ]
     },
     "execution_count": 63,
     "metadata": {},
     "output_type": "execute_result"
    }
   ],
   "source": [
    "df.isna().sum()"
   ]
  },
  {
   "cell_type": "markdown",
   "metadata": {},
   "source": [
    "#### Imputing Null Values"
   ]
  },
  {
   "cell_type": "code",
   "execution_count": 64,
   "metadata": {},
   "outputs": [],
   "source": [
    "imputer = SimpleImputer(strategy=\"most_frequent\")"
   ]
  },
  {
   "cell_type": "code",
   "execution_count": 65,
   "metadata": {},
   "outputs": [
    {
     "data": {
      "text/html": [
       "<div>\n",
       "<style scoped>\n",
       "    .dataframe tbody tr th:only-of-type {\n",
       "        vertical-align: middle;\n",
       "    }\n",
       "\n",
       "    .dataframe tbody tr th {\n",
       "        vertical-align: top;\n",
       "    }\n",
       "\n",
       "    .dataframe thead th {\n",
       "        text-align: right;\n",
       "    }\n",
       "</style>\n",
       "<table border=\"1\" class=\"dataframe\">\n",
       "  <thead>\n",
       "    <tr style=\"text-align: right;\">\n",
       "      <th></th>\n",
       "      <th>2021 ^Expectations</th>\n",
       "      <th>2021 ^Trip Length</th>\n",
       "      <th>2021 ^^Interested in Another Trip?</th>\n",
       "      <th>2021 ^^^^Leader Rating of Student</th>\n",
       "      <th>rating</th>\n",
       "    </tr>\n",
       "  </thead>\n",
       "  <tbody>\n",
       "    <tr>\n",
       "      <th>0</th>\n",
       "      <td>NaN</td>\n",
       "      <td>NaN</td>\n",
       "      <td>NaN</td>\n",
       "      <td>6</td>\n",
       "      <td>NaN</td>\n",
       "    </tr>\n",
       "    <tr>\n",
       "      <th>1</th>\n",
       "      <td>Met expectations</td>\n",
       "      <td>Too Short</td>\n",
       "      <td>Yes</td>\n",
       "      <td>3</td>\n",
       "      <td>5</td>\n",
       "    </tr>\n",
       "    <tr>\n",
       "      <th>2</th>\n",
       "      <td>Exceeded expectations</td>\n",
       "      <td>Just Right</td>\n",
       "      <td>Yes</td>\n",
       "      <td>4</td>\n",
       "      <td>5</td>\n",
       "    </tr>\n",
       "    <tr>\n",
       "      <th>3</th>\n",
       "      <td>Met expectations</td>\n",
       "      <td>Just Right</td>\n",
       "      <td>No</td>\n",
       "      <td>5</td>\n",
       "      <td>5</td>\n",
       "    </tr>\n",
       "    <tr>\n",
       "      <th>4</th>\n",
       "      <td>Met expectations</td>\n",
       "      <td>Just Right</td>\n",
       "      <td>Not Sure</td>\n",
       "      <td>6</td>\n",
       "      <td>5</td>\n",
       "    </tr>\n",
       "    <tr>\n",
       "      <th>...</th>\n",
       "      <td>...</td>\n",
       "      <td>...</td>\n",
       "      <td>...</td>\n",
       "      <td>...</td>\n",
       "      <td>...</td>\n",
       "    </tr>\n",
       "    <tr>\n",
       "      <th>1727</th>\n",
       "      <td>Exceeded expectations</td>\n",
       "      <td>Just Right</td>\n",
       "      <td>Yes</td>\n",
       "      <td>6</td>\n",
       "      <td>5</td>\n",
       "    </tr>\n",
       "    <tr>\n",
       "      <th>1728</th>\n",
       "      <td>Exceeded expectations</td>\n",
       "      <td>Just Right</td>\n",
       "      <td>Yes</td>\n",
       "      <td>3</td>\n",
       "      <td>5</td>\n",
       "    </tr>\n",
       "    <tr>\n",
       "      <th>1729</th>\n",
       "      <td>Met expectations</td>\n",
       "      <td>Just Right</td>\n",
       "      <td>Not Sure</td>\n",
       "      <td>5</td>\n",
       "      <td>5</td>\n",
       "    </tr>\n",
       "    <tr>\n",
       "      <th>1730</th>\n",
       "      <td>Met expectations</td>\n",
       "      <td>Just Right</td>\n",
       "      <td>Not Sure</td>\n",
       "      <td>4</td>\n",
       "      <td>5</td>\n",
       "    </tr>\n",
       "    <tr>\n",
       "      <th>1731</th>\n",
       "      <td>Met expectations</td>\n",
       "      <td>Just Right</td>\n",
       "      <td>Not Sure</td>\n",
       "      <td>5</td>\n",
       "      <td>5</td>\n",
       "    </tr>\n",
       "  </tbody>\n",
       "</table>\n",
       "<p>1731 rows × 5 columns</p>\n",
       "</div>"
      ],
      "text/plain": [
       "         2021 ^Expectations 2021 ^Trip Length  \\\n",
       "0                       NaN               NaN   \n",
       "1          Met expectations         Too Short   \n",
       "2     Exceeded expectations        Just Right   \n",
       "3          Met expectations        Just Right   \n",
       "4          Met expectations        Just Right   \n",
       "...                     ...               ...   \n",
       "1727  Exceeded expectations        Just Right   \n",
       "1728  Exceeded expectations        Just Right   \n",
       "1729       Met expectations        Just Right   \n",
       "1730       Met expectations        Just Right   \n",
       "1731       Met expectations        Just Right   \n",
       "\n",
       "     2021 ^^Interested in Another Trip? 2021 ^^^^Leader Rating of Student  \\\n",
       "0                                   NaN                                 6   \n",
       "1                                   Yes                                 3   \n",
       "2                                   Yes                                 4   \n",
       "3                                    No                                 5   \n",
       "4                              Not Sure                                 6   \n",
       "...                                 ...                               ...   \n",
       "1727                                Yes                                 6   \n",
       "1728                                Yes                                 3   \n",
       "1729                           Not Sure                                 5   \n",
       "1730                           Not Sure                                 4   \n",
       "1731                           Not Sure                                 5   \n",
       "\n",
       "     rating  \n",
       "0       NaN  \n",
       "1         5  \n",
       "2         5  \n",
       "3         5  \n",
       "4         5  \n",
       "...     ...  \n",
       "1727      5  \n",
       "1728      5  \n",
       "1729      5  \n",
       "1730      5  \n",
       "1731      5  \n",
       "\n",
       "[1731 rows x 5 columns]"
      ]
     },
     "execution_count": 65,
     "metadata": {},
     "output_type": "execute_result"
    }
   ],
   "source": [
    "to_be_imputed = ['2021 ^Expectations', '2021 ^Trip Length', '2021 ^^Interested in Another Trip?', \n",
    "                 '2021 ^^^^Leader Rating of Student', 'rating']\n",
    "\n",
    "df_imputable = df[to_be_imputed]\n",
    "df_imputable"
   ]
  },
  {
   "cell_type": "code",
   "execution_count": 66,
   "metadata": {},
   "outputs": [],
   "source": [
    "df[to_be_imputed] = imputer.fit_transform(df[to_be_imputed])"
   ]
  },
  {
   "cell_type": "code",
   "execution_count": 67,
   "metadata": {
    "scrolled": false
   },
   "outputs": [
    {
     "data": {
      "text/plain": [
       "2021 > Grade                                     0\n",
       "Gender                                           0\n",
       "School                                           0\n",
       "Years at camp                                    0\n",
       "Lead source                                      0\n",
       "Primary family city                              0\n",
       "Primary family state                             2\n",
       "Primary family country                           0\n",
       "Primary family zip                               0\n",
       "2021 > trip + section names (all)                0\n",
       "2021 > Enrolled sibling count                    0\n",
       "2021 > Is your child attending with a friend?    0\n",
       "2021 ^Expectations                               0\n",
       "2021 ^Trip Length                                0\n",
       "2021 ^^Interested in Another Trip?               0\n",
       "2021 ^^^^Leader Rating of Student                0\n",
       "Changed Trip                                     0\n",
       "rating                                           0\n",
       "target                                           0\n",
       "dtype: int64"
      ]
     },
     "execution_count": 67,
     "metadata": {},
     "output_type": "execute_result"
    }
   ],
   "source": [
    "df.isna().sum()"
   ]
  },
  {
   "cell_type": "code",
   "execution_count": 68,
   "metadata": {},
   "outputs": [],
   "source": [
    "#Dropping the null values from the Primary family state column for NOW! May go back and manually add these values later.\n",
    "df.dropna(inplace=True)"
   ]
  },
  {
   "cell_type": "code",
   "execution_count": 69,
   "metadata": {},
   "outputs": [
    {
     "data": {
      "text/plain": [
       "2021 > Grade                                     0\n",
       "Gender                                           0\n",
       "School                                           0\n",
       "Years at camp                                    0\n",
       "Lead source                                      0\n",
       "Primary family city                              0\n",
       "Primary family state                             0\n",
       "Primary family country                           0\n",
       "Primary family zip                               0\n",
       "2021 > trip + section names (all)                0\n",
       "2021 > Enrolled sibling count                    0\n",
       "2021 > Is your child attending with a friend?    0\n",
       "2021 ^Expectations                               0\n",
       "2021 ^Trip Length                                0\n",
       "2021 ^^Interested in Another Trip?               0\n",
       "2021 ^^^^Leader Rating of Student                0\n",
       "Changed Trip                                     0\n",
       "rating                                           0\n",
       "target                                           0\n",
       "dtype: int64"
      ]
     },
     "execution_count": 69,
     "metadata": {},
     "output_type": "execute_result"
    }
   ],
   "source": [
    "df.isna().sum()"
   ]
  },
  {
   "cell_type": "code",
   "execution_count": 70,
   "metadata": {},
   "outputs": [],
   "source": [
    "# Casting the 'rating' column and the Leader rating of student column as integers to be treated numerically later:\n",
    "df['rating'] = df['rating'].astype(int)\n",
    "df['2021 ^^^^Leader Rating of Student'] = df['2021 ^^^^Leader Rating of Student'].astype(int)"
   ]
  },
  {
   "cell_type": "code",
   "execution_count": 71,
   "metadata": {},
   "outputs": [
    {
     "name": "stdout",
     "output_type": "stream",
     "text": [
      "<class 'pandas.core.frame.DataFrame'>\n",
      "Int64Index: 1729 entries, 0 to 1731\n",
      "Data columns (total 19 columns):\n",
      " #   Column                                         Non-Null Count  Dtype  \n",
      "---  ------                                         --------------  -----  \n",
      " 0   2021 > Grade                                   1729 non-null   object \n",
      " 1   Gender                                         1729 non-null   object \n",
      " 2   School                                         1729 non-null   object \n",
      " 3   Years at camp                                  1729 non-null   int64  \n",
      " 4   Lead source                                    1729 non-null   object \n",
      " 5   Primary family city                            1729 non-null   object \n",
      " 6   Primary family state                           1729 non-null   object \n",
      " 7   Primary family country                         1729 non-null   object \n",
      " 8   Primary family zip                             1729 non-null   object \n",
      " 9   2021 > trip + section names (all)              1729 non-null   object \n",
      " 10  2021 > Enrolled sibling count                  1729 non-null   float64\n",
      " 11  2021 > Is your child attending with a friend?  1729 non-null   object \n",
      " 12  2021 ^Expectations                             1729 non-null   object \n",
      " 13  2021 ^Trip Length                              1729 non-null   object \n",
      " 14  2021 ^^Interested in Another Trip?             1729 non-null   object \n",
      " 15  2021 ^^^^Leader Rating of Student              1729 non-null   int64  \n",
      " 16  Changed Trip                                   1729 non-null   int64  \n",
      " 17  rating                                         1729 non-null   int64  \n",
      " 18  target                                         1729 non-null   int64  \n",
      "dtypes: float64(1), int64(5), object(13)\n",
      "memory usage: 270.2+ KB\n"
     ]
    }
   ],
   "source": [
    "df.info()"
   ]
  },
  {
   "cell_type": "markdown",
   "metadata": {},
   "source": [
    "### ALL Columns Defined After Initial Preprocessing:\n",
    "#### Target:\n",
    "- 'target'\n",
    "\n",
    "#### Numeric columns:\n",
    "- Years at camp\n",
    "- 2021 > Enrolled sibling count\n",
    "- 2021 ^^^^Leader Rating of Student\n",
    "- rating \n",
    "\n",
    "#### OneHotEncoded (Consistently):\n",
    "**These columns will be OneHotEncoded for all models that include categorical features, there are additional Optional features listed below which will be tested, but may not ultimately be used.**\n",
    "- 2021 > Grade\n",
    "- Gender\n",
    "- Lead source\n",
    "- 2021 > trip + section names (all)  \n",
    "- 2021 > Is your child attending with a friend?\n",
    "- 2021 > Trip Length\n",
    "- 2021 ^^Interested in Another Trip?\n",
    "- Changed Trip\n",
    "\n",
    "#### OrdinalEncoded:\n",
    "- 2021 ^Expectations [Exceeded expectations, Met expecations, Did not meet expectations]\n",
    "\n",
    "#### Optional OneHotEncoded:\n",
    "- School\n",
    "- Primary family city\n",
    "- Primary family state\n",
    "- Primary family country\n",
    "- Primary family zip"
   ]
  },
  {
   "cell_type": "code",
   "execution_count": 72,
   "metadata": {},
   "outputs": [],
   "source": [
    "ordinal = ['2021 ^Expectations']"
   ]
  },
  {
   "cell_type": "code",
   "execution_count": 73,
   "metadata": {},
   "outputs": [],
   "source": [
    "#df_final_ohe = df_final.drop(df[ordinal], axis=1, inplace=True)\n",
    "df_ord = df[ordinal]"
   ]
  },
  {
   "cell_type": "code",
   "execution_count": 74,
   "metadata": {},
   "outputs": [],
   "source": [
    "ordinal = OrdinalEncoder(categories=[['Did not meet expectations', 'Met expectations', 'Exceeded expectations']])"
   ]
  },
  {
   "cell_type": "code",
   "execution_count": 75,
   "metadata": {},
   "outputs": [
    {
     "data": {
      "text/html": [
       "<style>#sk-container-id-1 {color: black;}#sk-container-id-1 pre{padding: 0;}#sk-container-id-1 div.sk-toggleable {background-color: white;}#sk-container-id-1 label.sk-toggleable__label {cursor: pointer;display: block;width: 100%;margin-bottom: 0;padding: 0.3em;box-sizing: border-box;text-align: center;}#sk-container-id-1 label.sk-toggleable__label-arrow:before {content: \"▸\";float: left;margin-right: 0.25em;color: #696969;}#sk-container-id-1 label.sk-toggleable__label-arrow:hover:before {color: black;}#sk-container-id-1 div.sk-estimator:hover label.sk-toggleable__label-arrow:before {color: black;}#sk-container-id-1 div.sk-toggleable__content {max-height: 0;max-width: 0;overflow: hidden;text-align: left;background-color: #f0f8ff;}#sk-container-id-1 div.sk-toggleable__content pre {margin: 0.2em;color: black;border-radius: 0.25em;background-color: #f0f8ff;}#sk-container-id-1 input.sk-toggleable__control:checked~div.sk-toggleable__content {max-height: 200px;max-width: 100%;overflow: auto;}#sk-container-id-1 input.sk-toggleable__control:checked~label.sk-toggleable__label-arrow:before {content: \"▾\";}#sk-container-id-1 div.sk-estimator input.sk-toggleable__control:checked~label.sk-toggleable__label {background-color: #d4ebff;}#sk-container-id-1 div.sk-label input.sk-toggleable__control:checked~label.sk-toggleable__label {background-color: #d4ebff;}#sk-container-id-1 input.sk-hidden--visually {border: 0;clip: rect(1px 1px 1px 1px);clip: rect(1px, 1px, 1px, 1px);height: 1px;margin: -1px;overflow: hidden;padding: 0;position: absolute;width: 1px;}#sk-container-id-1 div.sk-estimator {font-family: monospace;background-color: #f0f8ff;border: 1px dotted black;border-radius: 0.25em;box-sizing: border-box;margin-bottom: 0.5em;}#sk-container-id-1 div.sk-estimator:hover {background-color: #d4ebff;}#sk-container-id-1 div.sk-parallel-item::after {content: \"\";width: 100%;border-bottom: 1px solid gray;flex-grow: 1;}#sk-container-id-1 div.sk-label:hover label.sk-toggleable__label {background-color: #d4ebff;}#sk-container-id-1 div.sk-serial::before {content: \"\";position: absolute;border-left: 1px solid gray;box-sizing: border-box;top: 0;bottom: 0;left: 50%;z-index: 0;}#sk-container-id-1 div.sk-serial {display: flex;flex-direction: column;align-items: center;background-color: white;padding-right: 0.2em;padding-left: 0.2em;position: relative;}#sk-container-id-1 div.sk-item {position: relative;z-index: 1;}#sk-container-id-1 div.sk-parallel {display: flex;align-items: stretch;justify-content: center;background-color: white;position: relative;}#sk-container-id-1 div.sk-item::before, #sk-container-id-1 div.sk-parallel-item::before {content: \"\";position: absolute;border-left: 1px solid gray;box-sizing: border-box;top: 0;bottom: 0;left: 50%;z-index: -1;}#sk-container-id-1 div.sk-parallel-item {display: flex;flex-direction: column;z-index: 1;position: relative;background-color: white;}#sk-container-id-1 div.sk-parallel-item:first-child::after {align-self: flex-end;width: 50%;}#sk-container-id-1 div.sk-parallel-item:last-child::after {align-self: flex-start;width: 50%;}#sk-container-id-1 div.sk-parallel-item:only-child::after {width: 0;}#sk-container-id-1 div.sk-dashed-wrapped {border: 1px dashed gray;margin: 0 0.4em 0.5em 0.4em;box-sizing: border-box;padding-bottom: 0.4em;background-color: white;}#sk-container-id-1 div.sk-label label {font-family: monospace;font-weight: bold;display: inline-block;line-height: 1.2em;}#sk-container-id-1 div.sk-label-container {text-align: center;}#sk-container-id-1 div.sk-container {/* jupyter's `normalize.less` sets `[hidden] { display: none; }` but bootstrap.min.css set `[hidden] { display: none !important; }` so we also need the `!important` here to be able to override the default hidden behavior on the sphinx rendered scikit-learn.org. See: https://github.com/scikit-learn/scikit-learn/issues/21755 */display: inline-block !important;position: relative;}#sk-container-id-1 div.sk-text-repr-fallback {display: none;}</style><div id=\"sk-container-id-1\" class=\"sk-top-container\"><div class=\"sk-text-repr-fallback\"><pre>OrdinalEncoder(categories=[[&#x27;Did not meet expectations&#x27;, &#x27;Met expectations&#x27;,\n",
       "                            &#x27;Exceeded expectations&#x27;]])</pre><b>In a Jupyter environment, please rerun this cell to show the HTML representation or trust the notebook. <br />On GitHub, the HTML representation is unable to render, please try loading this page with nbviewer.org.</b></div><div class=\"sk-container\" hidden><div class=\"sk-item\"><div class=\"sk-estimator sk-toggleable\"><input class=\"sk-toggleable__control sk-hidden--visually\" id=\"sk-estimator-id-1\" type=\"checkbox\" checked><label for=\"sk-estimator-id-1\" class=\"sk-toggleable__label sk-toggleable__label-arrow\">OrdinalEncoder</label><div class=\"sk-toggleable__content\"><pre>OrdinalEncoder(categories=[[&#x27;Did not meet expectations&#x27;, &#x27;Met expectations&#x27;,\n",
       "                            &#x27;Exceeded expectations&#x27;]])</pre></div></div></div></div></div>"
      ],
      "text/plain": [
       "OrdinalEncoder(categories=[['Did not meet expectations', 'Met expectations',\n",
       "                            'Exceeded expectations']])"
      ]
     },
     "execution_count": 75,
     "metadata": {},
     "output_type": "execute_result"
    }
   ],
   "source": [
    "ordinal.fit(df_ord)"
   ]
  },
  {
   "cell_type": "code",
   "execution_count": 76,
   "metadata": {},
   "outputs": [
    {
     "data": {
      "text/plain": [
       "[array(['Did not meet expectations', 'Met expectations',\n",
       "        'Exceeded expectations'], dtype=object)]"
      ]
     },
     "execution_count": 76,
     "metadata": {},
     "output_type": "execute_result"
    }
   ],
   "source": [
    "ordinal.categories_"
   ]
  },
  {
   "cell_type": "code",
   "execution_count": 77,
   "metadata": {},
   "outputs": [
    {
     "data": {
      "text/plain": [
       "array([[1.],\n",
       "       [1.],\n",
       "       [2.],\n",
       "       ...,\n",
       "       [1.],\n",
       "       [1.],\n",
       "       [1.]])"
      ]
     },
     "execution_count": 77,
     "metadata": {},
     "output_type": "execute_result"
    }
   ],
   "source": [
    "ordinal.transform(df_ord)"
   ]
  },
  {
   "cell_type": "markdown",
   "metadata": {},
   "source": [
    "## Numeric Column Analysis:"
   ]
  },
  {
   "cell_type": "markdown",
   "metadata": {},
   "source": [
    "### Correlation between the Target and numeric columns:"
   ]
  },
  {
   "cell_type": "code",
   "execution_count": 78,
   "metadata": {},
   "outputs": [
    {
     "data": {
      "text/plain": [
       "target                               1.000000\n",
       "Years at camp                        0.611823\n",
       "2021 ^^^^Leader Rating of Student    0.141345\n",
       "rating                               0.124976\n",
       "2021 > Enrolled sibling count        0.055239\n",
       "Changed Trip                         0.025015\n",
       "Name: target, dtype: float64"
      ]
     },
     "execution_count": 78,
     "metadata": {},
     "output_type": "execute_result"
    }
   ],
   "source": [
    "df_corrs = df.corr()['target'].map(abs).sort_values(ascending=False)\n",
    "df_corrs"
   ]
  },
  {
   "cell_type": "code",
   "execution_count": 79,
   "metadata": {},
   "outputs": [
    {
     "data": {
      "text/html": [
       "<div>\n",
       "<style scoped>\n",
       "    .dataframe tbody tr th:only-of-type {\n",
       "        vertical-align: middle;\n",
       "    }\n",
       "\n",
       "    .dataframe tbody tr th {\n",
       "        vertical-align: top;\n",
       "    }\n",
       "\n",
       "    .dataframe thead th {\n",
       "        text-align: right;\n",
       "    }\n",
       "</style>\n",
       "<table border=\"1\" class=\"dataframe\">\n",
       "  <thead>\n",
       "    <tr style=\"text-align: right;\">\n",
       "      <th></th>\n",
       "      <th>Years at camp</th>\n",
       "      <th>2021 ^^^^Leader Rating of Student</th>\n",
       "      <th>rating</th>\n",
       "      <th>2021 &gt; Enrolled sibling count</th>\n",
       "      <th>Changed Trip</th>\n",
       "    </tr>\n",
       "  </thead>\n",
       "  <tbody>\n",
       "    <tr>\n",
       "      <th>0</th>\n",
       "      <td>1</td>\n",
       "      <td>6</td>\n",
       "      <td>5</td>\n",
       "      <td>0.0</td>\n",
       "      <td>0</td>\n",
       "    </tr>\n",
       "    <tr>\n",
       "      <th>1</th>\n",
       "      <td>2</td>\n",
       "      <td>3</td>\n",
       "      <td>5</td>\n",
       "      <td>0.0</td>\n",
       "      <td>0</td>\n",
       "    </tr>\n",
       "    <tr>\n",
       "      <th>2</th>\n",
       "      <td>2</td>\n",
       "      <td>4</td>\n",
       "      <td>5</td>\n",
       "      <td>0.0</td>\n",
       "      <td>0</td>\n",
       "    </tr>\n",
       "    <tr>\n",
       "      <th>3</th>\n",
       "      <td>2</td>\n",
       "      <td>5</td>\n",
       "      <td>5</td>\n",
       "      <td>0.0</td>\n",
       "      <td>0</td>\n",
       "    </tr>\n",
       "    <tr>\n",
       "      <th>4</th>\n",
       "      <td>1</td>\n",
       "      <td>6</td>\n",
       "      <td>5</td>\n",
       "      <td>0.0</td>\n",
       "      <td>0</td>\n",
       "    </tr>\n",
       "    <tr>\n",
       "      <th>...</th>\n",
       "      <td>...</td>\n",
       "      <td>...</td>\n",
       "      <td>...</td>\n",
       "      <td>...</td>\n",
       "      <td>...</td>\n",
       "    </tr>\n",
       "    <tr>\n",
       "      <th>1727</th>\n",
       "      <td>3</td>\n",
       "      <td>6</td>\n",
       "      <td>5</td>\n",
       "      <td>0.0</td>\n",
       "      <td>1</td>\n",
       "    </tr>\n",
       "    <tr>\n",
       "      <th>1728</th>\n",
       "      <td>2</td>\n",
       "      <td>3</td>\n",
       "      <td>5</td>\n",
       "      <td>0.0</td>\n",
       "      <td>0</td>\n",
       "    </tr>\n",
       "    <tr>\n",
       "      <th>1729</th>\n",
       "      <td>2</td>\n",
       "      <td>5</td>\n",
       "      <td>5</td>\n",
       "      <td>0.0</td>\n",
       "      <td>0</td>\n",
       "    </tr>\n",
       "    <tr>\n",
       "      <th>1730</th>\n",
       "      <td>1</td>\n",
       "      <td>4</td>\n",
       "      <td>5</td>\n",
       "      <td>0.0</td>\n",
       "      <td>0</td>\n",
       "    </tr>\n",
       "    <tr>\n",
       "      <th>1731</th>\n",
       "      <td>1</td>\n",
       "      <td>5</td>\n",
       "      <td>5</td>\n",
       "      <td>0.0</td>\n",
       "      <td>0</td>\n",
       "    </tr>\n",
       "  </tbody>\n",
       "</table>\n",
       "<p>1729 rows × 5 columns</p>\n",
       "</div>"
      ],
      "text/plain": [
       "      Years at camp  2021 ^^^^Leader Rating of Student  rating  \\\n",
       "0                 1                                  6       5   \n",
       "1                 2                                  3       5   \n",
       "2                 2                                  4       5   \n",
       "3                 2                                  5       5   \n",
       "4                 1                                  6       5   \n",
       "...             ...                                ...     ...   \n",
       "1727              3                                  6       5   \n",
       "1728              2                                  3       5   \n",
       "1729              2                                  5       5   \n",
       "1730              1                                  4       5   \n",
       "1731              1                                  5       5   \n",
       "\n",
       "      2021 > Enrolled sibling count  Changed Trip  \n",
       "0                               0.0             0  \n",
       "1                               0.0             0  \n",
       "2                               0.0             0  \n",
       "3                               0.0             0  \n",
       "4                               0.0             0  \n",
       "...                             ...           ...  \n",
       "1727                            0.0             1  \n",
       "1728                            0.0             0  \n",
       "1729                            0.0             0  \n",
       "1730                            0.0             0  \n",
       "1731                            0.0             0  \n",
       "\n",
       "[1729 rows x 5 columns]"
      ]
     },
     "execution_count": 79,
     "metadata": {},
     "output_type": "execute_result"
    }
   ],
   "source": [
    "# Splitting categorical and numeric columns:\n",
    "numeric = ['Years at camp', '2021 ^^^^Leader Rating of Student', 'rating', \n",
    "           '2021 > Enrolled sibling count', 'Changed Trip']\n",
    "df_num = df[numeric]\n",
    "df_num"
   ]
  },
  {
   "cell_type": "code",
   "execution_count": 80,
   "metadata": {},
   "outputs": [],
   "source": [
    "#First train-test-split:\n",
    "X = df_num\n",
    "y= df['target']\n",
    "X_train, X_test, y_train, y_test = train_test_split(X, y, random_state=42)"
   ]
  },
  {
   "cell_type": "code",
   "execution_count": 81,
   "metadata": {},
   "outputs": [
    {
     "data": {
      "text/plain": [
       "0    0.516204\n",
       "1    0.483796\n",
       "Name: target, dtype: float64"
      ]
     },
     "execution_count": 81,
     "metadata": {},
     "output_type": "execute_result"
    }
   ],
   "source": [
    "y_train.value_counts(normalize=True)"
   ]
  },
  {
   "cell_type": "code",
   "execution_count": 82,
   "metadata": {},
   "outputs": [],
   "source": [
    "# Dummy Classifier to fit the first model:\n",
    "model1 = DummyClassifier(strategy='constant', constant=1)"
   ]
  },
  {
   "cell_type": "code",
   "execution_count": 83,
   "metadata": {},
   "outputs": [
    {
     "data": {
      "text/html": [
       "<style>#sk-container-id-2 {color: black;}#sk-container-id-2 pre{padding: 0;}#sk-container-id-2 div.sk-toggleable {background-color: white;}#sk-container-id-2 label.sk-toggleable__label {cursor: pointer;display: block;width: 100%;margin-bottom: 0;padding: 0.3em;box-sizing: border-box;text-align: center;}#sk-container-id-2 label.sk-toggleable__label-arrow:before {content: \"▸\";float: left;margin-right: 0.25em;color: #696969;}#sk-container-id-2 label.sk-toggleable__label-arrow:hover:before {color: black;}#sk-container-id-2 div.sk-estimator:hover label.sk-toggleable__label-arrow:before {color: black;}#sk-container-id-2 div.sk-toggleable__content {max-height: 0;max-width: 0;overflow: hidden;text-align: left;background-color: #f0f8ff;}#sk-container-id-2 div.sk-toggleable__content pre {margin: 0.2em;color: black;border-radius: 0.25em;background-color: #f0f8ff;}#sk-container-id-2 input.sk-toggleable__control:checked~div.sk-toggleable__content {max-height: 200px;max-width: 100%;overflow: auto;}#sk-container-id-2 input.sk-toggleable__control:checked~label.sk-toggleable__label-arrow:before {content: \"▾\";}#sk-container-id-2 div.sk-estimator input.sk-toggleable__control:checked~label.sk-toggleable__label {background-color: #d4ebff;}#sk-container-id-2 div.sk-label input.sk-toggleable__control:checked~label.sk-toggleable__label {background-color: #d4ebff;}#sk-container-id-2 input.sk-hidden--visually {border: 0;clip: rect(1px 1px 1px 1px);clip: rect(1px, 1px, 1px, 1px);height: 1px;margin: -1px;overflow: hidden;padding: 0;position: absolute;width: 1px;}#sk-container-id-2 div.sk-estimator {font-family: monospace;background-color: #f0f8ff;border: 1px dotted black;border-radius: 0.25em;box-sizing: border-box;margin-bottom: 0.5em;}#sk-container-id-2 div.sk-estimator:hover {background-color: #d4ebff;}#sk-container-id-2 div.sk-parallel-item::after {content: \"\";width: 100%;border-bottom: 1px solid gray;flex-grow: 1;}#sk-container-id-2 div.sk-label:hover label.sk-toggleable__label {background-color: #d4ebff;}#sk-container-id-2 div.sk-serial::before {content: \"\";position: absolute;border-left: 1px solid gray;box-sizing: border-box;top: 0;bottom: 0;left: 50%;z-index: 0;}#sk-container-id-2 div.sk-serial {display: flex;flex-direction: column;align-items: center;background-color: white;padding-right: 0.2em;padding-left: 0.2em;position: relative;}#sk-container-id-2 div.sk-item {position: relative;z-index: 1;}#sk-container-id-2 div.sk-parallel {display: flex;align-items: stretch;justify-content: center;background-color: white;position: relative;}#sk-container-id-2 div.sk-item::before, #sk-container-id-2 div.sk-parallel-item::before {content: \"\";position: absolute;border-left: 1px solid gray;box-sizing: border-box;top: 0;bottom: 0;left: 50%;z-index: -1;}#sk-container-id-2 div.sk-parallel-item {display: flex;flex-direction: column;z-index: 1;position: relative;background-color: white;}#sk-container-id-2 div.sk-parallel-item:first-child::after {align-self: flex-end;width: 50%;}#sk-container-id-2 div.sk-parallel-item:last-child::after {align-self: flex-start;width: 50%;}#sk-container-id-2 div.sk-parallel-item:only-child::after {width: 0;}#sk-container-id-2 div.sk-dashed-wrapped {border: 1px dashed gray;margin: 0 0.4em 0.5em 0.4em;box-sizing: border-box;padding-bottom: 0.4em;background-color: white;}#sk-container-id-2 div.sk-label label {font-family: monospace;font-weight: bold;display: inline-block;line-height: 1.2em;}#sk-container-id-2 div.sk-label-container {text-align: center;}#sk-container-id-2 div.sk-container {/* jupyter's `normalize.less` sets `[hidden] { display: none; }` but bootstrap.min.css set `[hidden] { display: none !important; }` so we also need the `!important` here to be able to override the default hidden behavior on the sphinx rendered scikit-learn.org. See: https://github.com/scikit-learn/scikit-learn/issues/21755 */display: inline-block !important;position: relative;}#sk-container-id-2 div.sk-text-repr-fallback {display: none;}</style><div id=\"sk-container-id-2\" class=\"sk-top-container\"><div class=\"sk-text-repr-fallback\"><pre>DummyClassifier(constant=1, strategy=&#x27;constant&#x27;)</pre><b>In a Jupyter environment, please rerun this cell to show the HTML representation or trust the notebook. <br />On GitHub, the HTML representation is unable to render, please try loading this page with nbviewer.org.</b></div><div class=\"sk-container\" hidden><div class=\"sk-item\"><div class=\"sk-estimator sk-toggleable\"><input class=\"sk-toggleable__control sk-hidden--visually\" id=\"sk-estimator-id-2\" type=\"checkbox\" checked><label for=\"sk-estimator-id-2\" class=\"sk-toggleable__label sk-toggleable__label-arrow\">DummyClassifier</label><div class=\"sk-toggleable__content\"><pre>DummyClassifier(constant=1, strategy=&#x27;constant&#x27;)</pre></div></div></div></div></div>"
      ],
      "text/plain": [
       "DummyClassifier(constant=1, strategy='constant')"
      ]
     },
     "execution_count": 83,
     "metadata": {},
     "output_type": "execute_result"
    }
   ],
   "source": [
    "model1.fit(X_train, y_train)"
   ]
  },
  {
   "cell_type": "code",
   "execution_count": 84,
   "metadata": {},
   "outputs": [
    {
     "data": {
      "text/plain": [
       "array([1, 1, 1, ..., 1, 1, 1])"
      ]
     },
     "execution_count": 84,
     "metadata": {},
     "output_type": "execute_result"
    }
   ],
   "source": [
    "model1.predict(X_train)"
   ]
  },
  {
   "cell_type": "code",
   "execution_count": 85,
   "metadata": {},
   "outputs": [
    {
     "data": {
      "text/plain": [
       "0.4837962962962963"
      ]
     },
     "execution_count": 85,
     "metadata": {},
     "output_type": "execute_result"
    }
   ],
   "source": [
    "model1.score(X_train, y_train)"
   ]
  },
  {
   "cell_type": "code",
   "execution_count": 86,
   "metadata": {},
   "outputs": [
    {
     "data": {
      "text/plain": [
       "array([0.48461538, 0.48648649, 0.48262548, 0.48262548, 0.48262548])"
      ]
     },
     "execution_count": 86,
     "metadata": {},
     "output_type": "execute_result"
    }
   ],
   "source": [
    "cross_val_score(model1, X_train, y_train, cv=5)"
   ]
  },
  {
   "cell_type": "code",
   "execution_count": 87,
   "metadata": {},
   "outputs": [
    {
     "data": {
      "text/plain": [
       "0.4837956637956638"
      ]
     },
     "execution_count": 87,
     "metadata": {},
     "output_type": "execute_result"
    }
   ],
   "source": [
    "avg_cv = cross_val_score(model1, X_train, y_train, cv=5).mean()\n",
    "avg_cv"
   ]
  },
  {
   "cell_type": "code",
   "execution_count": 88,
   "metadata": {},
   "outputs": [
    {
     "data": {
      "text/plain": [
       "1.0"
      ]
     },
     "execution_count": 88,
     "metadata": {},
     "output_type": "execute_result"
    }
   ],
   "source": [
    "recall_score(y_train, model1.predict(X_train))"
   ]
  },
  {
   "cell_type": "code",
   "execution_count": 89,
   "metadata": {},
   "outputs": [
    {
     "data": {
      "text/plain": [
       "array([[  0, 669],\n",
       "       [  0, 627]])"
      ]
     },
     "execution_count": 89,
     "metadata": {},
     "output_type": "execute_result"
    }
   ],
   "source": [
    "confusion_matrix(y_train, model1.predict(X_train))"
   ]
  },
  {
   "cell_type": "markdown",
   "metadata": {},
   "source": [
    "## Categorical Feature Pre-Processing:"
   ]
  },
  {
   "cell_type": "code",
   "execution_count": 90,
   "metadata": {},
   "outputs": [
    {
     "data": {
      "text/plain": [
       "4"
      ]
     },
     "execution_count": 90,
     "metadata": {},
     "output_type": "execute_result"
    }
   ],
   "source": [
    "df['Primary family country'].nunique()"
   ]
  },
  {
   "cell_type": "code",
   "execution_count": 91,
   "metadata": {},
   "outputs": [
    {
     "data": {
      "text/plain": [
       "United States               1723\n",
       "United Kingdom                 3\n",
       "Canada                         2\n",
       "Northern Mariana Islands       1\n",
       "Name: Primary family country, dtype: int64"
      ]
     },
     "execution_count": 91,
     "metadata": {},
     "output_type": "execute_result"
    }
   ],
   "source": [
    "df['Primary family country'].value_counts()"
   ]
  },
  {
   "cell_type": "markdown",
   "metadata": {},
   "source": [
    "The 'Primary family country' column can be dropped. There are so many 'United States' values and too few other options for this feature to hold much significance."
   ]
  },
  {
   "cell_type": "code",
   "execution_count": 92,
   "metadata": {},
   "outputs": [],
   "source": [
    "# Dropping the column from the df:\n",
    "df.drop('Primary family country', axis=1, inplace=True)"
   ]
  },
  {
   "cell_type": "markdown",
   "metadata": {},
   "source": [
    "Now to review the 4 other columns that have many unique values before OneHotEncoding:"
   ]
  },
  {
   "cell_type": "code",
   "execution_count": 93,
   "metadata": {},
   "outputs": [
    {
     "data": {
      "text/plain": [
       "549"
      ]
     },
     "execution_count": 93,
     "metadata": {},
     "output_type": "execute_result"
    }
   ],
   "source": [
    "# The most unique values of the features being analyzed, would create the most new feature columns, likely not to be \n",
    "## as helpful for the model's analysis\n",
    "df['School'].nunique()"
   ]
  },
  {
   "cell_type": "code",
   "execution_count": 94,
   "metadata": {
    "scrolled": true
   },
   "outputs": [
    {
     "data": {
      "text/plain": [
       "307"
      ]
     },
     "execution_count": 94,
     "metadata": {},
     "output_type": "execute_result"
    }
   ],
   "source": [
    "df['Primary family city'].nunique()"
   ]
  },
  {
   "cell_type": "code",
   "execution_count": 95,
   "metadata": {},
   "outputs": [
    {
     "data": {
      "text/plain": [
       "43"
      ]
     },
     "execution_count": 95,
     "metadata": {},
     "output_type": "execute_result"
    }
   ],
   "source": [
    "# Would create the least amount of additional feature columns, though it would still create 43 additional features. \n",
    "## When iterating on the model, this will be a starting point. \n",
    "df['Primary family state'].nunique()"
   ]
  },
  {
   "cell_type": "code",
   "execution_count": 96,
   "metadata": {},
   "outputs": [
    {
     "data": {
      "text/plain": [
       "476"
      ]
     },
     "execution_count": 96,
     "metadata": {},
     "output_type": "execute_result"
    }
   ],
   "source": [
    "df['Primary family zip'].nunique()"
   ]
  },
  {
   "cell_type": "markdown",
   "metadata": {},
   "source": [
    "Before the OneHotEncoding process begins, I will remove these 4 columns. In future iterations they may be added back or they may be left out altogether, but for now they will be saved and dropped as \"optional\" features."
   ]
  },
  {
   "cell_type": "code",
   "execution_count": 97,
   "metadata": {},
   "outputs": [],
   "source": [
    "# Ultimately, these columns have so many unique values each, that to OneHotEncode them out may create a lot of \n",
    "## unnecessary noise in the model.\n",
    "optional = ['School', 'Primary family city', 'Primary family state', 'Primary family zip']\n",
    "df_modeling = df.drop(optional, axis=1)"
   ]
  },
  {
   "cell_type": "markdown",
   "metadata": {},
   "source": [
    "### OneHotEncoder"
   ]
  },
  {
   "cell_type": "markdown",
   "metadata": {},
   "source": [
    "#### First I split the data into training and testing data:"
   ]
  },
  {
   "cell_type": "code",
   "execution_count": 98,
   "metadata": {},
   "outputs": [],
   "source": [
    "X_ohe = df_modeling.drop('target', axis=1)\n",
    "y_ohe = df_modeling['target']\n",
    "X_train_ohe, X_test_ohe, y_train_ohe, y_test_ohe = train_test_split(X_ohe, y_ohe, random_state=42)"
   ]
  },
  {
   "cell_type": "code",
   "execution_count": 99,
   "metadata": {},
   "outputs": [
    {
     "data": {
      "text/plain": [
       "((1296, 13), (1296,))"
      ]
     },
     "execution_count": 99,
     "metadata": {},
     "output_type": "execute_result"
    }
   ],
   "source": [
    "X_train_ohe.shape, y_train_ohe.shape"
   ]
  },
  {
   "cell_type": "code",
   "execution_count": 100,
   "metadata": {
    "scrolled": true
   },
   "outputs": [],
   "source": [
    "ohe = OneHotEncoder(handle_unknown='ignore')"
   ]
  },
  {
   "cell_type": "code",
   "execution_count": 101,
   "metadata": {},
   "outputs": [],
   "source": [
    "cats = ['2021 > Grade', 'Gender', 'Lead source', '2021 > trip + section names (all)', \n",
    "                            '2021 > Is your child attending with a friend?', '2021 ^Trip Length', \n",
    "                            '2021 ^^Interested in Another Trip?', 'Changed Trip', '2021 ^Expectations']\n",
    "X_train_cats = X_train_ohe[cats]"
   ]
  },
  {
   "cell_type": "code",
   "execution_count": 102,
   "metadata": {},
   "outputs": [],
   "source": [
    "X_test_cats = X_test_ohe[cats]"
   ]
  },
  {
   "cell_type": "code",
   "execution_count": 103,
   "metadata": {},
   "outputs": [
    {
     "data": {
      "text/html": [
       "<style>#sk-container-id-3 {color: black;}#sk-container-id-3 pre{padding: 0;}#sk-container-id-3 div.sk-toggleable {background-color: white;}#sk-container-id-3 label.sk-toggleable__label {cursor: pointer;display: block;width: 100%;margin-bottom: 0;padding: 0.3em;box-sizing: border-box;text-align: center;}#sk-container-id-3 label.sk-toggleable__label-arrow:before {content: \"▸\";float: left;margin-right: 0.25em;color: #696969;}#sk-container-id-3 label.sk-toggleable__label-arrow:hover:before {color: black;}#sk-container-id-3 div.sk-estimator:hover label.sk-toggleable__label-arrow:before {color: black;}#sk-container-id-3 div.sk-toggleable__content {max-height: 0;max-width: 0;overflow: hidden;text-align: left;background-color: #f0f8ff;}#sk-container-id-3 div.sk-toggleable__content pre {margin: 0.2em;color: black;border-radius: 0.25em;background-color: #f0f8ff;}#sk-container-id-3 input.sk-toggleable__control:checked~div.sk-toggleable__content {max-height: 200px;max-width: 100%;overflow: auto;}#sk-container-id-3 input.sk-toggleable__control:checked~label.sk-toggleable__label-arrow:before {content: \"▾\";}#sk-container-id-3 div.sk-estimator input.sk-toggleable__control:checked~label.sk-toggleable__label {background-color: #d4ebff;}#sk-container-id-3 div.sk-label input.sk-toggleable__control:checked~label.sk-toggleable__label {background-color: #d4ebff;}#sk-container-id-3 input.sk-hidden--visually {border: 0;clip: rect(1px 1px 1px 1px);clip: rect(1px, 1px, 1px, 1px);height: 1px;margin: -1px;overflow: hidden;padding: 0;position: absolute;width: 1px;}#sk-container-id-3 div.sk-estimator {font-family: monospace;background-color: #f0f8ff;border: 1px dotted black;border-radius: 0.25em;box-sizing: border-box;margin-bottom: 0.5em;}#sk-container-id-3 div.sk-estimator:hover {background-color: #d4ebff;}#sk-container-id-3 div.sk-parallel-item::after {content: \"\";width: 100%;border-bottom: 1px solid gray;flex-grow: 1;}#sk-container-id-3 div.sk-label:hover label.sk-toggleable__label {background-color: #d4ebff;}#sk-container-id-3 div.sk-serial::before {content: \"\";position: absolute;border-left: 1px solid gray;box-sizing: border-box;top: 0;bottom: 0;left: 50%;z-index: 0;}#sk-container-id-3 div.sk-serial {display: flex;flex-direction: column;align-items: center;background-color: white;padding-right: 0.2em;padding-left: 0.2em;position: relative;}#sk-container-id-3 div.sk-item {position: relative;z-index: 1;}#sk-container-id-3 div.sk-parallel {display: flex;align-items: stretch;justify-content: center;background-color: white;position: relative;}#sk-container-id-3 div.sk-item::before, #sk-container-id-3 div.sk-parallel-item::before {content: \"\";position: absolute;border-left: 1px solid gray;box-sizing: border-box;top: 0;bottom: 0;left: 50%;z-index: -1;}#sk-container-id-3 div.sk-parallel-item {display: flex;flex-direction: column;z-index: 1;position: relative;background-color: white;}#sk-container-id-3 div.sk-parallel-item:first-child::after {align-self: flex-end;width: 50%;}#sk-container-id-3 div.sk-parallel-item:last-child::after {align-self: flex-start;width: 50%;}#sk-container-id-3 div.sk-parallel-item:only-child::after {width: 0;}#sk-container-id-3 div.sk-dashed-wrapped {border: 1px dashed gray;margin: 0 0.4em 0.5em 0.4em;box-sizing: border-box;padding-bottom: 0.4em;background-color: white;}#sk-container-id-3 div.sk-label label {font-family: monospace;font-weight: bold;display: inline-block;line-height: 1.2em;}#sk-container-id-3 div.sk-label-container {text-align: center;}#sk-container-id-3 div.sk-container {/* jupyter's `normalize.less` sets `[hidden] { display: none; }` but bootstrap.min.css set `[hidden] { display: none !important; }` so we also need the `!important` here to be able to override the default hidden behavior on the sphinx rendered scikit-learn.org. See: https://github.com/scikit-learn/scikit-learn/issues/21755 */display: inline-block !important;position: relative;}#sk-container-id-3 div.sk-text-repr-fallback {display: none;}</style><div id=\"sk-container-id-3\" class=\"sk-top-container\"><div class=\"sk-text-repr-fallback\"><pre>OneHotEncoder(handle_unknown=&#x27;ignore&#x27;)</pre><b>In a Jupyter environment, please rerun this cell to show the HTML representation or trust the notebook. <br />On GitHub, the HTML representation is unable to render, please try loading this page with nbviewer.org.</b></div><div class=\"sk-container\" hidden><div class=\"sk-item\"><div class=\"sk-estimator sk-toggleable\"><input class=\"sk-toggleable__control sk-hidden--visually\" id=\"sk-estimator-id-3\" type=\"checkbox\" checked><label for=\"sk-estimator-id-3\" class=\"sk-toggleable__label sk-toggleable__label-arrow\">OneHotEncoder</label><div class=\"sk-toggleable__content\"><pre>OneHotEncoder(handle_unknown=&#x27;ignore&#x27;)</pre></div></div></div></div></div>"
      ],
      "text/plain": [
       "OneHotEncoder(handle_unknown='ignore')"
      ]
     },
     "execution_count": 103,
     "metadata": {},
     "output_type": "execute_result"
    }
   ],
   "source": [
    "ohe.fit(X_train_cats)"
   ]
  },
  {
   "cell_type": "code",
   "execution_count": 104,
   "metadata": {
    "scrolled": true
   },
   "outputs": [
    {
     "data": {
      "text/plain": [
       "[array(['10th', '11th', '12th', '6th', '7th', '8th', '9th'], dtype=object),\n",
       " array(['Female', 'Male'], dtype=object),\n",
       " array(['Advertisement', 'Camp Advisory Service', 'Catalog', 'Competitor',\n",
       "        'Family', 'Friend', 'Google Ad', 'Home Presentation',\n",
       "        \"I'm a Moondance Alumni\", \"I'm a sibling of a Moondance Alumni\",\n",
       "        'No Source', 'School Auction', 'Social Media',\n",
       "        'Summer Opportunities Fair', 'Teacher', 'Web Search', 'Website',\n",
       "        'Word of Mouth'], dtype=object),\n",
       " array(['Belize+Costa Rica 1', 'Belize+Costa Rica 1B',\n",
       "        'Belize+Costa Rica 1B, Canyonlands 3', 'Belize+Costa Rica 2',\n",
       "        'Belize+Costa Rica 3', 'Big Wild 1', 'Big Wild 2', 'Big Wild 3',\n",
       "        'British Columbia 1', 'British Columbia 2', 'British Columbia 3',\n",
       "        'California 1', 'California 2', 'California 3', 'Canyonlands 1',\n",
       "        'Canyonlands 2', 'Canyonlands 3', 'Chamonix 4', 'Chamonix Alps 1',\n",
       "        'Chamonix Alps 2', 'Chamonix Alps 3',\n",
       "        'Chamonix Alps 3, Hawaiian Islands 1', 'Colorado Trail 1',\n",
       "        'Colorado Trail 2', 'Colorado Trail 3', 'Croatia 1', 'Croatia 2',\n",
       "        'Croatia 3', 'Dolomites 1', 'Dolomites 2', 'Dolomites 3',\n",
       "        'Dolomites 3, South Africa 1', 'Ecuador+Galapagos 1',\n",
       "        'Ecuador+Galapagos 2', 'Ecuador+Galapagos 3', 'FIJ 3', 'Fiji 1',\n",
       "        'Fiji 2', 'Hawaiian Islands 1', 'Hawaiian Islands 2',\n",
       "        'Hawaiian Islands 3', 'Iceland 1', 'Iceland 2', 'Iceland 3',\n",
       "        'Kenya + Zanzibar 1', 'Kenya + Zanzibar 2', 'Kenya + Zanzibar 3',\n",
       "        'Kilimanjaro 1', 'Kilimanjaro 2', 'Kilimanjaro 3', 'Kilimanjaro 4',\n",
       "        'MID3', 'Machu Picchu 1', 'Machu Picchu 2', 'Machu Picchu 3',\n",
       "        'Maui 1', 'Maui 2', 'Maui 3', 'Midnight Sun 1', 'Midnight Sun 2',\n",
       "        'Mystery Trip 1', 'Northern Lights 1', 'Northern Lights 2',\n",
       "        'Norway 1', 'Norway 2', 'Pacific Northwest 1',\n",
       "        'Pacific Northwest 2', 'SLO 2', 'Slovenia 1', 'Slovenia 3',\n",
       "        'South Africa 1', 'South Africa 2', 'South Africa 3',\n",
       "        'Spain + Morocco 1', 'Spain + Morocco 2', 'Spain+Morocco 3',\n",
       "        'Thailand 1', 'Thailand 2', 'The Olympics 1', 'The Olympics 2',\n",
       "        'The Olympics 3', 'Yellowstone 1', 'Yellowstone 2',\n",
       "        'Yellowstone 3', 'Yosemite 1', 'Yosemite 2'], dtype=object),\n",
       " array(['No', 'Yes'], dtype=object),\n",
       " array(['Just Right', 'Too Long', 'Too Short'], dtype=object),\n",
       " array(['No', 'Not Sure', 'Yes'], dtype=object),\n",
       " array([0, 1]),\n",
       " array(['Did not meet expectations', 'Exceeded expectations',\n",
       "        'Met expectations'], dtype=object)]"
      ]
     },
     "execution_count": 104,
     "metadata": {},
     "output_type": "execute_result"
    }
   ],
   "source": [
    "ohe.categories_"
   ]
  },
  {
   "cell_type": "code",
   "execution_count": 105,
   "metadata": {},
   "outputs": [
    {
     "data": {
      "text/plain": [
       "(1296, 126)"
      ]
     },
     "execution_count": 105,
     "metadata": {},
     "output_type": "execute_result"
    }
   ],
   "source": [
    "train_encoded = ohe.transform(X_train_cats)\n",
    "train_encoded.shape"
   ]
  },
  {
   "cell_type": "code",
   "execution_count": 106,
   "metadata": {},
   "outputs": [
    {
     "data": {
      "text/plain": [
       "(433, 126)"
      ]
     },
     "execution_count": 106,
     "metadata": {},
     "output_type": "execute_result"
    }
   ],
   "source": [
    "test_encoded = ohe.transform(X_test_cats)\n",
    "test_encoded.shape"
   ]
  },
  {
   "cell_type": "code",
   "execution_count": 107,
   "metadata": {},
   "outputs": [
    {
     "data": {
      "text/plain": [
       "matrix([[0., 1., 0., ..., 0., 1., 0.],\n",
       "        [0., 0., 0., ..., 0., 0., 1.],\n",
       "        [1., 0., 0., ..., 0., 0., 1.],\n",
       "        ...,\n",
       "        [1., 0., 0., ..., 0., 0., 1.],\n",
       "        [0., 0., 0., ..., 0., 1., 0.],\n",
       "        [0., 0., 0., ..., 0., 0., 1.]])"
      ]
     },
     "execution_count": 107,
     "metadata": {},
     "output_type": "execute_result"
    }
   ],
   "source": [
    "train_encoded.todense()"
   ]
  },
  {
   "cell_type": "code",
   "execution_count": 108,
   "metadata": {},
   "outputs": [
    {
     "data": {
      "text/plain": [
       "matrix([[0., 0., 1., ..., 0., 1., 0.],\n",
       "        [0., 0., 0., ..., 0., 0., 1.],\n",
       "        [0., 1., 0., ..., 0., 0., 1.],\n",
       "        ...,\n",
       "        [0., 0., 0., ..., 0., 0., 1.],\n",
       "        [0., 0., 0., ..., 0., 1., 0.],\n",
       "        [0., 0., 0., ..., 0., 0., 1.]])"
      ]
     },
     "execution_count": 108,
     "metadata": {},
     "output_type": "execute_result"
    }
   ],
   "source": [
    "test_encoded.todense()"
   ]
  },
  {
   "cell_type": "code",
   "execution_count": 109,
   "metadata": {},
   "outputs": [],
   "source": [
    "columns = ohe.get_feature_names_out()"
   ]
  },
  {
   "cell_type": "code",
   "execution_count": 110,
   "metadata": {},
   "outputs": [],
   "source": [
    "df_train_encoded = pd.DataFrame(train_encoded.todense(), columns=columns, index=X_train_cats.index)"
   ]
  },
  {
   "cell_type": "code",
   "execution_count": 111,
   "metadata": {},
   "outputs": [
    {
     "data": {
      "text/html": [
       "<div>\n",
       "<style scoped>\n",
       "    .dataframe tbody tr th:only-of-type {\n",
       "        vertical-align: middle;\n",
       "    }\n",
       "\n",
       "    .dataframe tbody tr th {\n",
       "        vertical-align: top;\n",
       "    }\n",
       "\n",
       "    .dataframe thead th {\n",
       "        text-align: right;\n",
       "    }\n",
       "</style>\n",
       "<table border=\"1\" class=\"dataframe\">\n",
       "  <thead>\n",
       "    <tr style=\"text-align: right;\">\n",
       "      <th></th>\n",
       "      <th>2021 &gt; Grade_10th</th>\n",
       "      <th>2021 &gt; Grade_11th</th>\n",
       "      <th>2021 &gt; Grade_12th</th>\n",
       "      <th>2021 &gt; Grade_6th</th>\n",
       "      <th>2021 &gt; Grade_7th</th>\n",
       "      <th>2021 &gt; Grade_8th</th>\n",
       "      <th>2021 &gt; Grade_9th</th>\n",
       "      <th>Gender_Female</th>\n",
       "      <th>Gender_Male</th>\n",
       "      <th>Lead source_Advertisement</th>\n",
       "      <th>...</th>\n",
       "      <th>2021 ^Trip Length_Too Long</th>\n",
       "      <th>2021 ^Trip Length_Too Short</th>\n",
       "      <th>2021 ^^Interested in Another Trip?_No</th>\n",
       "      <th>2021 ^^Interested in Another Trip?_Not Sure</th>\n",
       "      <th>2021 ^^Interested in Another Trip?_Yes</th>\n",
       "      <th>Changed Trip_0</th>\n",
       "      <th>Changed Trip_1</th>\n",
       "      <th>2021 ^Expectations_Did not meet expectations</th>\n",
       "      <th>2021 ^Expectations_Exceeded expectations</th>\n",
       "      <th>2021 ^Expectations_Met expectations</th>\n",
       "    </tr>\n",
       "  </thead>\n",
       "  <tbody>\n",
       "    <tr>\n",
       "      <th>758</th>\n",
       "      <td>0.0</td>\n",
       "      <td>1.0</td>\n",
       "      <td>0.0</td>\n",
       "      <td>0.0</td>\n",
       "      <td>0.0</td>\n",
       "      <td>0.0</td>\n",
       "      <td>0.0</td>\n",
       "      <td>0.0</td>\n",
       "      <td>1.0</td>\n",
       "      <td>0.0</td>\n",
       "      <td>...</td>\n",
       "      <td>0.0</td>\n",
       "      <td>1.0</td>\n",
       "      <td>0.0</td>\n",
       "      <td>0.0</td>\n",
       "      <td>1.0</td>\n",
       "      <td>0.0</td>\n",
       "      <td>1.0</td>\n",
       "      <td>0.0</td>\n",
       "      <td>1.0</td>\n",
       "      <td>0.0</td>\n",
       "    </tr>\n",
       "    <tr>\n",
       "      <th>590</th>\n",
       "      <td>0.0</td>\n",
       "      <td>0.0</td>\n",
       "      <td>0.0</td>\n",
       "      <td>0.0</td>\n",
       "      <td>0.0</td>\n",
       "      <td>1.0</td>\n",
       "      <td>0.0</td>\n",
       "      <td>1.0</td>\n",
       "      <td>0.0</td>\n",
       "      <td>0.0</td>\n",
       "      <td>...</td>\n",
       "      <td>0.0</td>\n",
       "      <td>1.0</td>\n",
       "      <td>0.0</td>\n",
       "      <td>0.0</td>\n",
       "      <td>1.0</td>\n",
       "      <td>1.0</td>\n",
       "      <td>0.0</td>\n",
       "      <td>0.0</td>\n",
       "      <td>0.0</td>\n",
       "      <td>1.0</td>\n",
       "    </tr>\n",
       "    <tr>\n",
       "      <th>908</th>\n",
       "      <td>1.0</td>\n",
       "      <td>0.0</td>\n",
       "      <td>0.0</td>\n",
       "      <td>0.0</td>\n",
       "      <td>0.0</td>\n",
       "      <td>0.0</td>\n",
       "      <td>0.0</td>\n",
       "      <td>0.0</td>\n",
       "      <td>1.0</td>\n",
       "      <td>0.0</td>\n",
       "      <td>...</td>\n",
       "      <td>0.0</td>\n",
       "      <td>0.0</td>\n",
       "      <td>0.0</td>\n",
       "      <td>0.0</td>\n",
       "      <td>1.0</td>\n",
       "      <td>1.0</td>\n",
       "      <td>0.0</td>\n",
       "      <td>0.0</td>\n",
       "      <td>0.0</td>\n",
       "      <td>1.0</td>\n",
       "    </tr>\n",
       "    <tr>\n",
       "      <th>1161</th>\n",
       "      <td>0.0</td>\n",
       "      <td>0.0</td>\n",
       "      <td>0.0</td>\n",
       "      <td>0.0</td>\n",
       "      <td>0.0</td>\n",
       "      <td>0.0</td>\n",
       "      <td>1.0</td>\n",
       "      <td>0.0</td>\n",
       "      <td>1.0</td>\n",
       "      <td>0.0</td>\n",
       "      <td>...</td>\n",
       "      <td>0.0</td>\n",
       "      <td>0.0</td>\n",
       "      <td>0.0</td>\n",
       "      <td>1.0</td>\n",
       "      <td>0.0</td>\n",
       "      <td>1.0</td>\n",
       "      <td>0.0</td>\n",
       "      <td>0.0</td>\n",
       "      <td>0.0</td>\n",
       "      <td>1.0</td>\n",
       "    </tr>\n",
       "    <tr>\n",
       "      <th>1712</th>\n",
       "      <td>1.0</td>\n",
       "      <td>0.0</td>\n",
       "      <td>0.0</td>\n",
       "      <td>0.0</td>\n",
       "      <td>0.0</td>\n",
       "      <td>0.0</td>\n",
       "      <td>0.0</td>\n",
       "      <td>1.0</td>\n",
       "      <td>0.0</td>\n",
       "      <td>0.0</td>\n",
       "      <td>...</td>\n",
       "      <td>0.0</td>\n",
       "      <td>0.0</td>\n",
       "      <td>0.0</td>\n",
       "      <td>0.0</td>\n",
       "      <td>1.0</td>\n",
       "      <td>1.0</td>\n",
       "      <td>0.0</td>\n",
       "      <td>0.0</td>\n",
       "      <td>0.0</td>\n",
       "      <td>1.0</td>\n",
       "    </tr>\n",
       "    <tr>\n",
       "      <th>...</th>\n",
       "      <td>...</td>\n",
       "      <td>...</td>\n",
       "      <td>...</td>\n",
       "      <td>...</td>\n",
       "      <td>...</td>\n",
       "      <td>...</td>\n",
       "      <td>...</td>\n",
       "      <td>...</td>\n",
       "      <td>...</td>\n",
       "      <td>...</td>\n",
       "      <td>...</td>\n",
       "      <td>...</td>\n",
       "      <td>...</td>\n",
       "      <td>...</td>\n",
       "      <td>...</td>\n",
       "      <td>...</td>\n",
       "      <td>...</td>\n",
       "      <td>...</td>\n",
       "      <td>...</td>\n",
       "      <td>...</td>\n",
       "      <td>...</td>\n",
       "    </tr>\n",
       "    <tr>\n",
       "      <th>1132</th>\n",
       "      <td>0.0</td>\n",
       "      <td>0.0</td>\n",
       "      <td>0.0</td>\n",
       "      <td>0.0</td>\n",
       "      <td>0.0</td>\n",
       "      <td>0.0</td>\n",
       "      <td>1.0</td>\n",
       "      <td>0.0</td>\n",
       "      <td>1.0</td>\n",
       "      <td>0.0</td>\n",
       "      <td>...</td>\n",
       "      <td>0.0</td>\n",
       "      <td>0.0</td>\n",
       "      <td>0.0</td>\n",
       "      <td>0.0</td>\n",
       "      <td>1.0</td>\n",
       "      <td>1.0</td>\n",
       "      <td>0.0</td>\n",
       "      <td>0.0</td>\n",
       "      <td>0.0</td>\n",
       "      <td>1.0</td>\n",
       "    </tr>\n",
       "    <tr>\n",
       "      <th>1296</th>\n",
       "      <td>0.0</td>\n",
       "      <td>0.0</td>\n",
       "      <td>0.0</td>\n",
       "      <td>0.0</td>\n",
       "      <td>0.0</td>\n",
       "      <td>1.0</td>\n",
       "      <td>0.0</td>\n",
       "      <td>1.0</td>\n",
       "      <td>0.0</td>\n",
       "      <td>0.0</td>\n",
       "      <td>...</td>\n",
       "      <td>0.0</td>\n",
       "      <td>0.0</td>\n",
       "      <td>0.0</td>\n",
       "      <td>0.0</td>\n",
       "      <td>1.0</td>\n",
       "      <td>1.0</td>\n",
       "      <td>0.0</td>\n",
       "      <td>0.0</td>\n",
       "      <td>0.0</td>\n",
       "      <td>1.0</td>\n",
       "    </tr>\n",
       "    <tr>\n",
       "      <th>861</th>\n",
       "      <td>1.0</td>\n",
       "      <td>0.0</td>\n",
       "      <td>0.0</td>\n",
       "      <td>0.0</td>\n",
       "      <td>0.0</td>\n",
       "      <td>0.0</td>\n",
       "      <td>0.0</td>\n",
       "      <td>1.0</td>\n",
       "      <td>0.0</td>\n",
       "      <td>0.0</td>\n",
       "      <td>...</td>\n",
       "      <td>0.0</td>\n",
       "      <td>0.0</td>\n",
       "      <td>0.0</td>\n",
       "      <td>0.0</td>\n",
       "      <td>1.0</td>\n",
       "      <td>1.0</td>\n",
       "      <td>0.0</td>\n",
       "      <td>0.0</td>\n",
       "      <td>0.0</td>\n",
       "      <td>1.0</td>\n",
       "    </tr>\n",
       "    <tr>\n",
       "      <th>1461</th>\n",
       "      <td>0.0</td>\n",
       "      <td>0.0</td>\n",
       "      <td>0.0</td>\n",
       "      <td>0.0</td>\n",
       "      <td>1.0</td>\n",
       "      <td>0.0</td>\n",
       "      <td>0.0</td>\n",
       "      <td>0.0</td>\n",
       "      <td>1.0</td>\n",
       "      <td>0.0</td>\n",
       "      <td>...</td>\n",
       "      <td>0.0</td>\n",
       "      <td>0.0</td>\n",
       "      <td>0.0</td>\n",
       "      <td>1.0</td>\n",
       "      <td>0.0</td>\n",
       "      <td>1.0</td>\n",
       "      <td>0.0</td>\n",
       "      <td>0.0</td>\n",
       "      <td>1.0</td>\n",
       "      <td>0.0</td>\n",
       "    </tr>\n",
       "    <tr>\n",
       "      <th>1128</th>\n",
       "      <td>0.0</td>\n",
       "      <td>0.0</td>\n",
       "      <td>0.0</td>\n",
       "      <td>0.0</td>\n",
       "      <td>0.0</td>\n",
       "      <td>0.0</td>\n",
       "      <td>1.0</td>\n",
       "      <td>1.0</td>\n",
       "      <td>0.0</td>\n",
       "      <td>0.0</td>\n",
       "      <td>...</td>\n",
       "      <td>0.0</td>\n",
       "      <td>1.0</td>\n",
       "      <td>0.0</td>\n",
       "      <td>0.0</td>\n",
       "      <td>1.0</td>\n",
       "      <td>1.0</td>\n",
       "      <td>0.0</td>\n",
       "      <td>0.0</td>\n",
       "      <td>0.0</td>\n",
       "      <td>1.0</td>\n",
       "    </tr>\n",
       "  </tbody>\n",
       "</table>\n",
       "<p>1296 rows × 126 columns</p>\n",
       "</div>"
      ],
      "text/plain": [
       "      2021 > Grade_10th  2021 > Grade_11th  2021 > Grade_12th  \\\n",
       "758                 0.0                1.0                0.0   \n",
       "590                 0.0                0.0                0.0   \n",
       "908                 1.0                0.0                0.0   \n",
       "1161                0.0                0.0                0.0   \n",
       "1712                1.0                0.0                0.0   \n",
       "...                 ...                ...                ...   \n",
       "1132                0.0                0.0                0.0   \n",
       "1296                0.0                0.0                0.0   \n",
       "861                 1.0                0.0                0.0   \n",
       "1461                0.0                0.0                0.0   \n",
       "1128                0.0                0.0                0.0   \n",
       "\n",
       "      2021 > Grade_6th  2021 > Grade_7th  2021 > Grade_8th  2021 > Grade_9th  \\\n",
       "758                0.0               0.0               0.0               0.0   \n",
       "590                0.0               0.0               1.0               0.0   \n",
       "908                0.0               0.0               0.0               0.0   \n",
       "1161               0.0               0.0               0.0               1.0   \n",
       "1712               0.0               0.0               0.0               0.0   \n",
       "...                ...               ...               ...               ...   \n",
       "1132               0.0               0.0               0.0               1.0   \n",
       "1296               0.0               0.0               1.0               0.0   \n",
       "861                0.0               0.0               0.0               0.0   \n",
       "1461               0.0               1.0               0.0               0.0   \n",
       "1128               0.0               0.0               0.0               1.0   \n",
       "\n",
       "      Gender_Female  Gender_Male  Lead source_Advertisement  ...  \\\n",
       "758             0.0          1.0                        0.0  ...   \n",
       "590             1.0          0.0                        0.0  ...   \n",
       "908             0.0          1.0                        0.0  ...   \n",
       "1161            0.0          1.0                        0.0  ...   \n",
       "1712            1.0          0.0                        0.0  ...   \n",
       "...             ...          ...                        ...  ...   \n",
       "1132            0.0          1.0                        0.0  ...   \n",
       "1296            1.0          0.0                        0.0  ...   \n",
       "861             1.0          0.0                        0.0  ...   \n",
       "1461            0.0          1.0                        0.0  ...   \n",
       "1128            1.0          0.0                        0.0  ...   \n",
       "\n",
       "      2021 ^Trip Length_Too Long  2021 ^Trip Length_Too Short  \\\n",
       "758                          0.0                          1.0   \n",
       "590                          0.0                          1.0   \n",
       "908                          0.0                          0.0   \n",
       "1161                         0.0                          0.0   \n",
       "1712                         0.0                          0.0   \n",
       "...                          ...                          ...   \n",
       "1132                         0.0                          0.0   \n",
       "1296                         0.0                          0.0   \n",
       "861                          0.0                          0.0   \n",
       "1461                         0.0                          0.0   \n",
       "1128                         0.0                          1.0   \n",
       "\n",
       "      2021 ^^Interested in Another Trip?_No  \\\n",
       "758                                     0.0   \n",
       "590                                     0.0   \n",
       "908                                     0.0   \n",
       "1161                                    0.0   \n",
       "1712                                    0.0   \n",
       "...                                     ...   \n",
       "1132                                    0.0   \n",
       "1296                                    0.0   \n",
       "861                                     0.0   \n",
       "1461                                    0.0   \n",
       "1128                                    0.0   \n",
       "\n",
       "      2021 ^^Interested in Another Trip?_Not Sure  \\\n",
       "758                                           0.0   \n",
       "590                                           0.0   \n",
       "908                                           0.0   \n",
       "1161                                          1.0   \n",
       "1712                                          0.0   \n",
       "...                                           ...   \n",
       "1132                                          0.0   \n",
       "1296                                          0.0   \n",
       "861                                           0.0   \n",
       "1461                                          1.0   \n",
       "1128                                          0.0   \n",
       "\n",
       "      2021 ^^Interested in Another Trip?_Yes  Changed Trip_0  Changed Trip_1  \\\n",
       "758                                      1.0             0.0             1.0   \n",
       "590                                      1.0             1.0             0.0   \n",
       "908                                      1.0             1.0             0.0   \n",
       "1161                                     0.0             1.0             0.0   \n",
       "1712                                     1.0             1.0             0.0   \n",
       "...                                      ...             ...             ...   \n",
       "1132                                     1.0             1.0             0.0   \n",
       "1296                                     1.0             1.0             0.0   \n",
       "861                                      1.0             1.0             0.0   \n",
       "1461                                     0.0             1.0             0.0   \n",
       "1128                                     1.0             1.0             0.0   \n",
       "\n",
       "      2021 ^Expectations_Did not meet expectations  \\\n",
       "758                                            0.0   \n",
       "590                                            0.0   \n",
       "908                                            0.0   \n",
       "1161                                           0.0   \n",
       "1712                                           0.0   \n",
       "...                                            ...   \n",
       "1132                                           0.0   \n",
       "1296                                           0.0   \n",
       "861                                            0.0   \n",
       "1461                                           0.0   \n",
       "1128                                           0.0   \n",
       "\n",
       "      2021 ^Expectations_Exceeded expectations  \\\n",
       "758                                        1.0   \n",
       "590                                        0.0   \n",
       "908                                        0.0   \n",
       "1161                                       0.0   \n",
       "1712                                       0.0   \n",
       "...                                        ...   \n",
       "1132                                       0.0   \n",
       "1296                                       0.0   \n",
       "861                                        0.0   \n",
       "1461                                       1.0   \n",
       "1128                                       0.0   \n",
       "\n",
       "      2021 ^Expectations_Met expectations  \n",
       "758                                   0.0  \n",
       "590                                   1.0  \n",
       "908                                   1.0  \n",
       "1161                                  1.0  \n",
       "1712                                  1.0  \n",
       "...                                   ...  \n",
       "1132                                  1.0  \n",
       "1296                                  1.0  \n",
       "861                                   1.0  \n",
       "1461                                  0.0  \n",
       "1128                                  1.0  \n",
       "\n",
       "[1296 rows x 126 columns]"
      ]
     },
     "execution_count": 111,
     "metadata": {},
     "output_type": "execute_result"
    }
   ],
   "source": [
    "df_train_encoded"
   ]
  },
  {
   "cell_type": "code",
   "execution_count": 112,
   "metadata": {},
   "outputs": [],
   "source": [
    "df_test_encoded = pd.DataFrame(test_encoded.todense(), columns=columns, index=X_test_cats.index)"
   ]
  },
  {
   "cell_type": "code",
   "execution_count": 113,
   "metadata": {},
   "outputs": [
    {
     "data": {
      "text/html": [
       "<div>\n",
       "<style scoped>\n",
       "    .dataframe tbody tr th:only-of-type {\n",
       "        vertical-align: middle;\n",
       "    }\n",
       "\n",
       "    .dataframe tbody tr th {\n",
       "        vertical-align: top;\n",
       "    }\n",
       "\n",
       "    .dataframe thead th {\n",
       "        text-align: right;\n",
       "    }\n",
       "</style>\n",
       "<table border=\"1\" class=\"dataframe\">\n",
       "  <thead>\n",
       "    <tr style=\"text-align: right;\">\n",
       "      <th></th>\n",
       "      <th>Years at camp</th>\n",
       "      <th>2021 &gt; Enrolled sibling count</th>\n",
       "      <th>2021 ^^^^Leader Rating of Student</th>\n",
       "      <th>rating</th>\n",
       "    </tr>\n",
       "  </thead>\n",
       "  <tbody>\n",
       "    <tr>\n",
       "      <th>758</th>\n",
       "      <td>2</td>\n",
       "      <td>0.0</td>\n",
       "      <td>6</td>\n",
       "      <td>6</td>\n",
       "    </tr>\n",
       "    <tr>\n",
       "      <th>590</th>\n",
       "      <td>4</td>\n",
       "      <td>0.0</td>\n",
       "      <td>6</td>\n",
       "      <td>5</td>\n",
       "    </tr>\n",
       "    <tr>\n",
       "      <th>908</th>\n",
       "      <td>2</td>\n",
       "      <td>1.0</td>\n",
       "      <td>3</td>\n",
       "      <td>4</td>\n",
       "    </tr>\n",
       "    <tr>\n",
       "      <th>1161</th>\n",
       "      <td>2</td>\n",
       "      <td>0.0</td>\n",
       "      <td>2</td>\n",
       "      <td>4</td>\n",
       "    </tr>\n",
       "    <tr>\n",
       "      <th>1712</th>\n",
       "      <td>3</td>\n",
       "      <td>1.0</td>\n",
       "      <td>5</td>\n",
       "      <td>6</td>\n",
       "    </tr>\n",
       "    <tr>\n",
       "      <th>...</th>\n",
       "      <td>...</td>\n",
       "      <td>...</td>\n",
       "      <td>...</td>\n",
       "      <td>...</td>\n",
       "    </tr>\n",
       "    <tr>\n",
       "      <th>1132</th>\n",
       "      <td>1</td>\n",
       "      <td>0.0</td>\n",
       "      <td>5</td>\n",
       "      <td>5</td>\n",
       "    </tr>\n",
       "    <tr>\n",
       "      <th>1296</th>\n",
       "      <td>4</td>\n",
       "      <td>0.0</td>\n",
       "      <td>6</td>\n",
       "      <td>5</td>\n",
       "    </tr>\n",
       "    <tr>\n",
       "      <th>861</th>\n",
       "      <td>5</td>\n",
       "      <td>1.0</td>\n",
       "      <td>6</td>\n",
       "      <td>5</td>\n",
       "    </tr>\n",
       "    <tr>\n",
       "      <th>1461</th>\n",
       "      <td>1</td>\n",
       "      <td>0.0</td>\n",
       "      <td>5</td>\n",
       "      <td>6</td>\n",
       "    </tr>\n",
       "    <tr>\n",
       "      <th>1128</th>\n",
       "      <td>2</td>\n",
       "      <td>0.0</td>\n",
       "      <td>6</td>\n",
       "      <td>5</td>\n",
       "    </tr>\n",
       "  </tbody>\n",
       "</table>\n",
       "<p>1296 rows × 4 columns</p>\n",
       "</div>"
      ],
      "text/plain": [
       "      Years at camp  2021 > Enrolled sibling count  \\\n",
       "758               2                            0.0   \n",
       "590               4                            0.0   \n",
       "908               2                            1.0   \n",
       "1161              2                            0.0   \n",
       "1712              3                            1.0   \n",
       "...             ...                            ...   \n",
       "1132              1                            0.0   \n",
       "1296              4                            0.0   \n",
       "861               5                            1.0   \n",
       "1461              1                            0.0   \n",
       "1128              2                            0.0   \n",
       "\n",
       "      2021 ^^^^Leader Rating of Student  rating  \n",
       "758                                   6       6  \n",
       "590                                   6       5  \n",
       "908                                   3       4  \n",
       "1161                                  2       4  \n",
       "1712                                  5       6  \n",
       "...                                 ...     ...  \n",
       "1132                                  5       5  \n",
       "1296                                  6       5  \n",
       "861                                   6       5  \n",
       "1461                                  5       6  \n",
       "1128                                  6       5  \n",
       "\n",
       "[1296 rows x 4 columns]"
      ]
     },
     "execution_count": 113,
     "metadata": {},
     "output_type": "execute_result"
    }
   ],
   "source": [
    "X_train_nums = X_train_ohe.drop(cats, axis=1)\n",
    "X_train_nums"
   ]
  },
  {
   "cell_type": "code",
   "execution_count": 114,
   "metadata": {},
   "outputs": [
    {
     "data": {
      "text/html": [
       "<div>\n",
       "<style scoped>\n",
       "    .dataframe tbody tr th:only-of-type {\n",
       "        vertical-align: middle;\n",
       "    }\n",
       "\n",
       "    .dataframe tbody tr th {\n",
       "        vertical-align: top;\n",
       "    }\n",
       "\n",
       "    .dataframe thead th {\n",
       "        text-align: right;\n",
       "    }\n",
       "</style>\n",
       "<table border=\"1\" class=\"dataframe\">\n",
       "  <thead>\n",
       "    <tr style=\"text-align: right;\">\n",
       "      <th></th>\n",
       "      <th>Years at camp</th>\n",
       "      <th>2021 &gt; Enrolled sibling count</th>\n",
       "      <th>2021 ^^^^Leader Rating of Student</th>\n",
       "      <th>rating</th>\n",
       "    </tr>\n",
       "  </thead>\n",
       "  <tbody>\n",
       "    <tr>\n",
       "      <th>600</th>\n",
       "      <td>2</td>\n",
       "      <td>0.0</td>\n",
       "      <td>6</td>\n",
       "      <td>6</td>\n",
       "    </tr>\n",
       "    <tr>\n",
       "      <th>1203</th>\n",
       "      <td>2</td>\n",
       "      <td>0.0</td>\n",
       "      <td>4</td>\n",
       "      <td>4</td>\n",
       "    </tr>\n",
       "    <tr>\n",
       "      <th>629</th>\n",
       "      <td>4</td>\n",
       "      <td>2.0</td>\n",
       "      <td>4</td>\n",
       "      <td>6</td>\n",
       "    </tr>\n",
       "    <tr>\n",
       "      <th>1714</th>\n",
       "      <td>1</td>\n",
       "      <td>0.0</td>\n",
       "      <td>2</td>\n",
       "      <td>5</td>\n",
       "    </tr>\n",
       "    <tr>\n",
       "      <th>1265</th>\n",
       "      <td>3</td>\n",
       "      <td>1.0</td>\n",
       "      <td>6</td>\n",
       "      <td>5</td>\n",
       "    </tr>\n",
       "    <tr>\n",
       "      <th>...</th>\n",
       "      <td>...</td>\n",
       "      <td>...</td>\n",
       "      <td>...</td>\n",
       "      <td>...</td>\n",
       "    </tr>\n",
       "    <tr>\n",
       "      <th>620</th>\n",
       "      <td>2</td>\n",
       "      <td>0.0</td>\n",
       "      <td>4</td>\n",
       "      <td>4</td>\n",
       "    </tr>\n",
       "    <tr>\n",
       "      <th>1076</th>\n",
       "      <td>1</td>\n",
       "      <td>0.0</td>\n",
       "      <td>4</td>\n",
       "      <td>6</td>\n",
       "    </tr>\n",
       "    <tr>\n",
       "      <th>1237</th>\n",
       "      <td>1</td>\n",
       "      <td>0.0</td>\n",
       "      <td>6</td>\n",
       "      <td>6</td>\n",
       "    </tr>\n",
       "    <tr>\n",
       "      <th>539</th>\n",
       "      <td>2</td>\n",
       "      <td>0.0</td>\n",
       "      <td>6</td>\n",
       "      <td>6</td>\n",
       "    </tr>\n",
       "    <tr>\n",
       "      <th>1038</th>\n",
       "      <td>2</td>\n",
       "      <td>0.0</td>\n",
       "      <td>5</td>\n",
       "      <td>5</td>\n",
       "    </tr>\n",
       "  </tbody>\n",
       "</table>\n",
       "<p>433 rows × 4 columns</p>\n",
       "</div>"
      ],
      "text/plain": [
       "      Years at camp  2021 > Enrolled sibling count  \\\n",
       "600               2                            0.0   \n",
       "1203              2                            0.0   \n",
       "629               4                            2.0   \n",
       "1714              1                            0.0   \n",
       "1265              3                            1.0   \n",
       "...             ...                            ...   \n",
       "620               2                            0.0   \n",
       "1076              1                            0.0   \n",
       "1237              1                            0.0   \n",
       "539               2                            0.0   \n",
       "1038              2                            0.0   \n",
       "\n",
       "      2021 ^^^^Leader Rating of Student  rating  \n",
       "600                                   6       6  \n",
       "1203                                  4       4  \n",
       "629                                   4       6  \n",
       "1714                                  2       5  \n",
       "1265                                  6       5  \n",
       "...                                 ...     ...  \n",
       "620                                   4       4  \n",
       "1076                                  4       6  \n",
       "1237                                  6       6  \n",
       "539                                   6       6  \n",
       "1038                                  5       5  \n",
       "\n",
       "[433 rows x 4 columns]"
      ]
     },
     "execution_count": 114,
     "metadata": {},
     "output_type": "execute_result"
    }
   ],
   "source": [
    "X_test_nums = X_test_ohe.drop(cats, axis=1)\n",
    "X_test_nums"
   ]
  },
  {
   "cell_type": "code",
   "execution_count": 115,
   "metadata": {},
   "outputs": [
    {
     "data": {
      "text/html": [
       "<div>\n",
       "<style scoped>\n",
       "    .dataframe tbody tr th:only-of-type {\n",
       "        vertical-align: middle;\n",
       "    }\n",
       "\n",
       "    .dataframe tbody tr th {\n",
       "        vertical-align: top;\n",
       "    }\n",
       "\n",
       "    .dataframe thead th {\n",
       "        text-align: right;\n",
       "    }\n",
       "</style>\n",
       "<table border=\"1\" class=\"dataframe\">\n",
       "  <thead>\n",
       "    <tr style=\"text-align: right;\">\n",
       "      <th></th>\n",
       "      <th>2021 &gt; Grade_10th</th>\n",
       "      <th>2021 &gt; Grade_11th</th>\n",
       "      <th>2021 &gt; Grade_12th</th>\n",
       "      <th>2021 &gt; Grade_6th</th>\n",
       "      <th>2021 &gt; Grade_7th</th>\n",
       "      <th>2021 &gt; Grade_8th</th>\n",
       "      <th>2021 &gt; Grade_9th</th>\n",
       "      <th>Gender_Female</th>\n",
       "      <th>Gender_Male</th>\n",
       "      <th>Lead source_Advertisement</th>\n",
       "      <th>...</th>\n",
       "      <th>2021 ^^Interested in Another Trip?_Yes</th>\n",
       "      <th>Changed Trip_0</th>\n",
       "      <th>Changed Trip_1</th>\n",
       "      <th>2021 ^Expectations_Did not meet expectations</th>\n",
       "      <th>2021 ^Expectations_Exceeded expectations</th>\n",
       "      <th>2021 ^Expectations_Met expectations</th>\n",
       "      <th>Years at camp</th>\n",
       "      <th>2021 &gt; Enrolled sibling count</th>\n",
       "      <th>2021 ^^^^Leader Rating of Student</th>\n",
       "      <th>rating</th>\n",
       "    </tr>\n",
       "  </thead>\n",
       "  <tbody>\n",
       "    <tr>\n",
       "      <th>758</th>\n",
       "      <td>0.0</td>\n",
       "      <td>1.0</td>\n",
       "      <td>0.0</td>\n",
       "      <td>0.0</td>\n",
       "      <td>0.0</td>\n",
       "      <td>0.0</td>\n",
       "      <td>0.0</td>\n",
       "      <td>0.0</td>\n",
       "      <td>1.0</td>\n",
       "      <td>0.0</td>\n",
       "      <td>...</td>\n",
       "      <td>1.0</td>\n",
       "      <td>0.0</td>\n",
       "      <td>1.0</td>\n",
       "      <td>0.0</td>\n",
       "      <td>1.0</td>\n",
       "      <td>0.0</td>\n",
       "      <td>2</td>\n",
       "      <td>0.0</td>\n",
       "      <td>6</td>\n",
       "      <td>6</td>\n",
       "    </tr>\n",
       "    <tr>\n",
       "      <th>590</th>\n",
       "      <td>0.0</td>\n",
       "      <td>0.0</td>\n",
       "      <td>0.0</td>\n",
       "      <td>0.0</td>\n",
       "      <td>0.0</td>\n",
       "      <td>1.0</td>\n",
       "      <td>0.0</td>\n",
       "      <td>1.0</td>\n",
       "      <td>0.0</td>\n",
       "      <td>0.0</td>\n",
       "      <td>...</td>\n",
       "      <td>1.0</td>\n",
       "      <td>1.0</td>\n",
       "      <td>0.0</td>\n",
       "      <td>0.0</td>\n",
       "      <td>0.0</td>\n",
       "      <td>1.0</td>\n",
       "      <td>4</td>\n",
       "      <td>0.0</td>\n",
       "      <td>6</td>\n",
       "      <td>5</td>\n",
       "    </tr>\n",
       "    <tr>\n",
       "      <th>908</th>\n",
       "      <td>1.0</td>\n",
       "      <td>0.0</td>\n",
       "      <td>0.0</td>\n",
       "      <td>0.0</td>\n",
       "      <td>0.0</td>\n",
       "      <td>0.0</td>\n",
       "      <td>0.0</td>\n",
       "      <td>0.0</td>\n",
       "      <td>1.0</td>\n",
       "      <td>0.0</td>\n",
       "      <td>...</td>\n",
       "      <td>1.0</td>\n",
       "      <td>1.0</td>\n",
       "      <td>0.0</td>\n",
       "      <td>0.0</td>\n",
       "      <td>0.0</td>\n",
       "      <td>1.0</td>\n",
       "      <td>2</td>\n",
       "      <td>1.0</td>\n",
       "      <td>3</td>\n",
       "      <td>4</td>\n",
       "    </tr>\n",
       "    <tr>\n",
       "      <th>1161</th>\n",
       "      <td>0.0</td>\n",
       "      <td>0.0</td>\n",
       "      <td>0.0</td>\n",
       "      <td>0.0</td>\n",
       "      <td>0.0</td>\n",
       "      <td>0.0</td>\n",
       "      <td>1.0</td>\n",
       "      <td>0.0</td>\n",
       "      <td>1.0</td>\n",
       "      <td>0.0</td>\n",
       "      <td>...</td>\n",
       "      <td>0.0</td>\n",
       "      <td>1.0</td>\n",
       "      <td>0.0</td>\n",
       "      <td>0.0</td>\n",
       "      <td>0.0</td>\n",
       "      <td>1.0</td>\n",
       "      <td>2</td>\n",
       "      <td>0.0</td>\n",
       "      <td>2</td>\n",
       "      <td>4</td>\n",
       "    </tr>\n",
       "    <tr>\n",
       "      <th>1712</th>\n",
       "      <td>1.0</td>\n",
       "      <td>0.0</td>\n",
       "      <td>0.0</td>\n",
       "      <td>0.0</td>\n",
       "      <td>0.0</td>\n",
       "      <td>0.0</td>\n",
       "      <td>0.0</td>\n",
       "      <td>1.0</td>\n",
       "      <td>0.0</td>\n",
       "      <td>0.0</td>\n",
       "      <td>...</td>\n",
       "      <td>1.0</td>\n",
       "      <td>1.0</td>\n",
       "      <td>0.0</td>\n",
       "      <td>0.0</td>\n",
       "      <td>0.0</td>\n",
       "      <td>1.0</td>\n",
       "      <td>3</td>\n",
       "      <td>1.0</td>\n",
       "      <td>5</td>\n",
       "      <td>6</td>\n",
       "    </tr>\n",
       "    <tr>\n",
       "      <th>...</th>\n",
       "      <td>...</td>\n",
       "      <td>...</td>\n",
       "      <td>...</td>\n",
       "      <td>...</td>\n",
       "      <td>...</td>\n",
       "      <td>...</td>\n",
       "      <td>...</td>\n",
       "      <td>...</td>\n",
       "      <td>...</td>\n",
       "      <td>...</td>\n",
       "      <td>...</td>\n",
       "      <td>...</td>\n",
       "      <td>...</td>\n",
       "      <td>...</td>\n",
       "      <td>...</td>\n",
       "      <td>...</td>\n",
       "      <td>...</td>\n",
       "      <td>...</td>\n",
       "      <td>...</td>\n",
       "      <td>...</td>\n",
       "      <td>...</td>\n",
       "    </tr>\n",
       "    <tr>\n",
       "      <th>1132</th>\n",
       "      <td>0.0</td>\n",
       "      <td>0.0</td>\n",
       "      <td>0.0</td>\n",
       "      <td>0.0</td>\n",
       "      <td>0.0</td>\n",
       "      <td>0.0</td>\n",
       "      <td>1.0</td>\n",
       "      <td>0.0</td>\n",
       "      <td>1.0</td>\n",
       "      <td>0.0</td>\n",
       "      <td>...</td>\n",
       "      <td>1.0</td>\n",
       "      <td>1.0</td>\n",
       "      <td>0.0</td>\n",
       "      <td>0.0</td>\n",
       "      <td>0.0</td>\n",
       "      <td>1.0</td>\n",
       "      <td>1</td>\n",
       "      <td>0.0</td>\n",
       "      <td>5</td>\n",
       "      <td>5</td>\n",
       "    </tr>\n",
       "    <tr>\n",
       "      <th>1296</th>\n",
       "      <td>0.0</td>\n",
       "      <td>0.0</td>\n",
       "      <td>0.0</td>\n",
       "      <td>0.0</td>\n",
       "      <td>0.0</td>\n",
       "      <td>1.0</td>\n",
       "      <td>0.0</td>\n",
       "      <td>1.0</td>\n",
       "      <td>0.0</td>\n",
       "      <td>0.0</td>\n",
       "      <td>...</td>\n",
       "      <td>1.0</td>\n",
       "      <td>1.0</td>\n",
       "      <td>0.0</td>\n",
       "      <td>0.0</td>\n",
       "      <td>0.0</td>\n",
       "      <td>1.0</td>\n",
       "      <td>4</td>\n",
       "      <td>0.0</td>\n",
       "      <td>6</td>\n",
       "      <td>5</td>\n",
       "    </tr>\n",
       "    <tr>\n",
       "      <th>861</th>\n",
       "      <td>1.0</td>\n",
       "      <td>0.0</td>\n",
       "      <td>0.0</td>\n",
       "      <td>0.0</td>\n",
       "      <td>0.0</td>\n",
       "      <td>0.0</td>\n",
       "      <td>0.0</td>\n",
       "      <td>1.0</td>\n",
       "      <td>0.0</td>\n",
       "      <td>0.0</td>\n",
       "      <td>...</td>\n",
       "      <td>1.0</td>\n",
       "      <td>1.0</td>\n",
       "      <td>0.0</td>\n",
       "      <td>0.0</td>\n",
       "      <td>0.0</td>\n",
       "      <td>1.0</td>\n",
       "      <td>5</td>\n",
       "      <td>1.0</td>\n",
       "      <td>6</td>\n",
       "      <td>5</td>\n",
       "    </tr>\n",
       "    <tr>\n",
       "      <th>1461</th>\n",
       "      <td>0.0</td>\n",
       "      <td>0.0</td>\n",
       "      <td>0.0</td>\n",
       "      <td>0.0</td>\n",
       "      <td>1.0</td>\n",
       "      <td>0.0</td>\n",
       "      <td>0.0</td>\n",
       "      <td>0.0</td>\n",
       "      <td>1.0</td>\n",
       "      <td>0.0</td>\n",
       "      <td>...</td>\n",
       "      <td>0.0</td>\n",
       "      <td>1.0</td>\n",
       "      <td>0.0</td>\n",
       "      <td>0.0</td>\n",
       "      <td>1.0</td>\n",
       "      <td>0.0</td>\n",
       "      <td>1</td>\n",
       "      <td>0.0</td>\n",
       "      <td>5</td>\n",
       "      <td>6</td>\n",
       "    </tr>\n",
       "    <tr>\n",
       "      <th>1128</th>\n",
       "      <td>0.0</td>\n",
       "      <td>0.0</td>\n",
       "      <td>0.0</td>\n",
       "      <td>0.0</td>\n",
       "      <td>0.0</td>\n",
       "      <td>0.0</td>\n",
       "      <td>1.0</td>\n",
       "      <td>1.0</td>\n",
       "      <td>0.0</td>\n",
       "      <td>0.0</td>\n",
       "      <td>...</td>\n",
       "      <td>1.0</td>\n",
       "      <td>1.0</td>\n",
       "      <td>0.0</td>\n",
       "      <td>0.0</td>\n",
       "      <td>0.0</td>\n",
       "      <td>1.0</td>\n",
       "      <td>2</td>\n",
       "      <td>0.0</td>\n",
       "      <td>6</td>\n",
       "      <td>5</td>\n",
       "    </tr>\n",
       "  </tbody>\n",
       "</table>\n",
       "<p>1296 rows × 130 columns</p>\n",
       "</div>"
      ],
      "text/plain": [
       "      2021 > Grade_10th  2021 > Grade_11th  2021 > Grade_12th  \\\n",
       "758                 0.0                1.0                0.0   \n",
       "590                 0.0                0.0                0.0   \n",
       "908                 1.0                0.0                0.0   \n",
       "1161                0.0                0.0                0.0   \n",
       "1712                1.0                0.0                0.0   \n",
       "...                 ...                ...                ...   \n",
       "1132                0.0                0.0                0.0   \n",
       "1296                0.0                0.0                0.0   \n",
       "861                 1.0                0.0                0.0   \n",
       "1461                0.0                0.0                0.0   \n",
       "1128                0.0                0.0                0.0   \n",
       "\n",
       "      2021 > Grade_6th  2021 > Grade_7th  2021 > Grade_8th  2021 > Grade_9th  \\\n",
       "758                0.0               0.0               0.0               0.0   \n",
       "590                0.0               0.0               1.0               0.0   \n",
       "908                0.0               0.0               0.0               0.0   \n",
       "1161               0.0               0.0               0.0               1.0   \n",
       "1712               0.0               0.0               0.0               0.0   \n",
       "...                ...               ...               ...               ...   \n",
       "1132               0.0               0.0               0.0               1.0   \n",
       "1296               0.0               0.0               1.0               0.0   \n",
       "861                0.0               0.0               0.0               0.0   \n",
       "1461               0.0               1.0               0.0               0.0   \n",
       "1128               0.0               0.0               0.0               1.0   \n",
       "\n",
       "      Gender_Female  Gender_Male  Lead source_Advertisement  ...  \\\n",
       "758             0.0          1.0                        0.0  ...   \n",
       "590             1.0          0.0                        0.0  ...   \n",
       "908             0.0          1.0                        0.0  ...   \n",
       "1161            0.0          1.0                        0.0  ...   \n",
       "1712            1.0          0.0                        0.0  ...   \n",
       "...             ...          ...                        ...  ...   \n",
       "1132            0.0          1.0                        0.0  ...   \n",
       "1296            1.0          0.0                        0.0  ...   \n",
       "861             1.0          0.0                        0.0  ...   \n",
       "1461            0.0          1.0                        0.0  ...   \n",
       "1128            1.0          0.0                        0.0  ...   \n",
       "\n",
       "      2021 ^^Interested in Another Trip?_Yes  Changed Trip_0  Changed Trip_1  \\\n",
       "758                                      1.0             0.0             1.0   \n",
       "590                                      1.0             1.0             0.0   \n",
       "908                                      1.0             1.0             0.0   \n",
       "1161                                     0.0             1.0             0.0   \n",
       "1712                                     1.0             1.0             0.0   \n",
       "...                                      ...             ...             ...   \n",
       "1132                                     1.0             1.0             0.0   \n",
       "1296                                     1.0             1.0             0.0   \n",
       "861                                      1.0             1.0             0.0   \n",
       "1461                                     0.0             1.0             0.0   \n",
       "1128                                     1.0             1.0             0.0   \n",
       "\n",
       "      2021 ^Expectations_Did not meet expectations  \\\n",
       "758                                            0.0   \n",
       "590                                            0.0   \n",
       "908                                            0.0   \n",
       "1161                                           0.0   \n",
       "1712                                           0.0   \n",
       "...                                            ...   \n",
       "1132                                           0.0   \n",
       "1296                                           0.0   \n",
       "861                                            0.0   \n",
       "1461                                           0.0   \n",
       "1128                                           0.0   \n",
       "\n",
       "      2021 ^Expectations_Exceeded expectations  \\\n",
       "758                                        1.0   \n",
       "590                                        0.0   \n",
       "908                                        0.0   \n",
       "1161                                       0.0   \n",
       "1712                                       0.0   \n",
       "...                                        ...   \n",
       "1132                                       0.0   \n",
       "1296                                       0.0   \n",
       "861                                        0.0   \n",
       "1461                                       1.0   \n",
       "1128                                       0.0   \n",
       "\n",
       "      2021 ^Expectations_Met expectations  Years at camp  \\\n",
       "758                                   0.0              2   \n",
       "590                                   1.0              4   \n",
       "908                                   1.0              2   \n",
       "1161                                  1.0              2   \n",
       "1712                                  1.0              3   \n",
       "...                                   ...            ...   \n",
       "1132                                  1.0              1   \n",
       "1296                                  1.0              4   \n",
       "861                                   1.0              5   \n",
       "1461                                  0.0              1   \n",
       "1128                                  1.0              2   \n",
       "\n",
       "      2021 > Enrolled sibling count  2021 ^^^^Leader Rating of Student  rating  \n",
       "758                             0.0                                  6       6  \n",
       "590                             0.0                                  6       5  \n",
       "908                             1.0                                  3       4  \n",
       "1161                            0.0                                  2       4  \n",
       "1712                            1.0                                  5       6  \n",
       "...                             ...                                ...     ...  \n",
       "1132                            0.0                                  5       5  \n",
       "1296                            0.0                                  6       5  \n",
       "861                             1.0                                  6       5  \n",
       "1461                            0.0                                  5       6  \n",
       "1128                            0.0                                  6       5  \n",
       "\n",
       "[1296 rows x 130 columns]"
      ]
     },
     "execution_count": 115,
     "metadata": {},
     "output_type": "execute_result"
    }
   ],
   "source": [
    "X_train_ohe_df = pd.concat([df_train_encoded, X_train_nums], axis=1)\n",
    "X_train_ohe_df"
   ]
  },
  {
   "cell_type": "code",
   "execution_count": 116,
   "metadata": {},
   "outputs": [
    {
     "data": {
      "text/html": [
       "<div>\n",
       "<style scoped>\n",
       "    .dataframe tbody tr th:only-of-type {\n",
       "        vertical-align: middle;\n",
       "    }\n",
       "\n",
       "    .dataframe tbody tr th {\n",
       "        vertical-align: top;\n",
       "    }\n",
       "\n",
       "    .dataframe thead th {\n",
       "        text-align: right;\n",
       "    }\n",
       "</style>\n",
       "<table border=\"1\" class=\"dataframe\">\n",
       "  <thead>\n",
       "    <tr style=\"text-align: right;\">\n",
       "      <th></th>\n",
       "      <th>2021 &gt; Grade_10th</th>\n",
       "      <th>2021 &gt; Grade_11th</th>\n",
       "      <th>2021 &gt; Grade_12th</th>\n",
       "      <th>2021 &gt; Grade_6th</th>\n",
       "      <th>2021 &gt; Grade_7th</th>\n",
       "      <th>2021 &gt; Grade_8th</th>\n",
       "      <th>2021 &gt; Grade_9th</th>\n",
       "      <th>Gender_Female</th>\n",
       "      <th>Gender_Male</th>\n",
       "      <th>Lead source_Advertisement</th>\n",
       "      <th>...</th>\n",
       "      <th>2021 ^^Interested in Another Trip?_Yes</th>\n",
       "      <th>Changed Trip_0</th>\n",
       "      <th>Changed Trip_1</th>\n",
       "      <th>2021 ^Expectations_Did not meet expectations</th>\n",
       "      <th>2021 ^Expectations_Exceeded expectations</th>\n",
       "      <th>2021 ^Expectations_Met expectations</th>\n",
       "      <th>Years at camp</th>\n",
       "      <th>2021 &gt; Enrolled sibling count</th>\n",
       "      <th>2021 ^^^^Leader Rating of Student</th>\n",
       "      <th>rating</th>\n",
       "    </tr>\n",
       "  </thead>\n",
       "  <tbody>\n",
       "    <tr>\n",
       "      <th>600</th>\n",
       "      <td>0.0</td>\n",
       "      <td>0.0</td>\n",
       "      <td>1.0</td>\n",
       "      <td>0.0</td>\n",
       "      <td>0.0</td>\n",
       "      <td>0.0</td>\n",
       "      <td>0.0</td>\n",
       "      <td>1.0</td>\n",
       "      <td>0.0</td>\n",
       "      <td>0.0</td>\n",
       "      <td>...</td>\n",
       "      <td>1.0</td>\n",
       "      <td>1.0</td>\n",
       "      <td>0.0</td>\n",
       "      <td>0.0</td>\n",
       "      <td>1.0</td>\n",
       "      <td>0.0</td>\n",
       "      <td>2</td>\n",
       "      <td>0.0</td>\n",
       "      <td>6</td>\n",
       "      <td>6</td>\n",
       "    </tr>\n",
       "    <tr>\n",
       "      <th>1203</th>\n",
       "      <td>0.0</td>\n",
       "      <td>0.0</td>\n",
       "      <td>0.0</td>\n",
       "      <td>0.0</td>\n",
       "      <td>0.0</td>\n",
       "      <td>0.0</td>\n",
       "      <td>1.0</td>\n",
       "      <td>1.0</td>\n",
       "      <td>0.0</td>\n",
       "      <td>0.0</td>\n",
       "      <td>...</td>\n",
       "      <td>1.0</td>\n",
       "      <td>1.0</td>\n",
       "      <td>0.0</td>\n",
       "      <td>0.0</td>\n",
       "      <td>0.0</td>\n",
       "      <td>1.0</td>\n",
       "      <td>2</td>\n",
       "      <td>0.0</td>\n",
       "      <td>4</td>\n",
       "      <td>4</td>\n",
       "    </tr>\n",
       "    <tr>\n",
       "      <th>629</th>\n",
       "      <td>0.0</td>\n",
       "      <td>1.0</td>\n",
       "      <td>0.0</td>\n",
       "      <td>0.0</td>\n",
       "      <td>0.0</td>\n",
       "      <td>0.0</td>\n",
       "      <td>0.0</td>\n",
       "      <td>1.0</td>\n",
       "      <td>0.0</td>\n",
       "      <td>0.0</td>\n",
       "      <td>...</td>\n",
       "      <td>0.0</td>\n",
       "      <td>1.0</td>\n",
       "      <td>0.0</td>\n",
       "      <td>0.0</td>\n",
       "      <td>0.0</td>\n",
       "      <td>1.0</td>\n",
       "      <td>4</td>\n",
       "      <td>2.0</td>\n",
       "      <td>4</td>\n",
       "      <td>6</td>\n",
       "    </tr>\n",
       "    <tr>\n",
       "      <th>1714</th>\n",
       "      <td>0.0</td>\n",
       "      <td>0.0</td>\n",
       "      <td>0.0</td>\n",
       "      <td>0.0</td>\n",
       "      <td>0.0</td>\n",
       "      <td>0.0</td>\n",
       "      <td>1.0</td>\n",
       "      <td>0.0</td>\n",
       "      <td>1.0</td>\n",
       "      <td>1.0</td>\n",
       "      <td>...</td>\n",
       "      <td>0.0</td>\n",
       "      <td>1.0</td>\n",
       "      <td>0.0</td>\n",
       "      <td>0.0</td>\n",
       "      <td>0.0</td>\n",
       "      <td>1.0</td>\n",
       "      <td>1</td>\n",
       "      <td>0.0</td>\n",
       "      <td>2</td>\n",
       "      <td>5</td>\n",
       "    </tr>\n",
       "    <tr>\n",
       "      <th>1265</th>\n",
       "      <td>0.0</td>\n",
       "      <td>0.0</td>\n",
       "      <td>0.0</td>\n",
       "      <td>0.0</td>\n",
       "      <td>0.0</td>\n",
       "      <td>1.0</td>\n",
       "      <td>0.0</td>\n",
       "      <td>0.0</td>\n",
       "      <td>1.0</td>\n",
       "      <td>0.0</td>\n",
       "      <td>...</td>\n",
       "      <td>0.0</td>\n",
       "      <td>1.0</td>\n",
       "      <td>0.0</td>\n",
       "      <td>0.0</td>\n",
       "      <td>0.0</td>\n",
       "      <td>1.0</td>\n",
       "      <td>3</td>\n",
       "      <td>1.0</td>\n",
       "      <td>6</td>\n",
       "      <td>5</td>\n",
       "    </tr>\n",
       "    <tr>\n",
       "      <th>...</th>\n",
       "      <td>...</td>\n",
       "      <td>...</td>\n",
       "      <td>...</td>\n",
       "      <td>...</td>\n",
       "      <td>...</td>\n",
       "      <td>...</td>\n",
       "      <td>...</td>\n",
       "      <td>...</td>\n",
       "      <td>...</td>\n",
       "      <td>...</td>\n",
       "      <td>...</td>\n",
       "      <td>...</td>\n",
       "      <td>...</td>\n",
       "      <td>...</td>\n",
       "      <td>...</td>\n",
       "      <td>...</td>\n",
       "      <td>...</td>\n",
       "      <td>...</td>\n",
       "      <td>...</td>\n",
       "      <td>...</td>\n",
       "      <td>...</td>\n",
       "    </tr>\n",
       "    <tr>\n",
       "      <th>620</th>\n",
       "      <td>0.0</td>\n",
       "      <td>0.0</td>\n",
       "      <td>0.0</td>\n",
       "      <td>0.0</td>\n",
       "      <td>0.0</td>\n",
       "      <td>1.0</td>\n",
       "      <td>0.0</td>\n",
       "      <td>0.0</td>\n",
       "      <td>1.0</td>\n",
       "      <td>0.0</td>\n",
       "      <td>...</td>\n",
       "      <td>0.0</td>\n",
       "      <td>1.0</td>\n",
       "      <td>0.0</td>\n",
       "      <td>0.0</td>\n",
       "      <td>0.0</td>\n",
       "      <td>1.0</td>\n",
       "      <td>2</td>\n",
       "      <td>0.0</td>\n",
       "      <td>4</td>\n",
       "      <td>4</td>\n",
       "    </tr>\n",
       "    <tr>\n",
       "      <th>1076</th>\n",
       "      <td>0.0</td>\n",
       "      <td>1.0</td>\n",
       "      <td>0.0</td>\n",
       "      <td>0.0</td>\n",
       "      <td>0.0</td>\n",
       "      <td>0.0</td>\n",
       "      <td>0.0</td>\n",
       "      <td>1.0</td>\n",
       "      <td>0.0</td>\n",
       "      <td>0.0</td>\n",
       "      <td>...</td>\n",
       "      <td>1.0</td>\n",
       "      <td>1.0</td>\n",
       "      <td>0.0</td>\n",
       "      <td>0.0</td>\n",
       "      <td>1.0</td>\n",
       "      <td>0.0</td>\n",
       "      <td>1</td>\n",
       "      <td>0.0</td>\n",
       "      <td>4</td>\n",
       "      <td>6</td>\n",
       "    </tr>\n",
       "    <tr>\n",
       "      <th>1237</th>\n",
       "      <td>0.0</td>\n",
       "      <td>0.0</td>\n",
       "      <td>0.0</td>\n",
       "      <td>0.0</td>\n",
       "      <td>0.0</td>\n",
       "      <td>1.0</td>\n",
       "      <td>0.0</td>\n",
       "      <td>0.0</td>\n",
       "      <td>1.0</td>\n",
       "      <td>0.0</td>\n",
       "      <td>...</td>\n",
       "      <td>0.0</td>\n",
       "      <td>1.0</td>\n",
       "      <td>0.0</td>\n",
       "      <td>0.0</td>\n",
       "      <td>0.0</td>\n",
       "      <td>1.0</td>\n",
       "      <td>1</td>\n",
       "      <td>0.0</td>\n",
       "      <td>6</td>\n",
       "      <td>6</td>\n",
       "    </tr>\n",
       "    <tr>\n",
       "      <th>539</th>\n",
       "      <td>0.0</td>\n",
       "      <td>0.0</td>\n",
       "      <td>0.0</td>\n",
       "      <td>0.0</td>\n",
       "      <td>0.0</td>\n",
       "      <td>0.0</td>\n",
       "      <td>1.0</td>\n",
       "      <td>1.0</td>\n",
       "      <td>0.0</td>\n",
       "      <td>0.0</td>\n",
       "      <td>...</td>\n",
       "      <td>1.0</td>\n",
       "      <td>1.0</td>\n",
       "      <td>0.0</td>\n",
       "      <td>0.0</td>\n",
       "      <td>1.0</td>\n",
       "      <td>0.0</td>\n",
       "      <td>2</td>\n",
       "      <td>0.0</td>\n",
       "      <td>6</td>\n",
       "      <td>6</td>\n",
       "    </tr>\n",
       "    <tr>\n",
       "      <th>1038</th>\n",
       "      <td>0.0</td>\n",
       "      <td>0.0</td>\n",
       "      <td>0.0</td>\n",
       "      <td>0.0</td>\n",
       "      <td>0.0</td>\n",
       "      <td>1.0</td>\n",
       "      <td>0.0</td>\n",
       "      <td>0.0</td>\n",
       "      <td>1.0</td>\n",
       "      <td>0.0</td>\n",
       "      <td>...</td>\n",
       "      <td>0.0</td>\n",
       "      <td>1.0</td>\n",
       "      <td>0.0</td>\n",
       "      <td>0.0</td>\n",
       "      <td>0.0</td>\n",
       "      <td>1.0</td>\n",
       "      <td>2</td>\n",
       "      <td>0.0</td>\n",
       "      <td>5</td>\n",
       "      <td>5</td>\n",
       "    </tr>\n",
       "  </tbody>\n",
       "</table>\n",
       "<p>433 rows × 130 columns</p>\n",
       "</div>"
      ],
      "text/plain": [
       "      2021 > Grade_10th  2021 > Grade_11th  2021 > Grade_12th  \\\n",
       "600                 0.0                0.0                1.0   \n",
       "1203                0.0                0.0                0.0   \n",
       "629                 0.0                1.0                0.0   \n",
       "1714                0.0                0.0                0.0   \n",
       "1265                0.0                0.0                0.0   \n",
       "...                 ...                ...                ...   \n",
       "620                 0.0                0.0                0.0   \n",
       "1076                0.0                1.0                0.0   \n",
       "1237                0.0                0.0                0.0   \n",
       "539                 0.0                0.0                0.0   \n",
       "1038                0.0                0.0                0.0   \n",
       "\n",
       "      2021 > Grade_6th  2021 > Grade_7th  2021 > Grade_8th  2021 > Grade_9th  \\\n",
       "600                0.0               0.0               0.0               0.0   \n",
       "1203               0.0               0.0               0.0               1.0   \n",
       "629                0.0               0.0               0.0               0.0   \n",
       "1714               0.0               0.0               0.0               1.0   \n",
       "1265               0.0               0.0               1.0               0.0   \n",
       "...                ...               ...               ...               ...   \n",
       "620                0.0               0.0               1.0               0.0   \n",
       "1076               0.0               0.0               0.0               0.0   \n",
       "1237               0.0               0.0               1.0               0.0   \n",
       "539                0.0               0.0               0.0               1.0   \n",
       "1038               0.0               0.0               1.0               0.0   \n",
       "\n",
       "      Gender_Female  Gender_Male  Lead source_Advertisement  ...  \\\n",
       "600             1.0          0.0                        0.0  ...   \n",
       "1203            1.0          0.0                        0.0  ...   \n",
       "629             1.0          0.0                        0.0  ...   \n",
       "1714            0.0          1.0                        1.0  ...   \n",
       "1265            0.0          1.0                        0.0  ...   \n",
       "...             ...          ...                        ...  ...   \n",
       "620             0.0          1.0                        0.0  ...   \n",
       "1076            1.0          0.0                        0.0  ...   \n",
       "1237            0.0          1.0                        0.0  ...   \n",
       "539             1.0          0.0                        0.0  ...   \n",
       "1038            0.0          1.0                        0.0  ...   \n",
       "\n",
       "      2021 ^^Interested in Another Trip?_Yes  Changed Trip_0  Changed Trip_1  \\\n",
       "600                                      1.0             1.0             0.0   \n",
       "1203                                     1.0             1.0             0.0   \n",
       "629                                      0.0             1.0             0.0   \n",
       "1714                                     0.0             1.0             0.0   \n",
       "1265                                     0.0             1.0             0.0   \n",
       "...                                      ...             ...             ...   \n",
       "620                                      0.0             1.0             0.0   \n",
       "1076                                     1.0             1.0             0.0   \n",
       "1237                                     0.0             1.0             0.0   \n",
       "539                                      1.0             1.0             0.0   \n",
       "1038                                     0.0             1.0             0.0   \n",
       "\n",
       "      2021 ^Expectations_Did not meet expectations  \\\n",
       "600                                            0.0   \n",
       "1203                                           0.0   \n",
       "629                                            0.0   \n",
       "1714                                           0.0   \n",
       "1265                                           0.0   \n",
       "...                                            ...   \n",
       "620                                            0.0   \n",
       "1076                                           0.0   \n",
       "1237                                           0.0   \n",
       "539                                            0.0   \n",
       "1038                                           0.0   \n",
       "\n",
       "      2021 ^Expectations_Exceeded expectations  \\\n",
       "600                                        1.0   \n",
       "1203                                       0.0   \n",
       "629                                        0.0   \n",
       "1714                                       0.0   \n",
       "1265                                       0.0   \n",
       "...                                        ...   \n",
       "620                                        0.0   \n",
       "1076                                       1.0   \n",
       "1237                                       0.0   \n",
       "539                                        1.0   \n",
       "1038                                       0.0   \n",
       "\n",
       "      2021 ^Expectations_Met expectations  Years at camp  \\\n",
       "600                                   0.0              2   \n",
       "1203                                  1.0              2   \n",
       "629                                   1.0              4   \n",
       "1714                                  1.0              1   \n",
       "1265                                  1.0              3   \n",
       "...                                   ...            ...   \n",
       "620                                   1.0              2   \n",
       "1076                                  0.0              1   \n",
       "1237                                  1.0              1   \n",
       "539                                   0.0              2   \n",
       "1038                                  1.0              2   \n",
       "\n",
       "      2021 > Enrolled sibling count  2021 ^^^^Leader Rating of Student  rating  \n",
       "600                             0.0                                  6       6  \n",
       "1203                            0.0                                  4       4  \n",
       "629                             2.0                                  4       6  \n",
       "1714                            0.0                                  2       5  \n",
       "1265                            1.0                                  6       5  \n",
       "...                             ...                                ...     ...  \n",
       "620                             0.0                                  4       4  \n",
       "1076                            0.0                                  4       6  \n",
       "1237                            0.0                                  6       6  \n",
       "539                             0.0                                  6       6  \n",
       "1038                            0.0                                  5       5  \n",
       "\n",
       "[433 rows x 130 columns]"
      ]
     },
     "execution_count": 116,
     "metadata": {},
     "output_type": "execute_result"
    }
   ],
   "source": [
    "X_test_ohe_df = pd.concat([df_test_encoded, X_test_nums], axis=1)\n",
    "X_test_ohe_df"
   ]
  },
  {
   "cell_type": "code",
   "execution_count": 117,
   "metadata": {},
   "outputs": [],
   "source": [
    "import matplotlib.pyplot as plt\n",
    "%matplotlib inline\n",
    "\n",
    "from sklearn.tree import DecisionTreeClassifier, plot_tree\n",
    "from sklearn.metrics import accuracy_score"
   ]
  },
  {
   "cell_type": "code",
   "execution_count": 118,
   "metadata": {},
   "outputs": [],
   "source": [
    "tree_default = DecisionTreeClassifier(random_state=23)"
   ]
  },
  {
   "cell_type": "code",
   "execution_count": 119,
   "metadata": {
    "scrolled": true
   },
   "outputs": [
    {
     "data": {
      "text/html": [
       "<style>#sk-container-id-4 {color: black;}#sk-container-id-4 pre{padding: 0;}#sk-container-id-4 div.sk-toggleable {background-color: white;}#sk-container-id-4 label.sk-toggleable__label {cursor: pointer;display: block;width: 100%;margin-bottom: 0;padding: 0.3em;box-sizing: border-box;text-align: center;}#sk-container-id-4 label.sk-toggleable__label-arrow:before {content: \"▸\";float: left;margin-right: 0.25em;color: #696969;}#sk-container-id-4 label.sk-toggleable__label-arrow:hover:before {color: black;}#sk-container-id-4 div.sk-estimator:hover label.sk-toggleable__label-arrow:before {color: black;}#sk-container-id-4 div.sk-toggleable__content {max-height: 0;max-width: 0;overflow: hidden;text-align: left;background-color: #f0f8ff;}#sk-container-id-4 div.sk-toggleable__content pre {margin: 0.2em;color: black;border-radius: 0.25em;background-color: #f0f8ff;}#sk-container-id-4 input.sk-toggleable__control:checked~div.sk-toggleable__content {max-height: 200px;max-width: 100%;overflow: auto;}#sk-container-id-4 input.sk-toggleable__control:checked~label.sk-toggleable__label-arrow:before {content: \"▾\";}#sk-container-id-4 div.sk-estimator input.sk-toggleable__control:checked~label.sk-toggleable__label {background-color: #d4ebff;}#sk-container-id-4 div.sk-label input.sk-toggleable__control:checked~label.sk-toggleable__label {background-color: #d4ebff;}#sk-container-id-4 input.sk-hidden--visually {border: 0;clip: rect(1px 1px 1px 1px);clip: rect(1px, 1px, 1px, 1px);height: 1px;margin: -1px;overflow: hidden;padding: 0;position: absolute;width: 1px;}#sk-container-id-4 div.sk-estimator {font-family: monospace;background-color: #f0f8ff;border: 1px dotted black;border-radius: 0.25em;box-sizing: border-box;margin-bottom: 0.5em;}#sk-container-id-4 div.sk-estimator:hover {background-color: #d4ebff;}#sk-container-id-4 div.sk-parallel-item::after {content: \"\";width: 100%;border-bottom: 1px solid gray;flex-grow: 1;}#sk-container-id-4 div.sk-label:hover label.sk-toggleable__label {background-color: #d4ebff;}#sk-container-id-4 div.sk-serial::before {content: \"\";position: absolute;border-left: 1px solid gray;box-sizing: border-box;top: 0;bottom: 0;left: 50%;z-index: 0;}#sk-container-id-4 div.sk-serial {display: flex;flex-direction: column;align-items: center;background-color: white;padding-right: 0.2em;padding-left: 0.2em;position: relative;}#sk-container-id-4 div.sk-item {position: relative;z-index: 1;}#sk-container-id-4 div.sk-parallel {display: flex;align-items: stretch;justify-content: center;background-color: white;position: relative;}#sk-container-id-4 div.sk-item::before, #sk-container-id-4 div.sk-parallel-item::before {content: \"\";position: absolute;border-left: 1px solid gray;box-sizing: border-box;top: 0;bottom: 0;left: 50%;z-index: -1;}#sk-container-id-4 div.sk-parallel-item {display: flex;flex-direction: column;z-index: 1;position: relative;background-color: white;}#sk-container-id-4 div.sk-parallel-item:first-child::after {align-self: flex-end;width: 50%;}#sk-container-id-4 div.sk-parallel-item:last-child::after {align-self: flex-start;width: 50%;}#sk-container-id-4 div.sk-parallel-item:only-child::after {width: 0;}#sk-container-id-4 div.sk-dashed-wrapped {border: 1px dashed gray;margin: 0 0.4em 0.5em 0.4em;box-sizing: border-box;padding-bottom: 0.4em;background-color: white;}#sk-container-id-4 div.sk-label label {font-family: monospace;font-weight: bold;display: inline-block;line-height: 1.2em;}#sk-container-id-4 div.sk-label-container {text-align: center;}#sk-container-id-4 div.sk-container {/* jupyter's `normalize.less` sets `[hidden] { display: none; }` but bootstrap.min.css set `[hidden] { display: none !important; }` so we also need the `!important` here to be able to override the default hidden behavior on the sphinx rendered scikit-learn.org. See: https://github.com/scikit-learn/scikit-learn/issues/21755 */display: inline-block !important;position: relative;}#sk-container-id-4 div.sk-text-repr-fallback {display: none;}</style><div id=\"sk-container-id-4\" class=\"sk-top-container\"><div class=\"sk-text-repr-fallback\"><pre>DecisionTreeClassifier(random_state=23)</pre><b>In a Jupyter environment, please rerun this cell to show the HTML representation or trust the notebook. <br />On GitHub, the HTML representation is unable to render, please try loading this page with nbviewer.org.</b></div><div class=\"sk-container\" hidden><div class=\"sk-item\"><div class=\"sk-estimator sk-toggleable\"><input class=\"sk-toggleable__control sk-hidden--visually\" id=\"sk-estimator-id-4\" type=\"checkbox\" checked><label for=\"sk-estimator-id-4\" class=\"sk-toggleable__label sk-toggleable__label-arrow\">DecisionTreeClassifier</label><div class=\"sk-toggleable__content\"><pre>DecisionTreeClassifier(random_state=23)</pre></div></div></div></div></div>"
      ],
      "text/plain": [
       "DecisionTreeClassifier(random_state=23)"
      ]
     },
     "execution_count": 119,
     "metadata": {},
     "output_type": "execute_result"
    }
   ],
   "source": [
    "tree_default.fit(X_train_ohe_df, y_train)"
   ]
  },
  {
   "cell_type": "markdown",
   "metadata": {},
   "source": [
    "#### Making Predictions on Training Data:"
   ]
  },
  {
   "cell_type": "code",
   "execution_count": 120,
   "metadata": {
    "scrolled": true
   },
   "outputs": [
    {
     "data": {
      "text/plain": [
       "array([1, 1, 0, ..., 1, 0, 1])"
      ]
     },
     "execution_count": 120,
     "metadata": {},
     "output_type": "execute_result"
    }
   ],
   "source": [
    "y_preds = tree_default.predict(X_train_ohe_df)\n",
    "y_preds"
   ]
  },
  {
   "cell_type": "code",
   "execution_count": 121,
   "metadata": {},
   "outputs": [
    {
     "data": {
      "text/plain": [
       "1.0"
      ]
     },
     "execution_count": 121,
     "metadata": {},
     "output_type": "execute_result"
    }
   ],
   "source": [
    "accuracy_score(y_train, y_preds)"
   ]
  },
  {
   "cell_type": "code",
   "execution_count": 162,
   "metadata": {},
   "outputs": [
    {
     "data": {
      "text/plain": [
       "1.0"
      ]
     },
     "execution_count": 162,
     "metadata": {},
     "output_type": "execute_result"
    }
   ],
   "source": [
    "precision_score(y_train, y_preds)"
   ]
  },
  {
   "cell_type": "code",
   "execution_count": 163,
   "metadata": {},
   "outputs": [
    {
     "data": {
      "text/plain": [
       "1.0"
      ]
     },
     "execution_count": 163,
     "metadata": {},
     "output_type": "execute_result"
    }
   ],
   "source": [
    "recall_score(y_train, y_preds)"
   ]
  },
  {
   "cell_type": "code",
   "execution_count": 122,
   "metadata": {},
   "outputs": [
    {
     "data": {
      "text/plain": [
       "array([[669,   0],\n",
       "       [  0, 627]])"
      ]
     },
     "execution_count": 122,
     "metadata": {},
     "output_type": "execute_result"
    }
   ],
   "source": [
    "confusion_matrix(y_train, y_preds, labels=)"
   ]
  },
  {
   "cell_type": "code",
   "execution_count": 157,
   "metadata": {},
   "outputs": [
    {
     "data": {
      "image/png": "[encoded data removed]",
      "text/plain": [
       "<Figure size 432x288 with 2 Axes>"
      ]
     },
     "metadata": {
      "needs_background": "light"
     },
     "output_type": "display_data"
    }
   ],
   "source": [
    "ConfusionMatrixDisplay.from_predictions(y_train, y_preds);"
   ]
  },
  {
   "cell_type": "code",
   "execution_count": 159,
   "metadata": {},
   "outputs": [
    {
     "data": {
      "text/plain": [
       "array([0.83846154, 0.85714286, 0.82239382, 0.76061776, 0.82625483])"
      ]
     },
     "execution_count": 159,
     "metadata": {},
     "output_type": "execute_result"
    }
   ],
   "source": [
    "# USE THIS NOT predictions on the testing data like below!!\n",
    "cross_val_score(tree_default, X_train_ohe_df, y_train)"
   ]
  },
  {
   "cell_type": "code",
   "execution_count": 124,
   "metadata": {
    "scrolled": true
   },
   "outputs": [
    {
     "data": {
      "text/plain": [
       "0.820974160974161"
      ]
     },
     "execution_count": 124,
     "metadata": {},
     "output_type": "execute_result"
    }
   ],
   "source": [
    "cross_val_score(tree_default, X_train_ohe_df, y_train).mean()"
   ]
  },
  {
   "cell_type": "code",
   "execution_count": 160,
   "metadata": {},
   "outputs": [
    {
     "data": {
      "text/plain": [
       "array([0.83333333, 0.86178862, 0.80152672, 0.74045802, 0.80769231])"
      ]
     },
     "execution_count": 160,
     "metadata": {},
     "output_type": "execute_result"
    }
   ],
   "source": [
    "# Precision CV Score\n",
    "cross_val_score(tree_default, X_train_ohe_df, y_train, scoring='precision')"
   ]
  },
  {
   "cell_type": "code",
   "execution_count": 161,
   "metadata": {},
   "outputs": [
    {
     "data": {
      "text/plain": [
       "0.8089597983472494"
      ]
     },
     "execution_count": 161,
     "metadata": {},
     "output_type": "execute_result"
    }
   ],
   "source": [
    "# Avg Precision CV Score\n",
    "cross_val_score(tree_default, X_train_ohe_df, y_train, scoring='precision').mean()"
   ]
  },
  {
   "cell_type": "markdown",
   "metadata": {},
   "source": [
    "#### Save the introduction of TESTING DATA for AFTER the Grid Search!"
   ]
  },
  {
   "cell_type": "markdown",
   "metadata": {},
   "source": [
    "#### Making Predictions on Testing Data:"
   ]
  },
  {
   "cell_type": "code",
   "execution_count": 143,
   "metadata": {
    "scrolled": true
   },
   "outputs": [],
   "source": [
    "#y_preds_te = tree_default.predict(X_test_ohe_df)\n",
    "#y_preds_te"
   ]
  },
  {
   "cell_type": "code",
   "execution_count": 144,
   "metadata": {
    "scrolled": true
   },
   "outputs": [],
   "source": [
    "#accuracy_score(y_test, y_preds_te)"
   ]
  },
  {
   "cell_type": "code",
   "execution_count": 142,
   "metadata": {
    "scrolled": true
   },
   "outputs": [],
   "source": [
    "#confusion_matrix(y_test, y_preds_te)"
   ]
  },
  {
   "cell_type": "markdown",
   "metadata": {},
   "source": [
    "#### Clearly the model is OVER-fit to the Training data, as evidenced by the major discrepency between the accuracy score of the training predicitons and the accuracy score of the testing predictions."
   ]
  },
  {
   "cell_type": "code",
   "execution_count": 129,
   "metadata": {
    "scrolled": true
   },
   "outputs": [
    {
     "data": {
      "text/plain": [
       "array([1.00425357e-02, 4.01967008e-02, 5.74506770e-02, 0.00000000e+00,\n",
       "       2.47173171e-03, 9.90201108e-03, 3.10532376e-03, 2.43068023e-03,\n",
       "       1.08892428e-02, 0.00000000e+00, 0.00000000e+00, 0.00000000e+00,\n",
       "       7.28579036e-03, 3.86208080e-03, 1.66255269e-02, 0.00000000e+00,\n",
       "       1.65517749e-03, 2.05977643e-03, 2.44456983e-03, 2.74041187e-03,\n",
       "       2.33837312e-03, 0.00000000e+00, 0.00000000e+00, 0.00000000e+00,\n",
       "       4.50136507e-03, 0.00000000e+00, 5.24219498e-03, 2.29014616e-03,\n",
       "       0.00000000e+00, 0.00000000e+00, 4.36723572e-03, 8.37825733e-03,\n",
       "       4.69517663e-03, 2.12598353e-03, 9.39015725e-04, 0.00000000e+00,\n",
       "       3.83129610e-03, 7.72034976e-04, 2.32532252e-03, 2.34977127e-03,\n",
       "       1.50470681e-03, 2.80878604e-03, 2.21716798e-03, 2.14195805e-03,\n",
       "       6.02374457e-03, 6.32804780e-03, 8.91024205e-03, 0.00000000e+00,\n",
       "       0.00000000e+00, 0.00000000e+00, 0.00000000e+00, 0.00000000e+00,\n",
       "       2.92563337e-03, 2.73119633e-03, 9.68389005e-04, 3.74071857e-03,\n",
       "       0.00000000e+00, 4.01346287e-03, 0.00000000e+00, 8.10351836e-03,\n",
       "       5.47195533e-03, 3.49145970e-03, 5.37524864e-03, 4.60989586e-04,\n",
       "       8.64461544e-03, 2.74636857e-03, 0.00000000e+00, 0.00000000e+00,\n",
       "       0.00000000e+00, 1.08569332e-03, 1.26778212e-03, 4.91143356e-03,\n",
       "       2.46947457e-03, 1.55275454e-03, 9.70471586e-04, 0.00000000e+00,\n",
       "       2.47173171e-03, 0.00000000e+00, 0.00000000e+00, 0.00000000e+00,\n",
       "       0.00000000e+00, 1.22568015e-03, 9.91794093e-04, 3.04301293e-03,\n",
       "       2.84107094e-03, 5.04788329e-03, 2.17920949e-03, 0.00000000e+00,\n",
       "       3.13510089e-03, 2.10634529e-03, 2.85199813e-03, 0.00000000e+00,\n",
       "       2.41648151e-03, 3.28253075e-04, 2.47173171e-03, 3.99767658e-03,\n",
       "       0.00000000e+00, 2.10268844e-03, 0.00000000e+00, 8.23729491e-03,\n",
       "       3.10868087e-03, 5.99565535e-04, 3.35147442e-03, 0.00000000e+00,\n",
       "       0.00000000e+00, 0.00000000e+00, 2.74636857e-03, 1.79762306e-03,\n",
       "       0.00000000e+00, 0.00000000e+00, 4.30335587e-03, 0.00000000e+00,\n",
       "       0.00000000e+00, 7.53504981e-03, 9.00416553e-03, 1.05130430e-02,\n",
       "       4.28506612e-03, 9.68700738e-03, 1.05219647e-02, 1.19623118e-02,\n",
       "       2.98217844e-02, 3.62441429e-03, 5.85469061e-03, 0.00000000e+00,\n",
       "       1.07504614e-02, 1.97042957e-02, 4.41414447e-01, 1.73141279e-02,\n",
       "       2.64128343e-02, 1.20550860e-02])"
      ]
     },
     "execution_count": 129,
     "metadata": {},
     "output_type": "execute_result"
    }
   ],
   "source": [
    "tree_default.feature_importances_"
   ]
  },
  {
   "cell_type": "code",
   "execution_count": 130,
   "metadata": {},
   "outputs": [
    {
     "data": {
      "text/plain": [
       "array(['2021 > Grade_10th', '2021 > Grade_11th', '2021 > Grade_12th',\n",
       "       '2021 > Grade_6th', '2021 > Grade_7th', '2021 > Grade_8th',\n",
       "       '2021 > Grade_9th', 'Gender_Female', 'Gender_Male',\n",
       "       'Lead source_Advertisement', 'Lead source_Camp Advisory Service',\n",
       "       'Lead source_Catalog', 'Lead source_Competitor',\n",
       "       'Lead source_Family', 'Lead source_Friend',\n",
       "       'Lead source_Google Ad', 'Lead source_Home Presentation',\n",
       "       \"Lead source_I'm a Moondance Alumni\",\n",
       "       \"Lead source_I'm a sibling of a Moondance Alumni\",\n",
       "       'Lead source_No Source', 'Lead source_School Auction',\n",
       "       'Lead source_Social Media',\n",
       "       'Lead source_Summer Opportunities Fair', 'Lead source_Teacher',\n",
       "       'Lead source_Web Search', 'Lead source_Website',\n",
       "       'Lead source_Word of Mouth',\n",
       "       '2021 > trip + section names (all)_Belize+Costa Rica 1',\n",
       "       '2021 > trip + section names (all)_Belize+Costa Rica 1B',\n",
       "       '2021 > trip + section names (all)_Belize+Costa Rica 1B, Canyonlands 3',\n",
       "       '2021 > trip + section names (all)_Belize+Costa Rica 2',\n",
       "       '2021 > trip + section names (all)_Belize+Costa Rica 3',\n",
       "       '2021 > trip + section names (all)_Big Wild 1',\n",
       "       '2021 > trip + section names (all)_Big Wild 2',\n",
       "       '2021 > trip + section names (all)_Big Wild 3',\n",
       "       '2021 > trip + section names (all)_British Columbia 1',\n",
       "       '2021 > trip + section names (all)_British Columbia 2',\n",
       "       '2021 > trip + section names (all)_British Columbia 3',\n",
       "       '2021 > trip + section names (all)_California 1',\n",
       "       '2021 > trip + section names (all)_California 2',\n",
       "       '2021 > trip + section names (all)_California 3',\n",
       "       '2021 > trip + section names (all)_Canyonlands 1',\n",
       "       '2021 > trip + section names (all)_Canyonlands 2',\n",
       "       '2021 > trip + section names (all)_Canyonlands 3',\n",
       "       '2021 > trip + section names (all)_Chamonix 4',\n",
       "       '2021 > trip + section names (all)_Chamonix Alps 1',\n",
       "       '2021 > trip + section names (all)_Chamonix Alps 2',\n",
       "       '2021 > trip + section names (all)_Chamonix Alps 3',\n",
       "       '2021 > trip + section names (all)_Chamonix Alps 3, Hawaiian Islands 1',\n",
       "       '2021 > trip + section names (all)_Colorado Trail 1',\n",
       "       '2021 > trip + section names (all)_Colorado Trail 2',\n",
       "       '2021 > trip + section names (all)_Colorado Trail 3',\n",
       "       '2021 > trip + section names (all)_Croatia 1',\n",
       "       '2021 > trip + section names (all)_Croatia 2',\n",
       "       '2021 > trip + section names (all)_Croatia 3',\n",
       "       '2021 > trip + section names (all)_Dolomites 1',\n",
       "       '2021 > trip + section names (all)_Dolomites 2',\n",
       "       '2021 > trip + section names (all)_Dolomites 3',\n",
       "       '2021 > trip + section names (all)_Dolomites 3, South Africa 1',\n",
       "       '2021 > trip + section names (all)_Ecuador+Galapagos 1',\n",
       "       '2021 > trip + section names (all)_Ecuador+Galapagos 2',\n",
       "       '2021 > trip + section names (all)_Ecuador+Galapagos 3',\n",
       "       '2021 > trip + section names (all)_FIJ 3',\n",
       "       '2021 > trip + section names (all)_Fiji 1',\n",
       "       '2021 > trip + section names (all)_Fiji 2',\n",
       "       '2021 > trip + section names (all)_Hawaiian Islands 1',\n",
       "       '2021 > trip + section names (all)_Hawaiian Islands 2',\n",
       "       '2021 > trip + section names (all)_Hawaiian Islands 3',\n",
       "       '2021 > trip + section names (all)_Iceland 1',\n",
       "       '2021 > trip + section names (all)_Iceland 2',\n",
       "       '2021 > trip + section names (all)_Iceland 3',\n",
       "       '2021 > trip + section names (all)_Kenya + Zanzibar 1',\n",
       "       '2021 > trip + section names (all)_Kenya + Zanzibar 2',\n",
       "       '2021 > trip + section names (all)_Kenya + Zanzibar 3',\n",
       "       '2021 > trip + section names (all)_Kilimanjaro 1',\n",
       "       '2021 > trip + section names (all)_Kilimanjaro 2',\n",
       "       '2021 > trip + section names (all)_Kilimanjaro 3',\n",
       "       '2021 > trip + section names (all)_Kilimanjaro 4',\n",
       "       '2021 > trip + section names (all)_MID3',\n",
       "       '2021 > trip + section names (all)_Machu Picchu 1',\n",
       "       '2021 > trip + section names (all)_Machu Picchu 2',\n",
       "       '2021 > trip + section names (all)_Machu Picchu 3',\n",
       "       '2021 > trip + section names (all)_Maui 1',\n",
       "       '2021 > trip + section names (all)_Maui 2',\n",
       "       '2021 > trip + section names (all)_Maui 3',\n",
       "       '2021 > trip + section names (all)_Midnight Sun 1',\n",
       "       '2021 > trip + section names (all)_Midnight Sun 2',\n",
       "       '2021 > trip + section names (all)_Mystery Trip 1',\n",
       "       '2021 > trip + section names (all)_Northern Lights 1',\n",
       "       '2021 > trip + section names (all)_Northern Lights 2',\n",
       "       '2021 > trip + section names (all)_Norway 1',\n",
       "       '2021 > trip + section names (all)_Norway 2',\n",
       "       '2021 > trip + section names (all)_Pacific Northwest 1',\n",
       "       '2021 > trip + section names (all)_Pacific Northwest 2',\n",
       "       '2021 > trip + section names (all)_SLO 2',\n",
       "       '2021 > trip + section names (all)_Slovenia 1',\n",
       "       '2021 > trip + section names (all)_Slovenia 3',\n",
       "       '2021 > trip + section names (all)_South Africa 1',\n",
       "       '2021 > trip + section names (all)_South Africa 2',\n",
       "       '2021 > trip + section names (all)_South Africa 3',\n",
       "       '2021 > trip + section names (all)_Spain + Morocco 1',\n",
       "       '2021 > trip + section names (all)_Spain + Morocco 2',\n",
       "       '2021 > trip + section names (all)_Spain+Morocco 3',\n",
       "       '2021 > trip + section names (all)_Thailand 1',\n",
       "       '2021 > trip + section names (all)_Thailand 2',\n",
       "       '2021 > trip + section names (all)_The Olympics 1',\n",
       "       '2021 > trip + section names (all)_The Olympics 2',\n",
       "       '2021 > trip + section names (all)_The Olympics 3',\n",
       "       '2021 > trip + section names (all)_Yellowstone 1',\n",
       "       '2021 > trip + section names (all)_Yellowstone 2',\n",
       "       '2021 > trip + section names (all)_Yellowstone 3',\n",
       "       '2021 > trip + section names (all)_Yosemite 1',\n",
       "       '2021 > trip + section names (all)_Yosemite 2',\n",
       "       '2021 > Is your child attending with a friend?_No',\n",
       "       '2021 > Is your child attending with a friend?_Yes',\n",
       "       '2021 ^Trip Length_Just Right', '2021 ^Trip Length_Too Long',\n",
       "       '2021 ^Trip Length_Too Short',\n",
       "       '2021 ^^Interested in Another Trip?_No',\n",
       "       '2021 ^^Interested in Another Trip?_Not Sure',\n",
       "       '2021 ^^Interested in Another Trip?_Yes', 'Changed Trip_0',\n",
       "       'Changed Trip_1', '2021 ^Expectations_Did not meet expectations',\n",
       "       '2021 ^Expectations_Exceeded expectations',\n",
       "       '2021 ^Expectations_Met expectations', 'Years at camp',\n",
       "       '2021 > Enrolled sibling count',\n",
       "       '2021 ^^^^Leader Rating of Student', 'rating'], dtype=object)"
      ]
     },
     "execution_count": 130,
     "metadata": {},
     "output_type": "execute_result"
    }
   ],
   "source": [
    "tree_default.feature_names_in_"
   ]
  },
  {
   "cell_type": "code",
   "execution_count": 132,
   "metadata": {},
   "outputs": [
    {
     "name": "stdout",
     "output_type": "stream",
     "text": [
      "2021 > Grade_10th: 0.01004253568311401\n",
      "2021 > Grade_11th: 0.04019670082113769\n",
      "2021 > Grade_12th: 0.05745067700888289\n",
      "2021 > Grade_6th: 0.0\n",
      "2021 > Grade_7th: 0.002471731714120196\n",
      "2021 > Grade_8th: 0.009902011076799068\n",
      "2021 > Grade_9th: 0.0031053237616968077\n",
      "Gender_Female: 0.00243068022586121\n",
      "Gender_Male: 0.010889242827710019\n",
      "Lead source_Advertisement: 0.0\n",
      "Lead source_Camp Advisory Service: 0.0\n",
      "Lead source_Catalog: 0.0\n",
      "Lead source_Competitor: 0.007285790357002877\n",
      "Lead source_Family: 0.0038620808033128073\n",
      "Lead source_Friend: 0.016625526939428283\n",
      "Lead source_Google Ad: 0.0\n",
      "Lead source_Home Presentation: 0.00165517748713406\n",
      "Lead source_I'm a Moondance Alumni: 0.002059776428433497\n",
      "Lead source_I'm a sibling of a Moondance Alumni: 0.002444569827151845\n",
      "Lead source_No Source: 0.0027404118735362237\n",
      "Lead source_School Auction: 0.0023383731195862367\n",
      "Lead source_Social Media: 0.0\n",
      "Lead source_Summer Opportunities Fair: 0.0\n",
      "Lead source_Teacher: 0.0\n",
      "Lead source_Web Search: 0.004501365072869299\n",
      "Lead source_Website: 0.0\n",
      "Lead source_Word of Mouth: 0.005242194978575313\n",
      "2021 > trip + section names (all)_Belize+Costa Rica 1: 0.0022901461605609216\n",
      "2021 > trip + section names (all)_Belize+Costa Rica 1B: 0.0\n",
      "2021 > trip + section names (all)_Belize+Costa Rica 1B, Canyonlands 3: 0.0\n",
      "2021 > trip + section names (all)_Belize+Costa Rica 2: 0.004367235721304929\n",
      "2021 > trip + section names (all)_Belize+Costa Rica 3: 0.00837825732830699\n",
      "2021 > trip + section names (all)_Big Wild 1: 0.00469517663174756\n",
      "2021 > trip + section names (all)_Big Wild 2: 0.002125983527918862\n",
      "2021 > trip + section names (all)_Big Wild 3: 0.000939015724727035\n",
      "2021 > trip + section names (all)_British Columbia 1: 0.0\n",
      "2021 > trip + section names (all)_British Columbia 2: 0.0038312961012574175\n",
      "2021 > trip + section names (all)_British Columbia 3: 0.0007720349755338646\n",
      "2021 > trip + section names (all)_California 1: 0.0023253225185102928\n",
      "2021 > trip + section names (all)_California 2: 0.002349771267699792\n",
      "2021 > trip + section names (all)_California 3: 0.001504706806485509\n",
      "2021 > trip + section names (all)_Canyonlands 1: 0.002808786038772951\n",
      "2021 > trip + section names (all)_Canyonlands 2: 0.002217167982765623\n",
      "2021 > trip + section names (all)_Canyonlands 3: 0.0021419580476492966\n",
      "2021 > trip + section names (all)_Chamonix 4: 0.0060237445684468965\n",
      "2021 > trip + section names (all)_Chamonix Alps 1: 0.006328047795367226\n",
      "2021 > trip + section names (all)_Chamonix Alps 2: 0.00891024204850943\n",
      "2021 > trip + section names (all)_Chamonix Alps 3: 0.0\n",
      "2021 > trip + section names (all)_Chamonix Alps 3, Hawaiian Islands 1: 0.0\n",
      "2021 > trip + section names (all)_Colorado Trail 1: 0.0\n",
      "2021 > trip + section names (all)_Colorado Trail 2: 0.0\n",
      "2021 > trip + section names (all)_Colorado Trail 3: 0.0\n",
      "2021 > trip + section names (all)_Croatia 1: 0.00292563337350316\n",
      "2021 > trip + section names (all)_Croatia 2: 0.0027311963271513997\n",
      "2021 > trip + section names (all)_Croatia 3: 0.000968389004820623\n",
      "2021 > trip + section names (all)_Dolomites 1: 0.003740718569321985\n",
      "2021 > trip + section names (all)_Dolomites 2: 0.0\n",
      "2021 > trip + section names (all)_Dolomites 3: 0.004013462868362118\n",
      "2021 > trip + section names (all)_Dolomites 3, South Africa 1: 0.0\n",
      "2021 > trip + section names (all)_Ecuador+Galapagos 1: 0.008103518364629823\n",
      "2021 > trip + section names (all)_Ecuador+Galapagos 2: 0.0054719553281188035\n",
      "2021 > trip + section names (all)_Ecuador+Galapagos 3: 0.0034914596955326364\n",
      "2021 > trip + section names (all)_FIJ 3: 0.005375248640897133\n",
      "2021 > trip + section names (all)_Fiji 1: 0.0004609895859703345\n",
      "2021 > trip + section names (all)_Fiji 2: 0.008644615440528934\n",
      "2021 > trip + section names (all)_Hawaiian Islands 1: 0.002746368571244663\n",
      "2021 > trip + section names (all)_Hawaiian Islands 2: 0.0\n",
      "2021 > trip + section names (all)_Hawaiian Islands 3: 0.0\n",
      "2021 > trip + section names (all)_Iceland 1: 0.0\n",
      "2021 > trip + section names (all)_Iceland 2: 0.001085693318621087\n",
      "2021 > trip + section names (all)_Iceland 3: 0.0012677821190467326\n",
      "2021 > trip + section names (all)_Kenya + Zanzibar 1: 0.0049114335625778235\n",
      "2021 > trip + section names (all)_Kenya + Zanzibar 2: 0.0024694745686965895\n",
      "2021 > trip + section names (all)_Kenya + Zanzibar 3: 0.0015527545383575594\n",
      "2021 > trip + section names (all)_Kilimanjaro 1: 0.0009704715864734739\n",
      "2021 > trip + section names (all)_Kilimanjaro 2: 0.0\n",
      "2021 > trip + section names (all)_Kilimanjaro 3: 0.002471731714120196\n",
      "2021 > trip + section names (all)_Kilimanjaro 4: 0.0\n",
      "2021 > trip + section names (all)_MID3: 0.0\n",
      "2021 > trip + section names (all)_Machu Picchu 1: 0.0\n",
      "2021 > trip + section names (all)_Machu Picchu 2: 0.0\n",
      "2021 > trip + section names (all)_Machu Picchu 3: 0.0012256801494469655\n",
      "2021 > trip + section names (all)_Maui 1: 0.0009917940928122616\n",
      "2021 > trip + section names (all)_Maui 2: 0.0030430129317067446\n",
      "2021 > trip + section names (all)_Maui 3: 0.002841070935770343\n",
      "2021 > trip + section names (all)_Midnight Sun 1: 0.005047883291107203\n",
      "2021 > trip + section names (all)_Midnight Sun 2: 0.0021792094919562315\n",
      "2021 > trip + section names (all)_Mystery Trip 1: 0.0\n",
      "2021 > trip + section names (all)_Northern Lights 1: 0.0031351008873951023\n",
      "2021 > trip + section names (all)_Northern Lights 2: 0.002106345286815471\n",
      "2021 > trip + section names (all)_Norway 1: 0.002851998131677149\n",
      "2021 > trip + section names (all)_Norway 2: 0.0\n",
      "2021 > trip + section names (all)_Pacific Northwest 1: 0.002416481509662588\n",
      "2021 > trip + section names (all)_Pacific Northwest 2: 0.0003282530752378014\n",
      "2021 > trip + section names (all)_SLO 2: 0.002471731714120196\n",
      "2021 > trip + section names (all)_Slovenia 1: 0.003997676579146673\n",
      "2021 > trip + section names (all)_Slovenia 3: 0.0\n",
      "2021 > trip + section names (all)_South Africa 1: 0.0021026884373591946\n",
      "2021 > trip + section names (all)_South Africa 2: 0.0\n",
      "2021 > trip + section names (all)_South Africa 3: 0.008237294909781381\n",
      "2021 > trip + section names (all)_Spain + Morocco 1: 0.0031086808744614255\n",
      "2021 > trip + section names (all)_Spain + Morocco 2: 0.0005995655348938249\n",
      "2021 > trip + section names (all)_Spain+Morocco 3: 0.003351474423878992\n",
      "2021 > trip + section names (all)_Thailand 1: 0.0\n",
      "2021 > trip + section names (all)_Thailand 2: 0.0\n",
      "2021 > trip + section names (all)_The Olympics 1: 0.0\n",
      "2021 > trip + section names (all)_The Olympics 2: 0.002746368571244663\n",
      "2021 > trip + section names (all)_The Olympics 3: 0.0017976230648146891\n",
      "2021 > trip + section names (all)_Yellowstone 1: 0.0\n",
      "2021 > trip + section names (all)_Yellowstone 2: 0.0\n",
      "2021 > trip + section names (all)_Yellowstone 3: 0.004303355873088454\n",
      "2021 > trip + section names (all)_Yosemite 1: 0.0\n",
      "2021 > trip + section names (all)_Yosemite 2: 0.0\n",
      "2021 > Is your child attending with a friend?_No: 0.007535049811509296\n",
      "2021 > Is your child attending with a friend?_Yes: 0.009004165530009288\n",
      "2021 ^Trip Length_Just Right: 0.010513042973866125\n",
      "2021 ^Trip Length_Too Long: 0.004285066118769\n",
      "2021 ^Trip Length_Too Short: 0.009687007379603419\n",
      "2021 ^^Interested in Another Trip?_No: 0.010521964702794618\n",
      "2021 ^^Interested in Another Trip?_Not Sure: 0.011962311828423373\n",
      "2021 ^^Interested in Another Trip?_Yes: 0.02982178439670573\n",
      "Changed Trip_0: 0.0036244142923397104\n",
      "Changed Trip_1: 0.005854690609079996\n",
      "2021 ^Expectations_Did not meet expectations: 0.0\n",
      "2021 ^Expectations_Exceeded expectations: 0.010750461373758305\n",
      "2021 ^Expectations_Met expectations: 0.01970429571332078\n",
      "Years at camp: 0.4414144467903879\n",
      "2021 > Enrolled sibling count: 0.017314127932784272\n",
      "2021 ^^^^Leader Rating of Student: 0.02641283432076029\n",
      "rating: 0.012055086029618495\n"
     ]
    }
   ],
   "source": [
    "for importance, feature in zip(tree_default.feature_importances_, tree_default.feature_names_in_):\n",
    "    print(f'{feature}: {importance}')"
   ]
  },
  {
   "cell_type": "code",
   "execution_count": 133,
   "metadata": {
    "scrolled": true
   },
   "outputs": [
    {
     "data": {
      "text/html": [
       "<div>\n",
       "<style scoped>\n",
       "    .dataframe tbody tr th:only-of-type {\n",
       "        vertical-align: middle;\n",
       "    }\n",
       "\n",
       "    .dataframe tbody tr th {\n",
       "        vertical-align: top;\n",
       "    }\n",
       "\n",
       "    .dataframe thead th {\n",
       "        text-align: right;\n",
       "    }\n",
       "</style>\n",
       "<table border=\"1\" class=\"dataframe\">\n",
       "  <thead>\n",
       "    <tr style=\"text-align: right;\">\n",
       "      <th></th>\n",
       "      <th>0</th>\n",
       "    </tr>\n",
       "  </thead>\n",
       "  <tbody>\n",
       "    <tr>\n",
       "      <th>Years at camp</th>\n",
       "      <td>0.441414</td>\n",
       "    </tr>\n",
       "    <tr>\n",
       "      <th>2021 &gt; Grade_12th</th>\n",
       "      <td>0.057451</td>\n",
       "    </tr>\n",
       "    <tr>\n",
       "      <th>2021 &gt; Grade_11th</th>\n",
       "      <td>0.040197</td>\n",
       "    </tr>\n",
       "    <tr>\n",
       "      <th>2021 ^^Interested in Another Trip?_Yes</th>\n",
       "      <td>0.029822</td>\n",
       "    </tr>\n",
       "    <tr>\n",
       "      <th>2021 ^^^^Leader Rating of Student</th>\n",
       "      <td>0.026413</td>\n",
       "    </tr>\n",
       "    <tr>\n",
       "      <th>2021 ^Expectations_Met expectations</th>\n",
       "      <td>0.019704</td>\n",
       "    </tr>\n",
       "    <tr>\n",
       "      <th>2021 &gt; Enrolled sibling count</th>\n",
       "      <td>0.017314</td>\n",
       "    </tr>\n",
       "    <tr>\n",
       "      <th>Lead source_Friend</th>\n",
       "      <td>0.016626</td>\n",
       "    </tr>\n",
       "    <tr>\n",
       "      <th>rating</th>\n",
       "      <td>0.012055</td>\n",
       "    </tr>\n",
       "    <tr>\n",
       "      <th>2021 ^^Interested in Another Trip?_Not Sure</th>\n",
       "      <td>0.011962</td>\n",
       "    </tr>\n",
       "  </tbody>\n",
       "</table>\n",
       "</div>"
      ],
      "text/plain": [
       "                                                    0\n",
       "Years at camp                                0.441414\n",
       "2021 > Grade_12th                            0.057451\n",
       "2021 > Grade_11th                            0.040197\n",
       "2021 ^^Interested in Another Trip?_Yes       0.029822\n",
       "2021 ^^^^Leader Rating of Student            0.026413\n",
       "2021 ^Expectations_Met expectations          0.019704\n",
       "2021 > Enrolled sibling count                0.017314\n",
       "Lead source_Friend                           0.016626\n",
       "rating                                       0.012055\n",
       "2021 ^^Interested in Another Trip?_Not Sure  0.011962"
      ]
     },
     "execution_count": 133,
     "metadata": {},
     "output_type": "execute_result"
    }
   ],
   "source": [
    "pd.DataFrame(dict(zip(tree_default.feature_names_in_, tree_default.feature_importances_)), \n",
    "             index=[0]).T.sort_values(by=0, ascending=False).head(10)"
   ]
  },
  {
   "cell_type": "code",
   "execution_count": null,
   "metadata": {},
   "outputs": [],
   "source": []
  },
  {
   "cell_type": "markdown",
   "metadata": {},
   "source": [
    "#### Addressing the model OVER-fitting via tuning 'max_depth' parameter ONLY!:"
   ]
  },
  {
   "cell_type": "code",
   "execution_count": 169,
   "metadata": {},
   "outputs": [
    {
     "name": "stdout",
     "output_type": "stream",
     "text": [
      "Training Accuracy: 0.9729938271604939\n",
      "Training Precision: 0.9539877300613497\n",
      "---------------------------------\n",
      "CV Avg Accuracy: 0.8310098010098012\n",
      "CV Avg Precision: 0.8118761260363611\n"
     ]
    }
   ],
   "source": [
    "tree_2 = DecisionTreeClassifier(random_state=23, max_depth=20)\n",
    "tree_2.fit(X_train_ohe_df, y_train)\n",
    "\n",
    "print('Training Accuracy:', tree_2.score(X_train_ohe_df, y_train))\n",
    "print('Training Precision:', precision_score(y_train, tree_2.predict(X_train_ohe_df)))\n",
    "print('---------------------------------')\n",
    "print('CV Avg Accuracy:', cross_val_score(tree_2, X_train_ohe_df, y_train).mean())\n",
    "print('CV Avg Precision:', cross_val_score(tree_2, X_train_ohe_df, y_train, scoring='precision').mean())"
   ]
  },
  {
   "cell_type": "code",
   "execution_count": 170,
   "metadata": {},
   "outputs": [
    {
     "name": "stdout",
     "output_type": "stream",
     "text": [
      "Training Accuracy: 0.9452160493827161\n",
      "Training Precision: 0.9250764525993884\n",
      "---------------------------------\n",
      "CV Avg Accuracy: 0.8271577071577072\n",
      "CV Avg Precision: 0.7994518811403045\n"
     ]
    }
   ],
   "source": [
    "tree_3 = DecisionTreeClassifier(random_state=23, max_depth=15)\n",
    "tree_3.fit(X_train_ohe_df, y_train)\n",
    "\n",
    "print('Training Accuracy:', tree_3.score(X_train_ohe_df, y_train))\n",
    "print('Training Precision:', precision_score(y_train, tree_3.predict(X_train_ohe_df)))\n",
    "print('---------------------------------')\n",
    "print('CV Avg Accuracy:', cross_val_score(tree_3, X_train_ohe_df, y_train).mean())\n",
    "print('CV Avg Precision:', cross_val_score(tree_3, X_train_ohe_df, y_train, scoring='precision').mean())"
   ]
  },
  {
   "cell_type": "code",
   "execution_count": 171,
   "metadata": {
    "scrolled": true
   },
   "outputs": [
    {
     "name": "stdout",
     "output_type": "stream",
     "text": [
      "Training Accuracy: 0.8449074074074074\n",
      "Training Precision: 0.7886178861788617\n",
      "---------------------------------\n",
      "CV Avg Accuracy: 0.8325660825660826\n",
      "CV Avg Precision: 0.7821291596875511\n"
     ]
    }
   ],
   "source": [
    "tree_4 = DecisionTreeClassifier(random_state=23, max_depth=5)\n",
    "tree_4.fit(X_train_ohe_df, y_train)\n",
    "\n",
    "print('Training Accuracy:', tree_4.score(X_train_ohe_df, y_train))\n",
    "print('Training Precision:', precision_score(y_train, tree_4.predict(X_train_ohe_df)))\n",
    "print('---------------------------------')\n",
    "print('CV Avg Accuracy:', cross_val_score(tree_4, X_train_ohe_df, y_train).mean())\n",
    "print('CV Avg Precision:', cross_val_score(tree_4, X_train_ohe_df, y_train, scoring='precision').mean())"
   ]
  },
  {
   "cell_type": "markdown",
   "metadata": {},
   "source": [
    "### Grid Searching for DecisionTree Classifier:"
   ]
  },
  {
   "cell_type": "code",
   "execution_count": null,
   "metadata": {},
   "outputs": [],
   "source": [
    "tree_default()"
   ]
  },
  {
   "cell_type": "code",
   "execution_count": 172,
   "metadata": {},
   "outputs": [],
   "source": [
    "from sklearn.model_selection import GridSearchCV"
   ]
  },
  {
   "cell_type": "code",
   "execution_count": 186,
   "metadata": {},
   "outputs": [],
   "source": [
    "params = {'max_depth': [None, 5, 10, 20, 25], 'min_samples_leaf': [1, 2, 3, 4, 5]}\n",
    "grid = GridSearchCV(estimator = tree_default, param_grid=params, cv=5)\n",
    "grid.fit(X_train_ohe_df, y_train);"
   ]
  },
  {
   "cell_type": "code",
   "execution_count": 185,
   "metadata": {},
   "outputs": [
    {
     "name": "stdout",
     "output_type": "stream",
     "text": [
      "0.837962577962578\n",
      "DecisionTreeClassifier(max_depth=10, min_samples_leaf=3, random_state=23)\n"
     ]
    }
   ],
   "source": [
    "print(grid.best_score_)\n",
    "print(grid.best_estimator_)"
   ]
  },
  {
   "cell_type": "code",
   "execution_count": 184,
   "metadata": {},
   "outputs": [],
   "source": [
    "grid_precision = GridSearchCV(estimator = tree_default, param_grid=params, cv=5, scoring=('precision'))\n",
    "grid_precision.fit(X_train_ohe_df, y_train);"
   ]
  },
  {
   "cell_type": "code",
   "execution_count": 183,
   "metadata": {},
   "outputs": [
    {
     "name": "stdout",
     "output_type": "stream",
     "text": [
      "0.8199834769457646\n",
      "DecisionTreeClassifier(max_depth=25, min_samples_leaf=3, random_state=23)\n"
     ]
    }
   ],
   "source": [
    "print(grid_precision.best_score_)\n",
    "print(grid_precision.best_estimator_)"
   ]
  },
  {
   "cell_type": "markdown",
   "metadata": {},
   "source": [
    "### Introducing RandomForestClassifier:"
   ]
  },
  {
   "cell_type": "code",
   "execution_count": 137,
   "metadata": {},
   "outputs": [],
   "source": [
    "from sklearn.ensemble import RandomForestClassifier"
   ]
  },
  {
   "cell_type": "code",
   "execution_count": 138,
   "metadata": {},
   "outputs": [],
   "source": [
    "randfor_default = RandomForestClassifier(random_state=23)"
   ]
  },
  {
   "cell_type": "code",
   "execution_count": 139,
   "metadata": {},
   "outputs": [
    {
     "data": {
      "text/html": [
       "<style>#sk-container-id-5 {color: black;}#sk-container-id-5 pre{padding: 0;}#sk-container-id-5 div.sk-toggleable {background-color: white;}#sk-container-id-5 label.sk-toggleable__label {cursor: pointer;display: block;width: 100%;margin-bottom: 0;padding: 0.3em;box-sizing: border-box;text-align: center;}#sk-container-id-5 label.sk-toggleable__label-arrow:before {content: \"▸\";float: left;margin-right: 0.25em;color: #696969;}#sk-container-id-5 label.sk-toggleable__label-arrow:hover:before {color: black;}#sk-container-id-5 div.sk-estimator:hover label.sk-toggleable__label-arrow:before {color: black;}#sk-container-id-5 div.sk-toggleable__content {max-height: 0;max-width: 0;overflow: hidden;text-align: left;background-color: #f0f8ff;}#sk-container-id-5 div.sk-toggleable__content pre {margin: 0.2em;color: black;border-radius: 0.25em;background-color: #f0f8ff;}#sk-container-id-5 input.sk-toggleable__control:checked~div.sk-toggleable__content {max-height: 200px;max-width: 100%;overflow: auto;}#sk-container-id-5 input.sk-toggleable__control:checked~label.sk-toggleable__label-arrow:before {content: \"▾\";}#sk-container-id-5 div.sk-estimator input.sk-toggleable__control:checked~label.sk-toggleable__label {background-color: #d4ebff;}#sk-container-id-5 div.sk-label input.sk-toggleable__control:checked~label.sk-toggleable__label {background-color: #d4ebff;}#sk-container-id-5 input.sk-hidden--visually {border: 0;clip: rect(1px 1px 1px 1px);clip: rect(1px, 1px, 1px, 1px);height: 1px;margin: -1px;overflow: hidden;padding: 0;position: absolute;width: 1px;}#sk-container-id-5 div.sk-estimator {font-family: monospace;background-color: #f0f8ff;border: 1px dotted black;border-radius: 0.25em;box-sizing: border-box;margin-bottom: 0.5em;}#sk-container-id-5 div.sk-estimator:hover {background-color: #d4ebff;}#sk-container-id-5 div.sk-parallel-item::after {content: \"\";width: 100%;border-bottom: 1px solid gray;flex-grow: 1;}#sk-container-id-5 div.sk-label:hover label.sk-toggleable__label {background-color: #d4ebff;}#sk-container-id-5 div.sk-serial::before {content: \"\";position: absolute;border-left: 1px solid gray;box-sizing: border-box;top: 0;bottom: 0;left: 50%;z-index: 0;}#sk-container-id-5 div.sk-serial {display: flex;flex-direction: column;align-items: center;background-color: white;padding-right: 0.2em;padding-left: 0.2em;position: relative;}#sk-container-id-5 div.sk-item {position: relative;z-index: 1;}#sk-container-id-5 div.sk-parallel {display: flex;align-items: stretch;justify-content: center;background-color: white;position: relative;}#sk-container-id-5 div.sk-item::before, #sk-container-id-5 div.sk-parallel-item::before {content: \"\";position: absolute;border-left: 1px solid gray;box-sizing: border-box;top: 0;bottom: 0;left: 50%;z-index: -1;}#sk-container-id-5 div.sk-parallel-item {display: flex;flex-direction: column;z-index: 1;position: relative;background-color: white;}#sk-container-id-5 div.sk-parallel-item:first-child::after {align-self: flex-end;width: 50%;}#sk-container-id-5 div.sk-parallel-item:last-child::after {align-self: flex-start;width: 50%;}#sk-container-id-5 div.sk-parallel-item:only-child::after {width: 0;}#sk-container-id-5 div.sk-dashed-wrapped {border: 1px dashed gray;margin: 0 0.4em 0.5em 0.4em;box-sizing: border-box;padding-bottom: 0.4em;background-color: white;}#sk-container-id-5 div.sk-label label {font-family: monospace;font-weight: bold;display: inline-block;line-height: 1.2em;}#sk-container-id-5 div.sk-label-container {text-align: center;}#sk-container-id-5 div.sk-container {/* jupyter's `normalize.less` sets `[hidden] { display: none; }` but bootstrap.min.css set `[hidden] { display: none !important; }` so we also need the `!important` here to be able to override the default hidden behavior on the sphinx rendered scikit-learn.org. See: https://github.com/scikit-learn/scikit-learn/issues/21755 */display: inline-block !important;position: relative;}#sk-container-id-5 div.sk-text-repr-fallback {display: none;}</style><div id=\"sk-container-id-5\" class=\"sk-top-container\"><div class=\"sk-text-repr-fallback\"><pre>RandomForestClassifier(random_state=23)</pre><b>In a Jupyter environment, please rerun this cell to show the HTML representation or trust the notebook. <br />On GitHub, the HTML representation is unable to render, please try loading this page with nbviewer.org.</b></div><div class=\"sk-container\" hidden><div class=\"sk-item\"><div class=\"sk-estimator sk-toggleable\"><input class=\"sk-toggleable__control sk-hidden--visually\" id=\"sk-estimator-id-5\" type=\"checkbox\" checked><label for=\"sk-estimator-id-5\" class=\"sk-toggleable__label sk-toggleable__label-arrow\">RandomForestClassifier</label><div class=\"sk-toggleable__content\"><pre>RandomForestClassifier(random_state=23)</pre></div></div></div></div></div>"
      ],
      "text/plain": [
       "RandomForestClassifier(random_state=23)"
      ]
     },
     "execution_count": 139,
     "metadata": {},
     "output_type": "execute_result"
    }
   ],
   "source": [
    "randfor_default.fit(X_train_ohe_df, y_train)"
   ]
  },
  {
   "cell_type": "code",
   "execution_count": 140,
   "metadata": {},
   "outputs": [
    {
     "data": {
      "text/plain": [
       "array([0.83846154, 0.87258687, 0.82625483, 0.81853282, 0.87644788])"
      ]
     },
     "execution_count": 140,
     "metadata": {},
     "output_type": "execute_result"
    }
   ],
   "source": [
    "cross_val_score(randfor_default, X_train_ohe_df, y_train)"
   ]
  },
  {
   "cell_type": "code",
   "execution_count": 141,
   "metadata": {},
   "outputs": [
    {
     "data": {
      "text/plain": [
       "0.8464567864567865"
      ]
     },
     "execution_count": 141,
     "metadata": {},
     "output_type": "execute_result"
    }
   ],
   "source": [
    "cross_val_score(randfor_default, X_train_ohe_df, y_train).mean()"
   ]
  },
  {
   "cell_type": "code",
   "execution_count": 201,
   "metadata": {},
   "outputs": [
    {
     "data": {
      "text/plain": [
       "1.0"
      ]
     },
     "execution_count": 201,
     "metadata": {},
     "output_type": "execute_result"
    }
   ],
   "source": [
    "randfor_default.score(X_train_ohe_df, y_train)"
   ]
  },
  {
   "cell_type": "code",
   "execution_count": 203,
   "metadata": {},
   "outputs": [
    {
     "data": {
      "text/plain": [
       "1.0"
      ]
     },
     "execution_count": 203,
     "metadata": {},
     "output_type": "execute_result"
    }
   ],
   "source": [
    "precision_score(y_train, randfor_default.predict(X_train_ohe_df))"
   ]
  },
  {
   "cell_type": "code",
   "execution_count": 200,
   "metadata": {
    "scrolled": true
   },
   "outputs": [
    {
     "data": {
      "text/plain": [
       "0.8158549757758878"
      ]
     },
     "execution_count": 200,
     "metadata": {},
     "output_type": "execute_result"
    }
   ],
   "source": [
    "cross_val_score(randfor_default, X_train_ohe_df, y_train, scoring='precision').mean()"
   ]
  },
  {
   "cell_type": "code",
   "execution_count": 148,
   "metadata": {},
   "outputs": [
    {
     "data": {
      "text/plain": [
       "{'2021 > Grade_10th': 0.011803087042548132,\n",
       " '2021 > Grade_11th': 0.027825430700785594,\n",
       " '2021 > Grade_12th': 0.030186885389534557,\n",
       " '2021 > Grade_6th': 0.0026513297125856056,\n",
       " '2021 > Grade_7th': 0.00732503982971738,\n",
       " '2021 > Grade_8th': 0.014936629496442984,\n",
       " '2021 > Grade_9th': 0.011151512699611654,\n",
       " 'Gender_Female': 0.013383712125109417,\n",
       " 'Gender_Male': 0.011386913927559122,\n",
       " 'Lead source_Advertisement': 0.0010753007594026406,\n",
       " 'Lead source_Camp Advisory Service': 0.0007201071365626561,\n",
       " 'Lead source_Catalog': 0.0010201778305114055,\n",
       " 'Lead source_Competitor': 0.0034014880272890714,\n",
       " 'Lead source_Family': 0.007753045940644925,\n",
       " 'Lead source_Friend': 0.014144901040673867,\n",
       " 'Lead source_Google Ad': 0.0003118021953804402,\n",
       " 'Lead source_Home Presentation': 0.0011149444535527126,\n",
       " \"Lead source_I'm a Moondance Alumni\": 0.0077673367772737355,\n",
       " \"Lead source_I'm a sibling of a Moondance Alumni\": 0.003782977704631828,\n",
       " 'Lead source_No Source': 0.001169101632237379,\n",
       " 'Lead source_School Auction': 0.0010561519848449722,\n",
       " 'Lead source_Social Media': 0.0017041973680412559,\n",
       " 'Lead source_Summer Opportunities Fair': 0.00017652251877403933,\n",
       " 'Lead source_Teacher': 0.0006680954975452886,\n",
       " 'Lead source_Web Search': 0.00429960602427222,\n",
       " 'Lead source_Website': 0.00012126748356711764,\n",
       " 'Lead source_Word of Mouth': 0.007608701740240175,\n",
       " '2021 > trip + section names (all)_Belize+Costa Rica 1': 0.002963972968887739,\n",
       " '2021 > trip + section names (all)_Belize+Costa Rica 1B': 0.0017799582609310351,\n",
       " '2021 > trip + section names (all)_Belize+Costa Rica 1B, Canyonlands 3': 3.147343834337038e-05,\n",
       " '2021 > trip + section names (all)_Belize+Costa Rica 2': 0.004875597415028545,\n",
       " '2021 > trip + section names (all)_Belize+Costa Rica 3': 0.0055008508519320395,\n",
       " '2021 > trip + section names (all)_Big Wild 1': 0.0034402610666899335,\n",
       " '2021 > trip + section names (all)_Big Wild 2': 0.0025092418708892133,\n",
       " '2021 > trip + section names (all)_Big Wild 3': 0.002449160963381414,\n",
       " '2021 > trip + section names (all)_British Columbia 1': 0.00448266917122089,\n",
       " '2021 > trip + section names (all)_British Columbia 2': 0.002374016295662083,\n",
       " '2021 > trip + section names (all)_British Columbia 3': 0.0038367640024688943,\n",
       " '2021 > trip + section names (all)_California 1': 0.0017951159183209708,\n",
       " '2021 > trip + section names (all)_California 2': 0.0023725721761966925,\n",
       " '2021 > trip + section names (all)_California 3': 0.0018698466947993154,\n",
       " '2021 > trip + section names (all)_Canyonlands 1': 0.0016881157113981084,\n",
       " '2021 > trip + section names (all)_Canyonlands 2': 0.0009885285485596088,\n",
       " '2021 > trip + section names (all)_Canyonlands 3': 0.001495785009953565,\n",
       " '2021 > trip + section names (all)_Chamonix 4': 0.005140055084207468,\n",
       " '2021 > trip + section names (all)_Chamonix Alps 1': 0.005828198625740364,\n",
       " '2021 > trip + section names (all)_Chamonix Alps 2': 0.006204656024018991,\n",
       " '2021 > trip + section names (all)_Chamonix Alps 3': 0.003092305804145376,\n",
       " '2021 > trip + section names (all)_Chamonix Alps 3, Hawaiian Islands 1': 2.8664623176844883e-05,\n",
       " '2021 > trip + section names (all)_Colorado Trail 1': 0.0013410236889407805,\n",
       " '2021 > trip + section names (all)_Colorado Trail 2': 0.0009357266067815704,\n",
       " '2021 > trip + section names (all)_Colorado Trail 3': 0.0015139954896420582,\n",
       " '2021 > trip + section names (all)_Croatia 1': 0.0038577625671735614,\n",
       " '2021 > trip + section names (all)_Croatia 2': 0.004407322767415723,\n",
       " '2021 > trip + section names (all)_Croatia 3': 0.0032309725380668397,\n",
       " '2021 > trip + section names (all)_Dolomites 1': 0.004940082630977617,\n",
       " '2021 > trip + section names (all)_Dolomites 2': 0.0020473058123799937,\n",
       " '2021 > trip + section names (all)_Dolomites 3': 0.00325498990835461,\n",
       " '2021 > trip + section names (all)_Dolomites 3, South Africa 1': 1.9460034386073372e-05,\n",
       " '2021 > trip + section names (all)_Ecuador+Galapagos 1': 0.006565342608898934,\n",
       " '2021 > trip + section names (all)_Ecuador+Galapagos 2': 0.004928132958502823,\n",
       " '2021 > trip + section names (all)_Ecuador+Galapagos 3': 0.0038535221390438613,\n",
       " '2021 > trip + section names (all)_FIJ 3': 0.005150590874946887,\n",
       " '2021 > trip + section names (all)_Fiji 1': 0.0046850352292189664,\n",
       " '2021 > trip + section names (all)_Fiji 2': 0.005788154278531125,\n",
       " '2021 > trip + section names (all)_Hawaiian Islands 1': 0.0015093034292515096,\n",
       " '2021 > trip + section names (all)_Hawaiian Islands 2': 0.002226755396819114,\n",
       " '2021 > trip + section names (all)_Hawaiian Islands 3': 0.0020277723473644243,\n",
       " '2021 > trip + section names (all)_Iceland 1': 0.0021424074471983064,\n",
       " '2021 > trip + section names (all)_Iceland 2': 0.0033667590978989485,\n",
       " '2021 > trip + section names (all)_Iceland 3': 0.0031084564127384614,\n",
       " '2021 > trip + section names (all)_Kenya + Zanzibar 1': 0.003028843941872401,\n",
       " '2021 > trip + section names (all)_Kenya + Zanzibar 2': 0.0018901331385333337,\n",
       " '2021 > trip + section names (all)_Kenya + Zanzibar 3': 0.0025989439309944736,\n",
       " '2021 > trip + section names (all)_Kilimanjaro 1': 0.002455830653681299,\n",
       " '2021 > trip + section names (all)_Kilimanjaro 2': 0.0016382868780821403,\n",
       " '2021 > trip + section names (all)_Kilimanjaro 3': 0.00202511850693148,\n",
       " '2021 > trip + section names (all)_Kilimanjaro 4': 0.0025141288596938877,\n",
       " '2021 > trip + section names (all)_MID3': 0.0005308423634619164,\n",
       " '2021 > trip + section names (all)_Machu Picchu 1': 0.0010297906294134526,\n",
       " '2021 > trip + section names (all)_Machu Picchu 2': 0.0017081333288289273,\n",
       " '2021 > trip + section names (all)_Machu Picchu 3': 0.0012251098165844525,\n",
       " '2021 > trip + section names (all)_Maui 1': 0.00312774492787775,\n",
       " '2021 > trip + section names (all)_Maui 2': 0.004251717270142323,\n",
       " '2021 > trip + section names (all)_Maui 3': 0.005277715495546117,\n",
       " '2021 > trip + section names (all)_Midnight Sun 1': 0.0029796805395159785,\n",
       " '2021 > trip + section names (all)_Midnight Sun 2': 0.0021972846663530924,\n",
       " '2021 > trip + section names (all)_Mystery Trip 1': 0.0006571256871457963,\n",
       " '2021 > trip + section names (all)_Northern Lights 1': 0.003061828818728674,\n",
       " '2021 > trip + section names (all)_Northern Lights 2': 0.0033471064004238858,\n",
       " '2021 > trip + section names (all)_Norway 1': 0.00122671060254671,\n",
       " '2021 > trip + section names (all)_Norway 2': 0.0020523317817513183,\n",
       " '2021 > trip + section names (all)_Pacific Northwest 1': 0.003421880237447437,\n",
       " '2021 > trip + section names (all)_Pacific Northwest 2': 0.0016389642422930653,\n",
       " '2021 > trip + section names (all)_SLO 2': 0.0019546372810312716,\n",
       " '2021 > trip + section names (all)_Slovenia 1': 0.003700044829544907,\n",
       " '2021 > trip + section names (all)_Slovenia 3': 0.0021433745121556334,\n",
       " '2021 > trip + section names (all)_South Africa 1': 0.003027330677109154,\n",
       " '2021 > trip + section names (all)_South Africa 2': 0.0019538410570880092,\n",
       " '2021 > trip + section names (all)_South Africa 3': 0.003340400322647241,\n",
       " '2021 > trip + section names (all)_Spain + Morocco 1': 0.0023646156357971207,\n",
       " '2021 > trip + section names (all)_Spain + Morocco 2': 0.0015518147219010115,\n",
       " '2021 > trip + section names (all)_Spain+Morocco 3': 0.0031413034311343897,\n",
       " '2021 > trip + section names (all)_Thailand 1': 0.001819105179252951,\n",
       " '2021 > trip + section names (all)_Thailand 2': 0.002035693113511473,\n",
       " '2021 > trip + section names (all)_The Olympics 1': 0.0004569216017744715,\n",
       " '2021 > trip + section names (all)_The Olympics 2': 0.0012350550247994928,\n",
       " '2021 > trip + section names (all)_The Olympics 3': 0.0010958881817572069,\n",
       " '2021 > trip + section names (all)_Yellowstone 1': 0.0005084642121504833,\n",
       " '2021 > trip + section names (all)_Yellowstone 2': 0.000539649720632326,\n",
       " '2021 > trip + section names (all)_Yellowstone 3': 0.0010427524251158608,\n",
       " '2021 > trip + section names (all)_Yosemite 1': 0.0006876684825042682,\n",
       " '2021 > trip + section names (all)_Yosemite 2': 0.0008014573884442863,\n",
       " '2021 > Is your child attending with a friend?_No': 0.011765624128253155,\n",
       " '2021 > Is your child attending with a friend?_Yes': 0.013328459642984687,\n",
       " '2021 ^Trip Length_Just Right': 0.009565898682343895,\n",
       " '2021 ^Trip Length_Too Long': 0.005972711089020125,\n",
       " '2021 ^Trip Length_Too Short': 0.009262145037018747,\n",
       " '2021 ^^Interested in Another Trip?_No': 0.02205471948808007,\n",
       " '2021 ^^Interested in Another Trip?_Not Sure': 0.02571238282764045,\n",
       " '2021 ^^Interested in Another Trip?_Yes': 0.03757439753816402,\n",
       " 'Changed Trip_0': 0.008047901797546582,\n",
       " 'Changed Trip_1': 0.007891433368498808,\n",
       " '2021 ^Expectations_Did not meet expectations': 0.001729139209872814,\n",
       " '2021 ^Expectations_Exceeded expectations': 0.011697232042533529,\n",
       " '2021 ^Expectations_Met expectations': 0.012317903317963157,\n",
       " 'Years at camp': 0.32576783485629596,\n",
       " '2021 > Enrolled sibling count': 0.020983869409352755,\n",
       " '2021 ^^^^Leader Rating of Student': 0.03802550885822771,\n",
       " 'rating': 0.026822616360177166}"
      ]
     },
     "execution_count": 148,
     "metadata": {},
     "output_type": "execute_result"
    }
   ],
   "source": [
    "feat_import = {name: score \n",
    "                   for name, score \n",
    "                       in zip(X_train_ohe_df.columns, randfor_default.feature_importances_)\n",
    "}\n",
    "feat_import"
   ]
  },
  {
   "cell_type": "code",
   "execution_count": 149,
   "metadata": {},
   "outputs": [
    {
     "data": {
      "text/html": [
       "<div>\n",
       "<style scoped>\n",
       "    .dataframe tbody tr th:only-of-type {\n",
       "        vertical-align: middle;\n",
       "    }\n",
       "\n",
       "    .dataframe tbody tr th {\n",
       "        vertical-align: top;\n",
       "    }\n",
       "\n",
       "    .dataframe thead th {\n",
       "        text-align: right;\n",
       "    }\n",
       "</style>\n",
       "<table border=\"1\" class=\"dataframe\">\n",
       "  <thead>\n",
       "    <tr style=\"text-align: right;\">\n",
       "      <th></th>\n",
       "      <th>0</th>\n",
       "    </tr>\n",
       "  </thead>\n",
       "  <tbody>\n",
       "    <tr>\n",
       "      <th>Years at camp</th>\n",
       "      <td>0.325768</td>\n",
       "    </tr>\n",
       "    <tr>\n",
       "      <th>2021 ^^^^Leader Rating of Student</th>\n",
       "      <td>0.038026</td>\n",
       "    </tr>\n",
       "    <tr>\n",
       "      <th>2021 ^^Interested in Another Trip?_Yes</th>\n",
       "      <td>0.037574</td>\n",
       "    </tr>\n",
       "    <tr>\n",
       "      <th>2021 &gt; Grade_12th</th>\n",
       "      <td>0.030187</td>\n",
       "    </tr>\n",
       "    <tr>\n",
       "      <th>2021 &gt; Grade_11th</th>\n",
       "      <td>0.027825</td>\n",
       "    </tr>\n",
       "    <tr>\n",
       "      <th>rating</th>\n",
       "      <td>0.026823</td>\n",
       "    </tr>\n",
       "    <tr>\n",
       "      <th>2021 ^^Interested in Another Trip?_Not Sure</th>\n",
       "      <td>0.025712</td>\n",
       "    </tr>\n",
       "    <tr>\n",
       "      <th>2021 ^^Interested in Another Trip?_No</th>\n",
       "      <td>0.022055</td>\n",
       "    </tr>\n",
       "    <tr>\n",
       "      <th>2021 &gt; Enrolled sibling count</th>\n",
       "      <td>0.020984</td>\n",
       "    </tr>\n",
       "    <tr>\n",
       "      <th>2021 &gt; Grade_8th</th>\n",
       "      <td>0.014937</td>\n",
       "    </tr>\n",
       "  </tbody>\n",
       "</table>\n",
       "</div>"
      ],
      "text/plain": [
       "                                                    0\n",
       "Years at camp                                0.325768\n",
       "2021 ^^^^Leader Rating of Student            0.038026\n",
       "2021 ^^Interested in Another Trip?_Yes       0.037574\n",
       "2021 > Grade_12th                            0.030187\n",
       "2021 > Grade_11th                            0.027825\n",
       "rating                                       0.026823\n",
       "2021 ^^Interested in Another Trip?_Not Sure  0.025712\n",
       "2021 ^^Interested in Another Trip?_No        0.022055\n",
       "2021 > Enrolled sibling count                0.020984\n",
       "2021 > Grade_8th                             0.014937"
      ]
     },
     "execution_count": 149,
     "metadata": {},
     "output_type": "execute_result"
    }
   ],
   "source": [
    "pd.DataFrame(dict(zip(randfor_default.feature_names_in_, randfor_default.feature_importances_)), \n",
    "             index=[0]).T.sort_values(by=0, ascending=False).head(10)"
   ]
  },
  {
   "cell_type": "code",
   "execution_count": 151,
   "metadata": {},
   "outputs": [],
   "source": [
    "from sklearn.metrics import RocCurveDisplay, ConfusionMatrixDisplay"
   ]
  },
  {
   "cell_type": "markdown",
   "metadata": {},
   "source": [
    "### Grid Searching for Random Forest Classifier:"
   ]
  },
  {
   "cell_type": "code",
   "execution_count": 187,
   "metadata": {},
   "outputs": [],
   "source": [
    "rf_params = {'n_estimators': [10, 50, 100, 150, 200], 'criterion': ['gini', 'entropy'], \n",
    "             'max_depth': [None, 5, 10, 20, 25], 'min_samples_leaf': [1, 2, 3, 4, 5]}"
   ]
  },
  {
   "cell_type": "code",
   "execution_count": 204,
   "metadata": {},
   "outputs": [
    {
     "data": {
      "text/html": [
       "<style>#sk-container-id-15 {color: black;}#sk-container-id-15 pre{padding: 0;}#sk-container-id-15 div.sk-toggleable {background-color: white;}#sk-container-id-15 label.sk-toggleable__label {cursor: pointer;display: block;width: 100%;margin-bottom: 0;padding: 0.3em;box-sizing: border-box;text-align: center;}#sk-container-id-15 label.sk-toggleable__label-arrow:before {content: \"▸\";float: left;margin-right: 0.25em;color: #696969;}#sk-container-id-15 label.sk-toggleable__label-arrow:hover:before {color: black;}#sk-container-id-15 div.sk-estimator:hover label.sk-toggleable__label-arrow:before {color: black;}#sk-container-id-15 div.sk-toggleable__content {max-height: 0;max-width: 0;overflow: hidden;text-align: left;background-color: #f0f8ff;}#sk-container-id-15 div.sk-toggleable__content pre {margin: 0.2em;color: black;border-radius: 0.25em;background-color: #f0f8ff;}#sk-container-id-15 input.sk-toggleable__control:checked~div.sk-toggleable__content {max-height: 200px;max-width: 100%;overflow: auto;}#sk-container-id-15 input.sk-toggleable__control:checked~label.sk-toggleable__label-arrow:before {content: \"▾\";}#sk-container-id-15 div.sk-estimator input.sk-toggleable__control:checked~label.sk-toggleable__label {background-color: #d4ebff;}#sk-container-id-15 div.sk-label input.sk-toggleable__control:checked~label.sk-toggleable__label {background-color: #d4ebff;}#sk-container-id-15 input.sk-hidden--visually {border: 0;clip: rect(1px 1px 1px 1px);clip: rect(1px, 1px, 1px, 1px);height: 1px;margin: -1px;overflow: hidden;padding: 0;position: absolute;width: 1px;}#sk-container-id-15 div.sk-estimator {font-family: monospace;background-color: #f0f8ff;border: 1px dotted black;border-radius: 0.25em;box-sizing: border-box;margin-bottom: 0.5em;}#sk-container-id-15 div.sk-estimator:hover {background-color: #d4ebff;}#sk-container-id-15 div.sk-parallel-item::after {content: \"\";width: 100%;border-bottom: 1px solid gray;flex-grow: 1;}#sk-container-id-15 div.sk-label:hover label.sk-toggleable__label {background-color: #d4ebff;}#sk-container-id-15 div.sk-serial::before {content: \"\";position: absolute;border-left: 1px solid gray;box-sizing: border-box;top: 0;bottom: 0;left: 50%;z-index: 0;}#sk-container-id-15 div.sk-serial {display: flex;flex-direction: column;align-items: center;background-color: white;padding-right: 0.2em;padding-left: 0.2em;position: relative;}#sk-container-id-15 div.sk-item {position: relative;z-index: 1;}#sk-container-id-15 div.sk-parallel {display: flex;align-items: stretch;justify-content: center;background-color: white;position: relative;}#sk-container-id-15 div.sk-item::before, #sk-container-id-15 div.sk-parallel-item::before {content: \"\";position: absolute;border-left: 1px solid gray;box-sizing: border-box;top: 0;bottom: 0;left: 50%;z-index: -1;}#sk-container-id-15 div.sk-parallel-item {display: flex;flex-direction: column;z-index: 1;position: relative;background-color: white;}#sk-container-id-15 div.sk-parallel-item:first-child::after {align-self: flex-end;width: 50%;}#sk-container-id-15 div.sk-parallel-item:last-child::after {align-self: flex-start;width: 50%;}#sk-container-id-15 div.sk-parallel-item:only-child::after {width: 0;}#sk-container-id-15 div.sk-dashed-wrapped {border: 1px dashed gray;margin: 0 0.4em 0.5em 0.4em;box-sizing: border-box;padding-bottom: 0.4em;background-color: white;}#sk-container-id-15 div.sk-label label {font-family: monospace;font-weight: bold;display: inline-block;line-height: 1.2em;}#sk-container-id-15 div.sk-label-container {text-align: center;}#sk-container-id-15 div.sk-container {/* jupyter's `normalize.less` sets `[hidden] { display: none; }` but bootstrap.min.css set `[hidden] { display: none !important; }` so we also need the `!important` here to be able to override the default hidden behavior on the sphinx rendered scikit-learn.org. See: https://github.com/scikit-learn/scikit-learn/issues/21755 */display: inline-block !important;position: relative;}#sk-container-id-15 div.sk-text-repr-fallback {display: none;}</style><div id=\"sk-container-id-15\" class=\"sk-top-container\"><div class=\"sk-text-repr-fallback\"><pre>GridSearchCV(cv=5, estimator=RandomForestClassifier(random_state=23),\n",
       "             param_grid={&#x27;criterion&#x27;: [&#x27;gini&#x27;, &#x27;entropy&#x27;],\n",
       "                         &#x27;max_depth&#x27;: [None, 5, 10, 20, 25],\n",
       "                         &#x27;min_samples_leaf&#x27;: [1, 2, 3, 4, 5],\n",
       "                         &#x27;n_estimators&#x27;: [10, 50, 100, 150, 200]})</pre><b>In a Jupyter environment, please rerun this cell to show the HTML representation or trust the notebook. <br />On GitHub, the HTML representation is unable to render, please try loading this page with nbviewer.org.</b></div><div class=\"sk-container\" hidden><div class=\"sk-item sk-dashed-wrapped\"><div class=\"sk-label-container\"><div class=\"sk-label sk-toggleable\"><input class=\"sk-toggleable__control sk-hidden--visually\" id=\"sk-estimator-id-29\" type=\"checkbox\" ><label for=\"sk-estimator-id-29\" class=\"sk-toggleable__label sk-toggleable__label-arrow\">GridSearchCV</label><div class=\"sk-toggleable__content\"><pre>GridSearchCV(cv=5, estimator=RandomForestClassifier(random_state=23),\n",
       "             param_grid={&#x27;criterion&#x27;: [&#x27;gini&#x27;, &#x27;entropy&#x27;],\n",
       "                         &#x27;max_depth&#x27;: [None, 5, 10, 20, 25],\n",
       "                         &#x27;min_samples_leaf&#x27;: [1, 2, 3, 4, 5],\n",
       "                         &#x27;n_estimators&#x27;: [10, 50, 100, 150, 200]})</pre></div></div></div><div class=\"sk-parallel\"><div class=\"sk-parallel-item\"><div class=\"sk-item\"><div class=\"sk-label-container\"><div class=\"sk-label sk-toggleable\"><input class=\"sk-toggleable__control sk-hidden--visually\" id=\"sk-estimator-id-30\" type=\"checkbox\" ><label for=\"sk-estimator-id-30\" class=\"sk-toggleable__label sk-toggleable__label-arrow\">estimator: RandomForestClassifier</label><div class=\"sk-toggleable__content\"><pre>RandomForestClassifier(random_state=23)</pre></div></div></div><div class=\"sk-serial\"><div class=\"sk-item\"><div class=\"sk-estimator sk-toggleable\"><input class=\"sk-toggleable__control sk-hidden--visually\" id=\"sk-estimator-id-31\" type=\"checkbox\" ><label for=\"sk-estimator-id-31\" class=\"sk-toggleable__label sk-toggleable__label-arrow\">RandomForestClassifier</label><div class=\"sk-toggleable__content\"><pre>RandomForestClassifier(random_state=23)</pre></div></div></div></div></div></div></div></div></div></div>"
      ],
      "text/plain": [
       "GridSearchCV(cv=5, estimator=RandomForestClassifier(random_state=23),\n",
       "             param_grid={'criterion': ['gini', 'entropy'],\n",
       "                         'max_depth': [None, 5, 10, 20, 25],\n",
       "                         'min_samples_leaf': [1, 2, 3, 4, 5],\n",
       "                         'n_estimators': [10, 50, 100, 150, 200]})"
      ]
     },
     "execution_count": 204,
     "metadata": {},
     "output_type": "execute_result"
    }
   ],
   "source": [
    "rf_grid = GridSearchCV(estimator=randfor_default, param_grid=rf_params, cv=5)\n",
    "rf_grid.fit(X_train_ohe_df, y_train)"
   ]
  },
  {
   "cell_type": "code",
   "execution_count": 205,
   "metadata": {},
   "outputs": [
    {
     "name": "stdout",
     "output_type": "stream",
     "text": [
      "0.8472230472230473\n",
      "RandomForestClassifier(n_estimators=150, random_state=23)\n",
      "{'criterion': 'gini', 'max_depth': None, 'min_samples_leaf': 1, 'n_estimators': 150}\n"
     ]
    }
   ],
   "source": [
    "print(rf_grid.best_score_)\n",
    "print(rf_grid.best_estimator_)\n",
    "print(rf_grid.best_params_)"
   ]
  },
  {
   "cell_type": "code",
   "execution_count": 197,
   "metadata": {},
   "outputs": [
    {
     "data": {
      "text/html": [
       "<style>#sk-container-id-14 {color: black;}#sk-container-id-14 pre{padding: 0;}#sk-container-id-14 div.sk-toggleable {background-color: white;}#sk-container-id-14 label.sk-toggleable__label {cursor: pointer;display: block;width: 100%;margin-bottom: 0;padding: 0.3em;box-sizing: border-box;text-align: center;}#sk-container-id-14 label.sk-toggleable__label-arrow:before {content: \"▸\";float: left;margin-right: 0.25em;color: #696969;}#sk-container-id-14 label.sk-toggleable__label-arrow:hover:before {color: black;}#sk-container-id-14 div.sk-estimator:hover label.sk-toggleable__label-arrow:before {color: black;}#sk-container-id-14 div.sk-toggleable__content {max-height: 0;max-width: 0;overflow: hidden;text-align: left;background-color: #f0f8ff;}#sk-container-id-14 div.sk-toggleable__content pre {margin: 0.2em;color: black;border-radius: 0.25em;background-color: #f0f8ff;}#sk-container-id-14 input.sk-toggleable__control:checked~div.sk-toggleable__content {max-height: 200px;max-width: 100%;overflow: auto;}#sk-container-id-14 input.sk-toggleable__control:checked~label.sk-toggleable__label-arrow:before {content: \"▾\";}#sk-container-id-14 div.sk-estimator input.sk-toggleable__control:checked~label.sk-toggleable__label {background-color: #d4ebff;}#sk-container-id-14 div.sk-label input.sk-toggleable__control:checked~label.sk-toggleable__label {background-color: #d4ebff;}#sk-container-id-14 input.sk-hidden--visually {border: 0;clip: rect(1px 1px 1px 1px);clip: rect(1px, 1px, 1px, 1px);height: 1px;margin: -1px;overflow: hidden;padding: 0;position: absolute;width: 1px;}#sk-container-id-14 div.sk-estimator {font-family: monospace;background-color: #f0f8ff;border: 1px dotted black;border-radius: 0.25em;box-sizing: border-box;margin-bottom: 0.5em;}#sk-container-id-14 div.sk-estimator:hover {background-color: #d4ebff;}#sk-container-id-14 div.sk-parallel-item::after {content: \"\";width: 100%;border-bottom: 1px solid gray;flex-grow: 1;}#sk-container-id-14 div.sk-label:hover label.sk-toggleable__label {background-color: #d4ebff;}#sk-container-id-14 div.sk-serial::before {content: \"\";position: absolute;border-left: 1px solid gray;box-sizing: border-box;top: 0;bottom: 0;left: 50%;z-index: 0;}#sk-container-id-14 div.sk-serial {display: flex;flex-direction: column;align-items: center;background-color: white;padding-right: 0.2em;padding-left: 0.2em;position: relative;}#sk-container-id-14 div.sk-item {position: relative;z-index: 1;}#sk-container-id-14 div.sk-parallel {display: flex;align-items: stretch;justify-content: center;background-color: white;position: relative;}#sk-container-id-14 div.sk-item::before, #sk-container-id-14 div.sk-parallel-item::before {content: \"\";position: absolute;border-left: 1px solid gray;box-sizing: border-box;top: 0;bottom: 0;left: 50%;z-index: -1;}#sk-container-id-14 div.sk-parallel-item {display: flex;flex-direction: column;z-index: 1;position: relative;background-color: white;}#sk-container-id-14 div.sk-parallel-item:first-child::after {align-self: flex-end;width: 50%;}#sk-container-id-14 div.sk-parallel-item:last-child::after {align-self: flex-start;width: 50%;}#sk-container-id-14 div.sk-parallel-item:only-child::after {width: 0;}#sk-container-id-14 div.sk-dashed-wrapped {border: 1px dashed gray;margin: 0 0.4em 0.5em 0.4em;box-sizing: border-box;padding-bottom: 0.4em;background-color: white;}#sk-container-id-14 div.sk-label label {font-family: monospace;font-weight: bold;display: inline-block;line-height: 1.2em;}#sk-container-id-14 div.sk-label-container {text-align: center;}#sk-container-id-14 div.sk-container {/* jupyter's `normalize.less` sets `[hidden] { display: none; }` but bootstrap.min.css set `[hidden] { display: none !important; }` so we also need the `!important` here to be able to override the default hidden behavior on the sphinx rendered scikit-learn.org. See: https://github.com/scikit-learn/scikit-learn/issues/21755 */display: inline-block !important;position: relative;}#sk-container-id-14 div.sk-text-repr-fallback {display: none;}</style><div id=\"sk-container-id-14\" class=\"sk-top-container\"><div class=\"sk-text-repr-fallback\"><pre>GridSearchCV(cv=5, estimator=RandomForestClassifier(random_state=23),\n",
       "             param_grid={&#x27;criterion&#x27;: [&#x27;gini&#x27;, &#x27;entropy&#x27;],\n",
       "                         &#x27;max_depth&#x27;: [None, 5, 10, 20, 25],\n",
       "                         &#x27;min_samples_leaf&#x27;: [1, 2, 3, 4, 5],\n",
       "                         &#x27;n_estimators&#x27;: [10, 50, 100, 150, 200]},\n",
       "             scoring=&#x27;precision&#x27;)</pre><b>In a Jupyter environment, please rerun this cell to show the HTML representation or trust the notebook. <br />On GitHub, the HTML representation is unable to render, please try loading this page with nbviewer.org.</b></div><div class=\"sk-container\" hidden><div class=\"sk-item sk-dashed-wrapped\"><div class=\"sk-label-container\"><div class=\"sk-label sk-toggleable\"><input class=\"sk-toggleable__control sk-hidden--visually\" id=\"sk-estimator-id-26\" type=\"checkbox\" ><label for=\"sk-estimator-id-26\" class=\"sk-toggleable__label sk-toggleable__label-arrow\">GridSearchCV</label><div class=\"sk-toggleable__content\"><pre>GridSearchCV(cv=5, estimator=RandomForestClassifier(random_state=23),\n",
       "             param_grid={&#x27;criterion&#x27;: [&#x27;gini&#x27;, &#x27;entropy&#x27;],\n",
       "                         &#x27;max_depth&#x27;: [None, 5, 10, 20, 25],\n",
       "                         &#x27;min_samples_leaf&#x27;: [1, 2, 3, 4, 5],\n",
       "                         &#x27;n_estimators&#x27;: [10, 50, 100, 150, 200]},\n",
       "             scoring=&#x27;precision&#x27;)</pre></div></div></div><div class=\"sk-parallel\"><div class=\"sk-parallel-item\"><div class=\"sk-item\"><div class=\"sk-label-container\"><div class=\"sk-label sk-toggleable\"><input class=\"sk-toggleable__control sk-hidden--visually\" id=\"sk-estimator-id-27\" type=\"checkbox\" ><label for=\"sk-estimator-id-27\" class=\"sk-toggleable__label sk-toggleable__label-arrow\">estimator: RandomForestClassifier</label><div class=\"sk-toggleable__content\"><pre>RandomForestClassifier(random_state=23)</pre></div></div></div><div class=\"sk-serial\"><div class=\"sk-item\"><div class=\"sk-estimator sk-toggleable\"><input class=\"sk-toggleable__control sk-hidden--visually\" id=\"sk-estimator-id-28\" type=\"checkbox\" ><label for=\"sk-estimator-id-28\" class=\"sk-toggleable__label sk-toggleable__label-arrow\">RandomForestClassifier</label><div class=\"sk-toggleable__content\"><pre>RandomForestClassifier(random_state=23)</pre></div></div></div></div></div></div></div></div></div></div>"
      ],
      "text/plain": [
       "GridSearchCV(cv=5, estimator=RandomForestClassifier(random_state=23),\n",
       "             param_grid={'criterion': ['gini', 'entropy'],\n",
       "                         'max_depth': [None, 5, 10, 20, 25],\n",
       "                         'min_samples_leaf': [1, 2, 3, 4, 5],\n",
       "                         'n_estimators': [10, 50, 100, 150, 200]},\n",
       "             scoring='precision')"
      ]
     },
     "execution_count": 197,
     "metadata": {},
     "output_type": "execute_result"
    }
   ],
   "source": [
    "rf_grid_precision = GridSearchCV(estimator=randfor_default, param_grid=rf_params, cv=5, scoring='precision')\n",
    "rf_grid_precision.fit(X_train_ohe_df, y_train)"
   ]
  },
  {
   "cell_type": "code",
   "execution_count": 198,
   "metadata": {
    "scrolled": true
   },
   "outputs": [
    {
     "name": "stdout",
     "output_type": "stream",
     "text": [
      "0.8288300300267271\n",
      "RandomForestClassifier(n_estimators=10, random_state=23)\n"
     ]
    }
   ],
   "source": [
    "print(rf_grid_precision.best_score_)\n",
    "print(rf_grid_precision.best_estimator_)\n",
    "print(rf_grid_precision.best_params_)"
   ]
  },
  {
   "cell_type": "code",
   "execution_count": 210,
   "metadata": {},
   "outputs": [],
   "source": [
    "rf_params_new = {'n_estimators': [10, 50, 100, 150, 200], 'max_depth': [None, 40, 45, 50, 55, 60], \n",
    "                 'min_samples_leaf': [1, 2, 3, 4, 5]}"
   ]
  },
  {
   "cell_type": "code",
   "execution_count": 211,
   "metadata": {},
   "outputs": [
    {
     "data": {
      "text/html": [
       "<style>#sk-container-id-17 {color: black;}#sk-container-id-17 pre{padding: 0;}#sk-container-id-17 div.sk-toggleable {background-color: white;}#sk-container-id-17 label.sk-toggleable__label {cursor: pointer;display: block;width: 100%;margin-bottom: 0;padding: 0.3em;box-sizing: border-box;text-align: center;}#sk-container-id-17 label.sk-toggleable__label-arrow:before {content: \"▸\";float: left;margin-right: 0.25em;color: #696969;}#sk-container-id-17 label.sk-toggleable__label-arrow:hover:before {color: black;}#sk-container-id-17 div.sk-estimator:hover label.sk-toggleable__label-arrow:before {color: black;}#sk-container-id-17 div.sk-toggleable__content {max-height: 0;max-width: 0;overflow: hidden;text-align: left;background-color: #f0f8ff;}#sk-container-id-17 div.sk-toggleable__content pre {margin: 0.2em;color: black;border-radius: 0.25em;background-color: #f0f8ff;}#sk-container-id-17 input.sk-toggleable__control:checked~div.sk-toggleable__content {max-height: 200px;max-width: 100%;overflow: auto;}#sk-container-id-17 input.sk-toggleable__control:checked~label.sk-toggleable__label-arrow:before {content: \"▾\";}#sk-container-id-17 div.sk-estimator input.sk-toggleable__control:checked~label.sk-toggleable__label {background-color: #d4ebff;}#sk-container-id-17 div.sk-label input.sk-toggleable__control:checked~label.sk-toggleable__label {background-color: #d4ebff;}#sk-container-id-17 input.sk-hidden--visually {border: 0;clip: rect(1px 1px 1px 1px);clip: rect(1px, 1px, 1px, 1px);height: 1px;margin: -1px;overflow: hidden;padding: 0;position: absolute;width: 1px;}#sk-container-id-17 div.sk-estimator {font-family: monospace;background-color: #f0f8ff;border: 1px dotted black;border-radius: 0.25em;box-sizing: border-box;margin-bottom: 0.5em;}#sk-container-id-17 div.sk-estimator:hover {background-color: #d4ebff;}#sk-container-id-17 div.sk-parallel-item::after {content: \"\";width: 100%;border-bottom: 1px solid gray;flex-grow: 1;}#sk-container-id-17 div.sk-label:hover label.sk-toggleable__label {background-color: #d4ebff;}#sk-container-id-17 div.sk-serial::before {content: \"\";position: absolute;border-left: 1px solid gray;box-sizing: border-box;top: 0;bottom: 0;left: 50%;z-index: 0;}#sk-container-id-17 div.sk-serial {display: flex;flex-direction: column;align-items: center;background-color: white;padding-right: 0.2em;padding-left: 0.2em;position: relative;}#sk-container-id-17 div.sk-item {position: relative;z-index: 1;}#sk-container-id-17 div.sk-parallel {display: flex;align-items: stretch;justify-content: center;background-color: white;position: relative;}#sk-container-id-17 div.sk-item::before, #sk-container-id-17 div.sk-parallel-item::before {content: \"\";position: absolute;border-left: 1px solid gray;box-sizing: border-box;top: 0;bottom: 0;left: 50%;z-index: -1;}#sk-container-id-17 div.sk-parallel-item {display: flex;flex-direction: column;z-index: 1;position: relative;background-color: white;}#sk-container-id-17 div.sk-parallel-item:first-child::after {align-self: flex-end;width: 50%;}#sk-container-id-17 div.sk-parallel-item:last-child::after {align-self: flex-start;width: 50%;}#sk-container-id-17 div.sk-parallel-item:only-child::after {width: 0;}#sk-container-id-17 div.sk-dashed-wrapped {border: 1px dashed gray;margin: 0 0.4em 0.5em 0.4em;box-sizing: border-box;padding-bottom: 0.4em;background-color: white;}#sk-container-id-17 div.sk-label label {font-family: monospace;font-weight: bold;display: inline-block;line-height: 1.2em;}#sk-container-id-17 div.sk-label-container {text-align: center;}#sk-container-id-17 div.sk-container {/* jupyter's `normalize.less` sets `[hidden] { display: none; }` but bootstrap.min.css set `[hidden] { display: none !important; }` so we also need the `!important` here to be able to override the default hidden behavior on the sphinx rendered scikit-learn.org. See: https://github.com/scikit-learn/scikit-learn/issues/21755 */display: inline-block !important;position: relative;}#sk-container-id-17 div.sk-text-repr-fallback {display: none;}</style><div id=\"sk-container-id-17\" class=\"sk-top-container\"><div class=\"sk-text-repr-fallback\"><pre>GridSearchCV(cv=5, estimator=RandomForestClassifier(random_state=23),\n",
       "             param_grid={&#x27;max_depth&#x27;: [None, 40, 45, 50, 55, 60],\n",
       "                         &#x27;min_samples_leaf&#x27;: [1, 2, 3, 4, 5],\n",
       "                         &#x27;n_estimators&#x27;: [10, 50, 100, 150, 200]})</pre><b>In a Jupyter environment, please rerun this cell to show the HTML representation or trust the notebook. <br />On GitHub, the HTML representation is unable to render, please try loading this page with nbviewer.org.</b></div><div class=\"sk-container\" hidden><div class=\"sk-item sk-dashed-wrapped\"><div class=\"sk-label-container\"><div class=\"sk-label sk-toggleable\"><input class=\"sk-toggleable__control sk-hidden--visually\" id=\"sk-estimator-id-35\" type=\"checkbox\" ><label for=\"sk-estimator-id-35\" class=\"sk-toggleable__label sk-toggleable__label-arrow\">GridSearchCV</label><div class=\"sk-toggleable__content\"><pre>GridSearchCV(cv=5, estimator=RandomForestClassifier(random_state=23),\n",
       "             param_grid={&#x27;max_depth&#x27;: [None, 40, 45, 50, 55, 60],\n",
       "                         &#x27;min_samples_leaf&#x27;: [1, 2, 3, 4, 5],\n",
       "                         &#x27;n_estimators&#x27;: [10, 50, 100, 150, 200]})</pre></div></div></div><div class=\"sk-parallel\"><div class=\"sk-parallel-item\"><div class=\"sk-item\"><div class=\"sk-label-container\"><div class=\"sk-label sk-toggleable\"><input class=\"sk-toggleable__control sk-hidden--visually\" id=\"sk-estimator-id-36\" type=\"checkbox\" ><label for=\"sk-estimator-id-36\" class=\"sk-toggleable__label sk-toggleable__label-arrow\">estimator: RandomForestClassifier</label><div class=\"sk-toggleable__content\"><pre>RandomForestClassifier(random_state=23)</pre></div></div></div><div class=\"sk-serial\"><div class=\"sk-item\"><div class=\"sk-estimator sk-toggleable\"><input class=\"sk-toggleable__control sk-hidden--visually\" id=\"sk-estimator-id-37\" type=\"checkbox\" ><label for=\"sk-estimator-id-37\" class=\"sk-toggleable__label sk-toggleable__label-arrow\">RandomForestClassifier</label><div class=\"sk-toggleable__content\"><pre>RandomForestClassifier(random_state=23)</pre></div></div></div></div></div></div></div></div></div></div>"
      ],
      "text/plain": [
       "GridSearchCV(cv=5, estimator=RandomForestClassifier(random_state=23),\n",
       "             param_grid={'max_depth': [None, 40, 45, 50, 55, 60],\n",
       "                         'min_samples_leaf': [1, 2, 3, 4, 5],\n",
       "                         'n_estimators': [10, 50, 100, 150, 200]})"
      ]
     },
     "execution_count": 211,
     "metadata": {},
     "output_type": "execute_result"
    }
   ],
   "source": [
    "rf_grid_new =GridSearchCV(estimator=randfor_default, param_grid=rf_params_new, cv=5)\n",
    "rf_grid_new.fit(X_train_ohe_df, y_train)"
   ]
  },
  {
   "cell_type": "code",
   "execution_count": 212,
   "metadata": {},
   "outputs": [
    {
     "name": "stdout",
     "output_type": "stream",
     "text": [
      "0.8503088803088803\n",
      "RandomForestClassifier(max_depth=40, n_estimators=50, random_state=23)\n",
      "{'max_depth': 40, 'min_samples_leaf': 1, 'n_estimators': 50}\n"
     ]
    }
   ],
   "source": [
    "print(rf_grid_new.best_score_)\n",
    "print(rf_grid_new.best_estimator_)\n",
    "print(rf_grid_new.best_params_)"
   ]
  },
  {
   "cell_type": "code",
   "execution_count": 213,
   "metadata": {},
   "outputs": [
    {
     "data": {
      "text/plain": [
       "0.9992283950617284"
      ]
     },
     "execution_count": 213,
     "metadata": {},
     "output_type": "execute_result"
    }
   ],
   "source": [
    "rf_grid_new.best_estimator_.score(X_train_ohe_df, y_train)"
   ]
  },
  {
   "cell_type": "code",
   "execution_count": null,
   "metadata": {},
   "outputs": [],
   "source": []
  }
 ],
 "metadata": {
  "kernelspec": {
   "display_name": "Python (learn-env)",
   "language": "python",
   "name": "learn-env"
  },
  "language_info": {
   "codemirror_mode": {
    "name": "ipython",
    "version": 3
   },
   "file_extension": ".py",
   "mimetype": "text/x-python",
   "name": "python",
   "nbconvert_exporter": "python",
   "pygments_lexer": "ipython3",
   "version": "3.8.5"
  }
 },
 "nbformat": 4,
 "nbformat_minor": 4
}
